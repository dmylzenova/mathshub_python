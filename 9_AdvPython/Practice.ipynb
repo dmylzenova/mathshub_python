{
 "cells": [
  {
   "cell_type": "markdown",
   "id": "74b36fea",
   "metadata": {},
   "source": [
    "# Обработка исключений"
   ]
  },
  {
   "cell_type": "markdown",
   "id": "fe65cac0",
   "metadata": {},
   "source": [
    "## Пример.\n",
    "Напишите функцию, производящую деление и обрабатывающую исключение деления на 0 и некорректного типа данных, полученных на вход. Под обработкой имеется в виду вывести сообщение об ошибке, но не дать программе упасть и продолжить выполнение"
   ]
  },
  {
   "cell_type": "code",
   "execution_count": 10,
   "id": "7a6ed80c",
   "metadata": {},
   "outputs": [],
   "source": [
    "def divide_numbers(a, b):\n",
    "    try:\n",
    "        result = a / b\n",
    "        return result\n",
    "    except ZeroDivisionError:\n",
    "        print(\"Ошибка: Деление на ноль недопустимо\")\n",
    "    except TypeError:\n",
    "        print(\"Ошибка: Введены некорректные данные\")\n",
    "    finally:\n",
    "        print(\"Perform finally block\")"
   ]
  },
  {
   "cell_type": "code",
   "execution_count": 11,
   "id": "fc29882f",
   "metadata": {},
   "outputs": [
    {
     "name": "stdout",
     "output_type": "stream",
     "text": [
      "Ошибка: Введены некорректные данные\n",
      "Perform finally block\n"
     ]
    }
   ],
   "source": [
    "result = divide_numbers(2, '32')\n",
    "result"
   ]
  },
  {
   "cell_type": "markdown",
   "id": "05b28c47",
   "metadata": {},
   "source": [
    "## Задача 1:\n",
    "Напишите функцию, принимающую температуру в Кельвинах и переводящую в градусы Цельсия, выбрасывающую кастомное исключение IncorrectKelvinError, если температура меньше 0."
   ]
  },
  {
   "cell_type": "code",
   "execution_count": 3,
   "id": "59ba8e13",
   "metadata": {},
   "outputs": [],
   "source": [
    "def kelvin_to_celcius(temp):\n",
    "    # your code\n",
    "    pass"
   ]
  },
  {
   "cell_type": "code",
   "execution_count": 4,
   "id": "5da1c07e",
   "metadata": {},
   "outputs": [],
   "source": [
    "# kelvin_to_celcius(-5)"
   ]
  },
  {
   "cell_type": "markdown",
   "id": "484bc47b",
   "metadata": {},
   "source": [
    "# Генераторы"
   ]
  },
  {
   "cell_type": "markdown",
   "id": "fb95d871",
   "metadata": {},
   "source": [
    "## Пример: \n",
    "Напишите функцию-генератор, реализующую функционал бесконечного счетчика, принимающую на вход start и step - шаг инкремента."
   ]
  },
  {
   "cell_type": "code",
   "execution_count": 5,
   "id": "1dd5e661",
   "metadata": {},
   "outputs": [],
   "source": [
    "def count(start=0, step=1):\n",
    "    x = start\n",
    "    while True:\n",
    "        yield x\n",
    "        x += step"
   ]
  },
  {
   "cell_type": "code",
   "execution_count": 6,
   "id": "f650fc7b",
   "metadata": {},
   "outputs": [
    {
     "name": "stdout",
     "output_type": "stream",
     "text": [
      "0, 1, 2, 3, 4, 5, 6, 7, 8, 9, "
     ]
    }
   ],
   "source": [
    "counter = count()\n",
    "for i in range(10):\n",
    "    print(next(counter), end=\", \")"
   ]
  },
  {
   "cell_type": "code",
   "execution_count": 7,
   "id": "804dfbc6",
   "metadata": {},
   "outputs": [
    {
     "name": "stdout",
     "output_type": "stream",
     "text": [
      "2.10, 2.40, 2.70, 3.00, 3.30, 3.60, 3.90, 4.20, 4.50, 4.80, "
     ]
    }
   ],
   "source": [
    "start_value = 2.1\n",
    "stop_value = 0.3\n",
    "\n",
    "counter = count(start_value, stop_value)\n",
    "for i in range(10):\n",
    "    new_value = next(counter)\n",
    "    print(f\"{new_value:2.2f}\", end=\", \")"
   ]
  },
  {
   "cell_type": "markdown",
   "id": "6338f394",
   "metadata": {},
   "source": [
    "## Задача 2:\n",
    "\n",
    "Напишите функцию-генератор, генерирующую последовательность Фиббоначи."
   ]
  },
  {
   "cell_type": "code",
   "execution_count": null,
   "id": "9a7c0da9",
   "metadata": {},
   "outputs": [],
   "source": []
  },
  {
   "cell_type": "markdown",
   "id": "62e0ef32",
   "metadata": {},
   "source": [
    "## Задача 3:\n",
    "Напишите функцию-генератор, генерирующую случайный пароль содержащий как буквы, так и числа и знаки препинания. Генератор принимает один аргумент - желаемую длину пароля."
   ]
  },
  {
   "cell_type": "code",
   "execution_count": null,
   "id": "d9dd5004",
   "metadata": {},
   "outputs": [],
   "source": []
  },
  {
   "cell_type": "markdown",
   "id": "7ca65b14",
   "metadata": {},
   "source": [
    "## Декоратор.\n"
   ]
  },
  {
   "cell_type": "markdown",
   "id": "448eff43",
   "metadata": {},
   "source": [
    "## Пример\n",
    "(с лекции) Напишите декоратор, замеряющий время исполнения любой функции."
   ]
  },
  {
   "cell_type": "code",
   "execution_count": 8,
   "id": "bd9ca0b6",
   "metadata": {},
   "outputs": [],
   "source": [
    "import time\n",
    "\n",
    "def timer(f):\n",
    "    \"\"\" Estimate time of input function f execution.\"\"\"\n",
    "    def wrapper(*args, **kwargs):\n",
    "        start = time.time()\n",
    "        res = f(*args, **kwargs)\n",
    "        total = time.time() - start\n",
    "        print(f\"Execution time is {total}\")\n",
    "        return res\n",
    "        \n",
    "    return wrapper"
   ]
  },
  {
   "cell_type": "code",
   "execution_count": 9,
   "id": "e6fd6414",
   "metadata": {},
   "outputs": [
    {
     "name": "stdout",
     "output_type": "stream",
     "text": [
      "Execution time is 0.1629931926727295\n"
     ]
    }
   ],
   "source": [
    "@timer\n",
    "def test_func():\n",
    "#     time.sleep(2)\n",
    "    for i in range(1000000):\n",
    "        pass\n",
    "    \n",
    "    \n",
    "test_func()"
   ]
  },
  {
   "cell_type": "markdown",
   "id": "79b3d973",
   "metadata": {},
   "source": [
    "## Задача 4.\n",
    "Напишите декоратор, который который записывает информацию о вызове функции, ее аргументах и возвращаемом значении. В случае ошибки во время исполнения должно логгироваться сообщение об ошибке. Сообщения так же должны содержать время, когда произошло событие. (пример логгирования см в лекции)"
   ]
  },
  {
   "cell_type": "code",
   "execution_count": 13,
   "id": "3e9db71f",
   "metadata": {},
   "outputs": [],
   "source": [
    "import logging\n",
    "import time\n",
    "\n",
    "logging.basicConfig(filename=\"practice_example.log\", level=logging.DEBUG)\n",
    "logger = logging.getLogger()\n",
    "\n",
    "def get_current_time():\n",
    "    \"\"\" Return current time in %Y-%m-%d %H:%M:%S format.\"\"\"\n",
    "    return time.strftime(\"%Y-%m-%d %H:%M:%S\", time.localtime())\n",
    "        \n",
    "def arguments_reporter(func):\n",
    "    def wrapper(*args, **kwargs):\n",
    "        # your code\n",
    "        pass\n",
    "    return wrapper\n",
    "\n",
    "\n",
    "@arguments_reporter\n",
    "def test_func(*args, **kwargs): # функция для тестирования декоратора\n",
    "    \"\"\" Random function that fails to test decorator.\"\"\"\n",
    "    print(\"test func\")\n",
    "\n",
    "test_func(1, 2)\n",
    "test_func(3,4)\n",
    "\n",
    "@arguments_reporter\n",
    "def failed_func(*args, **kwargs):  # другая функция для тестирования декоратора\n",
    "    \"\"\" Random function that fails to test decorator.\"\"\"\n",
    "    return 1 / 0.\n",
    "\n",
    "\n",
    "failed_func()"
   ]
  },
  {
   "cell_type": "markdown",
   "id": "d0fdd762",
   "metadata": {},
   "source": [
    "## Задача 5 (со звездочкой)\n",
    "Напишите декоратор, который проверяет аргументы, переданные на вход функции на принадлежность определенному отрезку (это может быть аргументом, переданным в декоратор. Простой вариант - проверка на положительность).\n",
    "В случае неудовлетворения условию нужно выбросить исключение ValueError с сообщением о том, в каком аргументе было несоответствие. "
   ]
  },
  {
   "cell_type": "markdown",
   "id": "4f3e38de",
   "metadata": {},
   "source": [
    "Посмотрите примеры кода с использованием [wraps.functools](https://webdevblog.ru/ispolzovanie-functool-wraps-v-dekoratorah-python/)"
   ]
  },
  {
   "cell_type": "code",
   "execution_count": null,
   "id": "98a8d948",
   "metadata": {},
   "outputs": [],
   "source": [
    "def arguments_checker_with_args(a_min, a_max):\n",
    "     # your code is here\n",
    "    pass\n",
    "    return arguments_checker_with_args\n",
    "\n",
    "@arguments_checker_with_args(1, 4)\n",
    "def test_func(a):\n",
    "    print(\"test func\")\n",
    "\n"
   ]
  },
  {
   "cell_type": "code",
   "execution_count": 16,
   "id": "0d2157cd",
   "metadata": {},
   "outputs": [],
   "source": [
    "test_func(3)"
   ]
  },
  {
   "cell_type": "code",
   "execution_count": null,
   "id": "e1e3ccde",
   "metadata": {},
   "outputs": [],
   "source": []
  }
 ],
 "metadata": {
  "kernelspec": {
   "display_name": "Python 3 (ipykernel)",
   "language": "python",
   "name": "python3"
  },
  "language_info": {
   "codemirror_mode": {
    "name": "ipython",
    "version": 3
   },
   "file_extension": ".py",
   "mimetype": "text/x-python",
   "name": "python",
   "nbconvert_exporter": "python",
   "pygments_lexer": "ipython3",
   "version": "3.10.9"
  }
 },
 "nbformat": 4,
 "nbformat_minor": 5
}
