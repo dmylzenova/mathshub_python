{
 "cells": [
  {
   "cell_type": "markdown",
   "id": "7bfdd176",
   "metadata": {
    "slideshow": {
     "slide_type": "subslide"
    }
   },
   "source": [
    "### 1. Классы"
   ]
  },
  {
   "cell_type": "code",
   "execution_count": null,
   "id": "a71cf78c",
   "metadata": {},
   "outputs": [],
   "source": [
    "class MyClass:\n",
    "    \"\"\" Docstring for MyClass. \"\"\"\n",
    "\n",
    "    GRAVITY: int = 9.81          # Переменная класса\n",
    "\n",
    "    def __init__(self, x: int):  # Магический метод __init__() инициализирует состояния инстанса (экземпляра, объекта) self\n",
    "        self.x = x               # Переменная (свойство, атрибут) инстанса self\n",
    "        self.y = None            # Переменная (свойство, атрибут) инстанса self\n",
    "\n",
    "    def foo(self) -> None:       # Метод класса\n",
    "        self.x += 1              # Обновление переменной экземпляра self\n",
    "        \n",
    "    @staticmethod                # Статический метод класса -> Не передаем экземпляр self\n",
    "    def bar() -> str:            \n",
    "        return \"bar\"\n",
    "    \n",
    "    @classmethod                 # Класс-метод класса -> вместо инстанса self передается класс cls\n",
    "    def baz(cls) -> str:         \n",
    "        return cls.__name__"
   ]
  },
  {
   "cell_type": "markdown",
   "id": "e1e15953",
   "metadata": {},
   "source": [
    "Напишем простой класс `Dog` с атрибутами `name` и `age` и методом `bark`, который выводит `Гав` на экран."
   ]
  },
  {
   "cell_type": "code",
   "execution_count": null,
   "id": "67be9e12",
   "metadata": {},
   "outputs": [],
   "source": [
    "class Dog:\n",
    "    def __init__(self, name, age):\n",
    "        self.name = name\n",
    "        self.age = age\n",
    "\n",
    "    def bark(self):\n",
    "        print(\"Гав!\")"
   ]
  },
  {
   "cell_type": "markdown",
   "id": "c67b3dd7",
   "metadata": {},
   "source": [
    "Чтобы создать объект класса, нужно вызвать класс с помощью скобок и передать необходимые аргументы:"
   ]
  },
  {
   "cell_type": "code",
   "execution_count": null,
   "id": "39d789bc",
   "metadata": {},
   "outputs": [],
   "source": [
    "my_dog = Dog(\"Шарик\", 3)"
   ]
  },
  {
   "cell_type": "markdown",
   "id": "a12b858d",
   "metadata": {},
   "source": [
    "Теперь у нас есть экземпляр класса my_dog, у которого имя \"Шарик\" и возраст 3. Мы можем обратиться к свойствам и методам объекта, используя оператор точки:"
   ]
  },
  {
   "cell_type": "code",
   "execution_count": null,
   "id": "a2eba4fa",
   "metadata": {},
   "outputs": [],
   "source": [
    "print(my_dog.name)\n",
    "my_dog.bark()\n"
   ]
  },
  {
   "cell_type": "markdown",
   "id": "0c016833",
   "metadata": {},
   "source": [
    "### 2.Наследование "
   ]
  },
  {
   "cell_type": "code",
   "execution_count": null,
   "id": "71b466dc",
   "metadata": {},
   "outputs": [],
   "source": [
    "class Shape:\n",
    "    def __init__(self, color=\"red\"):\n",
    "        self.color = color\n",
    "    \n",
    "    def get_color(self) -> str:\n",
    "        return self.color\n",
    "    \n",
    "    def set_color(self, color) -> None:\n",
    "        self.color = color"
   ]
  },
  {
   "cell_type": "code",
   "execution_count": null,
   "id": "70f59b9e",
   "metadata": {},
   "outputs": [],
   "source": [
    "class Circle(Shape):\n",
    "    PI = 3.14\n",
    "    def __init__(self, color, radius):\n",
    "        super().__init__(color)\n",
    "        self.radius = radius\n",
    "    \n",
    "    def get_area(self) -> float:\n",
    "        return self.PI * self.radius ** 2"
   ]
  },
  {
   "cell_type": "code",
   "execution_count": null,
   "id": "98278289",
   "metadata": {},
   "outputs": [],
   "source": [
    "my_shape = Shape(\"red\")\n",
    "print(my_shape.get_color())"
   ]
  },
  {
   "cell_type": "code",
   "execution_count": null,
   "id": "fd3f0ee7",
   "metadata": {},
   "outputs": [],
   "source": [
    "my_shape.set_color(\"blue\")\n",
    "print(my_shape.get_color())"
   ]
  },
  {
   "cell_type": "code",
   "execution_count": null,
   "id": "77a01614",
   "metadata": {},
   "outputs": [],
   "source": [
    "my_circle = Circle(\"green\", 5)\n",
    "print(my_circle.get_color())\n",
    "print(my_circle.get_area())\n"
   ]
  },
  {
   "cell_type": "code",
   "execution_count": null,
   "id": "6ad3d42b",
   "metadata": {},
   "outputs": [],
   "source": [
    "# creating class for father\n",
    "class Dad:\n",
    "    def __init__(self, hair=\"brown\"):\n",
    "        print('called dad')\n",
    "        self.hair = hair\n",
    "        super().__init__()\n",
    "\n",
    "        \n",
    "    def singing(self):\n",
    "        print(\"Dad sings well\")\n",
    "\n",
    "# creating a class for mother\n",
    "class Mom:\n",
    "    def __init__(self, eyes=\"green\"):\n",
    "        print('called mom')\n",
    "        self.eyes = eyes\n",
    "        super().__init__()\n",
    "\n",
    "    def coding(self):\n",
    "        print(\"Mom codes well\")\n",
    "\n",
    "# creating child class\n",
    "class Child(Dad, Mom):\n",
    "    def __init__(self):\n",
    "        super().__init__()\n",
    "\n",
    "    def play(self):\n",
    "        print(\"Kid loves to play\")\n",
    "\n",
    "# creating object of the new child class\n",
    "child = Child()\n",
    "\n",
    "# calling methods of parent classes and derived class\n",
    "child.singing()\n",
    "child.coding()\n",
    "child.play()\n",
    "child.hair, child.eyes"
   ]
  },
  {
   "cell_type": "markdown",
   "id": "64cdcb3b",
   "metadata": {},
   "source": [
    "### Пример.\n",
    "\n",
    "Покажем, как с помощью классов хранить и обрабатывать данные."
   ]
  },
  {
   "cell_type": "code",
   "execution_count": null,
   "id": "8bacdc10",
   "metadata": {},
   "outputs": [],
   "source": [
    "class Book:\n",
    "    def __init__(self, title, author, year):\n",
    "        self.title = title\n",
    "        self.author = author\n",
    "        self.year = year\n",
    "        self.status = \"available\"\n",
    "\n",
    "    def take(self):\n",
    "        if self.status == \"available\":\n",
    "            self.status = \"taken\"\n",
    "            print(f\"{self.title} by {self.author} is now taken.\")\n",
    "        else:\n",
    "            print(f\"Sorry, {self.title} by {self.author} is already taken.\")\n",
    "\n",
    "    def return_book(self):\n",
    "        if self.status == \"taken\":\n",
    "            self.status = \"available\"\n",
    "            print(f\"Thank you for returning {self.title} by {self.author}.\")\n",
    "        else:\n",
    "            print(f\"{self.title} by {self.author} is not taken, cannot be returned.\")\n",
    "\n",
    "    def __str__(self):\n",
    "        return f\"{self.title} by {self.author}, {self.year}\""
   ]
  },
  {
   "cell_type": "code",
   "execution_count": null,
   "id": "60e98bbc",
   "metadata": {},
   "outputs": [],
   "source": [
    "book1 = Book(\"The Lord of the Rings\", \"J.R.R. Tolkien\", 1954)\n",
    "book2 = Book(\"To Kill a Mockingbird\", \"Harper Lee\", 1960)\n",
    "\n",
    "book1.take()"
   ]
  },
  {
   "cell_type": "code",
   "execution_count": null,
   "id": "4197eee6",
   "metadata": {},
   "outputs": [],
   "source": [
    "book1.take()"
   ]
  },
  {
   "cell_type": "code",
   "execution_count": null,
   "id": "ec22efce",
   "metadata": {},
   "outputs": [],
   "source": [
    "book1.return_book()"
   ]
  },
  {
   "cell_type": "code",
   "execution_count": null,
   "id": "0877d1df",
   "metadata": {},
   "outputs": [],
   "source": [
    "print(book1)\n",
    "print(book2)"
   ]
  },
  {
   "cell_type": "markdown",
   "id": "814a35b3",
   "metadata": {},
   "source": [
    "### Задание 1.\n",
    "\n",
    "Создайте класс `Animal`, который будет иметь атрибуты `name` и метод `greet`, печатающий строку `f\"Hello, my name is {self.name}!\"`.\n",
    "\n",
    "Создайте класс `Cat` и отнаследуйте его от  `Animal`. В классе `Cat` должен быть аттрибут `breed`(порода) с дефолтным значением `None`, так же реализуйте метод `meow`, печатающий `f\"Meow, I am {self.name}. My breed is {self.breed}\"`.\n"
   ]
  },
  {
   "cell_type": "code",
   "execution_count": null,
   "id": "c9a98c1f",
   "metadata": {},
   "outputs": [],
   "source": []
  },
  {
   "cell_type": "code",
   "execution_count": null,
   "id": "95ed73a9",
   "metadata": {},
   "outputs": [],
   "source": [
    "# barsik = Cat(\"Barsik\", \"brittish shorthaired\")\n",
    "# barsik.greet()\n",
    "# barsik.meow()"
   ]
  },
  {
   "cell_type": "markdown",
   "id": "096b2fe5",
   "metadata": {},
   "source": [
    "### Задание 2."
   ]
  },
  {
   "cell_type": "markdown",
   "id": "4800bcb8",
   "metadata": {},
   "source": [
    "Создайте класс `BankAccount`, который будет иметь свойства \n",
    "- `balance` (баланс на счете)\n",
    "- `account_holder` (имя владельца)\n",
    "- `account_number` (номер счета), \n",
    "\n",
    "а также методы  \n",
    "- внесения средств `deposit()` принимает на вход сумму, которая вносится на счет, обновляет баланс и печатает сообщение о том, сколько денег внесено.\n",
    "- снятия денег со счета `witdraw()` принимает на вход сумму, которую нужно списать со счет и списывает ее в случае, если на счету достаточно денег. И выводит сообщение об успешном снятии. Если денег не хватает, то он должен вывести сообщение о нехватке средств.\n",
    "- `get_balance()` выводит сообщение о текущем балансе.\n",
    "- Также переопределите магический метод `__str__` так, чтобы он возвращал строку, содержащую имя владельца и номер счета."
   ]
  },
  {
   "cell_type": "code",
   "execution_count": null,
   "id": "a082030c",
   "metadata": {},
   "outputs": [],
   "source": [
    "class BankAccount:\n",
    "    def __init__(self, account_number, account_holder, balance=0):\n",
    "        # your code here\n",
    "        pass\n",
    "\n",
    "    def deposit(self, amount):\n",
    "        # your code\n",
    "        pass\n",
    "\n",
    "    def withdraw(self, amount):\n",
    "        # your code\n",
    "        pass\n",
    "    \n",
    "    def get_balance(self):\n",
    "        # your code\n",
    "        pass\n",
    "\n",
    "    def __str__(self):\n",
    "        # your code\n",
    "        pass"
   ]
  },
  {
   "cell_type": "markdown",
   "id": "5988d9a2",
   "metadata": {},
   "source": [
    "Для проверки создайте счет и проделайте операции по внесению и снятию денег со счета:"
   ]
  },
  {
   "cell_type": "code",
   "execution_count": null,
   "id": "f1400fa5",
   "metadata": {},
   "outputs": [],
   "source": [
    "account = BankAccount(\"Ivan Ivanov\", \"123456\")\n",
    "account.deposit(1000)  # выведет \"Deposited 1000.\"\n",
    "account.get_balance()  # выведет \"Current balance is 1000\"\n",
    "account.withdraw(500)  # выведет \"Withdrawn 500\"\n",
    "account.get_balance()  # выведет \"Current balance is 500\n",
    "account.withdraw(700)  # выведет \"Insufficient funds!\""
   ]
  },
  {
   "cell_type": "code",
   "execution_count": null,
   "id": "02373780",
   "metadata": {},
   "outputs": [],
   "source": [
    "print(account)"
   ]
  },
  {
   "cell_type": "markdown",
   "id": "c09c8c85",
   "metadata": {},
   "source": [
    "### Задание 3."
   ]
  },
  {
   "cell_type": "markdown",
   "id": "60c5c8af",
   "metadata": {},
   "source": [
    "Создайте класс с названием \"Person\" (Человек), который имеет следующие атрибуты:\n",
    "\n",
    "- \"name\" (имя): строка, которая хранит имя человека\n",
    "- \"age\" (возраст): целое число, которое хранит возраст человека\n",
    "- \"hobbies\" (хобби): список, который хранит хобби человека\n",
    "Класс должен иметь следующие методы:\n",
    "\n",
    "- \"add_hobby(hobby)\" (добавить хобби): добавляет новое хобби в список хобби человека\n",
    "- \"remove_hobby(hobby)\" (удалить хобби): удаляет хобби из списка хобби человека\n",
    "- \"introduce()\" (представиться): выводит краткое представление о человеке, включая его имя, возраст и хобби."
   ]
  },
  {
   "cell_type": "code",
   "execution_count": null,
   "id": "8d9e6010",
   "metadata": {},
   "outputs": [],
   "source": []
  },
  {
   "cell_type": "code",
   "execution_count": null,
   "id": "14db6011",
   "metadata": {},
   "outputs": [],
   "source": []
  },
  {
   "cell_type": "markdown",
   "id": "9a7e106c",
   "metadata": {},
   "source": [
    "### Задание 4."
   ]
  },
  {
   "cell_type": "markdown",
   "id": "f71870d3",
   "metadata": {},
   "source": [
    "Представьте, что Вы работаете над приложением, которое должно помочь людям следить за своим здоровьем. Вам нужно создать класс `Person`, который будет представлять пользователя вашего приложения. Класс должен иметь свойства `name` (имя), `age` (возраст), `height` (рост), `weight` (вес) и методы `get_bmi()` (возвращает индекс массы тела пользователя) и `recommend_diet()` (возвращает рекомендации по диете, основанные на индексе массы тела пользователя).\n",
    "\n",
    "\n",
    "    Индекс массы тела рассчитывается по формуле: $bmi = weight / height^2 $   (кг)/ (м2)\n",
    "\n",
    "    Границы для рекомендации по питанию: \n",
    "    bmi < 18.5 - недостаток веса, 18.5 <= bmi <= 24.9 - норма, 25.0 <= bmi <= 29.9 - избыток веса, больше - угроза для здоровья, рекомендация обратиться к специалисту. \n"
   ]
  },
  {
   "cell_type": "code",
   "execution_count": null,
   "id": "e5a6438f",
   "metadata": {},
   "outputs": [],
   "source": []
  },
  {
   "cell_type": "markdown",
   "id": "b6691955",
   "metadata": {},
   "source": [
    "### Задание 5."
   ]
  },
  {
   "cell_type": "markdown",
   "id": "04de8f71",
   "metadata": {},
   "source": [
    "Создать классы для вычисления геометрических фигур.\n",
    "\n",
    "- Создать базовый класс `Shape`.\n",
    "- Класс `Shape` должен содержать методы `get_area()` и `get_perimeter()`, которые должны возвращать площадь и периметр фигуры соответственно.\n",
    "- Создать классы `Rectangle` и `Circle`, которые наследуются от Shape.\n",
    "- Класс `Rectangle` должен иметь следующие атрибуты:\n",
    "    - `width` (ширина)\n",
    "    - `height` (высота)\n",
    "- Класс `Circle` должен иметь следующие атрибуты:\n",
    "    - `radius` (радиус)\n",
    "- Класс `Rectangle` должен переопределять методы `get_area()` и `get_perimeter()` для вычисления площади и периметра прямоугольника соответственно.\n",
    "- Класс `Circle` должен переопределять методы `get_area()` и `get_perimeter()` для вычисления площади и длины окружности соответственно.\n"
   ]
  },
  {
   "cell_type": "code",
   "execution_count": null,
   "id": "12d76ded",
   "metadata": {},
   "outputs": [],
   "source": []
  },
  {
   "cell_type": "markdown",
   "id": "6dfaf74f",
   "metadata": {},
   "source": [
    "## Дополнительная практика (Задания со звездочкой)"
   ]
  },
  {
   "cell_type": "markdown",
   "id": "4fde25b0",
   "metadata": {},
   "source": [
    "### Задание 6"
   ]
  },
  {
   "cell_type": "markdown",
   "id": "79c7b945",
   "metadata": {},
   "source": [
    "Создать классы для работы с телефонной книгой.\n",
    "\n",
    "Требования:\n",
    "\n",
    "- Создать класс `PhoneBook`.\n",
    "- Класс `PhoneBook` должен содержать методы:\n",
    "    - `add_contact` добавления новой записи в книгу\n",
    "    - `remove_contact` удаления записи из книги\n",
    "    - `find_contact` поиска записи по имени, вывода всех записей в книге.\n",
    "    - `show_all_contacts` вывода всех сохраненных контактов в случайном порядке.\n",
    "    - `show_sorted_contacts` вывода всех сохраненных контактов в алфавитном порядке по имени (Нормально, если будет работать дольше).\n",
    " \n",
    "- Каждая запись `Contact` в книге должна содержать следующие атрибуты:\n",
    "    - `name` (имя контакта)\n",
    "    - `phone_number` (номер телефона контакта)\n",
    "    - `email` (адрес электронной почты контакта)\n",
    "    \n",
    "Методы класса PhoneBook должны позволять работать с записями в книге как с объектами класса. Подумайте, в какой структуре данных эффективнее хранить контакты в адресной книге.\n",
    "\n",
    "Создайте несколько контактов и протестируйте работу методов PhoneBook"
   ]
  },
  {
   "cell_type": "code",
   "execution_count": null,
   "id": "b4add320",
   "metadata": {},
   "outputs": [],
   "source": []
  },
  {
   "cell_type": "markdown",
   "id": "145a3e54",
   "metadata": {},
   "source": [
    "### Задание 7"
   ]
  },
  {
   "cell_type": "markdown",
   "id": "10335dd7",
   "metadata": {},
   "source": [
    "Реализуйте класс, реализующий комплексные числа `Complex` с аттрибутами `real`, `imag`. В классе должны быть реализованы методы арифметики комплексных чисел:\n",
    "`__add__`, `__sub__`, `__mul__`, `__div__`, `__abs__`, `__eq__`, так же реализуйте методы `__str__`, `__repr__`"
   ]
  },
  {
   "cell_type": "code",
   "execution_count": null,
   "id": "185cc810",
   "metadata": {},
   "outputs": [],
   "source": []
  },
  {
   "cell_type": "markdown",
   "id": "0e044a09",
   "metadata": {},
   "source": [
    "### Задание 8"
   ]
  },
  {
   "cell_type": "markdown",
   "id": "aa62e18f",
   "metadata": {},
   "source": [
    "Вам нужно реализовать класс [`LifeGame`](https://ru.wikipedia.org/wiki/%D0%98%D0%B3%D1%80%D0%B0_%C2%AB%D0%96%D0%B8%D0%B7%D0%BD%D1%8C%C2%BB).\n",
    "* Инициализируется начальным состоянием океана - прямоугольным списком списков (формируя тем самым матрицу), каждый элемент которого это число. \n",
    "0 - если ячейка пустая, 1 - если в ячейке живая клетка\n",
    "* Содержит метод `get_next_generation`, который обновляет состояние океана и возвращает его содержимое\n",
    "* Переопределенный `__str__` и  `__repr__` для вывода текущего состояния в виде красивой строки (Для превращения списка списков в строку используйте строковый метод `.join()` (объединение через пробел - \" \".join(list1)) и с символом переноса строки \"\\n\".join(list2))\n",
    "\n",
    "Игра жизнь устроена по следующим правилам:\n",
    "- изменение всех ячеек океана происходит одновременно, учитывая только состояния ячеек в предыдущий момент времени\n",
    "- в пустой (мёртвой) клетке, с которой соседствуют три живые клетки, зарождается жизнь;\n",
    "- если у живой клетки есть две или три живые соседки, то эта клетка продолжает жить; в противном случае (если живых соседей меньше двух или больше трёх) клетка умирает («от одиночества» или «от перенаселённости»).\n",
    "Игра прекращается, если\n",
    "- на поле не останется ни одной «живой» клетки;\n",
    "- конфигурация на очередном шаге в точности (без сдвигов и поворотов) повторит себя же на одном из более ранних шагов (складывается периодическая конфигурация)\n",
    "- при очередном шаге ни одна из клеток не меняет своего состояния (частный случай предыдущего правила, складывается стабильная конфигурация)\n"
   ]
  },
  {
   "cell_type": "code",
   "execution_count": null,
   "id": "99b85a33",
   "metadata": {},
   "outputs": [],
   "source": []
  }
 ],
 "metadata": {
  "kernelspec": {
   "display_name": "Python 3 (ipykernel)",
   "language": "python",
   "name": "python3"
  },
  "language_info": {
   "codemirror_mode": {
    "name": "ipython",
    "version": 3
   },
   "file_extension": ".py",
   "mimetype": "text/x-python",
   "name": "python",
   "nbconvert_exporter": "python",
   "pygments_lexer": "ipython3",
   "version": "3.10.9"
  }
 },
 "nbformat": 4,
 "nbformat_minor": 5
}
