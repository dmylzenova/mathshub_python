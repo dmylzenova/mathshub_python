{
 "cells": [
  {
   "cell_type": "markdown",
   "id": "7bfdd176",
   "metadata": {
    "slideshow": {
     "slide_type": "subslide"
    }
   },
   "source": [
    "### 1. Классы"
   ]
  },
  {
   "cell_type": "code",
   "execution_count": null,
   "id": "a71cf78c",
   "metadata": {},
   "outputs": [],
   "source": [
    "class MyClass:\n",
    "    \"\"\" Docstring for MyClass. \"\"\"\n",
    "\n",
    "    X: int = 3.14                # Переменная класса\n",
    "\n",
    "    def __init__(self, x: int):  # Магический метод __init__() инициализирует состояния экземпляра self\n",
    "        self.x = x               # Переменная (свойство, атрибут) инстанса self\n",
    "        self.y = None            # Переменная (свойство, атрибут) инстанса self\n",
    "\n",
    "    def foo(self) -> None:       # Метод класса\n",
    "        self.x += 1              # Обновление переменной экземпляра self\n",
    "        \n",
    "    @staticmethod                # Статический метод класса -> Не передаем экземпляр self\n",
    "    def bar() -> str:            \n",
    "        return \"bar\"\n",
    "    \n",
    "    @classmethod                 # Класс-метод класса -> вместо инстанса self передается класс cls\n",
    "    def baz(cls) -> str:         \n",
    "        return cls.__name__"
   ]
  },
  {
   "cell_type": "markdown",
   "id": "e1e15953",
   "metadata": {},
   "source": [
    "Напишем простой класс `Dog` с атрибутами `name` и `age` и методом `bark`, который выводит `Гав` на экран."
   ]
  },
  {
   "cell_type": "code",
   "execution_count": 1,
   "id": "67be9e12",
   "metadata": {},
   "outputs": [],
   "source": [
    "class Dog:\n",
    "    def __init__(self, name, age):\n",
    "        self.name = name\n",
    "        self.age = age\n",
    "\n",
    "    def bark(self):\n",
    "        print(\"Гав!\")"
   ]
  },
  {
   "cell_type": "markdown",
   "id": "c67b3dd7",
   "metadata": {},
   "source": [
    "Чтобы создать объект класса, нужно вызвать класс с помощью скобок и передать необходимые аргументы:"
   ]
  },
  {
   "cell_type": "code",
   "execution_count": 2,
   "id": "39d789bc",
   "metadata": {},
   "outputs": [],
   "source": [
    "my_dog = Dog(\"Шарик\", 3)"
   ]
  },
  {
   "cell_type": "markdown",
   "id": "a12b858d",
   "metadata": {},
   "source": [
    "Теперь у нас есть экземпляр класса my_dog, у которого имя \"Rufus\" и возраст 3. Мы можем обратиться к свойствам и методам объекта, используя оператор точки:"
   ]
  },
  {
   "cell_type": "code",
   "execution_count": 3,
   "id": "a2eba4fa",
   "metadata": {},
   "outputs": [
    {
     "name": "stdout",
     "output_type": "stream",
     "text": [
      "Шарик\n",
      "Гав!\n"
     ]
    }
   ],
   "source": [
    "print(my_dog.name)\n",
    "my_dog.bark()\n"
   ]
  },
  {
   "cell_type": "markdown",
   "id": "0c016833",
   "metadata": {},
   "source": [
    "### 2.Наследование "
   ]
  },
  {
   "cell_type": "code",
   "execution_count": 4,
   "id": "71b466dc",
   "metadata": {},
   "outputs": [],
   "source": [
    "class Shape:\n",
    "    def __init__(self, color=\"red\"):\n",
    "        self.color = color\n",
    "    \n",
    "    def get_color(self):\n",
    "        return self.color\n",
    "    \n",
    "    def set_color(self, color):\n",
    "        self.color = color"
   ]
  },
  {
   "cell_type": "code",
   "execution_count": 5,
   "id": "70f59b9e",
   "metadata": {},
   "outputs": [],
   "source": [
    "class Circle(Shape):\n",
    "    def __init__(self, color, radius):\n",
    "        Shape.__init__(color)\n",
    "        self.radius = radius\n",
    "    \n",
    "    def get_area(self):\n",
    "        return 3.14 * self.radius ** 2"
   ]
  },
  {
   "cell_type": "code",
   "execution_count": 6,
   "id": "98278289",
   "metadata": {},
   "outputs": [
    {
     "name": "stdout",
     "output_type": "stream",
     "text": [
      "red\n"
     ]
    }
   ],
   "source": [
    "my_shape = Shape(\"red\")\n",
    "print(my_shape.get_color())"
   ]
  },
  {
   "cell_type": "code",
   "execution_count": 7,
   "id": "fd3f0ee7",
   "metadata": {},
   "outputs": [
    {
     "name": "stdout",
     "output_type": "stream",
     "text": [
      "blue\n"
     ]
    }
   ],
   "source": [
    "my_shape.set_color(\"blue\")\n",
    "print(my_shape.get_color())"
   ]
  },
  {
   "cell_type": "code",
   "execution_count": 8,
   "id": "77a01614",
   "metadata": {},
   "outputs": [
    {
     "name": "stdout",
     "output_type": "stream",
     "text": [
      "green\n",
      "78.5\n"
     ]
    }
   ],
   "source": [
    "my_circle = Circle(\"green\", 5)\n",
    "print(my_circle.get_color())\n",
    "print(my_circle.get_area())\n"
   ]
  },
  {
   "cell_type": "markdown",
   "id": "64cdcb3b",
   "metadata": {},
   "source": [
    "### Пример.\n",
    "\n",
    "Покажем, как с помощью классов хранить и обрабатывать данные."
   ]
  },
  {
   "cell_type": "code",
   "execution_count": 21,
   "id": "8bacdc10",
   "metadata": {},
   "outputs": [],
   "source": [
    "class Book:\n",
    "    def __init__(self, title, author, year):\n",
    "        self.title = title\n",
    "        self.author = author\n",
    "        self.year = year\n",
    "        self.status = \"available\"\n",
    "\n",
    "    def take(self):\n",
    "        if self.status == \"available\":\n",
    "            self.status = \"taken\"\n",
    "            print(f\"{self.title} by {self.author} is now taken.\")\n",
    "        else:\n",
    "            print(f\"Sorry, {self.title} by {self.author} is already taken.\")\n",
    "\n",
    "    def return_book(self):\n",
    "        if self.status == \"taken\":\n",
    "            self.status = \"available\"\n",
    "            print(f\"Thank you for returning {self.title} by {self.author}.\")\n",
    "        else:\n",
    "            print(f\"{self.title} by {self.author} is not taken, cannot be returned.\")\n",
    "\n",
    "    def __str__(self):\n",
    "        return f\"{self.title} by {self.author}, {self.year}\""
   ]
  },
  {
   "cell_type": "code",
   "execution_count": 22,
   "id": "60e98bbc",
   "metadata": {},
   "outputs": [
    {
     "name": "stdout",
     "output_type": "stream",
     "text": [
      "The Lord of the Rings by J.R.R. Tolkien is now taken.\n"
     ]
    }
   ],
   "source": [
    "book1 = Book(\"The Lord of the Rings\", \"J.R.R. Tolkien\", 1954)\n",
    "book2 = Book(\"To Kill a Mockingbird\", \"Harper Lee\", 1960)\n",
    "\n",
    "book1.take()"
   ]
  },
  {
   "cell_type": "code",
   "execution_count": 23,
   "id": "4197eee6",
   "metadata": {},
   "outputs": [
    {
     "name": "stdout",
     "output_type": "stream",
     "text": [
      "Sorry, The Lord of the Rings by J.R.R. Tolkien is already taken.\n"
     ]
    }
   ],
   "source": [
    "book1.take()"
   ]
  },
  {
   "cell_type": "code",
   "execution_count": 24,
   "id": "ec22efce",
   "metadata": {},
   "outputs": [
    {
     "name": "stdout",
     "output_type": "stream",
     "text": [
      "Thank you for returning The Lord of the Rings by J.R.R. Tolkien.\n"
     ]
    }
   ],
   "source": [
    "book1.return_book()"
   ]
  },
  {
   "cell_type": "code",
   "execution_count": 25,
   "id": "0877d1df",
   "metadata": {},
   "outputs": [
    {
     "name": "stdout",
     "output_type": "stream",
     "text": [
      "The Lord of the Rings by J.R.R. Tolkien, 1954\n",
      "To Kill a Mockingbird by Harper Lee, 1960\n"
     ]
    }
   ],
   "source": [
    "print(book1)\n",
    "print(book2)"
   ]
  },
  {
   "cell_type": "markdown",
   "id": "096b2fe5",
   "metadata": {},
   "source": [
    "### Задание 1."
   ]
  },
  {
   "cell_type": "markdown",
   "id": "b3ce40e5",
   "metadata": {},
   "source": [
    "Создайте класс с названием \"Person\" (Человек), который имеет следующие атрибуты:\n",
    "\n",
    "- \"name\" (имя): строка, которая хранит имя человека\n",
    "- \"age\" (возраст): целое число, которое хранит возраст человека\n",
    "- \"hobbies\" (хобби): список, который хранит хобби человека\n",
    "Класс должен иметь следующие методы:\n",
    "\n",
    "- \"add_hobby(hobby)\" (добавить хобби): добавляет новое хобби в список хобби человека\n",
    "- \"remove_hobby(hobby)\" (удалить хобби): удаляет хобби из списка хобби человека\n",
    "- \"introduce()\" (представиться): выводит краткое представление о человеке, включая его имя, возраст и хобби."
   ]
  },
  {
   "cell_type": "code",
   "execution_count": null,
   "id": "f1400fa5",
   "metadata": {},
   "outputs": [],
   "source": []
  },
  {
   "cell_type": "markdown",
   "id": "c09c8c85",
   "metadata": {},
   "source": [
    "### Задание 2."
   ]
  },
  {
   "cell_type": "markdown",
   "id": "60c5c8af",
   "metadata": {},
   "source": [
    "Создайте класс `BankAccount`, который будет иметь свойства \n",
    "- `balance` (баланс на счете)\n",
    "- `account_holder` (имя владельца)\n",
    "- `account_number` (номер счета), \n",
    "\n",
    "а также методы  \n",
    "- внесения средств `deposit()` принимает на вход сумму, которая вносится на счет, обновляет баланс и печатает сообщение о том, сколько денег внесено.\n",
    "- снятия денег со счета `witdraw()` принимает на вход сумму, которую нужно списать со счет и списывает ее в случае, если на счету достаточно денег. И выводит сообщение об успешном снятии. Если денег не хватает, то он должен вывести сообщение о нехватке средств.\n",
    "- `get_balance()` выводит сообщение о текущем балансе.\n",
    "- Также переопределите магический метод `__str__` так, чтобы он возвращал строку, содержащую имя владельца и номер счета."
   ]
  },
  {
   "cell_type": "code",
   "execution_count": null,
   "id": "8d9e6010",
   "metadata": {},
   "outputs": [],
   "source": [
    "class BankAccount:\n",
    "    def __init__(self, account_number, account_holder, balance=0):\n",
    "        # your code here\n",
    "        pass\n",
    "\n",
    "    def deposit(self, amount):\n",
    "        # your code\n",
    "        pass\n",
    "\n",
    "    def withdraw(self, amount):\n",
    "        # your code\n",
    "        pass\n",
    "    \n",
    "    def get_balance(self):\n",
    "        # your code\n",
    "        pass\n",
    "\n",
    "    def __str__(self):\n",
    "        # your code\n",
    "        pass"
   ]
  },
  {
   "cell_type": "markdown",
   "id": "faf284a7",
   "metadata": {},
   "source": [
    "Для проверки создайте счет и проделайте операции по внесению и снятию денег со счета:"
   ]
  },
  {
   "cell_type": "code",
   "execution_count": null,
   "id": "14db6011",
   "metadata": {},
   "outputs": [],
   "source": [
    "account = BankAccount(\"Ivan Ivanov\", \"123456\")\n",
    "account.deposit(1000)  # выведет \"Deposited 1000.\"\n",
    "account.get_balance()  # выведет \"Current balance is 1000\"\n",
    "account.withdraw(500)  # выведет \"Withdrawn 500\"\n",
    "account.get_balance()  # выведет \"Current balance is 500\n",
    "account.withdraw(700)  # выведет \"Insufficient funds!\""
   ]
  },
  {
   "cell_type": "code",
   "execution_count": null,
   "id": "3f595a85",
   "metadata": {},
   "outputs": [],
   "source": [
    "print(account)"
   ]
  },
  {
   "cell_type": "markdown",
   "id": "9a7e106c",
   "metadata": {},
   "source": [
    "### Задание 3."
   ]
  },
  {
   "cell_type": "markdown",
   "id": "f71870d3",
   "metadata": {},
   "source": [
    "Представьте, что Вы работаете над приложением, которое должно помочь людям следить за своим здоровьем. Вам нужно создать класс `Person`, который будет представлять пользователя вашего приложения. Класс должен иметь свойства `name` (имя), `age` (возраст), `height` (рост), `weight` (вес) и методы `get_bmi()` (возвращает индекс массы тела пользователя) и `recommend_diet()` (возвращает рекомендации по диете, основанные на индексе массы тела пользователя).\n",
    "\n",
    "\n",
    "    Индекс массы тела рассчитывается по формуле: $bmi = weight / height^2 $   (кг)/ (м2)\n",
    "\n",
    "    Границы для рекомендации по питанию: \n",
    "    bmi < 18.5 - недостаток веса, 18.5 <= bmi <= 24.9 - норма, 25.0 <= bmi <= 29.9 - избыток веса, больше - угроза для здоровья, рекомендация обратиться к специалисту. \n"
   ]
  },
  {
   "cell_type": "code",
   "execution_count": null,
   "id": "e5a6438f",
   "metadata": {},
   "outputs": [],
   "source": []
  },
  {
   "cell_type": "markdown",
   "id": "b6691955",
   "metadata": {},
   "source": [
    "### Задание 4."
   ]
  },
  {
   "cell_type": "markdown",
   "id": "04de8f71",
   "metadata": {},
   "source": [
    "Создать классы для вычисления геометрических фигур.\n",
    "\n",
    "- Создать базовый класс `Shape`.\n",
    "- Класс `Shape` должен содержать методы `get_area()` и `get_perimeter()`, которые должны возвращать площадь и периметр фигуры соответственно.\n",
    "- Создать классы `Rectangle` и `Circle`, которые наследуются от Shape.\n",
    "- Класс `Rectangle` должен иметь следующие атрибуты:\n",
    "    - `width` (ширина)\n",
    "    - `height` (высота)\n",
    "- Класс `Circle` должен иметь следующие атрибуты:\n",
    "    - `radius` (радиус)\n",
    "- Класс `Rectangle` должен переопределять методы `get_area()` и `get_perimeter()` для вычисления площади и периметра прямоугольника соответственно.\n",
    "- Класс `Circle` должен переопределять методы `get_area()` и `get_perimeter()` для вычисления площади и длины окружности соответственно.\n"
   ]
  },
  {
   "cell_type": "code",
   "execution_count": 26,
   "id": "c780cab0",
   "metadata": {},
   "outputs": [
    {
     "data": {
      "text/plain": [
       "<function __main__.<lambda>(x, y)>"
      ]
     },
     "execution_count": 26,
     "metadata": {},
     "output_type": "execute_result"
    }
   ],
   "source": [
    "lambda x, y: x if x > y else y"
   ]
  },
  {
   "cell_type": "code",
   "execution_count": 27,
   "id": "a1c05fca",
   "metadata": {},
   "outputs": [],
   "source": [
    "func = lambda x, y: x if x > y else y"
   ]
  },
  {
   "cell_type": "code",
   "execution_count": 28,
   "id": "c0894a2f",
   "metadata": {},
   "outputs": [
    {
     "data": {
      "text/plain": [
       "2"
      ]
     },
     "execution_count": 28,
     "metadata": {},
     "output_type": "execute_result"
    }
   ],
   "source": [
    "func(1, 2)"
   ]
  },
  {
   "cell_type": "code",
   "execution_count": null,
   "id": "12d76ded",
   "metadata": {},
   "outputs": [],
   "source": []
  }
 ],
 "metadata": {
  "kernelspec": {
   "display_name": "Python 3 (ipykernel)",
   "language": "python",
   "name": "python3"
  },
  "language_info": {
   "codemirror_mode": {
    "name": "ipython",
    "version": 3
   },
   "file_extension": ".py",
   "mimetype": "text/x-python",
   "name": "python",
   "nbconvert_exporter": "python",
   "pygments_lexer": "ipython3",
   "version": "3.10.9"
  }
 },
 "nbformat": 4,
 "nbformat_minor": 5
}
