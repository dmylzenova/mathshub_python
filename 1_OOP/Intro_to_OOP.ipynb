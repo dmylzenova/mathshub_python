{
 "cells": [
  {
   "cell_type": "markdown",
   "id": "1677596a",
   "metadata": {
    "slideshow": {
     "slide_type": "slide"
    }
   },
   "source": [
    "<center>\n",
    "    <img src=\"images/logo.jpg\"  width=1000\">\n",
    "</center>"
   ]
  },
  {
   "cell_type": "markdown",
   "id": "acaafa0a",
   "metadata": {
    "slideshow": {
     "slide_type": "slide"
    }
   },
   "source": [
    "<center>\n",
    "    <br/>\n",
    "    <font>Привет! Добро пожаловать!</font><br/>\n",
    "    <br/>\n",
    "    <font>Поставьте + в чат </font><br/>\n",
    "</center>"
   ]
  },
  {
   "cell_type": "markdown",
   "id": "9a0b0b0d",
   "metadata": {
    "slideshow": {
     "slide_type": "slide"
    }
   },
   "source": [
    "<center>\n",
    "    <br/>\n",
    "    <b style=\"font-size: 2em\">Введение в ООП</b><br/>\n",
    "    <br/>\n",
    "    <font>Python 2023</font><br/>\n",
    "    <br/>\n",
    "    <font>Дарима Мылзенова</font><br/>\n",
    "</center>"
   ]
  },
  {
   "cell_type": "markdown",
   "id": "575d5ef1",
   "metadata": {
    "slideshow": {
     "slide_type": "slide"
    }
   },
   "source": [
    "## План лекции\n",
    "* Что такое ООП - объектно-ориентированное программирование\n",
    "* Класс и экземпляр класса\n",
    "* Синтаксис классов, переменные, методы, staticmethod, classmethod\n",
    "* Magic methods\n",
    "* Наследование и MRO"
   ]
  },
  {
   "cell_type": "markdown",
   "id": "d12aea4d",
   "metadata": {
    "slideshow": {
     "slide_type": "slide"
    }
   },
   "source": [
    " ## Функциональное программирование\n",
    " <center>\n",
    "    <font> </font><br/>\n",
    "    <img src=\"https://positiwise.com/wp-content/uploads/2022/02/programming-paradigm.png\" alt=\"unfunny meme again\">\n",
    "    <br/>\n",
    "    </center>"
   ]
  },
  {
   "cell_type": "code",
   "execution_count": null,
   "id": "1c821f79",
   "metadata": {},
   "outputs": [],
   "source": [
    "a = [1, 2, 3]\n",
    "a.append(4)\n",
    "a"
   ]
  },
  {
   "cell_type": "code",
   "execution_count": null,
   "id": "2b182495",
   "metadata": {},
   "outputs": [],
   "source": [
    "a.append(5)"
   ]
  },
  {
   "cell_type": "code",
   "execution_count": null,
   "id": "0a66a965",
   "metadata": {},
   "outputs": [],
   "source": [
    "def func_add(a, x, y):\n",
    "    a.append(x)\n",
    "    a.append(y)\n",
    "    return a"
   ]
  },
  {
   "cell_type": "code",
   "execution_count": null,
   "id": "e98d081b",
   "metadata": {},
   "outputs": [],
   "source": [
    "func_add"
   ]
  },
  {
   "cell_type": "code",
   "execution_count": null,
   "id": "8ddfb756",
   "metadata": {},
   "outputs": [],
   "source": [
    "a = list(range(4))\n",
    "z = func_add(a, 2, 3)\n",
    "print(z)"
   ]
  },
  {
   "cell_type": "code",
   "execution_count": null,
   "id": "7eb9ec25",
   "metadata": {},
   "outputs": [],
   "source": [
    "a"
   ]
  },
  {
   "cell_type": "code",
   "execution_count": null,
   "id": "760102d5",
   "metadata": {},
   "outputs": [],
   "source": [
    "math.pi"
   ]
  },
  {
   "cell_type": "markdown",
   "id": "dfdc2b88",
   "metadata": {
    "slideshow": {
     "slide_type": "slide"
    }
   },
   "source": [
    "## Объектно-ориентированное программирование\n",
    "<center>\n",
    "    <img src=\"https://res.cloudinary.com/practicaldev/image/fetch/s--yR9z_YIG--/c_limit%2Cf_auto%2Cfl_progressive%2Cq_auto%2Cw_880/https://dev-to-uploads.s3.amazonaws.com/uploads/articles/q926dojhwqyfbbban1qp.png\"  width=\"500\" alt=\"unfunny meme again\">\n",
    "    <br/>\n",
    "</center>"
   ]
  },
  {
   "cell_type": "markdown",
   "id": "a91615d8",
   "metadata": {
    "slideshow": {
     "slide_type": "slide"
    }
   },
   "source": [
    "## Базовые принципы ООП\n",
    "\n",
    "* Инкапсуляция\n",
    "* Абстракция\n",
    "* Наследование\n",
    "* Полиморфизм"
   ]
  },
  {
   "cell_type": "markdown",
   "id": "36fcc25f",
   "metadata": {
    "slideshow": {
     "slide_type": "slide"
    }
   },
   "source": [
    "## Инкапсуляция\n",
    "<img src=\"images/cat.png\" width=\"800\" alt=\"unfunny meme again\"/>"
   ]
  },
  {
   "cell_type": "markdown",
   "id": "22a3e4af",
   "metadata": {
    "slideshow": {
     "slide_type": "slide"
    }
   },
   "source": [
    "## Абстракция \n",
    "<img src=\"images/phone.png\" width=\"800\" alt=\"unfunny meme again\"/>"
   ]
  },
  {
   "cell_type": "markdown",
   "id": "f67be6d5",
   "metadata": {
    "slideshow": {
     "slide_type": "slide"
    }
   },
   "source": [
    "## Наследование\n",
    "\n",
    "<img src=\"https://res.cloudinary.com/practicaldev/image/fetch/s--99FiKC2Y--/c_limit%2Cf_auto%2Cfl_progressive%2Cq_auto%2Cw_880/https://dev-to-uploads.s3.amazonaws.com/uploads/articles/t3lxoq60hdb5ew0d1urv.png\" width=\"800\">\n",
    "\n"
   ]
  },
  {
   "cell_type": "markdown",
   "id": "291711b8",
   "metadata": {
    "slideshow": {
     "slide_type": "slide"
    }
   },
   "source": [
    "## Полиморфизм\n",
    "\n",
    "<img src=\"https://res.cloudinary.com/practicaldev/image/fetch/s--6C6S59tf--/c_limit%2Cf_auto%2Cfl_progressive%2Cq_auto%2Cw_880/https://dev-to-uploads.s3.amazonaws.com/uploads/articles/jsbp9xdy1iam5ddw0l8j.png\" width=\"700\">\n",
    "\n"
   ]
  },
  {
   "cell_type": "markdown",
   "id": "ab1c9d37",
   "metadata": {
    "slideshow": {
     "slide_type": "slide"
    }
   },
   "source": [
    "## Класс и Объект\n",
    "\n",
    "* **Класс**  - шаблон, с помощью которого создаются объекты.\n",
    "    Описывает, как хранятся данные (в полях/переменных/атрибутах *attributes*) и как с ними работать (методы *methods*)\n",
    "    \n",
    "* **Объект** - экземпляр *instance* класса.  \n",
    "    В экземпляре поля могут заполняться конкретными значениями. Объекты находятся в памяти программы и могут изменять своё состояние или выполнять какие-то действия с помощью методов класса для этого объекта.\n"
   ]
  },
  {
   "cell_type": "markdown",
   "id": "6698a541",
   "metadata": {
    "slideshow": {
     "slide_type": "slide"
    }
   },
   "source": [
    "### Примеры: built-in types\n",
    "\n",
    "\"Целочисленный тип\" → int → 1, 2, 3\n",
    "\n",
    "\"Массив\" → list → [1, 2, 3], [4, 5, 6]\n",
    "\n",
    "\"Упорядоченный набор фиксированной длины\" → tuple → (1, 2, 3), (3, 4)\n",
    "\n",
    "\"Питоновский класс\" → type → int, str, float"
   ]
  },
  {
   "cell_type": "markdown",
   "id": "49acff66",
   "metadata": {
    "slideshow": {
     "slide_type": "slide"
    }
   },
   "source": [
    "### Примеры: built-in types"
   ]
  },
  {
   "cell_type": "code",
   "execution_count": null,
   "id": "65d0f2a6",
   "metadata": {},
   "outputs": [],
   "source": [
    "1\n",
    "\n",
    "(1).__class__, type(1)"
   ]
  },
  {
   "cell_type": "code",
   "execution_count": null,
   "id": "253bc2f6",
   "metadata": {},
   "outputs": [],
   "source": [
    "# Экземпляр класса tuple \n",
    "t = tuple()\n",
    "\n",
    "# Класс tuple\n",
    "t.__class__, type(t)"
   ]
  },
  {
   "cell_type": "markdown",
   "id": "0f0ea2f0",
   "metadata": {
    "slideshow": {
     "slide_type": "slide"
    }
   },
   "source": [
    "### Примеры: built-in types"
   ]
  },
  {
   "cell_type": "code",
   "execution_count": null,
   "id": "09e95bed",
   "metadata": {},
   "outputs": [],
   "source": [
    "# Экземпляр\n",
    "int\n",
    "\n",
    "# Класс\n",
    "(int).__class__, type(int), type(type)"
   ]
  },
  {
   "cell_type": "markdown",
   "id": "21edc119",
   "metadata": {
    "slideshow": {
     "slide_type": "slide"
    }
   },
   "source": [
    "### Примеры: built-in types"
   ]
  },
  {
   "cell_type": "code",
   "execution_count": null,
   "id": "3d0cce0b",
   "metadata": {
    "slideshow": {
     "slide_type": "-"
    }
   },
   "outputs": [],
   "source": [
    "# Экземпляр\n",
    "int\n",
    "\n",
    "# Класс\n",
    "(int).__class__, type(int), type(type)"
   ]
  },
  {
   "cell_type": "markdown",
   "id": "7d090eda",
   "metadata": {
    "slideshow": {
     "slide_type": "-"
    }
   },
   "source": [
    "*В питоне все есть объект, то есть инстанс какого-то класса!*"
   ]
  },
  {
   "cell_type": "markdown",
   "id": "dd01139b",
   "metadata": {
    "slideshow": {
     "slide_type": "slide"
    }
   },
   "source": [
    "### Создание класса"
   ]
  },
  {
   "cell_type": "code",
   "execution_count": null,
   "id": "11c7904a",
   "metadata": {},
   "outputs": [],
   "source": [
    "class MyClass: # имя обычно пишется с большой буквы и в CamelCase\n",
    "    pass       # этот класс пустой\n",
    "\n",
    "a = MyClass(); b = MyClass() # Экземпляры класса MyClass"
   ]
  },
  {
   "cell_type": "code",
   "execution_count": null,
   "id": "94bc2b79",
   "metadata": {},
   "outputs": [],
   "source": [
    "a"
   ]
  },
  {
   "cell_type": "code",
   "execution_count": null,
   "id": "69ff0e14",
   "metadata": {},
   "outputs": [],
   "source": [
    "a.__class__, b.__class__, MyClass.__class__"
   ]
  },
  {
   "cell_type": "markdown",
   "id": "bebf71c8",
   "metadata": {
    "slideshow": {
     "slide_type": "slide"
    }
   },
   "source": [
    "### Создание класса: инициализация объекта"
   ]
  },
  {
   "cell_type": "code",
   "execution_count": null,
   "id": "dc2b6242",
   "metadata": {},
   "outputs": [],
   "source": [
    "class MyClass:\n",
    "\n",
    "    def __init__(self):\n",
    "        pass"
   ]
  },
  {
   "cell_type": "code",
   "execution_count": null,
   "id": "b62274d6",
   "metadata": {},
   "outputs": [],
   "source": [
    "a"
   ]
  },
  {
   "cell_type": "code",
   "execution_count": null,
   "id": "5e049409",
   "metadata": {
    "scrolled": true
   },
   "outputs": [],
   "source": [
    "class MyClass:\n",
    "\n",
    "    def __init__(self): # != __new__ \n",
    "        print(f\"Called init, {self}\")\n",
    "\n",
    "a = MyClass(); b = MyClass()"
   ]
  },
  {
   "cell_type": "code",
   "execution_count": null,
   "id": "c67926ce",
   "metadata": {},
   "outputs": [],
   "source": []
  },
  {
   "cell_type": "markdown",
   "id": "a5ec7981",
   "metadata": {
    "slideshow": {
     "slide_type": "slide"
    }
   },
   "source": [
    "### Создание класса: инициализация переменных объекта"
   ]
  },
  {
   "cell_type": "code",
   "execution_count": null,
   "id": "98362633",
   "metadata": {},
   "outputs": [],
   "source": [
    "class MyClass:\n",
    "\n",
    "    def __init__(self, x: int):  # Инициализация состояния экземпляра self\n",
    "        self.x = x               # Переменная экземпляра self\n",
    "        self.y = None"
   ]
  },
  {
   "cell_type": "code",
   "execution_count": null,
   "id": "cf7c9bdc",
   "metadata": {},
   "outputs": [],
   "source": [
    "a = MyClass(1)\n",
    "b = MyClass(2)"
   ]
  },
  {
   "cell_type": "code",
   "execution_count": null,
   "id": "b480a350",
   "metadata": {},
   "outputs": [],
   "source": [
    "a.x, b.x"
   ]
  },
  {
   "cell_type": "code",
   "execution_count": null,
   "id": "c8ea9700",
   "metadata": {},
   "outputs": [],
   "source": [
    "a.x = 3 # обновление переменной объекта a"
   ]
  },
  {
   "cell_type": "code",
   "execution_count": null,
   "id": "9bbccef0",
   "metadata": {},
   "outputs": [],
   "source": [
    "a.__dict__, b.__dict__ # узнать что хранится в атрибутах объекта"
   ]
  },
  {
   "cell_type": "code",
   "execution_count": null,
   "id": "20327dca",
   "metadata": {
    "slideshow": {
     "slide_type": "slide"
    }
   },
   "outputs": [],
   "source": [
    "a.y = 4 # При этом можно создать переменную объекта, которой не было в __init__ \n",
    "        # но так делать нехорошо!! \n",
    "a.y"
   ]
  },
  {
   "cell_type": "markdown",
   "id": "0a3717ac",
   "metadata": {
    "slideshow": {
     "slide_type": "slide"
    }
   },
   "source": [
    "### Создание класса: инициализация переменных класса"
   ]
  },
  {
   "cell_type": "code",
   "execution_count": null,
   "id": "fc265f2e",
   "metadata": {},
   "outputs": [],
   "source": [
    "class MyClass:\n",
    "    X = 3.14                     # Переменная класса"
   ]
  },
  {
   "cell_type": "code",
   "execution_count": null,
   "id": "fe2f1edb",
   "metadata": {},
   "outputs": [],
   "source": [
    "a = MyClass()\n",
    "b = MyClass()\n",
    "a.X, b.X"
   ]
  },
  {
   "cell_type": "code",
   "execution_count": null,
   "id": "43e9a9d5",
   "metadata": {},
   "outputs": [],
   "source": [
    "##  Коллизия с переменными объекта\n",
    "\n",
    "a.X = 20\n",
    "\n",
    "a.X, MyClass.X"
   ]
  },
  {
   "cell_type": "code",
   "execution_count": null,
   "id": "d1476594",
   "metadata": {
    "slideshow": {
     "slide_type": "slide"
    }
   },
   "outputs": [],
   "source": [
    "MyClass.__dict__"
   ]
  },
  {
   "cell_type": "code",
   "execution_count": null,
   "id": "98e36a48",
   "metadata": {},
   "outputs": [],
   "source": [
    "b.__dict__"
   ]
  },
  {
   "cell_type": "code",
   "execution_count": null,
   "id": "458d71d7",
   "metadata": {},
   "outputs": [],
   "source": [
    "a.__dict__"
   ]
  },
  {
   "cell_type": "code",
   "execution_count": null,
   "id": "f26b1f21",
   "metadata": {},
   "outputs": [],
   "source": [
    "MyClass.X, a.__class__.X"
   ]
  },
  {
   "cell_type": "code",
   "execution_count": null,
   "id": "016dc556",
   "metadata": {},
   "outputs": [],
   "source": [
    "a.__class__.X = 20 # Как все-таки взломать защиту и поменять через объект переменную класса? Но делать так не нужно :)\n",
    "a.X, b.X, MyClass.X"
   ]
  },
  {
   "cell_type": "markdown",
   "id": "af852fb7",
   "metadata": {
    "slideshow": {
     "slide_type": "slide"
    }
   },
   "source": [
    "### Создание класса: методы"
   ]
  },
  {
   "cell_type": "code",
   "execution_count": null,
   "id": "8b37bacd",
   "metadata": {},
   "outputs": [],
   "source": [
    "class MyClass:\n",
    "    def __init__(self, x: int):  # Инициализация состояния экземпляра self\n",
    "        self.x = x               # Переменная экземпляра self\n",
    "    \n",
    "    def foo(self) -> None:       # Метод класса\n",
    "        self.x += 1              # Обновление переменной экземпляра self"
   ]
  },
  {
   "cell_type": "code",
   "execution_count": null,
   "id": "eee7e938",
   "metadata": {},
   "outputs": [],
   "source": [
    "MyClass.__dict__"
   ]
  },
  {
   "cell_type": "code",
   "execution_count": null,
   "id": "39c85722",
   "metadata": {
    "slideshow": {
     "slide_type": "slide"
    }
   },
   "outputs": [],
   "source": [
    "a = MyClass(1)\n",
    "a.__dict__"
   ]
  },
  {
   "cell_type": "code",
   "execution_count": null,
   "id": "975fac4e",
   "metadata": {},
   "outputs": [],
   "source": [
    "a.foo()"
   ]
  },
  {
   "cell_type": "code",
   "execution_count": null,
   "id": "cef8ef48",
   "metadata": {},
   "outputs": [],
   "source": [
    "a.__dict__"
   ]
  },
  {
   "cell_type": "code",
   "execution_count": null,
   "id": "34241d8b",
   "metadata": {},
   "outputs": [],
   "source": [
    "MyClass.foo(a)"
   ]
  },
  {
   "cell_type": "code",
   "execution_count": null,
   "id": "213c8ce3",
   "metadata": {},
   "outputs": [],
   "source": [
    "a.x"
   ]
  },
  {
   "cell_type": "markdown",
   "id": "b3a4f72e",
   "metadata": {
    "slideshow": {
     "slide_type": "slide"
    }
   },
   "source": [
    "### Создание класса: статические методы"
   ]
  },
  {
   "cell_type": "code",
   "execution_count": null,
   "id": "e79ec865",
   "metadata": {},
   "outputs": [],
   "source": [
    "class MyClass:\n",
    "    @staticmethod                # Статический метод класса -> не передаем экземпляр self\n",
    "    def foo(x, y) -> str:           \n",
    "        return \"foo\"\n",
    "\n",
    "MyClass.__dict__"
   ]
  },
  {
   "cell_type": "code",
   "execution_count": null,
   "id": "18c83207",
   "metadata": {},
   "outputs": [],
   "source": [
    "a = MyClass()\n",
    "a.foo()"
   ]
  },
  {
   "cell_type": "code",
   "execution_count": null,
   "id": "de81b36b",
   "metadata": {},
   "outputs": [],
   "source": [
    "MyClass.foo()"
   ]
  },
  {
   "cell_type": "markdown",
   "id": "98d557a4",
   "metadata": {
    "slideshow": {
     "slide_type": "slide"
    }
   },
   "source": [
    "### Пример использования статического метода"
   ]
  },
  {
   "cell_type": "code",
   "execution_count": null,
   "id": "0b6e2948",
   "metadata": {
    "slideshow": {
     "slide_type": "-"
    }
   },
   "outputs": [],
   "source": [
    "class Doc:\n",
    "    def __init__(self, folder: str, file_name: str):\n",
    "        self.folder = folder\n",
    "        self.file_name = file_name\n",
    "\n",
    "    @staticmethod\n",
    "    def from_path(path: str):\n",
    "        folder, file_name = path.rsplit(\"/\", 1)\n",
    "        return Doc(folder, file_name)"
   ]
  },
  {
   "cell_type": "code",
   "execution_count": null,
   "id": "96f22d80",
   "metadata": {},
   "outputs": [],
   "source": [
    "a = Doc(\"home/darima/data/folder\", \"file_name\")\n",
    "a.folder, a.file_name"
   ]
  },
  {
   "cell_type": "code",
   "execution_count": null,
   "id": "ff079e58",
   "metadata": {},
   "outputs": [],
   "source": [
    "b = Doc.from_path(\"home/darima/data/folder/file_name\")\n",
    "b.folder, b.file_name"
   ]
  },
  {
   "cell_type": "markdown",
   "id": "1187ee0a",
   "metadata": {
    "slideshow": {
     "slide_type": "slide"
    }
   },
   "source": [
    "### Создание класса: класс методы\n"
   ]
  },
  {
   "cell_type": "code",
   "execution_count": null,
   "id": "fb330e32",
   "metadata": {},
   "outputs": [],
   "source": [
    "class MyClass:\n",
    "    @classmethod                 # Класс-метод класса -> вместо экземпляра self передается класс cls\n",
    "    def foo(cls: type):\n",
    "        return cls.__name__"
   ]
  },
  {
   "cell_type": "code",
   "execution_count": null,
   "id": "93d447be",
   "metadata": {},
   "outputs": [],
   "source": [
    "MyClass.__dict__"
   ]
  },
  {
   "cell_type": "code",
   "execution_count": null,
   "id": "be145402",
   "metadata": {},
   "outputs": [],
   "source": [
    "a = MyClass()"
   ]
  },
  {
   "cell_type": "code",
   "execution_count": null,
   "id": "12fd14a4",
   "metadata": {},
   "outputs": [],
   "source": [
    "a.foo(), MyClass.foo()"
   ]
  },
  {
   "cell_type": "markdown",
   "id": "b9d418df",
   "metadata": {
    "slideshow": {
     "slide_type": "slide"
    }
   },
   "source": [
    "### Создание класса: класс методы\n"
   ]
  },
  {
   "cell_type": "code",
   "execution_count": null,
   "id": "05925b42",
   "metadata": {
    "slideshow": {
     "slide_type": "-"
    }
   },
   "outputs": [],
   "source": [
    "class Doc:\n",
    "    def __init__(self, folder: str, file_name: str):\n",
    "        self.folder = folder\n",
    "        self.file_name = file_name\n",
    "\n",
    "    @classmethod\n",
    "    def from_path(cls, path: str):\n",
    "        folder, file_name = path.rsplit(\"/\", 1)\n",
    "        return cls(folder, file_name)\n",
    "\n",
    "class NewDoc(Doc):\n",
    "    pass\n",
    "\n",
    "a = NewDoc.from_path(\"home/darima/data/folder/file_name\")\n",
    "a.folder, a.file_name\n",
    "a.__class__"
   ]
  },
  {
   "cell_type": "markdown",
   "id": "ad9b7f4e",
   "metadata": {
    "slideshow": {
     "slide_type": "slide"
    }
   },
   "source": [
    "## To sum it up"
   ]
  },
  {
   "cell_type": "code",
   "execution_count": null,
   "id": "c05e1ee5",
   "metadata": {},
   "outputs": [],
   "source": [
    "class MyClass:\n",
    "    \"\"\" Docstring for MyClass. \"\"\"\n",
    "\n",
    "    X: int = 3.14                # Переменная класса\n",
    "\n",
    "    def __init__(self, x: int):  # Инициализация состояния экземпляра self\n",
    "        self.x = x               # Переменная инстанса self\n",
    "    \n",
    "    def foo(self) -> None:       # Метод класса\n",
    "        self.x += 1              # Обновление переменной экземпляра self\n",
    "        \n",
    "    @staticmethod                # Статический метод класса -> Не передаем экземпляр self\n",
    "    def bar() -> str:            \n",
    "        return \"bar\"\n",
    "    \n",
    "    @classmethod                 # Класс-метод класса -> вместо инстанса self передается класс cls\n",
    "    def baz(cls) -> str:         \n",
    "        return cls.__name__"
   ]
  },
  {
   "cell_type": "markdown",
   "id": "29c08309",
   "metadata": {
    "slideshow": {
     "slide_type": "slide"
    }
   },
   "source": [
    "## Приватные метки"
   ]
  },
  {
   "cell_type": "code",
   "execution_count": null,
   "id": "6da99524",
   "metadata": {},
   "outputs": [],
   "source": [
    "class A:\n",
    "    def __init__(self):\n",
    "        self.x: int = 1     # Публичный\n",
    "        self._x: int = 2    # Приватный\n",
    "        self.__x: int = 3   # Защищенный\n",
    "\n",
    "    def foo(self) -> str:   # Публичный\n",
    "        return \"foo\"\n",
    "    \n",
    "    def _foo(self) -> str:  # Приватный\n",
    "        return \"_foo\"\n",
    "    \n",
    "    def __foo(self) -> str: # Защищенный\n",
    "        return \"__foo\"\n",
    "\n",
    "a = A()"
   ]
  },
  {
   "cell_type": "code",
   "execution_count": null,
   "id": "4a6fcbb5",
   "metadata": {},
   "outputs": [],
   "source": [
    "print(a.x)\n",
    "print(a._x)"
   ]
  },
  {
   "cell_type": "markdown",
   "id": "14937930",
   "metadata": {
    "slideshow": {
     "slide_type": "slide"
    }
   },
   "source": [
    "## Приватные метки"
   ]
  },
  {
   "cell_type": "code",
   "execution_count": null,
   "id": "ec30bb3e",
   "metadata": {
    "slideshow": {
     "slide_type": "-"
    }
   },
   "outputs": [],
   "source": [
    "print(a.__x) # попробуем достучаться до защищенной переменной"
   ]
  },
  {
   "cell_type": "code",
   "execution_count": null,
   "id": "d1ad2aed",
   "metadata": {},
   "outputs": [],
   "source": [
    "print(a._A__x) # достучаться до защищеной переменной"
   ]
  },
  {
   "cell_type": "code",
   "execution_count": null,
   "id": "1d10fcad",
   "metadata": {},
   "outputs": [],
   "source": [
    "print(a.foo())\n",
    "print(a._foo())"
   ]
  },
  {
   "cell_type": "code",
   "execution_count": null,
   "id": "9a8dbf1c",
   "metadata": {
    "slideshow": {
     "slide_type": "-"
    }
   },
   "outputs": [],
   "source": [
    "print(a.__foo()) # попробуем достучаться до защищенного метода"
   ]
  },
  {
   "cell_type": "code",
   "execution_count": null,
   "id": "7d4be05a",
   "metadata": {},
   "outputs": [],
   "source": [
    "print(a._A__foo()) # достучаться до защищенного метода"
   ]
  },
  {
   "cell_type": "markdown",
   "id": "ac827cc2",
   "metadata": {
    "slideshow": {
     "slide_type": "slide"
    }
   },
   "source": [
    "## Magic methods:  `__str__`/`__repr__`"
   ]
  },
  {
   "cell_type": "markdown",
   "id": "9ecc66e8",
   "metadata": {},
   "source": [
    "* Built-in функция **str()** - обертка над вызовом `__str__` для объекта, неявно вызывается при вызове **print()**\n",
    "* Built-in функция **repr()** - обертка над вызовом `__repr__`, неявно вызывается, например, при добавлении объекта в список\n",
    "* Принято (docs), чтобы метод  `__repr__` возвращал строку, скопировав которую, можно получить экземпляр класса"
   ]
  },
  {
   "cell_type": "markdown",
   "id": "688027a9",
   "metadata": {
    "slideshow": {
     "slide_type": "slide"
    }
   },
   "source": [
    "## Magic methods:  `__str__`/`__repr__`"
   ]
  },
  {
   "cell_type": "code",
   "execution_count": null,
   "id": "04832ba6",
   "metadata": {
    "slideshow": {
     "slide_type": "-"
    }
   },
   "outputs": [],
   "source": [
    "class A:\n",
    "    def __init__(self, x: int):\n",
    "        self.x = x\n",
    "a = A(6)\n",
    "print(a)\n",
    "a"
   ]
  },
  {
   "cell_type": "code",
   "execution_count": null,
   "id": "41e2651d",
   "metadata": {},
   "outputs": [],
   "source": [
    "[a]"
   ]
  },
  {
   "cell_type": "code",
   "execution_count": null,
   "id": "372fe579",
   "metadata": {},
   "outputs": [],
   "source": []
  },
  {
   "cell_type": "code",
   "execution_count": null,
   "id": "8ab7cb86",
   "metadata": {},
   "outputs": [],
   "source": [
    "class A:\n",
    "    def __init__(self, x: int):\n",
    "        self.x = x\n",
    "        \n",
    "    def __str__(self) -> str: # what for?\n",
    "        return f\"A with attribute {self.x}\"\n",
    "    \n",
    "    def __repr__(self) -> str:\n",
    "        return f\"A({self.x})\"\n",
    "a = A(6)\n",
    "print(a)\n",
    "a"
   ]
  },
  {
   "cell_type": "markdown",
   "id": "b4e5b3a3",
   "metadata": {
    "slideshow": {
     "slide_type": "slide"
    }
   },
   "source": [
    "### Magic methods: арифметика\n",
    "\n",
    "* Можно переопределить поведение операторов. Например, x + y преобразуется в x.__add__(y). Значок операции + лишь удобное для человека переопределение вызова метода __add__\n",
    "* Другие арифметические операции ` __sub__`, ` __mul__`, ` __lt__` , `__le__`,  `__eq__`, `__ne__`, `__gt__`, `__ge__`, ` __pow__`"
   ]
  },
  {
   "cell_type": "markdown",
   "id": "32c958a2",
   "metadata": {
    "slideshow": {
     "slide_type": "slide"
    }
   },
   "source": [
    "### Magic methods: арифметика\n"
   ]
  },
  {
   "cell_type": "code",
   "execution_count": null,
   "id": "6b8446d5",
   "metadata": {},
   "outputs": [],
   "source": [
    "class A:\n",
    "    def __init__(self, x: int):\n",
    "        self.x = x\n",
    "\n",
    "    def __add__(self, other: 'A') -> 'A':\n",
    "        return A(self.x + other.x)\n",
    "    \n",
    "    def __iadd__(self, other: 'A') -> 'A':\n",
    "        self.x += other.x\n",
    "        return self\n",
    "\n",
    "a = A(6)\n",
    "b = A(4)\n",
    "id_A = id(a)\n",
    "\n",
    "a += b\n",
    "print(id(a) == id_A)\n",
    "\n",
    "a = a + b\n",
    "print(id(a) == id_A)\n",
    "\n",
    "a.x"
   ]
  },
  {
   "cell_type": "markdown",
   "id": "ddd2a478",
   "metadata": {
    "slideshow": {
     "slide_type": "slide"
    }
   },
   "source": [
    "## Magic methods: `__eq__`"
   ]
  },
  {
   "cell_type": "code",
   "execution_count": null,
   "id": "7ac01ad4",
   "metadata": {},
   "outputs": [],
   "source": [
    "class A:\n",
    "    def __init__(self, x: int):\n",
    "        self.x = x\n",
    "    \n",
    "    def __eq__(self, other: 'A') -> bool:  \n",
    "        return self.x == other.x\n",
    "    \n",
    "#     def __ne__(self, other: 'A') -> bool:  \n",
    "#         return self.x != other.x\n",
    "\n",
    "\n",
    "A(3) == A(3),  A(3) != A(5), A(3) != A(3),"
   ]
  },
  {
   "cell_type": "markdown",
   "id": "f83a4065",
   "metadata": {
    "slideshow": {
     "slide_type": "slide"
    }
   },
   "source": [
    "### Magic methods:  `__call__`"
   ]
  },
  {
   "cell_type": "code",
   "execution_count": null,
   "id": "345fe5be",
   "metadata": {},
   "outputs": [],
   "source": [
    "from math import factorial, sqrt\n",
    "\n",
    "class Power:\n",
    "    def __init__(self, p: float):\n",
    "        self.p = p\n",
    "        \n",
    "    def __call__(self, a: float) -> float:\n",
    "        return a**self.p\n",
    "    \n",
    "power = Power(3)\n",
    "power(4)"
   ]
  },
  {
   "cell_type": "markdown",
   "id": "34d73686",
   "metadata": {
    "slideshow": {
     "slide_type": "slide"
    }
   },
   "source": [
    "## Magic methods:\n",
    "    \n",
    "* __len__\n",
    "* __getitem__ и __setitem__, __delitem__ – работа с [] в словарях\n",
    "* __setattr__\n",
    "* __getattribute__\n",
    "* __hash__\n",
    "* [etc](https://mathspp.com/blog/pydonts/dunder-methods#:~:text=What%20are%20dunder%20methods%3F,__%20or%20__add__%20.)."
   ]
  },
  {
   "cell_type": "markdown",
   "id": "d10cf636",
   "metadata": {
    "slideshow": {
     "slide_type": "slide"
    }
   },
   "source": [
    "# Наследование"
   ]
  },
  {
   "cell_type": "markdown",
   "id": "11ac6bbb",
   "metadata": {},
   "source": [
    "* Наследование - создание нового класса на базе другого, называемого родительским.\n",
    "* Класс-наследник наследует свойства и методы родительского класса, а также может добавлять свои собственные свойства и методы. Это позволяет избежать дублирования кода и упрощает создание иерархии классов.\n",
    "* В классах-наследниках можно переопределять методы родительского класса.\n",
    "* Все классы в Python унаследованы от класса object"
   ]
  },
  {
   "cell_type": "code",
   "execution_count": 2,
   "id": "a1d28341",
   "metadata": {},
   "outputs": [],
   "source": [
    "class A(object):\n",
    "    pass\n",
    "\n",
    "a = A()"
   ]
  },
  {
   "cell_type": "code",
   "execution_count": 6,
   "id": "320e4036",
   "metadata": {},
   "outputs": [
    {
     "data": {
      "text/plain": [
       "mappingproxy({'__new__': <function object.__new__(*args, **kwargs)>,\n",
       "              '__repr__': <slot wrapper '__repr__' of 'object' objects>,\n",
       "              '__hash__': <slot wrapper '__hash__' of 'object' objects>,\n",
       "              '__str__': <slot wrapper '__str__' of 'object' objects>,\n",
       "              '__getattribute__': <slot wrapper '__getattribute__' of 'object' objects>,\n",
       "              '__setattr__': <slot wrapper '__setattr__' of 'object' objects>,\n",
       "              '__delattr__': <slot wrapper '__delattr__' of 'object' objects>,\n",
       "              '__lt__': <slot wrapper '__lt__' of 'object' objects>,\n",
       "              '__le__': <slot wrapper '__le__' of 'object' objects>,\n",
       "              '__eq__': <slot wrapper '__eq__' of 'object' objects>,\n",
       "              '__ne__': <slot wrapper '__ne__' of 'object' objects>,\n",
       "              '__gt__': <slot wrapper '__gt__' of 'object' objects>,\n",
       "              '__ge__': <slot wrapper '__ge__' of 'object' objects>,\n",
       "              '__init__': <slot wrapper '__init__' of 'object' objects>,\n",
       "              '__reduce_ex__': <method '__reduce_ex__' of 'object' objects>,\n",
       "              '__reduce__': <method '__reduce__' of 'object' objects>,\n",
       "              '__subclasshook__': <method '__subclasshook__' of 'object' objects>,\n",
       "              '__init_subclass__': <method '__init_subclass__' of 'object' objects>,\n",
       "              '__format__': <method '__format__' of 'object' objects>,\n",
       "              '__sizeof__': <method '__sizeof__' of 'object' objects>,\n",
       "              '__dir__': <method '__dir__' of 'object' objects>,\n",
       "              '__class__': <attribute '__class__' of 'object' objects>,\n",
       "              '__doc__': 'The base class of the class hierarchy.\\n\\nWhen called, it accepts no arguments and returns a new featureless\\ninstance that has no instance attributes and cannot be given any.\\n'})"
      ]
     },
     "execution_count": 6,
     "metadata": {},
     "output_type": "execute_result"
    }
   ],
   "source": [
    "object.__dict__"
   ]
  },
  {
   "cell_type": "markdown",
   "id": "c646f197",
   "metadata": {
    "slideshow": {
     "slide_type": "slide"
    }
   },
   "source": [
    "## Наследование: наследование методов"
   ]
  },
  {
   "cell_type": "code",
   "execution_count": 7,
   "id": "06823c0c",
   "metadata": {},
   "outputs": [],
   "source": [
    "class A:\n",
    "    def __init__(self, x: str):\n",
    "        self.x = x\n",
    "\n",
    "class B(A):\n",
    "    pass\n",
    "\n",
    "b = B(\"hello\")"
   ]
  },
  {
   "cell_type": "markdown",
   "id": "b26047ce",
   "metadata": {},
   "source": [
    "## Наследование методов"
   ]
  },
  {
   "cell_type": "code",
   "execution_count": 11,
   "id": "8864f1b6",
   "metadata": {},
   "outputs": [],
   "source": [
    "class A:\n",
    "    def method_a(self):\n",
    "        print(\"Method A called.\")\n",
    "\n",
    "class B:\n",
    "    def method_b(self):\n",
    "        print(\"Method B called.\")\n",
    "\n",
    "class C(A, B):\n",
    "    def method_c(self):\n",
    "        print(\"Method C called.\")"
   ]
  },
  {
   "cell_type": "code",
   "execution_count": 12,
   "id": "95588e3d",
   "metadata": {},
   "outputs": [
    {
     "name": "stdout",
     "output_type": "stream",
     "text": [
      "Method A called.\n",
      "Method B called.\n",
      "Method C called.\n"
     ]
    }
   ],
   "source": [
    "obj_c = C()\n",
    "obj_c.method_a()  # выведет \"Method A called.\"\n",
    "obj_c.method_b()  # выведет \"Method B called.\"\n",
    "obj_c.method_c()  # выведет \"Method C called.\""
   ]
  },
  {
   "cell_type": "markdown",
   "id": "9b111022",
   "metadata": {
    "slideshow": {
     "slide_type": "slide"
    }
   },
   "source": [
    "## Наследование: Overriding методов"
   ]
  },
  {
   "cell_type": "code",
   "execution_count": 17,
   "id": "fd86b185",
   "metadata": {},
   "outputs": [],
   "source": [
    "class A:\n",
    "    def __init__(self, x: str):\n",
    "        self.x = x\n",
    "\n",
    "class B(A):\n",
    "    def __init__(self, y: str):\n",
    "        self.y = y\n",
    "\n",
    "b = B(\"hello\")"
   ]
  },
  {
   "cell_type": "code",
   "execution_count": 14,
   "id": "ae4f0385",
   "metadata": {},
   "outputs": [
    {
     "data": {
      "text/plain": [
       "mappingproxy({'__module__': '__main__',\n",
       "              '__init__': <function __main__.A.__init__(self, x: str)>,\n",
       "              '__dict__': <attribute '__dict__' of 'A' objects>,\n",
       "              '__weakref__': <attribute '__weakref__' of 'A' objects>,\n",
       "              '__doc__': None})"
      ]
     },
     "execution_count": 14,
     "metadata": {},
     "output_type": "execute_result"
    }
   ],
   "source": [
    "A.__dict__"
   ]
  },
  {
   "cell_type": "code",
   "execution_count": 15,
   "id": "606f055d",
   "metadata": {},
   "outputs": [
    {
     "data": {
      "text/plain": [
       "mappingproxy({'__module__': '__main__',\n",
       "              '__init__': <function __main__.B.__init__(self, y: str)>,\n",
       "              '__doc__': None})"
      ]
     },
     "execution_count": 15,
     "metadata": {},
     "output_type": "execute_result"
    }
   ],
   "source": [
    "B.__dict__"
   ]
  },
  {
   "cell_type": "code",
   "execution_count": 19,
   "id": "259f33dc",
   "metadata": {},
   "outputs": [
    {
     "data": {
      "text/plain": [
       "{'y': 'hello'}"
      ]
     },
     "execution_count": 19,
     "metadata": {},
     "output_type": "execute_result"
    }
   ],
   "source": [
    "b.__dict__"
   ]
  },
  {
   "cell_type": "markdown",
   "id": "3b1404aa",
   "metadata": {
    "slideshow": {
     "slide_type": "slide"
    }
   },
   "source": [
    "### Наследование: использование родительского метода в override-методе"
   ]
  },
  {
   "cell_type": "code",
   "execution_count": 38,
   "id": "cd8b6550",
   "metadata": {},
   "outputs": [
    {
     "name": "stdout",
     "output_type": "stream",
     "text": [
      "xxx\n"
     ]
    }
   ],
   "source": [
    "class A:\n",
    "    def __init__(self, x: str):\n",
    "        self.x = x\n",
    "    \n",
    "    def foo(self):\n",
    "        self.x = \"new_x\"\n",
    "        self.y = \"new_y\"\n",
    "        print(self.x, self.y)\n",
    "        pass\n",
    "\n",
    "\n",
    "class B(A):\n",
    "    def __init__(self, x: str, y: str):\n",
    "        A.__init__(self, x)\n",
    "        self.y = y\n",
    "        print(self.x)\n",
    "    \n",
    "    def foo(self):\n",
    "        A.foo()\n",
    "        self.x = \"new_x\"\n",
    "        self.y = \"new_y\"\n",
    "        print(self.x, self.y)\n",
    "        pass\n",
    "\n",
    "b = B(\"xxx\", \"yyy\")"
   ]
  },
  {
   "cell_type": "code",
   "execution_count": 37,
   "id": "545f159a",
   "metadata": {},
   "outputs": [
    {
     "name": "stdout",
     "output_type": "stream",
     "text": [
      "new_x new_y\n"
     ]
    }
   ],
   "source": [
    "b.x\n",
    "b.y\n",
    "b.foo()"
   ]
  },
  {
   "cell_type": "markdown",
   "id": "128ddef1",
   "metadata": {
    "slideshow": {
     "slide_type": "slide"
    }
   },
   "source": [
    "### Наследование: порядок разрешения наследования MRO"
   ]
  },
  {
   "cell_type": "markdown",
   "id": "ffa8cbbd",
   "metadata": {},
   "source": [
    "* При обращении к полям и методам обьекта Python пытается найти в самом объекте (в \\_\\_dict\\_\\_ объекта), потом в его классе, потом в его предках в порядке называемом MRO (Method resolution order) (описание алгоритма https://en.wikipedia.org/wiki/C3_linearization)\n",
    "* Посмотреть MRO обьекта можно позвав метод .mro()"
   ]
  },
  {
   "cell_type": "code",
   "execution_count": 39,
   "id": "140d0e6f",
   "metadata": {},
   "outputs": [
    {
     "data": {
      "text/plain": [
       "[__main__.A, object]"
      ]
     },
     "execution_count": 39,
     "metadata": {},
     "output_type": "execute_result"
    }
   ],
   "source": [
    "class A(object):\n",
    "    pass\n",
    "\n",
    "A.mro()"
   ]
  },
  {
   "cell_type": "code",
   "execution_count": 40,
   "id": "f3b6d869",
   "metadata": {},
   "outputs": [
    {
     "data": {
      "text/plain": [
       "[__main__.D, __main__.C, __main__.B, __main__.A, object]"
      ]
     },
     "execution_count": 40,
     "metadata": {},
     "output_type": "execute_result"
    }
   ],
   "source": [
    "class A(object):\n",
    "    pass\n",
    "\n",
    "class B(A):\n",
    "    pass\n",
    "\n",
    "class C(B):\n",
    "    pass\n",
    "\n",
    "class D(C):\n",
    "    pass\n",
    "\n",
    "D.mro()"
   ]
  },
  {
   "cell_type": "markdown",
   "id": "34764353",
   "metadata": {
    "slideshow": {
     "slide_type": "slide"
    }
   },
   "source": [
    "### Наследование: проблема ромбовидного наследования"
   ]
  },
  {
   "cell_type": "code",
   "execution_count": 45,
   "id": "6b9e71ea",
   "metadata": {},
   "outputs": [
    {
     "name": "stdout",
     "output_type": "stream",
     "text": [
      "D::Init\n",
      "B::Init\n",
      "A::Init\n",
      "C::Init\n",
      "A::Init\n"
     ]
    },
    {
     "data": {
      "text/plain": [
       "<__main__.D at 0x1af17db2c20>"
      ]
     },
     "execution_count": 45,
     "metadata": {},
     "output_type": "execute_result"
    }
   ],
   "source": [
    "class A(object):\n",
    "    def __init__(self):\n",
    "        print('A::Init')\n",
    "        self.x = 0\n",
    "        \n",
    "class B(A):\n",
    "    def __init__(self):\n",
    "        print('B::Init')\n",
    "        A.__init__(self)\n",
    "        self.x = 4\n",
    "        \n",
    "class C(A):\n",
    "    def __init__(self): \n",
    "        print('C::Init')\n",
    "        A.__init__(self)\n",
    "        self.y = True\n",
    "        \n",
    "class D(B, C):\n",
    "    def __init__(self):\n",
    "        print('D::Init')\n",
    "        B.__init__(self)\n",
    "        C.__init__(self)       \n",
    "d = D()\n",
    "d"
   ]
  },
  {
   "cell_type": "code",
   "execution_count": 46,
   "id": "354f16ab",
   "metadata": {},
   "outputs": [
    {
     "data": {
      "text/plain": [
       "[__main__.D, __main__.B, __main__.C, __main__.A, object]"
      ]
     },
     "execution_count": 46,
     "metadata": {},
     "output_type": "execute_result"
    }
   ],
   "source": [
    "D.mro()"
   ]
  },
  {
   "cell_type": "markdown",
   "id": "3b46ebed",
   "metadata": {
    "slideshow": {
     "slide_type": "slide"
    }
   },
   "source": [
    "## Наследование: super"
   ]
  },
  {
   "cell_type": "code",
   "execution_count": 47,
   "id": "4604dbb6",
   "metadata": {},
   "outputs": [
    {
     "name": "stdout",
     "output_type": "stream",
     "text": [
      "D::Init\n",
      "B::Init\n",
      "C::Init\n",
      "A::Init\n"
     ]
    },
    {
     "data": {
      "text/plain": [
       "[__main__.D, __main__.B, __main__.C, __main__.A, object]"
      ]
     },
     "execution_count": 47,
     "metadata": {},
     "output_type": "execute_result"
    }
   ],
   "source": [
    "class A(object):\n",
    "    def __init__(self):\n",
    "        print('A::Init')\n",
    "        super().__init__()\n",
    "        self.x = 0\n",
    "        \n",
    "class B(A):\n",
    "    def __init__(self):\n",
    "        print('B::Init')\n",
    "        super().__init__()\n",
    "        self.x = 4\n",
    "        \n",
    "class C(A):\n",
    "    def __init__(self): \n",
    "        print('C::Init')\n",
    "        super().__init__()\n",
    "        self.y = True\n",
    "        \n",
    "class D(B, C):\n",
    "    def __init__(self):\n",
    "        print('D::Init')\n",
    "        super().__init__()\n",
    "         \n",
    "    \n",
    "        \n",
    "d = D()\n",
    "d.x\n",
    "D.mro()"
   ]
  },
  {
   "cell_type": "markdown",
   "id": "18bee68d",
   "metadata": {
    "slideshow": {
     "slide_type": "slide"
    }
   },
   "source": [
    "## Полезные функции\n",
    "\n",
    "\n",
    "* isinstance(x, Class) – является ли ex экземпляром Class или его потомков\n",
    "* type(x) == Class – точное сравнение: является ли ex экземпляром Class\n",
    "* issubclass(Class, BaseClass) – является ли класс потомком заданного\n",
    "* dir()"
   ]
  },
  {
   "cell_type": "code",
   "execution_count": 49,
   "id": "8611b8f9",
   "metadata": {
    "slideshow": {
     "slide_type": "slide"
    }
   },
   "outputs": [
    {
     "data": {
      "text/plain": [
       "True"
      ]
     },
     "execution_count": 49,
     "metadata": {},
     "output_type": "execute_result"
    }
   ],
   "source": [
    "class ClassA(object):\n",
    "    pass\n",
    "\n",
    "class ClassB(ClassA):\n",
    "    pass\n",
    "\n",
    "a = ClassA()\n",
    "b = ClassB()\n",
    "isinstance(a, ClassA)"
   ]
  },
  {
   "cell_type": "code",
   "execution_count": 50,
   "id": "6d812476",
   "metadata": {},
   "outputs": [
    {
     "data": {
      "text/plain": [
       "False"
      ]
     },
     "execution_count": 50,
     "metadata": {},
     "output_type": "execute_result"
    }
   ],
   "source": [
    "isinstance(a, ClassB)"
   ]
  },
  {
   "cell_type": "code",
   "execution_count": 51,
   "id": "e2c5b2f1",
   "metadata": {},
   "outputs": [
    {
     "data": {
      "text/plain": [
       "True"
      ]
     },
     "execution_count": 51,
     "metadata": {},
     "output_type": "execute_result"
    }
   ],
   "source": [
    "type(a) == ClassA"
   ]
  },
  {
   "cell_type": "code",
   "execution_count": 52,
   "id": "f9bddaf3",
   "metadata": {},
   "outputs": [
    {
     "data": {
      "text/plain": [
       "True"
      ]
     },
     "execution_count": 52,
     "metadata": {},
     "output_type": "execute_result"
    }
   ],
   "source": [
    "issubclass(ClassB, ClassA)"
   ]
  },
  {
   "cell_type": "code",
   "execution_count": 54,
   "id": "49b2352d",
   "metadata": {},
   "outputs": [
    {
     "data": {
      "text/plain": [
       "False"
      ]
     },
     "execution_count": 54,
     "metadata": {},
     "output_type": "execute_result"
    }
   ],
   "source": [
    "issubclass(ClassA, ClassB)"
   ]
  },
  {
   "cell_type": "code",
   "execution_count": 55,
   "id": "1b8fb96f",
   "metadata": {
    "slideshow": {
     "slide_type": "slide"
    }
   },
   "outputs": [
    {
     "data": {
      "text/plain": [
       "{'x': 1}"
      ]
     },
     "execution_count": 55,
     "metadata": {},
     "output_type": "execute_result"
    }
   ],
   "source": [
    "class A:\n",
    "    def __init__(self, x: str):\n",
    "        self.x = x\n",
    "\n",
    "    def foo(y):\n",
    "        return self.x + y\n",
    "\n",
    "a = A(1)\n",
    "a.__dict__"
   ]
  },
  {
   "cell_type": "code",
   "execution_count": 57,
   "id": "3c889517",
   "metadata": {},
   "outputs": [],
   "source": [
    "# dir(a)"
   ]
  },
  {
   "cell_type": "code",
   "execution_count": 58,
   "id": "34de8df3",
   "metadata": {},
   "outputs": [
    {
     "data": {
      "text/plain": [
       "mappingproxy({'__module__': '__main__',\n",
       "              '__init__': <function __main__.A.__init__(self, x: str)>,\n",
       "              'foo': <function __main__.A.foo(y)>,\n",
       "              '__dict__': <attribute '__dict__' of 'A' objects>,\n",
       "              '__weakref__': <attribute '__weakref__' of 'A' objects>,\n",
       "              '__doc__': None})"
      ]
     },
     "execution_count": 58,
     "metadata": {},
     "output_type": "execute_result"
    }
   ],
   "source": [
    "A.__dict__"
   ]
  },
  {
   "cell_type": "code",
   "execution_count": null,
   "id": "6cad8ff6",
   "metadata": {},
   "outputs": [],
   "source": [
    "set(dir(a)) == set(list(object.__dict__.keys()) + list(A.__dict__.keys()) + list(a.__dict__))"
   ]
  },
  {
   "cell_type": "code",
   "execution_count": 60,
   "id": "5bfc737a",
   "metadata": {},
   "outputs": [],
   "source": [
    "# dir()"
   ]
  },
  {
   "cell_type": "code",
   "execution_count": null,
   "id": "1a8f736b",
   "metadata": {},
   "outputs": [],
   "source": []
  }
 ],
 "metadata": {
  "celltoolbar": "Слайд-шоу",
  "kernelspec": {
   "display_name": "Python 3 (ipykernel)",
   "language": "python",
   "name": "python3"
  },
  "language_info": {
   "codemirror_mode": {
    "name": "ipython",
    "version": 3
   },
   "file_extension": ".py",
   "mimetype": "text/x-python",
   "name": "python",
   "nbconvert_exporter": "python",
   "pygments_lexer": "ipython3",
   "version": "3.10.9"
  }
 },
 "nbformat": 4,
 "nbformat_minor": 5
}
