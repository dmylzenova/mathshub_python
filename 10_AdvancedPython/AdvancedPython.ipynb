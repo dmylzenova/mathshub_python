{
 "cells": [
  {
   "cell_type": "markdown",
   "id": "30ccf2a3",
   "metadata": {
    "slideshow": {
     "slide_type": "slide"
    }
   },
   "source": [
    "<center>\n",
    "    <img src=\"https://i.ibb.co/gvswTct/logo.jpg\"  width=1000\">\n",
    "</center>\n",
    "                                                  "
   ]
  },
  {
   "cell_type": "markdown",
   "id": "3099cb68",
   "metadata": {
    "slideshow": {
     "slide_type": "subslide"
    }
   },
   "source": [
    "<center>\n",
    "    <br/>\n",
    "    <b style=\"font-size: 2em\">Продвинутые возможности языка python</b><br/>\n",
    "    <br/>\n",
    "    <font>Python 2023</font><br/>\n",
    "    <br/>\n",
    "    <font>Дарима Мылзенова</font><br/>\n",
    "</center>"
   ]
  },
  {
   "cell_type": "markdown",
   "id": "eaf9916b",
   "metadata": {
    "slideshow": {
     "slide_type": "slide"
    }
   },
   "source": [
    "## План лекции\n",
    "- Обработка исключений\n",
    "- Итераторы и генераторы\n",
    "- Декораторы"
   ]
  },
  {
   "cell_type": "markdown",
   "id": "ffc116b3",
   "metadata": {
    "slideshow": {
     "slide_type": "slide"
    }
   },
   "source": [
    "## Обработка исключений"
   ]
  },
  {
   "cell_type": "code",
   "execution_count": 85,
   "id": "a375101f",
   "metadata": {
    "slideshow": {
     "slide_type": "subslide"
    }
   },
   "outputs": [
    {
     "ename": "TypeError",
     "evalue": "must be real number, not str",
     "output_type": "error",
     "traceback": [
      "\u001b[1;31m---------------------------------------------------------------------------\u001b[0m",
      "\u001b[1;31mTypeError\u001b[0m                                 Traceback (most recent call last)",
      "Cell \u001b[1;32mIn[85], line 7\u001b[0m\n\u001b[0;32m      4\u001b[0m \u001b[38;5;28;01mdef\u001b[39;00m \u001b[38;5;21mfunc\u001b[39m(x):\n\u001b[0;32m      5\u001b[0m     \u001b[38;5;28;01mreturn\u001b[39;00m math\u001b[38;5;241m.\u001b[39msqrt(x)\n\u001b[1;32m----> 7\u001b[0m \u001b[43mfunc\u001b[49m\u001b[43m(\u001b[49m\u001b[38;5;124;43m'\u001b[39;49m\u001b[38;5;124;43mwdw\u001b[39;49m\u001b[38;5;124;43m'\u001b[39;49m\u001b[43m)\u001b[49m\n",
      "Cell \u001b[1;32mIn[85], line 5\u001b[0m, in \u001b[0;36mfunc\u001b[1;34m(x)\u001b[0m\n\u001b[0;32m      4\u001b[0m \u001b[38;5;28;01mdef\u001b[39;00m \u001b[38;5;21mfunc\u001b[39m(x):\n\u001b[1;32m----> 5\u001b[0m     \u001b[38;5;28;01mreturn\u001b[39;00m \u001b[43mmath\u001b[49m\u001b[38;5;241;43m.\u001b[39;49m\u001b[43msqrt\u001b[49m\u001b[43m(\u001b[49m\u001b[43mx\u001b[49m\u001b[43m)\u001b[49m\n",
      "\u001b[1;31mTypeError\u001b[0m: must be real number, not str"
     ]
    }
   ],
   "source": [
    "import math\n",
    "\n",
    "\n",
    "def func(x):\n",
    "    return math.sqrt(x)\n",
    "\n",
    "func('wdw')"
   ]
  },
  {
   "cell_type": "markdown",
   "id": "9bbb15b4",
   "metadata": {
    "slideshow": {
     "slide_type": "slide"
    }
   },
   "source": [
    "## Обработка исключений: типы исключений"
   ]
  },
  {
   "cell_type": "code",
   "execution_count": 1,
   "id": "794fc6f2",
   "metadata": {
    "scrolled": true,
    "slideshow": {
     "slide_type": "subslide"
    }
   },
   "outputs": [
    {
     "name": "stdout",
     "output_type": "stream",
     "text": [
      "Hierarchy for Built-in exceptions is : \n",
      " BaseException\n",
      "--- Exception\n",
      "------ TypeError\n",
      "--------- FloatOperation\n",
      "--------- MultipartConversionError\n",
      "------ StopAsyncIteration\n",
      "------ StopIteration\n",
      "------ ImportError\n",
      "--------- ModuleNotFoundError\n",
      "------------ PackageNotFoundError\n",
      "--------- ZipImportError\n",
      "------ OSError\n",
      "--------- ConnectionError\n",
      "------------ BrokenPipeError\n",
      "------------ ConnectionAbortedError\n",
      "------------ ConnectionRefusedError\n",
      "------------ ConnectionResetError\n",
      "--------------- RemoteDisconnected\n",
      "--------- BlockingIOError\n",
      "--------- ChildProcessError\n",
      "--------- FileExistsError\n",
      "--------- FileNotFoundError\n",
      "--------- IsADirectoryError\n",
      "--------- NotADirectoryError\n",
      "--------- InterruptedError\n",
      "------------ InterruptedSystemCall\n",
      "--------- PermissionError\n",
      "--------- ProcessLookupError\n",
      "--------- TimeoutError\n",
      "--------- UnsupportedOperation\n",
      "--------- herror\n",
      "--------- gaierror\n",
      "--------- SSLError\n",
      "------------ SSLCertVerificationError\n",
      "------------ SSLZeroReturnError\n",
      "------------ SSLWantWriteError\n",
      "------------ SSLWantReadError\n",
      "------------ SSLSyscallError\n",
      "------------ SSLEOFError\n",
      "--------- Error\n",
      "------------ SameFileError\n",
      "--------- SpecialFileError\n",
      "--------- ExecError\n",
      "--------- ReadError\n",
      "--------- URLError\n",
      "------------ HTTPError\n",
      "------------ ContentTooShortError\n",
      "--------- BadGzipFile\n",
      "------ EOFError\n",
      "--------- IncompleteReadError\n",
      "------ RuntimeError\n",
      "--------- RecursionError\n",
      "--------- NotImplementedError\n",
      "------------ ZMQVersionError\n",
      "------------ StdinNotImplementedError\n",
      "--------- _DeadlockError\n",
      "--------- BrokenBarrierError\n",
      "--------- BrokenExecutor\n",
      "------------ BrokenThreadPool\n",
      "--------- SendfileNotAvailableError\n",
      "--------- ExtractionError\n",
      "--------- VariableError\n",
      "------ NameError\n",
      "--------- UnboundLocalError\n",
      "------ AttributeError\n",
      "--------- FrozenInstanceError\n",
      "------ SyntaxError\n",
      "--------- IndentationError\n",
      "------------ TabError\n",
      "------ LookupError\n",
      "--------- IndexError\n",
      "--------- KeyError\n",
      "------------ NoSuchKernel\n",
      "------------ UnknownBackend\n",
      "--------- CodecRegistryError\n",
      "------ ValueError\n",
      "--------- UnicodeError\n",
      "------------ UnicodeEncodeError\n",
      "------------ UnicodeDecodeError\n",
      "------------ UnicodeTranslateError\n",
      "--------- UnsupportedOperation\n",
      "--------- JSONDecodeError\n",
      "--------- SSLCertVerificationError\n",
      "--------- Error\n",
      "--------- UnsupportedDigestmodError\n",
      "--------- IllegalMonthError\n",
      "--------- IllegalWeekdayError\n",
      "--------- ParserError\n",
      "--------- MessageDefect\n",
      "------------ NoBoundaryInMultipartDefect\n",
      "------------ StartBoundaryNotFoundDefect\n",
      "------------ CloseBoundaryNotFoundDefect\n",
      "------------ FirstHeaderLineIsContinuationDefect\n",
      "------------ MisplacedEnvelopeHeaderDefect\n",
      "------------ MissingHeaderBodySeparatorDefect\n",
      "------------ MultipartInvariantViolationDefect\n",
      "------------ InvalidMultipartContentTransferEncodingDefect\n",
      "------------ UndecodableBytesDefect\n",
      "------------ InvalidBase64PaddingDefect\n",
      "------------ InvalidBase64CharactersDefect\n",
      "------------ InvalidBase64LengthDefect\n",
      "------------ HeaderDefect\n",
      "--------------- InvalidHeaderDefect\n",
      "--------------- HeaderMissingRequiredValue\n",
      "--------------- NonPrintableDefect\n",
      "--------------- ObsoleteHeaderDefect\n",
      "--------------- NonASCIILocalPartDefect\n",
      "--------------- InvalidDateDefect\n",
      "--------- ClassNotFound\n",
      "--------- ClipboardEmpty\n",
      "--------- MacroToEdit\n",
      "--------- InvalidFileException\n",
      "--------- UnequalIterablesError\n",
      "--------- InvalidVersion\n",
      "--------- _InvalidELFFileHeader\n",
      "--------- InvalidWheelFilename\n",
      "--------- InvalidSdistFilename\n",
      "--------- InvalidSpecifier\n",
      "--------- InvalidMarker\n",
      "--------- UndefinedComparison\n",
      "--------- UndefinedEnvironmentName\n",
      "--------- InvalidRequirement\n",
      "------------ RequirementParseError\n",
      "--------- InvalidVersion\n",
      "------ AssertionError\n",
      "------ ArithmeticError\n",
      "--------- FloatingPointError\n",
      "--------- OverflowError\n",
      "--------- ZeroDivisionError\n",
      "------------ DivisionByZero\n",
      "------------ DivisionUndefined\n",
      "--------- DecimalException\n",
      "------------ Clamped\n",
      "------------ Rounded\n",
      "--------------- Underflow\n",
      "--------------- Overflow\n",
      "------------ Inexact\n",
      "--------------- Underflow\n",
      "--------------- Overflow\n",
      "------------ Subnormal\n",
      "--------------- Underflow\n",
      "------------ DivisionByZero\n",
      "------------ FloatOperation\n",
      "------------ InvalidOperation\n",
      "--------------- ConversionSyntax\n",
      "--------------- DivisionImpossible\n",
      "--------------- DivisionUndefined\n",
      "--------------- InvalidContext\n",
      "------ SystemError\n",
      "--------- CodecRegistryError\n",
      "------ ReferenceError\n",
      "------ MemoryError\n",
      "------ BufferError\n",
      "------ Warning\n",
      "--------- UserWarning\n",
      "------------ GetPassWarning\n",
      "------------ FormatterWarning\n",
      "--------- EncodingWarning\n",
      "--------- DeprecationWarning\n",
      "------------ ProvisionalWarning\n",
      "--------- PendingDeprecationWarning\n",
      "--------- SyntaxWarning\n",
      "--------- RuntimeWarning\n",
      "------------ ProactorSelectorThreadWarning\n",
      "------------ UnknownTimezoneWarning\n",
      "------------ PEP440Warning\n",
      "--------- FutureWarning\n",
      "------------ ProvisionalCompleterWarning\n",
      "--------- ImportWarning\n",
      "--------- UnicodeWarning\n",
      "--------- BytesWarning\n",
      "--------- ResourceWarning\n",
      "--------- DeprecatedTzFormatWarning\n",
      "--------- PkgResourcesDeprecationWarning\n",
      "------ _OptionError\n",
      "------ _Error\n",
      "------ error\n",
      "------ Verbose\n",
      "------ Error\n",
      "------ SubprocessError\n",
      "--------- CalledProcessError\n",
      "--------- TimeoutExpired\n",
      "------ ZMQBaseError\n",
      "--------- ZMQError\n",
      "------------ ContextTerminated\n",
      "------------ Again\n",
      "------------ InterruptedSystemCall\n",
      "--------- ZMQBindError\n",
      "--------- NotDone\n",
      "------ Error\n",
      "------ error\n",
      "------ PickleError\n",
      "--------- PicklingError\n",
      "--------- UnpicklingError\n",
      "------ _Stop\n",
      "------ TokenError\n",
      "------ StopTokenizing\n",
      "------ Error\n",
      "--------- CancelledError\n",
      "--------- TimeoutError\n",
      "--------- InvalidStateError\n",
      "------ _GiveupOnSendfile\n",
      "------ Incomplete\n",
      "------ ClassFoundException\n",
      "------ EndOfBlock\n",
      "------ TimeoutError\n",
      "------ InvalidStateError\n",
      "------ LimitOverrunError\n",
      "------ QueueEmpty\n",
      "------ QueueFull\n",
      "------ error\n",
      "------ LZMAError\n",
      "------ RegistryError\n",
      "------ _GiveupOnFastCopy\n",
      "------ TraitError\n",
      "------ Empty\n",
      "------ Full\n",
      "------ ArgumentError\n",
      "------ COMError\n",
      "------ ReturnValueIgnoredError\n",
      "------ ArgumentError\n",
      "------ ArgumentTypeError\n",
      "------ ConfigError\n",
      "--------- ConfigLoaderError\n",
      "------------ ArgumentError\n",
      "--------- ConfigFileNotFound\n",
      "------ ConfigurableError\n",
      "--------- MultipleInstanceError\n",
      "------ ApplicationError\n",
      "------ KeyReuseError\n",
      "------ UnknownKeyError\n",
      "------ LeakedCallbackError\n",
      "------ BadYieldError\n",
      "------ ReturnValueIgnoredError\n",
      "------ Return\n",
      "------ InvalidPortNumber\n",
      "------ NoIPAddresses\n",
      "------ Error\n",
      "------ BadZipFile\n",
      "------ LargeZipFile\n",
      "------ Error\n",
      "------ MessageError\n",
      "--------- MessageParseError\n",
      "------------ HeaderParseError\n",
      "------------ BoundaryError\n",
      "--------- MultipartConversionError\n",
      "--------- CharsetError\n",
      "------ DuplicateKernelError\n",
      "------ ErrorDuringImport\n",
      "------ NotOneValueFound\n",
      "------ CannotEval\n",
      "------ OptionError\n",
      "------ BdbQuit\n",
      "------ Restart\n",
      "------ FindCmdError\n",
      "------ HomeDirError\n",
      "------ ProfileDirError\n",
      "------ IPythonCoreError\n",
      "--------- TryNext\n",
      "--------- UsageError\n",
      "--------- StdinNotImplementedError\n",
      "------ InputRejected\n",
      "------ GetoptError\n",
      "------ ErrorToken\n",
      "------ PrefilterError\n",
      "------ AliasError\n",
      "--------- InvalidAliasError\n",
      "------ Error\n",
      "--------- InterfaceError\n",
      "--------- DatabaseError\n",
      "------------ InternalError\n",
      "------------ OperationalError\n",
      "------------ ProgrammingError\n",
      "------------ IntegrityError\n",
      "------------ DataError\n",
      "------------ NotSupportedError\n",
      "------ Warning\n",
      "------ SpaceInInput\n",
      "------ DOMException\n",
      "--------- IndexSizeErr\n",
      "--------- DomstringSizeErr\n",
      "--------- HierarchyRequestErr\n",
      "--------- WrongDocumentErr\n",
      "--------- InvalidCharacterErr\n",
      "--------- NoDataAllowedErr\n",
      "--------- NoModificationAllowedErr\n",
      "--------- NotFoundErr\n",
      "--------- NotSupportedErr\n",
      "--------- InuseAttributeErr\n",
      "--------- InvalidStateErr\n",
      "--------- SyntaxErr\n",
      "--------- InvalidModificationErr\n",
      "--------- NamespaceErr\n",
      "--------- InvalidAccessErr\n",
      "--------- ValidationErr\n",
      "------ ValidationError\n",
      "------ EditReadOnlyBuffer\n",
      "------ _Retry\n",
      "------ InvalidLayoutError\n",
      "------ HeightIsUnknownError\n",
      "------ GuardRejection\n",
      "------ ParserSyntaxError\n",
      "------ InternalParseError\n",
      "------ _PositionUpdatingFinished\n",
      "------ SimpleGetItemNotFound\n",
      "------ UncaughtAttributeError\n",
      "------ HasNoContext\n",
      "------ ParamIssue\n",
      "------ _JediError\n",
      "--------- InternalError\n",
      "--------- WrongVersion\n",
      "--------- RefactoringError\n",
      "------ OnErrorLeaf\n",
      "------ InvalidPythonEnvironment\n",
      "------ HTTPException\n",
      "--------- NotConnected\n",
      "--------- InvalidURL\n",
      "--------- UnknownProtocol\n",
      "--------- UnknownTransferEncoding\n",
      "--------- UnimplementedFileMode\n",
      "--------- IncompleteRead\n",
      "--------- ImproperConnectionState\n",
      "------------ CannotSendRequest\n",
      "------------ CannotSendHeader\n",
      "------------ ResponseNotReady\n",
      "--------- BadStatusLine\n",
      "------------ RemoteDisconnected\n",
      "--------- LineTooLong\n",
      "------ InteractivelyDefined\n",
      "------ KillEmbedded\n",
      "------ Error\n",
      "--------- NoSuchProcess\n",
      "------------ ZombieProcess\n",
      "--------- AccessDenied\n",
      "--------- TimeoutExpired\n",
      "------ Error\n",
      "------ TimeoutExpired\n",
      "------ TimeoutAbandoned\n",
      "------ QueueEmpty\n",
      "------ QueueFull\n",
      "------ ExpatError\n",
      "------ Error\n",
      "--------- ProtocolError\n",
      "--------- ResponseError\n",
      "--------- Fault\n",
      "------ error\n",
      "------ com_error\n",
      "------ internal_error\n",
      "------ ParseBaseException\n",
      "--------- ParseException\n",
      "--------- ParseFatalException\n",
      "------------ ParseSyntaxException\n",
      "------ RecursiveGrammarException\n",
      "------ ResolutionError\n",
      "--------- VersionConflict\n",
      "------------ ContextualVersionConflict\n",
      "--------- DistributionNotFound\n",
      "--------- UnknownExtra\n",
      "------ UnableToResolveVariableException\n",
      "------ InvalidTypeInArgsException\n",
      "--- GeneratorExit\n",
      "--- SystemExit\n",
      "--- KeyboardInterrupt\n",
      "--- CancelledError\n",
      "--- DebuggerInitializationError\n",
      "--- AbortThread\n"
     ]
    }
   ],
   "source": [
    "import inspect\n",
    "\n",
    "def treeClass(cls, ind = 0):\n",
    "    \"\"\" Print tree of the cls subclasses\"\"\"\n",
    "    print ('-' * ind, cls.__name__)\n",
    "  \n",
    "    # iterating through subclasses\n",
    "    for i in cls.__subclasses__():\n",
    "        treeClass(i, ind + 3)\n",
    "\n",
    "print(\"Hierarchy for Built-in exceptions is : \")\n",
    "  \n",
    "# function call\n",
    "treeClass(BaseException)"
   ]
  },
  {
   "cell_type": "markdown",
   "id": "a565c92c",
   "metadata": {
    "slideshow": {
     "slide_type": "slide"
    }
   },
   "source": [
    "## Обработка исключений: try-except блок"
   ]
  },
  {
   "cell_type": "code",
   "execution_count": 97,
   "id": "542dda92",
   "metadata": {},
   "outputs": [
    {
     "name": "stdout",
     "output_type": "stream",
     "text": [
      "float division by zero\n",
      "Finally\n"
     ]
    },
    {
     "ename": "ZeroDivisionError",
     "evalue": "float division by zero",
     "output_type": "error",
     "traceback": [
      "\u001b[1;31m---------------------------------------------------------------------------\u001b[0m",
      "\u001b[1;31mZeroDivisionError\u001b[0m                         Traceback (most recent call last)",
      "Cell \u001b[1;32mIn[97], line 3\u001b[0m\n\u001b[0;32m      1\u001b[0m \u001b[38;5;28;01mtry\u001b[39;00m:\n\u001b[0;32m      2\u001b[0m     f \u001b[38;5;241m=\u001b[39m \u001b[38;5;28mopen\u001b[39m(\u001b[38;5;124m\"\u001b[39m\u001b[38;5;124mexample.txt\u001b[39m\u001b[38;5;124m\"\u001b[39m, \u001b[38;5;124m\"\u001b[39m\u001b[38;5;124mr\u001b[39m\u001b[38;5;124m\"\u001b[39m)\n\u001b[1;32m----> 3\u001b[0m     \u001b[38;5;241;43m1\u001b[39;49m\u001b[43m \u001b[49m\u001b[38;5;241;43m/\u001b[39;49m\u001b[43m \u001b[49m\u001b[38;5;241;43m0.\u001b[39;49m\n\u001b[0;32m      4\u001b[0m \u001b[38;5;28;01mexcept\u001b[39;00m \u001b[38;5;167;01mFileNotFoundError\u001b[39;00m \u001b[38;5;28;01mas\u001b[39;00m e:\n\u001b[0;32m      5\u001b[0m     \u001b[38;5;28mprint\u001b[39m(e)\n",
      "\u001b[1;31mZeroDivisionError\u001b[0m: float division by zero"
     ]
    }
   ],
   "source": [
    "try:\n",
    "    f = open(\"example.txt\", \"r\")\n",
    "    1 / 0.\n",
    "except FileNotFoundError as e:\n",
    "    print(e)\n",
    "    print('file not found')\n",
    "except Exception as e:\n",
    "    print(e)\n",
    "    raise\n",
    "else:\n",
    "    content = f.read()\n",
    "    print('opened')\n",
    "    print(content)\n",
    "    f.close()\n",
    "finally:\n",
    "    print('Finally')\n",
    "\n",
    "print('after')"
   ]
  },
  {
   "cell_type": "markdown",
   "id": "a96b93d2",
   "metadata": {
    "slideshow": {
     "slide_type": "slide"
    }
   },
   "source": [
    "## Обработка исключений: try-except блок"
   ]
  },
  {
   "cell_type": "code",
   "execution_count": 99,
   "id": "4bce60a1",
   "metadata": {},
   "outputs": [
    {
     "name": "stdout",
     "output_type": "stream",
     "text": [
      "Something bad happened\n",
      "Finally\n"
     ]
    }
   ],
   "source": [
    "class MyCustomError(Exception):\n",
    "    \"\"\" Error occured specific to my program logic. \"\"\"\n",
    "    pass\n",
    "\n",
    "\n",
    "try:\n",
    "    f = open(\"example.txt\", \"r\")\n",
    "    raise MyCustomError(\"Something bad happened\")\n",
    "except MyCustomError as err:\n",
    "    print(err)\n",
    "except Exception as e:\n",
    "    print(e)\n",
    "    raise\n",
    "else:\n",
    "    content = f.read()\n",
    "    print(content)\n",
    "    f.close()\n",
    "finally:\n",
    "    print('Finally')"
   ]
  },
  {
   "cell_type": "markdown",
   "id": "c8221a92",
   "metadata": {
    "slideshow": {
     "slide_type": "slide"
    }
   },
   "source": [
    "## Обработка исключений: кастомное исключеие"
   ]
  },
  {
   "cell_type": "code",
   "execution_count": 71,
   "id": "84ffa7d7",
   "metadata": {
    "slideshow": {
     "slide_type": "-"
    }
   },
   "outputs": [
    {
     "name": "stdout",
     "output_type": "stream",
     "text": [
      "Failed in mean computation\n"
     ]
    }
   ],
   "source": [
    "class EmptyVariableError(Exception):\n",
    "    pass\n",
    "\n",
    "def get_mean(x):\n",
    "    return sum(x) / len(x)\n",
    "\n",
    "def summarize(x):\n",
    "    try:\n",
    "        mean = get_mean(x)\n",
    "    except ZeroDivisionError:\n",
    "        raise EmptyVariableError(\"Failed in mean computation\")\n",
    "    total = sum(x)\n",
    "    n = len(x)\n",
    "    return mean, total, n\n",
    "\n",
    "\n",
    "\n",
    "try:\n",
    "    x = []\n",
    "    summarize(x)\n",
    "except EmptyVariableError as e:\n",
    "    print(e)\n",
    "    pass"
   ]
  },
  {
   "cell_type": "markdown",
   "id": "9c173d49",
   "metadata": {
    "slideshow": {
     "slide_type": "slide"
    }
   },
   "source": [
    "## Обработка исключений: logging"
   ]
  },
  {
   "cell_type": "code",
   "execution_count": 102,
   "id": "4617e6f7",
   "metadata": {},
   "outputs": [],
   "source": [
    "import logging\n",
    "import time\n",
    "\n",
    "logging.basicConfig(filename=\"lecture_example.log\", level=logging.DEBUG)\n",
    "logger = logging.getLogger()\n",
    "\n",
    "try:\n",
    "    f = open(\"example2.txt\", \"r\")\n",
    "except FileNotFoundError as err:\n",
    "    logger.error(err)\n",
    "except Exception as err:\n",
    "    logger.error(err)\n",
    "else:\n",
    "    content = f.read()\n",
    "    print(content)\n",
    "    f.close()\n",
    "finally:\n",
    "    logger.info(f'Finally xcecuted finally block at {time.strftime(\"%Y-%m-%d %H:%M:%S\", time.localtime())}')"
   ]
  },
  {
   "cell_type": "markdown",
   "id": "d167f802",
   "metadata": {
    "slideshow": {
     "slide_type": "slide"
    }
   },
   "source": [
    "## Итераторы и генераторы\n",
    "- Итератор - это объект, который предоставляет последовательный доступ к элементам коллекции или контейнера без необходимости хранить все элементы в памяти одновременно.\n",
    "- Генератор - подвид итератора. Удобный способ создания итератора."
   ]
  },
  {
   "cell_type": "markdown",
   "id": "aa816e02",
   "metadata": {
    "slideshow": {
     "slide_type": "slide"
    }
   },
   "source": [
    "## Что такое итератор?"
   ]
  },
  {
   "cell_type": "code",
   "execution_count": 104,
   "id": "9114d519",
   "metadata": {},
   "outputs": [
    {
     "data": {
      "text/plain": [
       "range(0, 10)"
      ]
     },
     "execution_count": 104,
     "metadata": {},
     "output_type": "execute_result"
    }
   ],
   "source": [
    "range(10)"
   ]
  },
  {
   "cell_type": "code",
   "execution_count": 105,
   "id": "368d1a93",
   "metadata": {},
   "outputs": [
    {
     "name": "stdout",
     "output_type": "stream",
     "text": [
      "0\n",
      "1\n",
      "2\n",
      "3\n",
      "4\n",
      "5\n",
      "6\n",
      "7\n",
      "8\n",
      "9\n"
     ]
    }
   ],
   "source": [
    "x = [0, 1, 2, 3, 4, 5, 6, 7, 8, 9]\n",
    "\n",
    "for element in x:\n",
    "    print(element)"
   ]
  },
  {
   "cell_type": "code",
   "execution_count": 106,
   "id": "2f73d351",
   "metadata": {},
   "outputs": [
    {
     "name": "stdout",
     "output_type": "stream",
     "text": [
      "0\n",
      "1\n",
      "2\n",
      "3\n",
      "4\n",
      "5\n",
      "6\n",
      "7\n",
      "8\n",
      "9\n"
     ]
    }
   ],
   "source": [
    "for i in range(10):\n",
    "    print(i)"
   ]
  },
  {
   "cell_type": "markdown",
   "id": "5cc7f5b9",
   "metadata": {
    "slideshow": {
     "slide_type": "slide"
    }
   },
   "source": [
    "## Что такое итератор?"
   ]
  },
  {
   "cell_type": "code",
   "execution_count": 157,
   "id": "a3466a7d",
   "metadata": {},
   "outputs": [
    {
     "name": "stdout",
     "output_type": "stream",
     "text": [
      "80000056\n",
      "48\n"
     ]
    }
   ],
   "source": [
    "import sys\n",
    "\n",
    "x = list(range(10000000))\n",
    "print(sys.getsizeof(x))\n",
    "print(sys.getsizeof(range(10000000)))"
   ]
  },
  {
   "cell_type": "markdown",
   "id": "5bf2e039",
   "metadata": {
    "slideshow": {
     "slide_type": "slide"
    }
   },
   "source": [
    "## Что такое итератор?"
   ]
  },
  {
   "cell_type": "code",
   "execution_count": 117,
   "id": "35f0ce97",
   "metadata": {
    "slideshow": {
     "slide_type": "-"
    }
   },
   "outputs": [
    {
     "data": {
      "text/plain": [
       "<map at 0x2746f503e50>"
      ]
     },
     "execution_count": 117,
     "metadata": {},
     "output_type": "execute_result"
    }
   ],
   "source": [
    "x = [1, 2, 3, 4, 5, 6, 7, 8, 9]\n",
    "y = map(lambda i: i ** 2, x)\n",
    "    \n",
    "y"
   ]
  },
  {
   "cell_type": "code",
   "execution_count": 114,
   "id": "af797d49",
   "metadata": {},
   "outputs": [
    {
     "name": "stdout",
     "output_type": "stream",
     "text": [
      "48\n",
      "184\n"
     ]
    }
   ],
   "source": [
    "print(sys.getsizeof(y))\n",
    "print(sys.getsizeof(list(y)))\n"
   ]
  },
  {
   "cell_type": "markdown",
   "id": "f63eaf27",
   "metadata": {
    "slideshow": {
     "slide_type": "slide"
    }
   },
   "source": [
    "## Что такое итератор?"
   ]
  },
  {
   "cell_type": "code",
   "execution_count": 120,
   "id": "3f24ac1e",
   "metadata": {
    "slideshow": {
     "slide_type": "-"
    }
   },
   "outputs": [
    {
     "name": "stdout",
     "output_type": "stream",
     "text": [
      "1\n",
      "4\n",
      "9\n",
      "16\n",
      "25\n"
     ]
    }
   ],
   "source": [
    "x = [1, 2, 3, 4, 5, 6, 7, 8, 9]\n",
    "y = map(lambda i: i ** 2, x)\n",
    "\n",
    "print(y.__next__())\n",
    "print(next(y))\n",
    "print(next(y))\n",
    "print(next(y))\n",
    "print(y.__next__())"
   ]
  },
  {
   "cell_type": "code",
   "execution_count": 122,
   "id": "a15d0a05",
   "metadata": {},
   "outputs": [
    {
     "ename": "StopIteration",
     "evalue": "",
     "output_type": "error",
     "traceback": [
      "\u001b[1;31m---------------------------------------------------------------------------\u001b[0m",
      "\u001b[1;31mStopIteration\u001b[0m                             Traceback (most recent call last)",
      "Cell \u001b[1;32mIn[122], line 4\u001b[0m\n\u001b[0;32m      1\u001b[0m \u001b[38;5;28;01mfor\u001b[39;00m i \u001b[38;5;129;01min\u001b[39;00m y:\n\u001b[0;32m      2\u001b[0m     \u001b[38;5;28mprint\u001b[39m(i)\n\u001b[1;32m----> 4\u001b[0m \u001b[38;5;28;43mnext\u001b[39;49m\u001b[43m(\u001b[49m\u001b[43my\u001b[49m\u001b[43m)\u001b[49m\n",
      "\u001b[1;31mStopIteration\u001b[0m: "
     ]
    }
   ],
   "source": [
    "for i in y:\n",
    "    print(i)\n",
    "\n",
    "next(y)"
   ]
  },
  {
   "cell_type": "markdown",
   "id": "3946081f",
   "metadata": {
    "slideshow": {
     "slide_type": "slide"
    }
   },
   "source": [
    "## Что такое итератор?"
   ]
  },
  {
   "cell_type": "code",
   "execution_count": 49,
   "id": "1712ed63",
   "metadata": {
    "slideshow": {
     "slide_type": "-"
    }
   },
   "outputs": [
    {
     "name": "stdout",
     "output_type": "stream",
     "text": [
      "1\n",
      "4\n",
      "9\n",
      "16\n",
      "25\n",
      "36\n",
      "49\n",
      "64\n",
      "81\n",
      "Done\n"
     ]
    }
   ],
   "source": [
    "x = [1, 2, 3, 4, 5, 6, 7, 8, 9]\n",
    "y = map(lambda i: i ** 2, x)\n",
    "\n",
    "while True:\n",
    "#     y = iter(y)\n",
    "    try:\n",
    "        value = next(y)\n",
    "        print(value)\n",
    "    except StopIteration:\n",
    "        print('Done')\n",
    "        break"
   ]
  },
  {
   "cell_type": "markdown",
   "id": "88c2308e",
   "metadata": {
    "slideshow": {
     "slide_type": "slide"
    }
   },
   "source": [
    "## Что такое итератор?"
   ]
  },
  {
   "cell_type": "code",
   "execution_count": 126,
   "id": "4e54e862",
   "metadata": {},
   "outputs": [],
   "source": [
    "x = range(10)\n",
    "\n",
    "# next(x)\n",
    "# x"
   ]
  },
  {
   "cell_type": "code",
   "execution_count": 131,
   "id": "07118fd6",
   "metadata": {},
   "outputs": [
    {
     "data": {
      "text/plain": [
       "<list_iterator at 0x2746f061de0>"
      ]
     },
     "execution_count": 131,
     "metadata": {},
     "output_type": "execute_result"
    }
   ],
   "source": [
    "(iter([1, 2, 3]))"
   ]
  },
  {
   "cell_type": "code",
   "execution_count": 127,
   "id": "6b8a93e8",
   "metadata": {},
   "outputs": [
    {
     "data": {
      "text/plain": [
       "<range_iterator at 0x2746f3e7890>"
      ]
     },
     "execution_count": 127,
     "metadata": {},
     "output_type": "execute_result"
    }
   ],
   "source": [
    "x.__iter__()"
   ]
  },
  {
   "cell_type": "code",
   "execution_count": 128,
   "id": "fec8a6e7",
   "metadata": {},
   "outputs": [
    {
     "name": "stdout",
     "output_type": "stream",
     "text": [
      "0\n",
      "1\n",
      "2\n"
     ]
    }
   ],
   "source": [
    "iterable = iter(x)\n",
    "print(next(iterable))\n",
    "print(next(iterable))\n",
    "print(next(iterable))"
   ]
  },
  {
   "cell_type": "markdown",
   "id": "d134b038",
   "metadata": {
    "slideshow": {
     "slide_type": "slide"
    }
   },
   "source": [
    "## Что такое итератор?"
   ]
  },
  {
   "cell_type": "code",
   "execution_count": 140,
   "id": "f934a999",
   "metadata": {},
   "outputs": [],
   "source": [
    "class Iter:\n",
    "    def __init__(self, n):\n",
    "        self.n = n\n",
    "    \n",
    "    def __iter__(self):\n",
    "        self.current = -1\n",
    "        return self\n",
    "    \n",
    "    def __next__(self):\n",
    "        self.current += 1\n",
    "\n",
    "        if self.current >= self.n:\n",
    "            raise StopIteration\n",
    "            \n",
    "        return self.current"
   ]
  },
  {
   "cell_type": "code",
   "execution_count": 145,
   "id": "0b69f006",
   "metadata": {},
   "outputs": [
    {
     "data": {
      "text/plain": [
       "3"
      ]
     },
     "execution_count": 145,
     "metadata": {},
     "output_type": "execute_result"
    }
   ],
   "source": [
    "x = Iter(5)\n",
    "\n",
    "# for i in x:\n",
    "#     print(i)\n",
    "\n",
    "x = iter(x)\n",
    "next(x)\n",
    "next(x)\n",
    "next(x)\n",
    "next(x)\n",
    "# next(x)\n",
    "# next(x)"
   ]
  },
  {
   "cell_type": "markdown",
   "id": "9d576278",
   "metadata": {
    "slideshow": {
     "slide_type": "slide"
    }
   },
   "source": [
    "## Что такое итератор?"
   ]
  },
  {
   "cell_type": "code",
   "execution_count": 146,
   "id": "e28641ae",
   "metadata": {
    "slideshow": {
     "slide_type": "-"
    }
   },
   "outputs": [
    {
     "name": "stdout",
     "output_type": "stream",
     "text": [
      "0\n",
      "1\n",
      "2\n",
      "3\n",
      "4\n"
     ]
    }
   ],
   "source": [
    "iterable = iter(x)\n",
    "print(next(iterable))\n",
    "print(next(iterable))\n",
    "print(next(iterable))\n",
    "print(next(iterable))\n",
    "print(next(iterable))"
   ]
  },
  {
   "cell_type": "markdown",
   "id": "5903bfba",
   "metadata": {
    "slideshow": {
     "slide_type": "slide"
    }
   },
   "source": [
    "## Что такое генератор?\n",
    "- создание генератора как функции"
   ]
  },
  {
   "cell_type": "code",
   "execution_count": 152,
   "id": "82b59943",
   "metadata": {},
   "outputs": [],
   "source": [
    "def generator(n):\n",
    "    for i in range(n):\n",
    "        yield i"
   ]
  },
  {
   "cell_type": "code",
   "execution_count": 148,
   "id": "54ee6199",
   "metadata": {},
   "outputs": [
    {
     "name": "stdout",
     "output_type": "stream",
     "text": [
      "0\n",
      "1\n",
      "2\n",
      "3\n",
      "4\n"
     ]
    }
   ],
   "source": [
    "x = generator(5)\n",
    "\n",
    "for i in x:\n",
    "    print(i)"
   ]
  },
  {
   "cell_type": "code",
   "execution_count": 154,
   "id": "b0d56071",
   "metadata": {},
   "outputs": [
    {
     "name": "stdout",
     "output_type": "stream",
     "text": [
      "0\n",
      "1\n"
     ]
    }
   ],
   "source": [
    "x = generator(5)\n",
    "\n",
    "print(next(x))\n",
    "print(next(x))\n",
    "# print(next(x))\n",
    "# print(next(x))\n",
    "# print(next(x))\n",
    "# print(next(x))"
   ]
  },
  {
   "cell_type": "markdown",
   "id": "2d7f3f36",
   "metadata": {
    "slideshow": {
     "slide_type": "slide"
    }
   },
   "source": [
    "## Что такое генератор?"
   ]
  },
  {
   "cell_type": "code",
   "execution_count": 14,
   "id": "894f633e",
   "metadata": {},
   "outputs": [],
   "source": [
    "def generator():\n",
    "    yield 1\n",
    "    \n",
    "    print(\"pause 1\")\n",
    "    yield 2\n",
    "    print(\"pause 2\")\n",
    "    yield 3\n",
    "    print(\"pause 3\")"
   ]
  },
  {
   "cell_type": "code",
   "execution_count": 17,
   "id": "949b82da",
   "metadata": {},
   "outputs": [
    {
     "name": "stdout",
     "output_type": "stream",
     "text": [
      "1\n",
      "pause 1\n",
      "2\n",
      "pause 2\n",
      "3\n"
     ]
    }
   ],
   "source": [
    "x = generator()\n",
    "\n",
    "print(next(x))\n",
    "print(next(x))\n",
    "print(next(x))"
   ]
  },
  {
   "cell_type": "markdown",
   "id": "ed1e421f",
   "metadata": {
    "slideshow": {
     "slide_type": "slide"
    }
   },
   "source": [
    "## Что такое генератор?\n",
    "- создание генератора как comprehension"
   ]
  },
  {
   "cell_type": "code",
   "execution_count": 155,
   "id": "58f02fb6",
   "metadata": {},
   "outputs": [
    {
     "data": {
      "text/plain": [
       "<generator object <genexpr> at 0x000002746F7C5230>"
      ]
     },
     "execution_count": 155,
     "metadata": {},
     "output_type": "execute_result"
    }
   ],
   "source": [
    "gen = (i for i in range(5))\n",
    "gen"
   ]
  },
  {
   "cell_type": "code",
   "execution_count": 156,
   "id": "9d54f7be",
   "metadata": {},
   "outputs": [
    {
     "name": "stdout",
     "output_type": "stream",
     "text": [
      "0\n",
      "1\n",
      "2\n"
     ]
    }
   ],
   "source": [
    "x = gen\n",
    "\n",
    "print(next(x))\n",
    "print(next(x))\n",
    "print(next(x))"
   ]
  },
  {
   "cell_type": "markdown",
   "id": "ea196fcf",
   "metadata": {
    "slideshow": {
     "slide_type": "slide"
    }
   },
   "source": [
    "## Зачем нужны итераторы и генераторы?\n"
   ]
  },
  {
   "cell_type": "markdown",
   "id": "456ea03a",
   "metadata": {},
   "source": [
    "- генератор - удобный способ создания итератора\n",
    "- итераторы экономят память и делают код быстрее\n",
    "- незаменимы при\n",
    "    - работе с большими объемами информации и при работе в потоковом режиме\n",
    "    - параллельной обработке данных"
   ]
  },
  {
   "cell_type": "code",
   "execution_count": 159,
   "id": "55b096b1",
   "metadata": {
    "slideshow": {
     "slide_type": "subslide"
    }
   },
   "outputs": [],
   "source": [
    "def csv_reader(file_name):\n",
    "    for row in open(file_name, \"r\"):\n",
    "        yield row"
   ]
  },
  {
   "cell_type": "code",
   "execution_count": 160,
   "id": "80c66261",
   "metadata": {},
   "outputs": [
    {
     "name": "stdout",
     "output_type": "stream",
     "text": [
      "345,Payroll Expense,Hardware,USD,2023,Forecast,-3063156.0,-2978709.0,-2456071.0,-2810593.0,-2589351.0,-2491701.0,-3020040.0,-3652709.0,-3270893.0,-2030059.0,-2371946.0,-3263794.0\n",
      "\n"
     ]
    }
   ],
   "source": [
    "reader = csv_reader(\"data.csv\")\n",
    "\n",
    "VALUE = '-3063156.0'\n",
    "\n",
    "for text in reader:\n",
    "    if VALUE in text:\n",
    "        print(text)"
   ]
  },
  {
   "cell_type": "code",
   "execution_count": 161,
   "id": "2f1bddb8",
   "metadata": {},
   "outputs": [
    {
     "data": {
      "text/plain": [
       "104"
      ]
     },
     "execution_count": 161,
     "metadata": {},
     "output_type": "execute_result"
    }
   ],
   "source": [
    "import sys\n",
    "\n",
    "sys.getsizeof(reader)"
   ]
  },
  {
   "cell_type": "markdown",
   "id": "4d2cddfe",
   "metadata": {
    "slideshow": {
     "slide_type": "slide"
    }
   },
   "source": [
    "## Что такое декоратор?\n",
    "- функция, которая принимает другую функцию в качестве аргумента и возвращают новую функцию\n",
    "- позволяет изменять поведение функций без явного изменения исходного кода\n",
    "- например добавить логирование, проверку/изменение аргументов, кэширование результатов\n",
    "- позволяют разделить основную логику функции от дополнительного поведения, что делает код более модульным, гибким и легким для понимания.\n",
    "\n"
   ]
  },
  {
   "cell_type": "markdown",
   "id": "8781aed3",
   "metadata": {
    "slideshow": {
     "slide_type": "slide"
    }
   },
   "source": [
    "## Что такое декоратор?\n"
   ]
  },
  {
   "cell_type": "code",
   "execution_count": 162,
   "id": "b8a403de",
   "metadata": {},
   "outputs": [],
   "source": [
    "def func(string):\n",
    "    def wrapper():\n",
    "        print(\"started\")\n",
    "        print(string)\n",
    "        print(\"ended\")\n",
    "\n",
    "    return wrapper"
   ]
  },
  {
   "cell_type": "code",
   "execution_count": 163,
   "id": "c2f09ca8",
   "metadata": {},
   "outputs": [
    {
     "data": {
      "text/plain": [
       "<function __main__.func.<locals>.wrapper()>"
      ]
     },
     "execution_count": 163,
     "metadata": {},
     "output_type": "execute_result"
    }
   ],
   "source": [
    "x = func('hello')\n",
    "x"
   ]
  },
  {
   "cell_type": "code",
   "execution_count": 164,
   "id": "65a99f51",
   "metadata": {},
   "outputs": [
    {
     "name": "stdout",
     "output_type": "stream",
     "text": [
      "started\n",
      "hello\n",
      "ended\n"
     ]
    }
   ],
   "source": [
    "x()"
   ]
  },
  {
   "cell_type": "markdown",
   "id": "caba8253",
   "metadata": {
    "slideshow": {
     "slide_type": "slide"
    }
   },
   "source": [
    "## Что такое декоратор?\n",
    "- функция, которая принимает другую функцию в качестве аргумента и возвращают новую функцию"
   ]
  },
  {
   "cell_type": "code",
   "execution_count": 166,
   "id": "44b51f96",
   "metadata": {},
   "outputs": [
    {
     "name": "stdout",
     "output_type": "stream",
     "text": [
      "started\n",
      "i am test func\n",
      "ended\n"
     ]
    }
   ],
   "source": [
    "def func(f):\n",
    "    def wrapper():\n",
    "        print(\"started\")\n",
    "        f()\n",
    "        print(\"ended\")\n",
    "\n",
    "    return wrapper\n",
    "\n",
    "\n",
    "def test_func():\n",
    "    print(\"i am test func\")\n",
    "    \n",
    "x = func(test_func)\n",
    "x()"
   ]
  },
  {
   "cell_type": "code",
   "execution_count": 167,
   "id": "62db0896",
   "metadata": {},
   "outputs": [
    {
     "name": "stdout",
     "output_type": "stream",
     "text": [
      "started\n",
      "i am test func 2\n",
      "ended\n"
     ]
    }
   ],
   "source": [
    "def test_func2():\n",
    "    print(\"i am test func 2\")\n",
    "\n",
    "y = func(test_func2)\n",
    "y()"
   ]
  },
  {
   "cell_type": "markdown",
   "id": "6a142ed6",
   "metadata": {
    "slideshow": {
     "slide_type": "slide"
    }
   },
   "source": [
    "## Что такое декоратор?\n",
    "\n"
   ]
  },
  {
   "cell_type": "code",
   "execution_count": 52,
   "id": "8a1caa3b",
   "metadata": {},
   "outputs": [
    {
     "name": "stdout",
     "output_type": "stream",
     "text": [
      "started\n",
      "i am test func\n",
      "ended\n",
      "started\n",
      "i am test func 2\n",
      "ended\n"
     ]
    }
   ],
   "source": [
    "test_func = func(test_func)\n",
    "test_func2 = func(test_func2)\n",
    "\n",
    "test_func()\n",
    "test_func2()"
   ]
  },
  {
   "cell_type": "markdown",
   "id": "a048a043",
   "metadata": {
    "slideshow": {
     "slide_type": "slide"
    }
   },
   "source": [
    "## Что такое декоратор?\n"
   ]
  },
  {
   "cell_type": "code",
   "execution_count": 168,
   "id": "bb15420e",
   "metadata": {},
   "outputs": [
    {
     "name": "stdout",
     "output_type": "stream",
     "text": [
      "started\n",
      "i am test func\n",
      "ended\n",
      "started\n",
      "i am test func 2\n",
      "ended\n"
     ]
    }
   ],
   "source": [
    "def func(f):\n",
    "    def wrapper():\n",
    "        print(\"started\")\n",
    "        f()\n",
    "        print(\"ended\")\n",
    "\n",
    "    return wrapper\n",
    "\n",
    "\n",
    "@func\n",
    "def test_func():\n",
    "    print(\"i am test func\")\n",
    "    \n",
    "\n",
    "@func\n",
    "def test_func2():\n",
    "    print(\"i am test func 2\")\n",
    "\n",
    "\n",
    "test_func()\n",
    "test_func2()"
   ]
  },
  {
   "cell_type": "markdown",
   "id": "85116e66",
   "metadata": {
    "slideshow": {
     "slide_type": "slide"
    }
   },
   "source": [
    "## Декоратор: передача аргументов в функцию\n"
   ]
  },
  {
   "cell_type": "markdown",
   "id": "861b14db",
   "metadata": {
    "slideshow": {
     "slide_type": "slide"
    }
   },
   "source": [
    "## Декоратор: передача аргументов в функцию\n"
   ]
  },
  {
   "cell_type": "code",
   "execution_count": 171,
   "id": "e23d6fc3",
   "metadata": {},
   "outputs": [
    {
     "name": "stdout",
     "output_type": "stream",
     "text": [
      "started\n",
      "i am test func called with 5\n",
      "ended\n"
     ]
    },
    {
     "ename": "TypeError",
     "evalue": "func.<locals>.wrapper() missing 1 required positional argument: 'x'",
     "output_type": "error",
     "traceback": [
      "\u001b[1;31m---------------------------------------------------------------------------\u001b[0m",
      "\u001b[1;31mTypeError\u001b[0m                                 Traceback (most recent call last)",
      "Cell \u001b[1;32mIn[171], line 19\u001b[0m\n\u001b[0;32m     16\u001b[0m     \u001b[38;5;28mprint\u001b[39m(\u001b[38;5;124mf\u001b[39m\u001b[38;5;124m\"\u001b[39m\u001b[38;5;124mi am test func 2\u001b[39m\u001b[38;5;124m\"\u001b[39m)\n\u001b[0;32m     18\u001b[0m test_func(\u001b[38;5;241m5\u001b[39m)\n\u001b[1;32m---> 19\u001b[0m \u001b[43mtest_func2\u001b[49m\u001b[43m(\u001b[49m\u001b[43m)\u001b[49m\n",
      "\u001b[1;31mTypeError\u001b[0m: func.<locals>.wrapper() missing 1 required positional argument: 'x'"
     ]
    }
   ],
   "source": [
    "def func(f):\n",
    "    def wrapper(x):\n",
    "        print(\"started\")\n",
    "        f(x)\n",
    "        print(\"ended\")\n",
    "\n",
    "    return wrapper\n",
    "\n",
    "@func\n",
    "def test_func(x):\n",
    "    print(f\"i am test func called with {x}\")\n",
    "\n",
    "\n",
    "@func\n",
    "def test_func2():\n",
    "    print(f\"i am test func 2\")\n",
    "\n",
    "test_func(5)\n",
    "test_func2()"
   ]
  },
  {
   "cell_type": "markdown",
   "id": "5f5bd2d5",
   "metadata": {
    "slideshow": {
     "slide_type": "slide"
    }
   },
   "source": [
    "## Декоратор: передача аргументов в функцию\n"
   ]
  },
  {
   "cell_type": "code",
   "execution_count": 172,
   "id": "88011101",
   "metadata": {},
   "outputs": [
    {
     "name": "stdout",
     "output_type": "stream",
     "text": [
      "started\n",
      "i am test func called with 5\n",
      "ended\n",
      "started\n",
      "i am test func 2\n",
      "ended\n"
     ]
    }
   ],
   "source": [
    "def func(f):\n",
    "    def wrapper(*args, **kwargs):\n",
    "        print(\"started\")\n",
    "        f(*args, **kwargs)\n",
    "        print(\"ended\")\n",
    "\n",
    "    return wrapper\n",
    "\n",
    "@func\n",
    "def test_func(x):\n",
    "    print(f\"i am test func called with {x}\")\n",
    "\n",
    "\n",
    "@func\n",
    "def test_func2():\n",
    "    print(f\"i am test func 2\")\n",
    "\n",
    "test_func(5)\n",
    "test_func2()"
   ]
  },
  {
   "cell_type": "markdown",
   "id": "7dcd22b8",
   "metadata": {
    "slideshow": {
     "slide_type": "slide"
    }
   },
   "source": [
    "## Декоратор: аргументы в декоратор"
   ]
  },
  {
   "cell_type": "code",
   "execution_count": 77,
   "id": "03789c29",
   "metadata": {},
   "outputs": [
    {
     "name": "stdout",
     "output_type": "stream",
     "text": [
      "Hello\n",
      "Hello\n",
      "Hello\n",
      "Hello\n",
      "Hello\n"
     ]
    }
   ],
   "source": [
    "from functools import wraps\n",
    "\n",
    "\n",
    "def repeat(times):\n",
    "    def decorate(fn):\n",
    "        @wraps(fn)\n",
    "        def wrapper(*args, **kwargs):\n",
    "            for _ in range(times):\n",
    "                result = fn(*args, **kwargs)\n",
    "            return result\n",
    "        return wrapper\n",
    "    return decorate\n",
    "\n",
    "\n",
    "@repeat(5)\n",
    "def say(message):\n",
    "    print(message)\n",
    "\n",
    "\n",
    "say('Hello')\n"
   ]
  },
  {
   "cell_type": "markdown",
   "id": "cea4641f",
   "metadata": {
    "slideshow": {
     "slide_type": "slide"
    }
   },
   "source": [
    "## Декоратор: пример"
   ]
  },
  {
   "cell_type": "code",
   "execution_count": 174,
   "id": "0872f17a",
   "metadata": {},
   "outputs": [
    {
     "name": "stdout",
     "output_type": "stream",
     "text": [
      "Execution time is 0.41277217864990234\n"
     ]
    }
   ],
   "source": [
    "import time\n",
    "\n",
    "def timer(f):\n",
    "    \"\"\" Estimate time of input function f execution.\"\"\"\n",
    "    def wrapper(*args, **kwargs):\n",
    "        start = time.time()\n",
    "        res = f(*args, **kwargs)\n",
    "        total = time.time() - start\n",
    "        print(f\"Execution time is {total}\")\n",
    "        return res\n",
    "        \n",
    "    return wrapper\n",
    "\n",
    "\n",
    "@timer\n",
    "def test_func():\n",
    "#     time.sleep(2)\n",
    "    for i in range(1000000):\n",
    "        pass\n",
    "    \n",
    "    \n",
    "test_func()"
   ]
  },
  {
   "cell_type": "markdown",
   "id": "c95f2ef5",
   "metadata": {
    "slideshow": {
     "slide_type": "slide"
    }
   },
   "source": [
    " ## Что дальше?\n",
    " - Документация https://docs.python.org\n",
    " - Dive Into Python 3 Марк Пилгрим [на русском](https://radioprog.ru/category/167)\n",
    "  - [Программирование на Python в примерах и задачах Алексей Васильев](https://www.researchgate.net/publication/349833726_Programmirovanie_na_Python_v_primerah_i_zadacah)\n",
    "  - [Онлайн курсы](https://python-course.eu/), [тюториалы на youtube](https://www.youtube.com/user/schafer5), [гитхаб](https://github.com/jakevdp/PythonDataScienceHandbook/tree/master/notebooks)\n",
    " - Создавать самостоятельные проекты! [Идеи для проектов](https://www.youtube.com/watch?v=1HHRWg--Ce4&list=PLzMcBGfZo4-lkJOu1AWab-nFtjDw7aPek)\n"
   ]
  }
 ],
 "metadata": {
  "celltoolbar": "Слайд-шоу",
  "kernelspec": {
   "display_name": "Python 3 (ipykernel)",
   "language": "python",
   "name": "python3"
  },
  "language_info": {
   "codemirror_mode": {
    "name": "ipython",
    "version": 3
   },
   "file_extension": ".py",
   "mimetype": "text/x-python",
   "name": "python",
   "nbconvert_exporter": "python",
   "pygments_lexer": "ipython3",
   "version": "3.10.9"
  }
 },
 "nbformat": 4,
 "nbformat_minor": 5
}
