{
 "cells": [
  {
   "cell_type": "markdown",
   "id": "53172362",
   "metadata": {
    "slideshow": {
     "slide_type": "slide"
    }
   },
   "source": [
    "<center>\n",
    "    <img src=\"https://i.ibb.co/gvswTct/logo.jpg\"  width=1000\">\n",
    "</center>\n",
    "                                                  "
   ]
  },
  {
   "cell_type": "markdown",
   "id": "01dc3b98",
   "metadata": {
    "slideshow": {
     "slide_type": "slide"
    }
   },
   "source": [
    "<center>\n",
    "    <br/>\n",
    "    <b style=\"font-size: 2em\">Функции в python</b><br/>\n",
    "    <br/>\n",
    "    <font>Python 2023</font><br/>\n",
    "    <br/>\n",
    "    <font>Дарима Мылзенова</font><br/>\n",
    "</center>"
   ]
  },
  {
   "cell_type": "markdown",
   "id": "d4f3beaf",
   "metadata": {
    "slideshow": {
     "slide_type": "slide"
    }
   },
   "source": [
    "<center>\n",
    "    <font> </font><br/>\n",
    "    <img src=\"images/intro.png\" alt=\"unfunny meme again\">\n",
    "    <br/>\n",
    "    </center>"
   ]
  },
  {
   "cell_type": "markdown",
   "id": "ba8e4194",
   "metadata": {
    "slideshow": {
     "slide_type": "slide"
    }
   },
   "source": [
    "## План лекции\n",
    "    - Функции: синтаксис и примеры\n",
    "    - Параметры: обязательные и опциональные, позиционные и именные\n",
    "    - Локальные и глобальные переменные\n",
    "    - Изменяемые и неизменяемые объекты\n",
    "    - Документирование и аннотирование функций\n",
    "    - Анонимные или lambda функции и примеры их использования\n",
    "    - Типичные ошибки"
   ]
  },
  {
   "cell_type": "markdown",
   "id": "5f4b6f36",
   "metadata": {
    "slideshow": {
     "slide_type": "slide"
    }
   },
   "source": [
    "<center>\n",
    "    <font> </font><br/>\n",
    "    <img src=\"images/func.png\" alt=\"unfunny meme again\">\n",
    "    <br/>\n",
    "    </center>"
   ]
  },
  {
   "cell_type": "markdown",
   "id": "7cf90a2b",
   "metadata": {
    "slideshow": {
     "slide_type": "slide"
    }
   },
   "source": [
    "##  \n",
    "   - ### Функция это ... \n",
    "    - набор инструкций, объединенных для выполнения одной задачи\n",
    "   - ### Функции полезны для ...\n",
    "    - переиспользования кода вместо дублирования\n",
    "    - организации кода и разбиения его на логические блоки\n",
    "    - повышения читаемости кода для удобства разработки"
   ]
  },
  {
   "cell_type": "code",
   "execution_count": null,
   "id": "4a6a8a3f",
   "metadata": {
    "slideshow": {
     "slide_type": "slide"
    }
   },
   "outputs": [],
   "source": [
    "def do_something():             # def - ключевое слово для объявления функции\n",
    "    pass                        # ключевое слово-заглушка для обозначения \"ничего не делай\""
   ]
  },
  {
   "cell_type": "code",
   "execution_count": null,
   "id": "1deb72b4",
   "metadata": {},
   "outputs": [],
   "source": [
    "def say_hello(name):\n",
    "    print(f\"Hello, {name}\")\n",
    "\n",
    "say_hello(\"Vasya\")"
   ]
  },
  {
   "cell_type": "code",
   "execution_count": null,
   "id": "e8b7c73a",
   "metadata": {},
   "outputs": [],
   "source": [
    "print(say_hello(\"Vasya\"))                     "
   ]
  },
  {
   "cell_type": "markdown",
   "id": "5eab1b04",
   "metadata": {
    "slideshow": {
     "slide_type": "slide"
    }
   },
   "source": [
    "<div class=\"alert alert-info\">\n",
    "В питоне функция всегда возвращает значение. \n",
    "Если возвращаемое значение не указано, по умолчанию возвращается None\n",
    "</div>"
   ]
  },
  {
   "cell_type": "markdown",
   "id": "84f072df",
   "metadata": {
    "slideshow": {
     "slide_type": "slide"
    }
   },
   "source": [
    "## Return\n",
    "    - вернуть значение - результат выполнения функции\n",
    "    - прервать работу функции"
   ]
  },
  {
   "cell_type": "code",
   "execution_count": null,
   "id": "f82e774b",
   "metadata": {
    "slideshow": {
     "slide_type": "slide"
    }
   },
   "outputs": [],
   "source": [
    "def compute_sum(a, b):\n",
    "    return a + b"
   ]
  },
  {
   "cell_type": "code",
   "execution_count": null,
   "id": "1453b771",
   "metadata": {},
   "outputs": [],
   "source": [
    "res = compute_sum(1, 2)\n",
    "res"
   ]
  },
  {
   "cell_type": "code",
   "execution_count": null,
   "id": "5aa9c1d5",
   "metadata": {},
   "outputs": [],
   "source": [
    "def count_divide(a, b):\n",
    "    if b == 0:\n",
    "        return\n",
    "    return a / b"
   ]
  },
  {
   "cell_type": "code",
   "execution_count": null,
   "id": "89ce600f",
   "metadata": {},
   "outputs": [],
   "source": [
    "count_divide(1, 2)"
   ]
  },
  {
   "cell_type": "code",
   "execution_count": null,
   "id": "97239e70",
   "metadata": {},
   "outputs": [],
   "source": [
    "res = count_divide(1, 0)\n",
    "print(res)"
   ]
  },
  {
   "cell_type": "markdown",
   "id": "705190db",
   "metadata": {
    "slideshow": {
     "slide_type": "slide"
    }
   },
   "source": [
    "### Параметры - аргументы функций"
   ]
  },
  {
   "cell_type": "code",
   "execution_count": null,
   "id": "4bb4a3bb",
   "metadata": {},
   "outputs": [],
   "source": [
    "def increment(number, by):\n",
    "    return number + by"
   ]
  },
  {
   "cell_type": "code",
   "execution_count": null,
   "id": "f9cdb610",
   "metadata": {},
   "outputs": [],
   "source": [
    "print(increment(2, by=1))      # используйте аргументы по имени для повышения читаемости кода"
   ]
  },
  {
   "cell_type": "markdown",
   "id": "c6e4485e",
   "metadata": {
    "slideshow": {
     "slide_type": "slide"
    }
   },
   "source": [
    "###  Параметры со значениями по умолчанию (опциональные)"
   ]
  },
  {
   "cell_type": "code",
   "execution_count": null,
   "id": "39862e11",
   "metadata": {},
   "outputs": [],
   "source": [
    "def increment(number, by=1):\n",
    "    return number + by\n",
    "\n",
    "increment(2)"
   ]
  },
  {
   "cell_type": "code",
   "execution_count": null,
   "id": "df413d95",
   "metadata": {},
   "outputs": [],
   "source": [
    "increment(2, 2)"
   ]
  },
  {
   "cell_type": "markdown",
   "id": "49e707a2",
   "metadata": {
    "slideshow": {
     "slide_type": "slide"
    }
   },
   "source": [
    "<div class=\"alert alert-info\">\n",
    "Важен порядок - аргументы со значениями по-умолчанию всегда в конце!\n",
    "</div>"
   ]
  },
  {
   "cell_type": "code",
   "execution_count": null,
   "id": "7b952f41",
   "metadata": {
    "slideshow": {
     "slide_type": "-"
    }
   },
   "outputs": [],
   "source": [
    "def increment(number, by=1):\n",
    "    return number + by\n",
    "\n",
    "increment(by=1, 2)"
   ]
  },
  {
   "cell_type": "markdown",
   "id": "1de50c70",
   "metadata": {
    "slideshow": {
     "slide_type": "slide"
    }
   },
   "source": [
    "### Произвольное число аргументов"
   ]
  },
  {
   "cell_type": "code",
   "execution_count": null,
   "id": "6bc1dbaa",
   "metadata": {},
   "outputs": [],
   "source": [
    "def multiply(x, y):\n",
    "    return x * y\n",
    "\n",
    "multiply(2, 3)"
   ]
  },
  {
   "cell_type": "code",
   "execution_count": null,
   "id": "45e0ee5f",
   "metadata": {},
   "outputs": [],
   "source": [
    "def multiply(*numbers):\n",
    "    print(numbers)\n",
    "\n",
    "multiply(2, 3, 4, 5)"
   ]
  },
  {
   "cell_type": "code",
   "execution_count": null,
   "id": "d11ac8a0",
   "metadata": {
    "slideshow": {
     "slide_type": "slide"
    }
   },
   "outputs": [],
   "source": [
    "def multiply(*numbers):\n",
    "    total = 1\n",
    "    for number in numbers:\n",
    "        total *= number\n",
    "    return total\n",
    "    \n",
    "multiply(2, 3, 4, 5)"
   ]
  },
  {
   "cell_type": "code",
   "execution_count": null,
   "id": "d0a34247",
   "metadata": {
    "slideshow": {
     "slide_type": "slide"
    }
   },
   "outputs": [],
   "source": [
    "def multiply(*args):   # типичное имя для произвольного числа позиционных параметров\n",
    "    total = 1\n",
    "    for number in args:\n",
    "        total *= number\n",
    "    return total\n",
    "    \n",
    "multiply(2, 3, 4, 5)"
   ]
  },
  {
   "cell_type": "markdown",
   "id": "a9ed5ca1",
   "metadata": {
    "slideshow": {
     "slide_type": "slide"
    }
   },
   "source": [
    "### Произвольное число именованных аргументов"
   ]
  },
  {
   "cell_type": "code",
   "execution_count": null,
   "id": "7ba1a7af",
   "metadata": {},
   "outputs": [],
   "source": [
    "def print_info(**kwargs):\n",
    "    print(kwargs)\n",
    "\n",
    "print_info(name=\"Vasya\", id=12321, city=\"Moscow\")"
   ]
  },
  {
   "cell_type": "code",
   "execution_count": null,
   "id": "c481389c",
   "metadata": {
    "slideshow": {
     "slide_type": "slide"
    }
   },
   "outputs": [],
   "source": [
    "def count_all(**kwargs):\n",
    "    res = \"\"\n",
    "    for k, v in kwargs.items():\n",
    "        res += f\"I have {v} {k}! \"\n",
    "    return res"
   ]
  },
  {
   "cell_type": "code",
   "execution_count": null,
   "id": "66e11298",
   "metadata": {},
   "outputs": [],
   "source": [
    "count_all(apples=1, bananas=2)"
   ]
  },
  {
   "cell_type": "code",
   "execution_count": null,
   "id": "f547a78f",
   "metadata": {},
   "outputs": [],
   "source": [
    "count_all(apples=1, bananas=2, mangos=3)"
   ]
  },
  {
   "cell_type": "markdown",
   "id": "487334e3",
   "metadata": {
    "slideshow": {
     "slide_type": "slide"
    }
   },
   "source": [
    "  ### Функции могут ...\n",
    "    - возвращать значение или возвращать по умолчанию None\n",
    "    - не принимать параметры на вход\n",
    "    - иметь параметры со значениями по умолчанию\n",
    "    - иметь произвольное число параметров"
   ]
  },
  {
   "cell_type": "markdown",
   "id": "30a9db85",
   "metadata": {
    "slideshow": {
     "slide_type": "slide"
    }
   },
   "source": [
    "### Область видимости переменных\n",
    "       - локальные - объявлены внутри области видимости *local scope* - тела функции\n",
    "       - глобальные - не локальные, то есть объявлены в  *global scope* программы"
   ]
  },
  {
   "cell_type": "code",
   "execution_count": null,
   "id": "d4c97bb0",
   "metadata": {
    "slideshow": {
     "slide_type": "slide"
    }
   },
   "outputs": [],
   "source": [
    "def print_value():\n",
    "    a = 1                # локальная переменная a\n",
    "    print(f\"local a={a}\")"
   ]
  },
  {
   "cell_type": "code",
   "execution_count": null,
   "id": "a8bfb585",
   "metadata": {},
   "outputs": [],
   "source": [
    "print_value()"
   ]
  },
  {
   "cell_type": "code",
   "execution_count": null,
   "id": "9322b750",
   "metadata": {},
   "outputs": [],
   "source": [
    "a = 100  # глобальные переменныые a, b\n",
    "print_value()\n",
    "print(f\"global a={a}\")"
   ]
  },
  {
   "cell_type": "code",
   "execution_count": null,
   "id": "3ba1463a",
   "metadata": {},
   "outputs": [],
   "source": [
    "a = 100"
   ]
  },
  {
   "cell_type": "code",
   "execution_count": null,
   "id": "03395bc8",
   "metadata": {},
   "outputs": [],
   "source": [
    "print_value()"
   ]
  },
  {
   "cell_type": "markdown",
   "id": "025ffbd8",
   "metadata": {
    "slideshow": {
     "slide_type": "notes"
    }
   },
   "source": [
    "<div class=\"alert alert-info\">\n",
    "Сначала переменная ищется в локальном скоупе, потом - в глобальном. При объявлении внутри тела функции создалась локальная переменная.\n",
    "</div>"
   ]
  },
  {
   "cell_type": "markdown",
   "id": "45047831",
   "metadata": {
    "slideshow": {
     "slide_type": "slide"
    }
   },
   "source": [
    "### Изменение объектов в локальном скоупе."
   ]
  },
  {
   "cell_type": "code",
   "execution_count": null,
   "id": "c030dac7",
   "metadata": {},
   "outputs": [],
   "source": [
    "def increment_value(a):\n",
    "    a = a + 1\n",
    "    return a\n",
    "\n",
    "a = 10\n",
    "print(increment_value(a))"
   ]
  },
  {
   "cell_type": "code",
   "execution_count": null,
   "id": "ea18f288",
   "metadata": {},
   "outputs": [],
   "source": [
    "a"
   ]
  },
  {
   "cell_type": "code",
   "execution_count": null,
   "id": "7e0bf97d",
   "metadata": {
    "slideshow": {
     "slide_type": "slide"
    }
   },
   "outputs": [],
   "source": [
    "def append_twice(a_list, val):\n",
    "    a_list.append(val)\n",
    "    a_list.append(val)"
   ]
  },
  {
   "cell_type": "code",
   "execution_count": null,
   "id": "fad3ae6d",
   "metadata": {},
   "outputs": [],
   "source": [
    "nums = list(range(5)) \n",
    "append_twice(nums, -1)\n",
    "nums"
   ]
  },
  {
   "cell_type": "code",
   "execution_count": null,
   "id": "b91b65f6",
   "metadata": {},
   "outputs": [],
   "source": [
    "def append_twice_bad(a_list, val):\n",
    "    a_list = a_list + [val, val]"
   ]
  },
  {
   "cell_type": "code",
   "execution_count": null,
   "id": "a783da4d",
   "metadata": {},
   "outputs": [],
   "source": [
    "nums = list(range(5)) \n",
    "append_twice_bad(nums, -1)\n",
    "nums"
   ]
  },
  {
   "cell_type": "markdown",
   "id": "f657d821",
   "metadata": {
    "slideshow": {
     "slide_type": "slide"
    }
   },
   "source": [
    "### Why?\n",
    "   - Аргументы функций - это присваивания.\n",
    "   - Объекты могут быть неизменяемые (numbers, bool, tuple) и изменяемые (list, dict, set) "
   ]
  },
  {
   "cell_type": "code",
   "execution_count": null,
   "id": "26aa0308",
   "metadata": {},
   "outputs": [],
   "source": [
    "def append_twice_good(a_list, val):\n",
    "    a_list = a_list + [val, val]\n",
    "    return a_list\n",
    "\n",
    "nums = list(range(5)) \n",
    "res = append_twice_good(nums, -1)\n",
    "res, nums"
   ]
  },
  {
   "cell_type": "markdown",
   "id": "b10e6301",
   "metadata": {
    "slideshow": {
     "slide_type": "slide"
    }
   },
   "source": [
    "## Mutable and immutable\n",
    "\n",
    "<div class=\"alert alert-info\">\n",
    "Имена ссылаются на значения.\n",
    "Присваивание - пусть это имя ссылается на это значение\n",
    "</div>"
   ]
  },
  {
   "cell_type": "code",
   "execution_count": null,
   "id": "f5b58aa5",
   "metadata": {
    "slideshow": {
     "slide_type": "-"
    }
   },
   "outputs": [],
   "source": [
    "x = 23 \n",
    "print(x, id(x))"
   ]
  },
  {
   "cell_type": "markdown",
   "id": "59878a15",
   "metadata": {},
   "source": [
    " <center>\n",
    "    <font> </font><br/>\n",
    "    <img src=\"images/1.png\" width=300 alt=\"unfunny meme again\">\n",
    "    <br/>\n",
    "    </center>"
   ]
  },
  {
   "cell_type": "markdown",
   "id": "5456edd9",
   "metadata": {
    "slideshow": {
     "slide_type": "slide"
    }
   },
   "source": [
    "#### Несколько имен может ссылаться на одно значение"
   ]
  },
  {
   "cell_type": "code",
   "execution_count": null,
   "id": "dcacecc8",
   "metadata": {
    "slideshow": {
     "slide_type": "-"
    }
   },
   "outputs": [],
   "source": [
    "x = 23\n",
    "y = x\n",
    "print(id(x), id(y))"
   ]
  },
  {
   "cell_type": "markdown",
   "id": "1ee859a7",
   "metadata": {},
   "source": [
    " <center>\n",
    "    <font> </font><br/>\n",
    "    <img src=\"images/1_5.png\" width=300 alt=\"unfunny meme again\">\n",
    "    <br/>\n",
    "    </center>"
   ]
  },
  {
   "cell_type": "markdown",
   "id": "13667f46",
   "metadata": {
    "slideshow": {
     "slide_type": "slide"
    }
   },
   "source": [
    "#### Имена переприсваиваются независимо"
   ]
  },
  {
   "cell_type": "code",
   "execution_count": null,
   "id": "7550001f",
   "metadata": {},
   "outputs": [],
   "source": [
    "x = 23\n",
    "y = x\n",
    "x = 12\n",
    "\n",
    "print(x, y)\n",
    "print(id(x), id(y))"
   ]
  },
  {
   "cell_type": "markdown",
   "id": "1b6ceb50",
   "metadata": {},
   "source": [
    " <center>\n",
    "    <font> </font><br/>\n",
    "    <img src=\"images/2.jpg\" width=300 alt=\"unfunny meme again\">\n",
    "    <br/>\n",
    "    </center>"
   ]
  },
  {
   "cell_type": "markdown",
   "id": "fc301cd0",
   "metadata": {
    "slideshow": {
     "slide_type": "slide"
    }
   },
   "source": [
    "#### Присваивание НЕ копирует данные"
   ]
  },
  {
   "cell_type": "code",
   "execution_count": null,
   "id": "205bfb52",
   "metadata": {},
   "outputs": [],
   "source": [
    "nums = [1, 2, 3]\n",
    "other = nums\n",
    "other"
   ]
  },
  {
   "cell_type": "code",
   "execution_count": null,
   "id": "3a62c1ff",
   "metadata": {},
   "outputs": [],
   "source": [
    "print(id(nums), id(other))"
   ]
  },
  {
   "cell_type": "markdown",
   "id": "735af522",
   "metadata": {},
   "source": [
    " <center>\n",
    "    <font> </font><br/>\n",
    "    <img src=\"images/3.png\" width=300 alt=\"unfunny meme again\">\n",
    "    <br/>\n",
    "    </center>"
   ]
  },
  {
   "cell_type": "markdown",
   "id": "7da0ea64",
   "metadata": {
    "slideshow": {
     "slide_type": "slide"
    }
   },
   "source": [
    "#### Изменения видны для всех имен (псевдонимов)"
   ]
  },
  {
   "cell_type": "code",
   "execution_count": null,
   "id": "df56d1be",
   "metadata": {},
   "outputs": [],
   "source": [
    "nums = [1, 2, 3]\n",
    "other = nums\n",
    "nums.append(4)\n",
    "other"
   ]
  },
  {
   "cell_type": "code",
   "execution_count": null,
   "id": "137c8824",
   "metadata": {},
   "outputs": [],
   "source": [
    "print(id(nums), id(other))"
   ]
  },
  {
   "cell_type": "markdown",
   "id": "d511116c",
   "metadata": {},
   "source": [
    " <center>\n",
    "    <font> </font><br/>\n",
    "    <img src=\"images/4.png\" width=300 alt=\"unfunny meme again\">\n",
    "    <br/>\n",
    "    </center>"
   ]
  },
  {
   "cell_type": "markdown",
   "id": "9bcf6226",
   "metadata": {},
   "source": [
    "<div class=\"alert alert-info\">\n",
    "Изменяемые переменные могут иметь несколько имен. Одно из имен меняется, меняется значение переменной, это видят другие имемна! \n",
    "</div>"
   ]
  },
  {
   "cell_type": "markdown",
   "id": "dc95997d",
   "metadata": {
    "slideshow": {
     "slide_type": "slide"
    }
   },
   "source": [
    "### Неизменяемые объекты не поддерживают изменения"
   ]
  },
  {
   "cell_type": "code",
   "execution_count": null,
   "id": "8dfc727f",
   "metadata": {},
   "outputs": [],
   "source": [
    "x = \"hello\"\n",
    "y = x \n",
    "y = x + \" there\""
   ]
  },
  {
   "cell_type": "code",
   "execution_count": null,
   "id": "1292bb18",
   "metadata": {},
   "outputs": [],
   "source": [
    "print(x)\n",
    "print(y)"
   ]
  },
  {
   "cell_type": "code",
   "execution_count": null,
   "id": "f413d436",
   "metadata": {},
   "outputs": [],
   "source": [
    "print(id(x), id(y))"
   ]
  },
  {
   "cell_type": "markdown",
   "id": "611170e3",
   "metadata": {},
   "source": [
    " <center>\n",
    "    <font> </font><br/>\n",
    "    <img src=\"images/5.png\" width=300 alt=\"unfunny meme again\">\n",
    "    <br/>\n",
    "    </center>"
   ]
  },
  {
   "cell_type": "markdown",
   "id": "4a37e1f2",
   "metadata": {
    "slideshow": {
     "slide_type": "slide"
    }
   },
   "source": [
    "### Таким образом, \"изменения\" значат разное для mutable и immutable"
   ]
  },
  {
   "cell_type": "code",
   "execution_count": null,
   "id": "febd4deb",
   "metadata": {},
   "outputs": [],
   "source": [
    "x = 1\n",
    "print(id(x))\n",
    "x = x + 1 # присваиваем новое значение \n",
    "print(id(x))"
   ]
  },
  {
   "cell_type": "code",
   "execution_count": null,
   "id": "a123c31e",
   "metadata": {},
   "outputs": [],
   "source": [
    "nums = list(range(4))\n",
    "print(id(nums))"
   ]
  },
  {
   "cell_type": "code",
   "execution_count": null,
   "id": "97a33864",
   "metadata": {},
   "outputs": [],
   "source": [
    "nums.append(7) # изменяем объект"
   ]
  },
  {
   "cell_type": "code",
   "execution_count": null,
   "id": "6534f65b",
   "metadata": {},
   "outputs": [],
   "source": [
    "print(id(nums))"
   ]
  },
  {
   "cell_type": "code",
   "execution_count": null,
   "id": "bb7ce042",
   "metadata": {
    "slideshow": {
     "slide_type": "slide"
    }
   },
   "outputs": [],
   "source": [
    "print(id(nums))"
   ]
  },
  {
   "cell_type": "code",
   "execution_count": null,
   "id": "712e673d",
   "metadata": {
    "slideshow": {
     "slide_type": "-"
    }
   },
   "outputs": [],
   "source": [
    "nums = nums + nums # присваиваем новое значение "
   ]
  },
  {
   "cell_type": "code",
   "execution_count": null,
   "id": "6f081b57",
   "metadata": {},
   "outputs": [],
   "source": [
    "print(id(nums))"
   ]
  },
  {
   "cell_type": "markdown",
   "id": "5c046893",
   "metadata": {
    "slideshow": {
     "slide_type": "slide"
    }
   },
   "source": [
    "### Аннотирование функций\n",
    "    - Питон - язык с динамической типизацией, то есть тип данных определяется во время выполнения\n",
    "    - Могут быть сделаны неверные предположения о работе функции\n",
    "    - Потенциальное поле для ошибок, которые можно избежать, указав тип через type-hints (используется mypy и IDE)\n",
    "    \n",
    "[Почитать подробнее](https://habr.com/ru/companies/lamoda/articles/432656/)"
   ]
  },
  {
   "cell_type": "code",
   "execution_count": null,
   "id": "9e13abad",
   "metadata": {},
   "outputs": [],
   "source": [
    "def compute_average(x: float, y: float) -> float:\n",
    "    mean = (x + y) / 2\n",
    "    return mean"
   ]
  },
  {
   "cell_type": "code",
   "execution_count": null,
   "id": "fe3297d4",
   "metadata": {},
   "outputs": [],
   "source": [
    "compute_average(2, 3)"
   ]
  },
  {
   "cell_type": "markdown",
   "id": "1e7763e0",
   "metadata": {
    "slideshow": {
     "slide_type": "slide"
    }
   },
   "source": [
    "### Документирование функций"
   ]
  },
  {
   "cell_type": "code",
   "execution_count": null,
   "id": "39bad336",
   "metadata": {},
   "outputs": [],
   "source": [
    "def compute_average(x: float, y: float) -> float:\n",
    "    \"\"\"\n",
    "    Computes average of two numbers\n",
    "    And another line just to make an example of multiline docstrings\n",
    "    \"\"\"\n",
    "    mean = (x + y) / 2\n",
    "    return mean"
   ]
  },
  {
   "cell_type": "code",
   "execution_count": null,
   "id": "92c6a177",
   "metadata": {},
   "outputs": [],
   "source": [
    "help(compute_average)"
   ]
  },
  {
   "cell_type": "markdown",
   "id": "06d2571d",
   "metadata": {},
   "source": [
    "<div class=\"alert alert-info\">\n",
    "<b>Полезное:</b> Используйте help для вывода документацию по использованию объекта\n",
    "</div>"
   ]
  },
  {
   "cell_type": "markdown",
   "id": "6f1d3239",
   "metadata": {
    "slideshow": {
     "slide_type": "slide"
    }
   },
   "source": [
    "### Lambda функции"
   ]
  },
  {
   "cell_type": "code",
   "execution_count": null,
   "id": "7300397b",
   "metadata": {},
   "outputs": [],
   "source": [
    "def compute_square(x):\n",
    "    return x ** 2"
   ]
  },
  {
   "cell_type": "code",
   "execution_count": null,
   "id": "1b857af3",
   "metadata": {},
   "outputs": [],
   "source": [
    "compute_square(3)"
   ]
  },
  {
   "cell_type": "code",
   "execution_count": null,
   "id": "d1e0ef87",
   "metadata": {},
   "outputs": [],
   "source": [
    "compute_square = lambda x: x ** 2 # не рекомендуется сохранять lambda в отдельную переменную"
   ]
  },
  {
   "cell_type": "markdown",
   "id": "3ae85126",
   "metadata": {},
   "source": [
    "<div class=\"alert alert-info\">\n",
    "<b>Полезное:</b> Используйте lambda функции в качестве аргумента других функций\n",
    "</div>"
   ]
  },
  {
   "cell_type": "markdown",
   "id": "40c8f9f0",
   "metadata": {
    "slideshow": {
     "slide_type": "slide"
    }
   },
   "source": [
    "### Lambda функции: примеры"
   ]
  },
  {
   "cell_type": "markdown",
   "id": "80543dc9",
   "metadata": {},
   "source": [
    "### filter()"
   ]
  },
  {
   "cell_type": "code",
   "execution_count": null,
   "id": "7aef8b0d",
   "metadata": {},
   "outputs": [],
   "source": [
    "my_list = list(range(10))\n",
    "new_list = list(filter(lambda x: (x%2 == 0), my_list))\n",
    "print(new_list)\n"
   ]
  },
  {
   "cell_type": "markdown",
   "id": "f5c9d8ee",
   "metadata": {
    "slideshow": {
     "slide_type": "slide"
    }
   },
   "source": [
    "### map()\n"
   ]
  },
  {
   "cell_type": "code",
   "execution_count": null,
   "id": "03ff546c",
   "metadata": {},
   "outputs": [],
   "source": [
    "my_list = list(range(10))\n",
    "new_list = list(map(lambda x: x*2, my_list))\n",
    "print(new_list)"
   ]
  },
  {
   "cell_type": "markdown",
   "id": "1ed6f765",
   "metadata": {
    "slideshow": {
     "slide_type": "slide"
    }
   },
   "source": [
    "### sorted()"
   ]
  },
  {
   "cell_type": "code",
   "execution_count": null,
   "id": "fd056a91",
   "metadata": {},
   "outputs": [],
   "source": [
    "help(sorted)"
   ]
  },
  {
   "cell_type": "code",
   "execution_count": null,
   "id": "bca23f19",
   "metadata": {},
   "outputs": [],
   "source": [
    "sorted(['привет', 'как', 'дела'], key=lambda x: x[0])"
   ]
  },
  {
   "cell_type": "markdown",
   "id": "5de4c0f9",
   "metadata": {
    "slideshow": {
     "slide_type": "slide"
    }
   },
   "source": [
    "### Инициализация дефолтных аргументов"
   ]
  },
  {
   "cell_type": "code",
   "execution_count": null,
   "id": "936837df",
   "metadata": {},
   "outputs": [],
   "source": [
    "def function(list_argument=[]):\n",
    "    list_argument.append(\"Hi!\")  \n",
    "    return list_argument"
   ]
  },
  {
   "cell_type": "code",
   "execution_count": null,
   "id": "2fc0656b",
   "metadata": {},
   "outputs": [],
   "source": [
    "a = []\n",
    "function(a)"
   ]
  },
  {
   "cell_type": "code",
   "execution_count": null,
   "id": "0fa34e94",
   "metadata": {},
   "outputs": [],
   "source": [
    "function(a)"
   ]
  },
  {
   "cell_type": "code",
   "execution_count": null,
   "id": "429a327c",
   "metadata": {},
   "outputs": [],
   "source": [
    "function(a)"
   ]
  },
  {
   "cell_type": "markdown",
   "id": "e7724052",
   "metadata": {},
   "source": [
    "<div class=\"alert alert-danger\">\n",
    "<b>Ошибка:</b> Не используйте изменяемые аргументы в качестве дефолтного значения аргумента функции.\n",
    "</div>"
   ]
  },
  {
   "cell_type": "markdown",
   "id": "3ff5f3d9",
   "metadata": {
    "slideshow": {
     "slide_type": "slide"
    }
   },
   "source": [
    "<div class=\"alert alert-info\">\n",
    "<b>Полезное:</b> Используйте None в качестве аргумента по умолчанию\n",
    "</div>"
   ]
  },
  {
   "cell_type": "code",
   "execution_count": null,
   "id": "f5d7d8d0",
   "metadata": {},
   "outputs": [],
   "source": [
    "def function(list_argument=None):\n",
    "    if list_argument is None:\n",
    "        list_argument = []\n",
    "    list_argument.append(\"Hi!\")  \n",
    "    return list_argument"
   ]
  },
  {
   "cell_type": "code",
   "execution_count": null,
   "id": "c242d00d",
   "metadata": {},
   "outputs": [],
   "source": [
    "function()"
   ]
  },
  {
   "cell_type": "markdown",
   "id": "a40cc3c6",
   "metadata": {
    "slideshow": {
     "slide_type": "slide"
    }
   },
   "source": [
    "## Summary\n",
    "    - функция должна делать одно логическое действие (пусть в множество шагов). Если ваша функция и жнец, и на дуде игрец, то скорее всего, нужно разбить ее на отдельные функции     \n",
    "    - давайте читаемые и говорящие названия функциям и аргументам. Тогда ваш код на питоне можно будет читать как текст.\n",
    "    - различайте локальные и глобальные переменные\n",
    "    - при возможности избегайте in-place изменений входных переменных\n",
    "    - используйте lambda функции в качестве аргумента в других функциях"
   ]
  }
 ],
 "metadata": {
  "celltoolbar": "Слайд-шоу",
  "kernelspec": {
   "display_name": "Python 3 (ipykernel)",
   "language": "python",
   "name": "python3"
  },
  "language_info": {
   "codemirror_mode": {
    "name": "ipython",
    "version": 3
   },
   "file_extension": ".py",
   "mimetype": "text/x-python",
   "name": "python",
   "nbconvert_exporter": "python",
   "pygments_lexer": "ipython3",
   "version": "3.10.9"
  }
 },
 "nbformat": 4,
 "nbformat_minor": 5
}
