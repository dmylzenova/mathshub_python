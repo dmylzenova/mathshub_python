{
 "cells": [
  {
   "cell_type": "markdown",
   "id": "53172362",
   "metadata": {
    "slideshow": {
     "slide_type": "slide"
    }
   },
   "source": [
    "<center>\n",
    "    <img src=\"https://i.ibb.co/gvswTct/logo.jpg\"  width=1000\">\n",
    "</center>\n",
    "                                                  "
   ]
  },
  {
   "cell_type": "markdown",
   "id": "01dc3b98",
   "metadata": {
    "slideshow": {
     "slide_type": "slide"
    }
   },
   "source": [
    "<center>\n",
    "    <br/>\n",
    "    <b style=\"font-size: 2em\">Функции в python</b><br/>\n",
    "    <br/>\n",
    "    <font>Python 2023</font><br/>\n",
    "    <br/>\n",
    "    <font>Дарима Мылзенова</font><br/>\n",
    "</center>"
   ]
  },
  {
   "cell_type": "markdown",
   "id": "ba8e4194",
   "metadata": {
    "slideshow": {
     "slide_type": "slide"
    }
   },
   "source": [
    "## План лекции\n",
    "* Еще раз о функциональном программировании\n",
    "* Локальные и глобальные переменные\n",
    "* Recap: Изменяемые и неизменяемые объекты\n",
    "* Разновидности аргументов\n",
    "* Документирование и аннотирование функций\n",
    "* Анонимные или lambda функции и примеры их использования\n",
    "* Ошибки при создании аргументов"
   ]
  },
  {
   "cell_type": "markdown",
   "id": "4343e9ad",
   "metadata": {
    "slideshow": {
     "slide_type": "slide"
    }
   },
   "source": [
    " ## Функциональное программирование\n",
    " <center>\n",
    "    <font> </font><br/>\n",
    "    <img src=\"https://positiwise.com/wp-content/uploads/2022/02/programming-paradigm.png\" alt=\"unfunny meme again\">\n",
    "    <br/>\n",
    "    </center>"
   ]
  },
  {
   "cell_type": "markdown",
   "id": "7cf90a2b",
   "metadata": {
    "slideshow": {
     "slide_type": "slide"
    }
   },
   "source": [
    "##  \n",
    "   - ### Функция это ... \n",
    "    - набор инструкций, объединенных для выполнения одной задачи\n",
    "   - ### Функции полезны для ...\n",
    "    - переиспользования кода вместо дублирования\n",
    "    - организации кода и разбиения его на логические блоки\n",
    "    - повышения читаемости кода для удобства разработки"
   ]
  },
  {
   "cell_type": "code",
   "execution_count": null,
   "id": "4a6a8a3f",
   "metadata": {
    "slideshow": {
     "slide_type": "slide"
    }
   },
   "outputs": [],
   "source": [
    "def do_something():             # def - ключевое слово для объявления функции\n",
    "    pass                         # ключевое слово-заглушка для обозначения \"ничего не делай\""
   ]
  },
  {
   "cell_type": "code",
   "execution_count": null,
   "id": "1deb72b4",
   "metadata": {},
   "outputs": [],
   "source": [
    "result = do_something()\n",
    "result"
   ]
  },
  {
   "cell_type": "code",
   "execution_count": null,
   "id": "e8b7c73a",
   "metadata": {},
   "outputs": [],
   "source": [
    "print(result)                     # В питоне функция всегда возвращает значение. \n",
    "                                  # Если возвращаемое значение не указано, по умолчанию возвращается None"
   ]
  },
  {
   "cell_type": "markdown",
   "id": "84f072df",
   "metadata": {
    "slideshow": {
     "slide_type": "slide"
    }
   },
   "source": [
    "## Return\n",
    "    - вернуть значение - результат выполнения функции\n",
    "    - прервать работу функции"
   ]
  },
  {
   "cell_type": "code",
   "execution_count": null,
   "id": "f82e774b",
   "metadata": {},
   "outputs": [],
   "source": [
    "def compute_sum(a, b):\n",
    "    return a + b"
   ]
  },
  {
   "cell_type": "code",
   "execution_count": null,
   "id": "1453b771",
   "metadata": {},
   "outputs": [],
   "source": [
    "res = compute_sum(1, 2)\n",
    "res"
   ]
  },
  {
   "cell_type": "code",
   "execution_count": null,
   "id": "5aa9c1d5",
   "metadata": {},
   "outputs": [],
   "source": [
    "def count_divide(a, b):\n",
    "    if b == 0:\n",
    "        return\n",
    "    return a / b"
   ]
  },
  {
   "cell_type": "code",
   "execution_count": null,
   "id": "89ce600f",
   "metadata": {},
   "outputs": [],
   "source": [
    "count_divide(1, 2)"
   ]
  },
  {
   "cell_type": "code",
   "execution_count": null,
   "id": "412835f7",
   "metadata": {},
   "outputs": [],
   "source": [
    "res"
   ]
  },
  {
   "cell_type": "code",
   "execution_count": null,
   "id": "97239e70",
   "metadata": {},
   "outputs": [],
   "source": [
    "res = count_divide(1, 0)\n",
    "print(res)"
   ]
  },
  {
   "cell_type": "markdown",
   "id": "30a9db85",
   "metadata": {
    "slideshow": {
     "slide_type": "slide"
    }
   },
   "source": [
    "### Область видимости переменных\n",
    "   - локальные - объявлены внутри области видимости *local scope* - тела функции\n",
    "   - глобальные - не локальные, то есть объявлены в  *global scope* программы"
   ]
  },
  {
   "cell_type": "code",
   "execution_count": 11,
   "id": "d4c97bb0",
   "metadata": {},
   "outputs": [],
   "source": [
    "def print_value():\n",
    "    a = 1                # локальная переменная a\n",
    "    print(f\"local a={a}\")"
   ]
  },
  {
   "cell_type": "code",
   "execution_count": 12,
   "id": "a8bfb585",
   "metadata": {},
   "outputs": [
    {
     "name": "stdout",
     "output_type": "stream",
     "text": [
      "local a=1\n"
     ]
    }
   ],
   "source": [
    "print_value()"
   ]
  },
  {
   "cell_type": "code",
   "execution_count": 8,
   "id": "9322b750",
   "metadata": {},
   "outputs": [
    {
     "name": "stdout",
     "output_type": "stream",
     "text": [
      "local a=1\n",
      "global a=100\n"
     ]
    }
   ],
   "source": [
    "a = 100  # глобальные переменныые a, b\n",
    "print_value()\n",
    "print(f\"global a={a}\")"
   ]
  },
  {
   "cell_type": "code",
   "execution_count": 14,
   "id": "3ba1463a",
   "metadata": {},
   "outputs": [],
   "source": [
    "a = 100"
   ]
  },
  {
   "cell_type": "code",
   "execution_count": 17,
   "id": "8ae68dc8",
   "metadata": {
    "slideshow": {
     "slide_type": "slide"
    }
   },
   "outputs": [],
   "source": [
    "def print_value():\n",
    "#     print(a)\n",
    "    a = 1\n",
    "    print(a)"
   ]
  },
  {
   "cell_type": "code",
   "execution_count": 19,
   "id": "03395bc8",
   "metadata": {},
   "outputs": [
    {
     "name": "stdout",
     "output_type": "stream",
     "text": [
      "1\n"
     ]
    }
   ],
   "source": [
    "print_value()"
   ]
  },
  {
   "cell_type": "markdown",
   "id": "025ffbd8",
   "metadata": {
    "slideshow": {
     "slide_type": "notes"
    }
   },
   "source": [
    "<div class=\"alert alert-info\">\n",
    "Сначала переменная ищется в локальном скоупе, потом - в глобальном. При объявлении внутри тела функции создалась локальная переменная.\n",
    "</div>"
   ]
  },
  {
   "cell_type": "markdown",
   "id": "45047831",
   "metadata": {
    "slideshow": {
     "slide_type": "slide"
    }
   },
   "source": [
    "### Изменение объектов в локальном скоупе."
   ]
  },
  {
   "cell_type": "code",
   "execution_count": 57,
   "id": "c030dac7",
   "metadata": {},
   "outputs": [],
   "source": [
    "def increment_value(a):\n",
    "    a = a + 1\n",
    "    return a"
   ]
  },
  {
   "cell_type": "code",
   "execution_count": 59,
   "id": "1c3e4984",
   "metadata": {},
   "outputs": [
    {
     "name": "stdout",
     "output_type": "stream",
     "text": [
      "11\n"
     ]
    },
    {
     "data": {
      "text/plain": [
       "10"
      ]
     },
     "execution_count": 59,
     "metadata": {},
     "output_type": "execute_result"
    }
   ],
   "source": [
    "a = 10\n",
    "print(increment_value(a))\n",
    "a"
   ]
  },
  {
   "cell_type": "code",
   "execution_count": 60,
   "id": "7e0bf97d",
   "metadata": {},
   "outputs": [],
   "source": [
    "def append_twice(a_list, val):\n",
    "    a_list.append(val)\n",
    "    a_list.append(val)"
   ]
  },
  {
   "cell_type": "code",
   "execution_count": 64,
   "id": "fad3ae6d",
   "metadata": {},
   "outputs": [
    {
     "data": {
      "text/plain": [
       "[0, 1, 2, 3, 4, -1, -1]"
      ]
     },
     "execution_count": 64,
     "metadata": {},
     "output_type": "execute_result"
    }
   ],
   "source": [
    "nums = list(range(5)) \n",
    "append_twice(nums, -1)\n",
    "nums"
   ]
  },
  {
   "cell_type": "code",
   "execution_count": 65,
   "id": "b91b65f6",
   "metadata": {},
   "outputs": [],
   "source": [
    "def append_twice_bad(a_list, val):\n",
    "    a_list = a_list + [val, val]"
   ]
  },
  {
   "cell_type": "code",
   "execution_count": 66,
   "id": "a783da4d",
   "metadata": {},
   "outputs": [
    {
     "data": {
      "text/plain": [
       "[0, 1, 2, 3, 4]"
      ]
     },
     "execution_count": 66,
     "metadata": {},
     "output_type": "execute_result"
    }
   ],
   "source": [
    "nums = list(range(5)) \n",
    "append_twice_bad(nums, -1)\n",
    "nums"
   ]
  },
  {
   "cell_type": "markdown",
   "id": "f657d821",
   "metadata": {
    "slideshow": {
     "slide_type": "slide"
    }
   },
   "source": [
    "### Why?\n",
    "   - Аргументы функций - это присваивания.\n",
    "   - Объекты могут быть неизменяемые (numbers, bool, tuple) и изменяемые (list, dict, set) "
   ]
  },
  {
   "cell_type": "code",
   "execution_count": 76,
   "id": "26aa0308",
   "metadata": {},
   "outputs": [
    {
     "data": {
      "text/plain": [
       "([0, 1, 2, 3, 4, -1, -1], [0, 1, 2, 3, 4])"
      ]
     },
     "execution_count": 76,
     "metadata": {},
     "output_type": "execute_result"
    }
   ],
   "source": [
    "def append_twice_good(a_list, val):\n",
    "    a_list = a_list + [val, val]\n",
    "    return a_list\n",
    "\n",
    "nums = list(range(5)) \n",
    "res = append_twice_good(nums, -1)\n",
    "res, nums"
   ]
  },
  {
   "cell_type": "code",
   "execution_count": null,
   "id": "a6cbd842",
   "metadata": {},
   "outputs": [],
   "source": []
  },
  {
   "cell_type": "code",
   "execution_count": null,
   "id": "34f0882a",
   "metadata": {},
   "outputs": [],
   "source": []
  },
  {
   "cell_type": "code",
   "execution_count": null,
   "id": "be6c16a3",
   "metadata": {},
   "outputs": [],
   "source": []
  },
  {
   "cell_type": "markdown",
   "id": "947a5cc5",
   "metadata": {
    "slideshow": {
     "slide_type": "slide"
    }
   },
   "source": [
    "## Mutable and immutable"
   ]
  },
  {
   "cell_type": "markdown",
   "id": "b10e6301",
   "metadata": {},
   "source": [
    "#### Имена ссылаются на значения\n",
    "Присваивание - пусть это имя ссылается на это значение"
   ]
  },
  {
   "cell_type": "code",
   "execution_count": 33,
   "id": "f5b58aa5",
   "metadata": {},
   "outputs": [
    {
     "name": "stdout",
     "output_type": "stream",
     "text": [
      "23\n"
     ]
    }
   ],
   "source": [
    "x = 23 \n",
    "print(x)"
   ]
  },
  {
   "cell_type": "code",
   "execution_count": 34,
   "id": "dd258acd",
   "metadata": {},
   "outputs": [
    {
     "data": {
      "text/plain": [
       "2433734869936"
      ]
     },
     "execution_count": 34,
     "metadata": {},
     "output_type": "execute_result"
    }
   ],
   "source": [
    "id(x)"
   ]
  },
  {
   "cell_type": "markdown",
   "id": "59878a15",
   "metadata": {},
   "source": [
    " <center>\n",
    "    <font> </font><br/>\n",
    "    <img src=\"images/1.png\" width=300 alt=\"unfunny meme again\">\n",
    "    <br/>\n",
    "    </center>"
   ]
  },
  {
   "cell_type": "markdown",
   "id": "5456edd9",
   "metadata": {
    "slideshow": {
     "slide_type": "slide"
    }
   },
   "source": [
    "#### Несколько имен может ссылаться на одно значение"
   ]
  },
  {
   "cell_type": "code",
   "execution_count": 35,
   "id": "dcacecc8",
   "metadata": {
    "slideshow": {
     "slide_type": "-"
    }
   },
   "outputs": [
    {
     "name": "stdout",
     "output_type": "stream",
     "text": [
      "2433734869936 2433734869936\n"
     ]
    }
   ],
   "source": [
    "x = 23\n",
    "y = x\n",
    "print(id(x), id(y))"
   ]
  },
  {
   "cell_type": "markdown",
   "id": "1ee859a7",
   "metadata": {},
   "source": [
    " <center>\n",
    "    <font> </font><br/>\n",
    "    <img src=\"images/1_5.png\" width=300 alt=\"unfunny meme again\">\n",
    "    <br/>\n",
    "    </center>"
   ]
  },
  {
   "cell_type": "markdown",
   "id": "13667f46",
   "metadata": {
    "slideshow": {
     "slide_type": "slide"
    }
   },
   "source": [
    "#### Имена переприсваиваются независимо"
   ]
  },
  {
   "cell_type": "code",
   "execution_count": 36,
   "id": "7550001f",
   "metadata": {},
   "outputs": [],
   "source": [
    "x = 23\n",
    "y = x\n",
    "x = 12"
   ]
  },
  {
   "cell_type": "code",
   "execution_count": 37,
   "id": "3ebaba12",
   "metadata": {},
   "outputs": [
    {
     "data": {
      "text/plain": [
       "(12, 23)"
      ]
     },
     "execution_count": 37,
     "metadata": {},
     "output_type": "execute_result"
    }
   ],
   "source": [
    "x, y"
   ]
  },
  {
   "cell_type": "code",
   "execution_count": 38,
   "id": "ba16218f",
   "metadata": {},
   "outputs": [
    {
     "name": "stdout",
     "output_type": "stream",
     "text": [
      "2433734869584 2433734869936\n"
     ]
    }
   ],
   "source": [
    "print(id(x), id(y))"
   ]
  },
  {
   "cell_type": "markdown",
   "id": "1b6ceb50",
   "metadata": {},
   "source": [
    " <center>\n",
    "    <font> </font><br/>\n",
    "    <img src=\"images/2.jpg\" width=300 alt=\"unfunny meme again\">\n",
    "    <br/>\n",
    "    </center>"
   ]
  },
  {
   "cell_type": "markdown",
   "id": "fc301cd0",
   "metadata": {
    "slideshow": {
     "slide_type": "slide"
    }
   },
   "source": [
    "#### Присваивание НЕ копирует данные"
   ]
  },
  {
   "cell_type": "code",
   "execution_count": 40,
   "id": "205bfb52",
   "metadata": {},
   "outputs": [
    {
     "data": {
      "text/plain": [
       "[1, 2, 3]"
      ]
     },
     "execution_count": 40,
     "metadata": {},
     "output_type": "execute_result"
    }
   ],
   "source": [
    "nums = [1, 2, 3]\n",
    "other = nums\n",
    "other"
   ]
  },
  {
   "cell_type": "code",
   "execution_count": 41,
   "id": "3a62c1ff",
   "metadata": {},
   "outputs": [
    {
     "name": "stdout",
     "output_type": "stream",
     "text": [
      "2433847318272 2433847318272\n"
     ]
    }
   ],
   "source": [
    "print(id(nums), id(other))"
   ]
  },
  {
   "cell_type": "markdown",
   "id": "735af522",
   "metadata": {},
   "source": [
    " <center>\n",
    "    <font> </font><br/>\n",
    "    <img src=\"images/3.png\" width=300 alt=\"unfunny meme again\">\n",
    "    <br/>\n",
    "    </center>"
   ]
  },
  {
   "cell_type": "markdown",
   "id": "7da0ea64",
   "metadata": {
    "slideshow": {
     "slide_type": "slide"
    }
   },
   "source": [
    "#### Изменения видны для всех имен (псевдонимов)"
   ]
  },
  {
   "cell_type": "code",
   "execution_count": 42,
   "id": "df56d1be",
   "metadata": {},
   "outputs": [
    {
     "data": {
      "text/plain": [
       "[1, 2, 3, 4]"
      ]
     },
     "execution_count": 42,
     "metadata": {},
     "output_type": "execute_result"
    }
   ],
   "source": [
    "nums = [1, 2, 3]\n",
    "other = nums\n",
    "nums.append(4)\n",
    "other"
   ]
  },
  {
   "cell_type": "code",
   "execution_count": 43,
   "id": "137c8824",
   "metadata": {},
   "outputs": [
    {
     "name": "stdout",
     "output_type": "stream",
     "text": [
      "2433817750848 2433817750848\n"
     ]
    }
   ],
   "source": [
    "print(id(nums), id(other))"
   ]
  },
  {
   "cell_type": "markdown",
   "id": "d511116c",
   "metadata": {},
   "source": [
    " <center>\n",
    "    <font> </font><br/>\n",
    "    <img src=\"images/4.png\" width=300 alt=\"unfunny meme again\">\n",
    "    <br/>\n",
    "    </center>"
   ]
  },
  {
   "cell_type": "markdown",
   "id": "9bcf6226",
   "metadata": {},
   "source": [
    "<div class=\"alert alert-info\">\n",
    "Изменяемые переменные могут иметь несколько имен. Одно из имен меняется, меняется значение переменной, это видят другие имемна! \n",
    "</div>"
   ]
  },
  {
   "cell_type": "markdown",
   "id": "dc95997d",
   "metadata": {
    "slideshow": {
     "slide_type": "slide"
    }
   },
   "source": [
    "### Неизменяемые объекты не поддерживают изменения"
   ]
  },
  {
   "cell_type": "code",
   "execution_count": 45,
   "id": "8dfc727f",
   "metadata": {},
   "outputs": [],
   "source": [
    "x = \"hello\"\n",
    "y = x \n",
    "y = x + \" there\""
   ]
  },
  {
   "cell_type": "code",
   "execution_count": 46,
   "id": "1292bb18",
   "metadata": {},
   "outputs": [
    {
     "name": "stdout",
     "output_type": "stream",
     "text": [
      "hello\n",
      "hello there\n"
     ]
    }
   ],
   "source": [
    "print(x)\n",
    "print(y)"
   ]
  },
  {
   "cell_type": "code",
   "execution_count": 47,
   "id": "f413d436",
   "metadata": {},
   "outputs": [
    {
     "name": "stdout",
     "output_type": "stream",
     "text": [
      "2433814718192 2433847430832\n"
     ]
    }
   ],
   "source": [
    "print(id(x), id(y))"
   ]
  },
  {
   "cell_type": "markdown",
   "id": "611170e3",
   "metadata": {},
   "source": [
    " <center>\n",
    "    <font> </font><br/>\n",
    "    <img src=\"images/5.png\" width=300 alt=\"unfunny meme again\">\n",
    "    <br/>\n",
    "    </center>"
   ]
  },
  {
   "cell_type": "markdown",
   "id": "4a37e1f2",
   "metadata": {
    "slideshow": {
     "slide_type": "slide"
    }
   },
   "source": [
    "### Таким образом, \"изменения\" значат разное для mutable и immutable"
   ]
  },
  {
   "cell_type": "code",
   "execution_count": 49,
   "id": "febd4deb",
   "metadata": {},
   "outputs": [
    {
     "name": "stdout",
     "output_type": "stream",
     "text": [
      "2433734869232\n",
      "2433734869264\n"
     ]
    }
   ],
   "source": [
    "x = 1\n",
    "print(id(x))\n",
    "x = x + 1 # присваиваем новое значение \n",
    "print(id(x))"
   ]
  },
  {
   "cell_type": "code",
   "execution_count": 51,
   "id": "a123c31e",
   "metadata": {},
   "outputs": [
    {
     "name": "stdout",
     "output_type": "stream",
     "text": [
      "2433839081280\n"
     ]
    }
   ],
   "source": [
    "nums = list(range(4))\n",
    "print(id(nums))"
   ]
  },
  {
   "cell_type": "code",
   "execution_count": 52,
   "id": "97a33864",
   "metadata": {},
   "outputs": [],
   "source": [
    "nums.append(7) # изменяем объект"
   ]
  },
  {
   "cell_type": "code",
   "execution_count": 53,
   "id": "6534f65b",
   "metadata": {},
   "outputs": [
    {
     "name": "stdout",
     "output_type": "stream",
     "text": [
      "2433839081280\n"
     ]
    }
   ],
   "source": [
    "print(id(nums))"
   ]
  },
  {
   "cell_type": "code",
   "execution_count": 56,
   "id": "bec5915e",
   "metadata": {},
   "outputs": [
    {
     "name": "stdout",
     "output_type": "stream",
     "text": [
      "2433847412416\n"
     ]
    }
   ],
   "source": [
    "print(id(nums))"
   ]
  },
  {
   "cell_type": "code",
   "execution_count": 54,
   "id": "712e673d",
   "metadata": {},
   "outputs": [],
   "source": [
    "nums = nums + nums # присваиваем новое значение "
   ]
  },
  {
   "cell_type": "markdown",
   "id": "395d3cae",
   "metadata": {
    "slideshow": {
     "slide_type": "slide"
    }
   },
   "source": [
    "  ### Функции могут ...\n",
    "    - не возвращать значение\n",
    "    - не принимать параметры на вход\n",
    "    - иметь параметры со значениями по умолчанию\n",
    "    - с произвольным числом параметров"
   ]
  },
  {
   "cell_type": "markdown",
   "id": "73cf325b",
   "metadata": {
    "slideshow": {
     "slide_type": "slide"
    }
   },
   "source": [
    "###  Параметры со значениями по умолчанию "
   ]
  },
  {
   "cell_type": "code",
   "execution_count": 78,
   "id": "64825ef4",
   "metadata": {},
   "outputs": [],
   "source": [
    "def welcome_city(city = \"Moscow\"):\n",
    "    res = f\"Hello, {city}!\"\n",
    "    return res"
   ]
  },
  {
   "cell_type": "code",
   "execution_count": 79,
   "id": "fef23d62",
   "metadata": {},
   "outputs": [
    {
     "data": {
      "text/plain": [
       "'Hello, Moscow!'"
      ]
     },
     "execution_count": 79,
     "metadata": {},
     "output_type": "execute_result"
    }
   ],
   "source": [
    "welcome_city()"
   ]
  },
  {
   "cell_type": "code",
   "execution_count": 80,
   "id": "f73fda93",
   "metadata": {},
   "outputs": [
    {
     "data": {
      "text/plain": [
       "'Hello, Paris!'"
      ]
     },
     "execution_count": 80,
     "metadata": {},
     "output_type": "execute_result"
    }
   ],
   "source": [
    "welcome_city(\"Paris\")"
   ]
  },
  {
   "cell_type": "code",
   "execution_count": 81,
   "id": "497a104b",
   "metadata": {},
   "outputs": [
    {
     "data": {
      "text/plain": [
       "'Hello, Paris!'"
      ]
     },
     "execution_count": 81,
     "metadata": {},
     "output_type": "execute_result"
    }
   ],
   "source": [
    "welcome_city(city=\"Paris\")"
   ]
  },
  {
   "cell_type": "code",
   "execution_count": 87,
   "id": "50e32057",
   "metadata": {},
   "outputs": [],
   "source": [
    "def welcome_two_cities(greeting, first_city = \"Moscow\", second_city = \"St. Petersburg\"):\n",
    "    res = f\"{greeting}, {first_city}, {second_city}!\"\n",
    "    return res"
   ]
  },
  {
   "cell_type": "code",
   "execution_count": 88,
   "id": "c21b0f68",
   "metadata": {},
   "outputs": [
    {
     "data": {
      "text/plain": [
       "'Hello, Moscow, St. Petersburg!'"
      ]
     },
     "execution_count": 88,
     "metadata": {},
     "output_type": "execute_result"
    }
   ],
   "source": [
    "welcome_two_cities()"
   ]
  },
  {
   "cell_type": "markdown",
   "id": "87a10599",
   "metadata": {
    "slideshow": {
     "slide_type": "slide"
    }
   },
   "source": [
    "### Произвольное число аргументов"
   ]
  },
  {
   "cell_type": "code",
   "execution_count": 108,
   "id": "9b1b835b",
   "metadata": {},
   "outputs": [],
   "source": [
    "def welcome_all(greeting, city1=\"Moscow\", *cities):\n",
    "    print('cities', cities)\n",
    "    res = f\"{greeting}\"\n",
    "    for city in cities:\n",
    "        res += f\", {city}\"\n",
    "    res += \"!\"\n",
    "    return res"
   ]
  },
  {
   "cell_type": "code",
   "execution_count": 110,
   "id": "1941cd8a",
   "metadata": {},
   "outputs": [
    {
     "name": "stdout",
     "output_type": "stream",
     "text": [
      "cities ()\n"
     ]
    },
    {
     "data": {
      "text/plain": [
       "'Hello!'"
      ]
     },
     "execution_count": 110,
     "metadata": {},
     "output_type": "execute_result"
    }
   ],
   "source": [
    "welcome_all(\"Hello\", \"Moscow\")"
   ]
  },
  {
   "cell_type": "code",
   "execution_count": 92,
   "id": "b636daa0",
   "metadata": {},
   "outputs": [
    {
     "data": {
      "text/plain": [
       "'Hello!'"
      ]
     },
     "execution_count": 92,
     "metadata": {},
     "output_type": "execute_result"
    }
   ],
   "source": [
    "welcome_all(\"Hello\")"
   ]
  },
  {
   "cell_type": "markdown",
   "id": "15082d82",
   "metadata": {
    "slideshow": {
     "slide_type": "slide"
    }
   },
   "source": [
    "### Произвольное число именнованных аргументов"
   ]
  },
  {
   "cell_type": "code",
   "execution_count": 97,
   "id": "c5eaf9ff",
   "metadata": {},
   "outputs": [],
   "source": [
    "def count_all(**kwargs):\n",
    "    res = \"\"\n",
    "    for k, v in kwargs.items():\n",
    "        res += f\"I have {v} {k}! \"\n",
    "    return res"
   ]
  },
  {
   "cell_type": "code",
   "execution_count": 98,
   "id": "75ffae71",
   "metadata": {},
   "outputs": [
    {
     "data": {
      "text/plain": [
       "'I have 1 apples! I have 2 bananas! '"
      ]
     },
     "execution_count": 98,
     "metadata": {},
     "output_type": "execute_result"
    }
   ],
   "source": [
    "count_all(apples=1, bananas=2)"
   ]
  },
  {
   "cell_type": "code",
   "execution_count": null,
   "id": "cdf34e48",
   "metadata": {},
   "outputs": [],
   "source": [
    "function(x, y, *args, **kwargs)"
   ]
  },
  {
   "cell_type": "code",
   "execution_count": 99,
   "id": "20146ce5",
   "metadata": {},
   "outputs": [
    {
     "data": {
      "text/plain": [
       "'I have 1 apples! I have 2 bananas! I have 3 mangos! '"
      ]
     },
     "execution_count": 99,
     "metadata": {},
     "output_type": "execute_result"
    }
   ],
   "source": [
    "count_all(apples=1, bananas=2, mangos=3)"
   ]
  },
  {
   "cell_type": "code",
   "execution_count": null,
   "id": "ac65e9f3",
   "metadata": {},
   "outputs": [],
   "source": []
  },
  {
   "cell_type": "markdown",
   "id": "8775a37b",
   "metadata": {
    "slideshow": {
     "slide_type": "slide"
    }
   },
   "source": [
    "### Документирование и аннотирование функций"
   ]
  },
  {
   "cell_type": "code",
   "execution_count": 107,
   "id": "9e13abad",
   "metadata": {},
   "outputs": [],
   "source": [
    "def compute_average(x: float, y: float) -> float:\n",
    "    \"\"\"\n",
    "    Computes average of two numbers\n",
    "    And another line just to make an example of multiline docstrings\n",
    "    \"\"\"\n",
    "    mean = (x + y) / 2\n",
    "    return mean"
   ]
  },
  {
   "cell_type": "code",
   "execution_count": 106,
   "id": "92c6a177",
   "metadata": {},
   "outputs": [
    {
     "name": "stdout",
     "output_type": "stream",
     "text": [
      "Help on function compute_average in module __main__:\n",
      "\n",
      "compute_average(x: float, y: float) -> float\n",
      "    Computes average of two numbers\n",
      "    And another line just to make an example of multiline docstrings\n",
      "\n"
     ]
    }
   ],
   "source": [
    "help(compute_average)"
   ]
  },
  {
   "cell_type": "markdown",
   "id": "06d2571d",
   "metadata": {},
   "source": [
    "<div class=\"alert alert-info\">\n",
    "<b>Полезное:</b> Используйте help для вывода документацию по использованию объекта\n",
    "</div>"
   ]
  },
  {
   "cell_type": "markdown",
   "id": "6f1d3239",
   "metadata": {
    "slideshow": {
     "slide_type": "slide"
    }
   },
   "source": [
    "### Lambda функции"
   ]
  },
  {
   "cell_type": "code",
   "execution_count": 113,
   "id": "7300397b",
   "metadata": {},
   "outputs": [],
   "source": [
    "def compute_square(x):\n",
    "    return x ** 2"
   ]
  },
  {
   "cell_type": "code",
   "execution_count": 114,
   "id": "1b857af3",
   "metadata": {},
   "outputs": [
    {
     "data": {
      "text/plain": [
       "9"
      ]
     },
     "execution_count": 114,
     "metadata": {},
     "output_type": "execute_result"
    }
   ],
   "source": [
    "compute_square(3)"
   ]
  },
  {
   "cell_type": "code",
   "execution_count": 115,
   "id": "d1e0ef87",
   "metadata": {},
   "outputs": [],
   "source": [
    "compute_square = lambda x: x ** 2 # не рекомендуется сохранять lambda в отдельную переменную"
   ]
  },
  {
   "cell_type": "markdown",
   "id": "3ae85126",
   "metadata": {},
   "source": [
    "<div class=\"alert alert-info\">\n",
    "<b>Полезное:</b> Используйте lambda функции в качестве аргумента других функций\n",
    "</div>"
   ]
  },
  {
   "cell_type": "markdown",
   "id": "40c8f9f0",
   "metadata": {
    "slideshow": {
     "slide_type": "slide"
    }
   },
   "source": [
    "### Lambda функции: примеры"
   ]
  },
  {
   "cell_type": "markdown",
   "id": "80543dc9",
   "metadata": {},
   "source": [
    "### filter()"
   ]
  },
  {
   "cell_type": "code",
   "execution_count": 117,
   "id": "7aef8b0d",
   "metadata": {},
   "outputs": [
    {
     "name": "stdout",
     "output_type": "stream",
     "text": [
      "[0, 2, 4, 6, 8]\n"
     ]
    }
   ],
   "source": [
    "my_list = list(range(10))\n",
    "new_list = list(filter(lambda x: (x%2 == 0), my_list))\n",
    "print(new_list)\n"
   ]
  },
  {
   "cell_type": "markdown",
   "id": "f5c9d8ee",
   "metadata": {
    "slideshow": {
     "slide_type": "slide"
    }
   },
   "source": [
    "### map()\n"
   ]
  },
  {
   "cell_type": "code",
   "execution_count": 118,
   "id": "03ff546c",
   "metadata": {},
   "outputs": [
    {
     "name": "stdout",
     "output_type": "stream",
     "text": [
      "[0, 2, 4, 6, 8, 10, 12, 14, 16, 18]\n"
     ]
    }
   ],
   "source": [
    "my_list = list(range(10))\n",
    "new_list = list(map(lambda x: x*2, my_list))\n",
    "print(new_list)"
   ]
  },
  {
   "cell_type": "markdown",
   "id": "1ed6f765",
   "metadata": {
    "slideshow": {
     "slide_type": "slide"
    }
   },
   "source": [
    "### sorted()"
   ]
  },
  {
   "cell_type": "code",
   "execution_count": 141,
   "id": "fd056a91",
   "metadata": {},
   "outputs": [
    {
     "name": "stdout",
     "output_type": "stream",
     "text": [
      "Help on built-in function sorted in module builtins:\n",
      "\n",
      "sorted(iterable, /, *, key=None, reverse=False)\n",
      "    Return a new list containing all items from the iterable in ascending order.\n",
      "    \n",
      "    A custom key function can be supplied to customize the sort order, and the\n",
      "    reverse flag can be set to request the result in descending order.\n",
      "\n"
     ]
    }
   ],
   "source": [
    "help(sorted)"
   ]
  },
  {
   "cell_type": "code",
   "execution_count": 144,
   "id": "bca23f19",
   "metadata": {},
   "outputs": [
    {
     "data": {
      "text/plain": [
       "['дела', 'как', 'привет']"
      ]
     },
     "execution_count": 144,
     "metadata": {},
     "output_type": "execute_result"
    }
   ],
   "source": [
    "sorted(['привет', 'как', 'дела'], key=lambda x: x[0])"
   ]
  },
  {
   "cell_type": "markdown",
   "id": "5de4c0f9",
   "metadata": {
    "slideshow": {
     "slide_type": "slide"
    }
   },
   "source": [
    "### Инициализация дефолтных аргументов"
   ]
  },
  {
   "cell_type": "code",
   "execution_count": 131,
   "id": "936837df",
   "metadata": {},
   "outputs": [],
   "source": [
    "def function(list_argument=[]):\n",
    "    list_argument.append(\"Hi!\")  \n",
    "    return list_argument"
   ]
  },
  {
   "cell_type": "code",
   "execution_count": 132,
   "id": "2fc0656b",
   "metadata": {},
   "outputs": [
    {
     "data": {
      "text/plain": [
       "['Hi!']"
      ]
     },
     "execution_count": 132,
     "metadata": {},
     "output_type": "execute_result"
    }
   ],
   "source": [
    "a = []\n",
    "function(a)"
   ]
  },
  {
   "cell_type": "code",
   "execution_count": 133,
   "id": "0fa34e94",
   "metadata": {},
   "outputs": [
    {
     "data": {
      "text/plain": [
       "['Hi!', 'Hi!']"
      ]
     },
     "execution_count": 133,
     "metadata": {},
     "output_type": "execute_result"
    }
   ],
   "source": [
    "function(a)"
   ]
  },
  {
   "cell_type": "code",
   "execution_count": 138,
   "id": "429a327c",
   "metadata": {},
   "outputs": [
    {
     "data": {
      "text/plain": [
       "['Hi!', 'Hi!', 'Hi!', 'Hi!', 'Hi!', 'Hi!', 'Hi!']"
      ]
     },
     "execution_count": 138,
     "metadata": {},
     "output_type": "execute_result"
    }
   ],
   "source": [
    "function(a)"
   ]
  },
  {
   "cell_type": "markdown",
   "id": "e7724052",
   "metadata": {},
   "source": [
    "<div class=\"alert alert-danger\">\n",
    "<b>Ошибка:</b> Не используйте изменяемые аргументы в качестве дефолтного значения аргумента функции.\n",
    "</div>"
   ]
  },
  {
   "cell_type": "markdown",
   "id": "3ff5f3d9",
   "metadata": {},
   "source": [
    "<div class=\"alert alert-info\">\n",
    "<b>Полезное:</b> Используйте None в качестве аргумента по умолчанию\n",
    "</div>"
   ]
  },
  {
   "cell_type": "code",
   "execution_count": 127,
   "id": "f5d7d8d0",
   "metadata": {},
   "outputs": [],
   "source": [
    "def function(list_argument=None):\n",
    "    if list_argument is None:\n",
    "        list_argument = []\n",
    "    list_argument.append(\"Hi!\")  \n",
    "    return list_argument"
   ]
  },
  {
   "cell_type": "code",
   "execution_count": 130,
   "id": "c242d00d",
   "metadata": {},
   "outputs": [
    {
     "data": {
      "text/plain": [
       "['Hi!']"
      ]
     },
     "execution_count": 130,
     "metadata": {},
     "output_type": "execute_result"
    }
   ],
   "source": [
    "function()"
   ]
  },
  {
   "cell_type": "markdown",
   "id": "a40cc3c6",
   "metadata": {
    "slideshow": {
     "slide_type": "slide"
    }
   },
   "source": [
    "## Summary\n",
    "- функция должна делать одно логическое действие (пусть в множество шагов). Если ваша функция и жнец, и на дуде игрец, то скорее всего, нужно разбить ее на отдельные функции     \n",
    "- давайте читаемые и говорящие названия функциям и аргументам. Тогда ваш код на питоне можно будет читать как текст.\n",
    "- различайте локальные и глобальные переменные\n",
    "- при возможности избегайте in-place изменений входных переменных\n",
    "- используйте lambda функции в качестве аргумента в других функциях"
   ]
  },
  {
   "cell_type": "code",
   "execution_count": null,
   "id": "8c616f52",
   "metadata": {},
   "outputs": [],
   "source": []
  }
 ],
 "metadata": {
  "celltoolbar": "Слайд-шоу",
  "kernelspec": {
   "display_name": "Python 3 (ipykernel)",
   "language": "python",
   "name": "python3"
  },
  "language_info": {
   "codemirror_mode": {
    "name": "ipython",
    "version": 3
   },
   "file_extension": ".py",
   "mimetype": "text/x-python",
   "name": "python",
   "nbconvert_exporter": "python",
   "pygments_lexer": "ipython3",
   "version": "3.10.9"
  }
 },
 "nbformat": 4,
 "nbformat_minor": 5
}
