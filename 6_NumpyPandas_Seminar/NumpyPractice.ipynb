{
 "cells": [
  {
   "cell_type": "code",
   "execution_count": 2,
   "id": "fa4b659d",
   "metadata": {},
   "outputs": [],
   "source": [
    "import numpy as np\n",
    "import math"
   ]
  },
  {
   "cell_type": "markdown",
   "id": "11e14a73",
   "metadata": {},
   "source": [
    "# Numpy"
   ]
  },
  {
   "cell_type": "markdown",
   "id": "31966052",
   "metadata": {},
   "source": [
    "## Теория"
   ]
  },
  {
   "cell_type": "markdown",
   "id": "7aa37154",
   "metadata": {},
   "source": [
    "# Создание массивов "
   ]
  },
  {
   "cell_type": "markdown",
   "id": "1dec3461",
   "metadata": {},
   "source": [
    "* Конвертация из Python structures\n",
    "* Генерация с помощью встроенных функций\n",
    "* Чтение с диска"
   ]
  },
  {
   "cell_type": "code",
   "execution_count": 6,
   "id": "72689371",
   "metadata": {},
   "outputs": [],
   "source": [
    "a = np.array([[1, 2, 3], [4, 5, 6]])\n",
    "b = np.array(((1, 2), (3, 4), (5, 6)))"
   ]
  },
  {
   "cell_type": "code",
   "execution_count": 7,
   "id": "2394689c",
   "metadata": {},
   "outputs": [
    {
     "data": {
      "text/plain": [
       "array([0, 1, 2, 3, 4, 5, 6, 7, 8, 9])"
      ]
     },
     "execution_count": 7,
     "metadata": {},
     "output_type": "execute_result"
    }
   ],
   "source": [
    "c = np.arange(10)\n",
    "c"
   ]
  },
  {
   "cell_type": "code",
   "execution_count": 145,
   "id": "d06ff0ab",
   "metadata": {},
   "outputs": [
    {
     "data": {
      "text/plain": [
       "(20,)"
      ]
     },
     "execution_count": 145,
     "metadata": {},
     "output_type": "execute_result"
    }
   ],
   "source": [
    "d = np.zeros(shape=(3, 4, 5)) # массив из нулей заданной размерности\n",
    "e = np.ones((5, 5))  # массив с единицами заданной размерности\n",
    "f = np.empty((4, 4)) # пустой массив со случайными элементами заданной размерности\n",
    "g = np.linspace(0, 1, 20) # массив значений равномерного разбиения отрезка 0, 1 на 20 значений\n",
    "g.shape"
   ]
  },
  {
   "cell_type": "markdown",
   "id": "3242d18d",
   "metadata": {},
   "source": [
    "# Размерность и изменение размерности"
   ]
  },
  {
   "cell_type": "code",
   "execution_count": 141,
   "id": "c2f66a6f",
   "metadata": {},
   "outputs": [
    {
     "data": {
      "text/plain": [
       "(4, 4)"
      ]
     },
     "execution_count": 141,
     "metadata": {},
     "output_type": "execute_result"
    }
   ],
   "source": [
    "f.shape"
   ]
  },
  {
   "cell_type": "code",
   "execution_count": 143,
   "id": "0ebc0648",
   "metadata": {},
   "outputs": [
    {
     "data": {
      "text/plain": [
       "(2, 8)"
      ]
     },
     "execution_count": 143,
     "metadata": {},
     "output_type": "execute_result"
    }
   ],
   "source": [
    "f = f.reshape((2, -1)) # изменение размерности \n",
    "f.shape"
   ]
  },
  {
   "cell_type": "code",
   "execution_count": 144,
   "id": "d369930b",
   "metadata": {},
   "outputs": [
    {
     "data": {
      "text/plain": [
       "(16,)"
      ]
     },
     "execution_count": 144,
     "metadata": {},
     "output_type": "execute_result"
    }
   ],
   "source": [
    "f = f.reshape(-1) # превратить в 1-мерный вектор\n",
    "f.shape"
   ]
  },
  {
   "cell_type": "code",
   "execution_count": 150,
   "id": "a11b00a4",
   "metadata": {},
   "outputs": [
    {
     "data": {
      "text/plain": [
       "(16,)"
      ]
     },
     "execution_count": 150,
     "metadata": {},
     "output_type": "execute_result"
    }
   ],
   "source": [
    "f = f.flatten() # превратить в 1-мерный вектор\n",
    "f.shape"
   ]
  },
  {
   "cell_type": "code",
   "execution_count": 152,
   "id": "d7ff3deb",
   "metadata": {},
   "outputs": [
    {
     "data": {
      "text/plain": [
       "(1, 1, 16)"
      ]
     },
     "execution_count": 152,
     "metadata": {},
     "output_type": "execute_result"
    }
   ],
   "source": [
    "f.reshape((2, -1)) # -1 подставит оставшуюся размерность автоматически\n",
    "f.reshape((1, 1, -1)).shape # можно добавить \"фиктивную\" размерность "
   ]
  },
  {
   "cell_type": "markdown",
   "id": "e1f1d664",
   "metadata": {},
   "source": [
    "## Индексация "
   ]
  },
  {
   "cell_type": "code",
   "execution_count": 31,
   "id": "0470e9c1",
   "metadata": {},
   "outputs": [
    {
     "data": {
      "text/plain": [
       "array([[[ 0,  1,  2,  3,  4],\n",
       "        [ 5,  6,  7,  8,  9],\n",
       "        [10, 11, 12, 13, 14]],\n",
       "\n",
       "       [[15, 16, 17, 18, 19],\n",
       "        [20, 21, 22, 23, 24],\n",
       "        [25, 26, 27, 28, 29]]])"
      ]
     },
     "execution_count": 31,
     "metadata": {},
     "output_type": "execute_result"
    }
   ],
   "source": [
    "a = np.arange(30).reshape((2, 3, 5))\n",
    "a"
   ]
  },
  {
   "cell_type": "code",
   "execution_count": 46,
   "id": "afaac9b5",
   "metadata": {},
   "outputs": [
    {
     "name": "stdout",
     "output_type": "stream",
     "text": [
      "[[ 0  1  2  3  4]\n",
      " [ 5  6  7  8  9]\n",
      " [10 11 12 13 14]]\n",
      "\n",
      "[10 11 12 13 14]\n",
      "\n",
      "[ 0  5 10]\n"
     ]
    }
   ],
   "source": [
    "print(a[0, :, :]) # 0-ая матрица\n",
    "print()\n",
    "print(a[0, 2, :]) # 2 строка \"нулевой\" матрицы\n",
    "print()\n",
    "print(a[0, :, 0]) # 0-ой столбец \"первой\" матрицы"
   ]
  },
  {
   "cell_type": "code",
   "execution_count": 49,
   "id": "f6f52c4a",
   "metadata": {},
   "outputs": [
    {
     "data": {
      "text/plain": [
       "array([1, 3])"
      ]
     },
     "execution_count": 49,
     "metadata": {},
     "output_type": "execute_result"
    }
   ],
   "source": [
    "a[0, 0, 1::2]  # 0 строка \"нулевой\" матрицы срез с 1-ого элемента c шагом 2"
   ]
  },
  {
   "cell_type": "code",
   "execution_count": 55,
   "id": "04e4f205",
   "metadata": {},
   "outputs": [
    {
     "data": {
      "text/plain": [
       "array([[[ 0, 31,  2, 33,  4],\n",
       "        [ 5,  6,  7,  8,  9],\n",
       "        [10, 11, 12, 13, 14]],\n",
       "\n",
       "       [[15, 16, 17, 18, 19],\n",
       "        [20, 21, 22, 23, 24],\n",
       "        [25, 26, 27, 28, 29]]])"
      ]
     },
     "execution_count": 55,
     "metadata": {},
     "output_type": "execute_result"
    }
   ],
   "source": [
    "a[0, 0, 1::2] += 10 # срез - это только вид (view) и его изменение приводит к изменению массива\n",
    "a"
   ]
  },
  {
   "cell_type": "code",
   "execution_count": 54,
   "id": "0e729b1d",
   "metadata": {},
   "outputs": [
    {
     "data": {
      "text/plain": [
       "(array([[[ 0, 21,  2, 23,  4],\n",
       "         [ 5,  6,  7,  8,  9],\n",
       "         [10, 11, 12, 13, 14]],\n",
       " \n",
       "        [[15, 16, 17, 18, 19],\n",
       "         [20, 21, 22, 23, 24],\n",
       "         [25, 26, 27, 28, 29]]]),\n",
       " array([11, 13]))"
      ]
     },
     "execution_count": 54,
     "metadata": {},
     "output_type": "execute_result"
    }
   ],
   "source": [
    "b = a[0, 0, 1::2].copy() # создать копию подмассива и работать с ней \n",
    "b -= 10\n",
    "a, b"
   ]
  },
  {
   "cell_type": "markdown",
   "id": "03b04080",
   "metadata": {},
   "source": [
    " ## Практика 1."
   ]
  },
  {
   "cell_type": "markdown",
   "id": "af357dd4",
   "metadata": {},
   "source": [
    "1. Создайте массив чисел от 0 до 19 и создайте из него матрицу размерности (4, 5)"
   ]
  },
  {
   "cell_type": "code",
   "execution_count": null,
   "id": "7a615e54",
   "metadata": {},
   "outputs": [],
   "source": []
  },
  {
   "cell_type": "markdown",
   "id": "0d2528dd",
   "metadata": {},
   "source": [
    "2. Выберите срез массива из предыдущего пункта с нечетными столбцами и четными строками. Увеличьте значения элементов среза на 1, не меняя исходный массив."
   ]
  },
  {
   "cell_type": "code",
   "execution_count": null,
   "id": "4df0dffb",
   "metadata": {},
   "outputs": [],
   "source": []
  },
  {
   "cell_type": "markdown",
   "id": "0397b69f",
   "metadata": {},
   "source": [
    "3. Создайте матрицу:"
   ]
  },
  {
   "cell_type": "markdown",
   "id": "cf354972",
   "metadata": {},
   "source": [
    "```array([[ -1.,   0.,  -1.,   0.,  -1.,   0.,  -1.],\n",
    "       [  0., 777.,   0., 777.,   0., 777.,   0.],\n",
    "       [ -1.,   0.,  -1.,   0.,  -1.,   0.,  -1.],\n",
    "       [  0., 777.,   0., 777.,   0., 777.,   0.],\n",
    "       [ -1.,   0.,  -1.,   0.,  -1.,   0.,  -1.],\n",
    "       [  0., 777.,   0., 777.,   0., 777.,   0.],\n",
    "       [ -1.,   0.,  -1.,   0.,  -1.,   0.,  -1.]])\n",
    "```\n"
   ]
  },
  {
   "cell_type": "code",
   "execution_count": null,
   "id": "f632c41d",
   "metadata": {},
   "outputs": [],
   "source": []
  },
  {
   "cell_type": "markdown",
   "id": "dd1dcb99",
   "metadata": {},
   "source": [
    "## Практика 2"
   ]
  },
  {
   "cell_type": "markdown",
   "id": "d2d0562f",
   "metadata": {},
   "source": [
    "### 1. Подсчет расстояния между векторами (одномерными массивами)."
   ]
  },
  {
   "cell_type": "code",
   "execution_count": 79,
   "id": "32759338",
   "metadata": {},
   "outputs": [],
   "source": [
    "x = np.random.uniform(0, 1, (128))\n",
    "y = np.random.uniform(0, 1, (128))"
   ]
  },
  {
   "cell_type": "code",
   "execution_count": 80,
   "id": "f4dd499f",
   "metadata": {},
   "outputs": [],
   "source": [
    "def compute_dictance(x, y):\n",
    "    res = []\n",
    "    for (x_i, y_i) in zip(x, y):\n",
    "        res.append((x_i - y_i) ** 2)\n",
    "    return math.sqrt(sum(res))"
   ]
  },
  {
   "cell_type": "code",
   "execution_count": 81,
   "id": "939a6584",
   "metadata": {},
   "outputs": [
    {
     "data": {
      "text/plain": [
       "4.272934640678457"
      ]
     },
     "execution_count": 81,
     "metadata": {},
     "output_type": "execute_result"
    }
   ],
   "source": [
    "np.sqrt(((x - y) ** 2).sum())"
   ]
  },
  {
   "cell_type": "code",
   "execution_count": 82,
   "id": "9d24a783",
   "metadata": {},
   "outputs": [
    {
     "data": {
      "text/plain": [
       "False"
      ]
     },
     "execution_count": 82,
     "metadata": {},
     "output_type": "execute_result"
    }
   ],
   "source": [
    "np.sqrt(((x - y) ** 2).sum()) == compute_dictance(x, y)"
   ]
  },
  {
   "cell_type": "code",
   "execution_count": 83,
   "id": "8e6a8917",
   "metadata": {},
   "outputs": [
    {
     "data": {
      "text/plain": [
       "True"
      ]
     },
     "execution_count": 83,
     "metadata": {},
     "output_type": "execute_result"
    }
   ],
   "source": [
    "np.isclose(compute_dictance(x, y), np.sqrt(((x - y) ** 2).sum()))"
   ]
  },
  {
   "cell_type": "code",
   "execution_count": 84,
   "id": "32b51796",
   "metadata": {},
   "outputs": [
    {
     "data": {
      "text/plain": [
       "4.272934640678457"
      ]
     },
     "execution_count": 84,
     "metadata": {},
     "output_type": "execute_result"
    }
   ],
   "source": [
    "np.linalg.norm((x - y))"
   ]
  },
  {
   "cell_type": "code",
   "execution_count": 85,
   "id": "fd4982f5",
   "metadata": {},
   "outputs": [
    {
     "data": {
      "text/plain": [
       "True"
      ]
     },
     "execution_count": 85,
     "metadata": {},
     "output_type": "execute_result"
    }
   ],
   "source": [
    "np.isclose(np.linalg.norm((x - y)), np.sqrt(((x - y) ** 2).sum()))"
   ]
  },
  {
   "cell_type": "markdown",
   "id": "fc9686a3",
   "metadata": {},
   "source": [
    "### 2. Broadcasting - сложение матрицы и вектора"
   ]
  },
  {
   "cell_type": "code",
   "execution_count": 86,
   "id": "c104d7aa",
   "metadata": {},
   "outputs": [],
   "source": [
    "A = np.zeros((10, 5))\n",
    "b = np.random.uniform(size=5)"
   ]
  },
  {
   "cell_type": "code",
   "execution_count": 87,
   "id": "c95a94dd",
   "metadata": {},
   "outputs": [
    {
     "data": {
      "text/plain": [
       "((10, 5), (5,))"
      ]
     },
     "execution_count": 87,
     "metadata": {},
     "output_type": "execute_result"
    }
   ],
   "source": [
    "A.shape, b.shape"
   ]
  },
  {
   "cell_type": "code",
   "execution_count": 88,
   "id": "963b7604",
   "metadata": {},
   "outputs": [
    {
     "data": {
      "text/plain": [
       "array([[0., 0., 0., 0., 0.],\n",
       "       [0., 0., 0., 0., 0.],\n",
       "       [0., 0., 0., 0., 0.],\n",
       "       [0., 0., 0., 0., 0.],\n",
       "       [0., 0., 0., 0., 0.],\n",
       "       [0., 0., 0., 0., 0.],\n",
       "       [0., 0., 0., 0., 0.],\n",
       "       [0., 0., 0., 0., 0.],\n",
       "       [0., 0., 0., 0., 0.],\n",
       "       [0., 0., 0., 0., 0.]])"
      ]
     },
     "execution_count": 88,
     "metadata": {},
     "output_type": "execute_result"
    }
   ],
   "source": [
    "A"
   ]
  },
  {
   "cell_type": "code",
   "execution_count": 89,
   "id": "97046e77",
   "metadata": {},
   "outputs": [
    {
     "data": {
      "text/plain": [
       "array([0.03732272, 0.30885064, 0.50313259, 0.09761   , 0.0757133 ])"
      ]
     },
     "execution_count": 89,
     "metadata": {},
     "output_type": "execute_result"
    }
   ],
   "source": [
    "b"
   ]
  },
  {
   "cell_type": "code",
   "execution_count": 90,
   "id": "1f3501e8",
   "metadata": {},
   "outputs": [
    {
     "data": {
      "text/plain": [
       "array([[0.03732272, 0.30885064, 0.50313259, 0.09761   , 0.0757133 ],\n",
       "       [0.03732272, 0.30885064, 0.50313259, 0.09761   , 0.0757133 ],\n",
       "       [0.03732272, 0.30885064, 0.50313259, 0.09761   , 0.0757133 ],\n",
       "       [0.03732272, 0.30885064, 0.50313259, 0.09761   , 0.0757133 ],\n",
       "       [0.03732272, 0.30885064, 0.50313259, 0.09761   , 0.0757133 ],\n",
       "       [0.03732272, 0.30885064, 0.50313259, 0.09761   , 0.0757133 ],\n",
       "       [0.03732272, 0.30885064, 0.50313259, 0.09761   , 0.0757133 ],\n",
       "       [0.03732272, 0.30885064, 0.50313259, 0.09761   , 0.0757133 ],\n",
       "       [0.03732272, 0.30885064, 0.50313259, 0.09761   , 0.0757133 ],\n",
       "       [0.03732272, 0.30885064, 0.50313259, 0.09761   , 0.0757133 ]])"
      ]
     },
     "execution_count": 90,
     "metadata": {},
     "output_type": "execute_result"
    }
   ],
   "source": [
    "A + b "
   ]
  },
  {
   "cell_type": "markdown",
   "id": "54668d26",
   "metadata": {},
   "source": [
    "Как прибавить вектор к каждому столбцу?"
   ]
  },
  {
   "cell_type": "code",
   "execution_count": 91,
   "id": "0fb7b9b4",
   "metadata": {},
   "outputs": [],
   "source": [
    "b2 = np.random.uniform(size=10)"
   ]
  },
  {
   "cell_type": "code",
   "execution_count": 93,
   "id": "223b6f6d",
   "metadata": {},
   "outputs": [
    {
     "ename": "ValueError",
     "evalue": "operands could not be broadcast together with shapes (10,5) (10,) ",
     "output_type": "error",
     "traceback": [
      "\u001b[1;31m---------------------------------------------------------------------------\u001b[0m",
      "\u001b[1;31mValueError\u001b[0m                                Traceback (most recent call last)",
      "Cell \u001b[1;32mIn[93], line 1\u001b[0m\n\u001b[1;32m----> 1\u001b[0m \u001b[43mA\u001b[49m\u001b[43m \u001b[49m\u001b[38;5;241;43m+\u001b[39;49m\u001b[43m \u001b[49m\u001b[43mb2\u001b[49m\n",
      "\u001b[1;31mValueError\u001b[0m: operands could not be broadcast together with shapes (10,5) (10,) "
     ]
    }
   ],
   "source": [
    "A + b2 # исправьте ошибку в коде "
   ]
  },
  {
   "cell_type": "code",
   "execution_count": null,
   "id": "c6728385",
   "metadata": {},
   "outputs": [],
   "source": []
  },
  {
   "cell_type": "markdown",
   "id": "33d7a7ca",
   "metadata": {},
   "source": [
    "### 3. Умножение вектора на матрицу (матричное умножение).\n",
    "\n",
    "<img src=\"https://www.walletfox.com/course/qtconcurrentmatrixvectorSource/matvec1_img.png\">"
   ]
  },
  {
   "cell_type": "code",
   "execution_count": 94,
   "id": "65931b02",
   "metadata": {},
   "outputs": [],
   "source": [
    "x = np.random.random(size=(5))\n",
    "A = np.random.random(size=(7, 5))\n",
    "ax = np.dot(A, x)"
   ]
  },
  {
   "cell_type": "code",
   "execution_count": 95,
   "id": "4b34fe09",
   "metadata": {},
   "outputs": [
    {
     "data": {
      "text/plain": [
       "(7,)"
      ]
     },
     "execution_count": 95,
     "metadata": {},
     "output_type": "execute_result"
    }
   ],
   "source": [
    "ax.shape"
   ]
  },
  {
   "cell_type": "code",
   "execution_count": 96,
   "id": "5fa5c496",
   "metadata": {},
   "outputs": [],
   "source": [
    "b = np.random.random(size=(7))\n",
    "y = np.dot(A, x) + b"
   ]
  },
  {
   "cell_type": "code",
   "execution_count": 100,
   "id": "e57343c4",
   "metadata": {},
   "outputs": [
    {
     "ename": "ValueError",
     "evalue": "shapes (7,5) and (7,) not aligned: 5 (dim 1) != 7 (dim 0)",
     "output_type": "error",
     "traceback": [
      "\u001b[1;31m---------------------------------------------------------------------------\u001b[0m",
      "\u001b[1;31mValueError\u001b[0m                                Traceback (most recent call last)",
      "Cell \u001b[1;32mIn[100], line 2\u001b[0m\n\u001b[0;32m      1\u001b[0m x2 \u001b[38;5;241m=\u001b[39m np\u001b[38;5;241m.\u001b[39mrandom\u001b[38;5;241m.\u001b[39mrandom(size\u001b[38;5;241m=\u001b[39m(\u001b[38;5;241m7\u001b[39m))\n\u001b[1;32m----> 2\u001b[0m y2 \u001b[38;5;241m=\u001b[39m \u001b[43mnp\u001b[49m\u001b[38;5;241;43m.\u001b[39;49m\u001b[43mdot\u001b[49m\u001b[43m(\u001b[49m\u001b[43mA\u001b[49m\u001b[43m,\u001b[49m\u001b[43m \u001b[49m\u001b[43mx2\u001b[49m\u001b[43m)\u001b[49m\n",
      "File \u001b[1;32m<__array_function__ internals>:200\u001b[0m, in \u001b[0;36mdot\u001b[1;34m(*args, **kwargs)\u001b[0m\n",
      "\u001b[1;31mValueError\u001b[0m: shapes (7,5) and (7,) not aligned: 5 (dim 1) != 7 (dim 0)"
     ]
    }
   ],
   "source": [
    "x2 = np.random.random(size=(7))\n",
    "y2 = np.dot(A, x2) # исправьте ошибку в коде так, чтобы можно было посчитать произведение A и х2"
   ]
  },
  {
   "cell_type": "code",
   "execution_count": null,
   "id": "9b02e450",
   "metadata": {},
   "outputs": [],
   "source": []
  },
  {
   "cell_type": "markdown",
   "id": "b3530ffa",
   "metadata": {},
   "source": [
    "### 4. Stacking нескольких массивов в один массив (batch)"
   ]
  },
  {
   "cell_type": "code",
   "execution_count": 101,
   "id": "1fefd11f",
   "metadata": {},
   "outputs": [
    {
     "data": {
      "text/plain": [
       "(10, 10)"
      ]
     },
     "execution_count": 101,
     "metadata": {},
     "output_type": "execute_result"
    }
   ],
   "source": [
    "a = np.random.random((10, 10))\n",
    "a.shape"
   ]
  },
  {
   "cell_type": "code",
   "execution_count": 102,
   "id": "e3c1a1a1",
   "metadata": {},
   "outputs": [
    {
     "data": {
      "text/plain": [
       "list"
      ]
     },
     "execution_count": 102,
     "metadata": {},
     "output_type": "execute_result"
    }
   ],
   "source": [
    "list_of_arrays = [np.random.random((10, 10)) for i in range(5)] \n",
    "type(list_of_arrays)"
   ]
  },
  {
   "cell_type": "code",
   "execution_count": 103,
   "id": "142ebf0b",
   "metadata": {},
   "outputs": [
    {
     "data": {
      "text/plain": [
       "(50, 10)"
      ]
     },
     "execution_count": 103,
     "metadata": {},
     "output_type": "execute_result"
    }
   ],
   "source": [
    "np.vstack(list_of_arrays).shape"
   ]
  },
  {
   "cell_type": "code",
   "execution_count": 104,
   "id": "04ecc491",
   "metadata": {},
   "outputs": [
    {
     "data": {
      "text/plain": [
       "(10, 50)"
      ]
     },
     "execution_count": 104,
     "metadata": {},
     "output_type": "execute_result"
    }
   ],
   "source": [
    "np.hstack(list_of_arrays).shape"
   ]
  },
  {
   "cell_type": "code",
   "execution_count": 106,
   "id": "743dffaa",
   "metadata": {},
   "outputs": [
    {
     "data": {
      "text/plain": [
       "(5, 10, 10)"
      ]
     },
     "execution_count": 106,
     "metadata": {},
     "output_type": "execute_result"
    }
   ],
   "source": [
    "np.stack(list_of_arrays).shape"
   ]
  },
  {
   "cell_type": "markdown",
   "id": "84e8c8e0",
   "metadata": {},
   "source": [
    "### 5. Stacking нескольких массивов в один массив (разные размерности) (со звездочкой)\n",
    "в этом случае есть два способа \n",
    "- cropping (вырезание) - отрезать от каждого массива, чтобы сделать одинаковую размерность.\n",
    "- padding (набивка) добавление дополнительных значений по краям.\n"
   ]
  },
  {
   "cell_type": "code",
   "execution_count": 107,
   "id": "f6606aa4",
   "metadata": {},
   "outputs": [
    {
     "data": {
      "text/plain": [
       "8"
      ]
     },
     "execution_count": 107,
     "metadata": {},
     "output_type": "execute_result"
    }
   ],
   "source": [
    "shapes = np.arange(5, 11)\n",
    "np.random.choice(shapes)"
   ]
  },
  {
   "cell_type": "code",
   "execution_count": 108,
   "id": "d8af0a8f",
   "metadata": {},
   "outputs": [],
   "source": [
    "list_of_arrays = [np.random.random((np.random.choice(shapes), np.random.choice(shapes))) for x in range(5)]"
   ]
  },
  {
   "cell_type": "code",
   "execution_count": 109,
   "id": "3cb24163",
   "metadata": {},
   "outputs": [
    {
     "data": {
      "text/plain": [
       "[(10, 8), (8, 7), (10, 9), (9, 6), (7, 5)]"
      ]
     },
     "execution_count": 109,
     "metadata": {},
     "output_type": "execute_result"
    }
   ],
   "source": [
    "[x.shape for x in list_of_arrays]"
   ]
  },
  {
   "cell_type": "code",
   "execution_count": 110,
   "id": "190d60a8",
   "metadata": {},
   "outputs": [
    {
     "ename": "ValueError",
     "evalue": "all input arrays must have the same shape",
     "output_type": "error",
     "traceback": [
      "\u001b[1;31m---------------------------------------------------------------------------\u001b[0m",
      "\u001b[1;31mValueError\u001b[0m                                Traceback (most recent call last)",
      "Cell \u001b[1;32mIn[110], line 1\u001b[0m\n\u001b[1;32m----> 1\u001b[0m \u001b[43mnp\u001b[49m\u001b[38;5;241;43m.\u001b[39;49m\u001b[43mstack\u001b[49m\u001b[43m(\u001b[49m\u001b[43mlist_of_arrays\u001b[49m\u001b[43m)\u001b[49m\n",
      "File \u001b[1;32m<__array_function__ internals>:200\u001b[0m, in \u001b[0;36mstack\u001b[1;34m(*args, **kwargs)\u001b[0m\n",
      "File \u001b[1;32m~\\miniconda3\\lib\\site-packages\\numpy\\core\\shape_base.py:464\u001b[0m, in \u001b[0;36mstack\u001b[1;34m(arrays, axis, out, dtype, casting)\u001b[0m\n\u001b[0;32m    462\u001b[0m shapes \u001b[38;5;241m=\u001b[39m {arr\u001b[38;5;241m.\u001b[39mshape \u001b[38;5;28;01mfor\u001b[39;00m arr \u001b[38;5;129;01min\u001b[39;00m arrays}\n\u001b[0;32m    463\u001b[0m \u001b[38;5;28;01mif\u001b[39;00m \u001b[38;5;28mlen\u001b[39m(shapes) \u001b[38;5;241m!=\u001b[39m \u001b[38;5;241m1\u001b[39m:\n\u001b[1;32m--> 464\u001b[0m     \u001b[38;5;28;01mraise\u001b[39;00m \u001b[38;5;167;01mValueError\u001b[39;00m(\u001b[38;5;124m'\u001b[39m\u001b[38;5;124mall input arrays must have the same shape\u001b[39m\u001b[38;5;124m'\u001b[39m)\n\u001b[0;32m    466\u001b[0m result_ndim \u001b[38;5;241m=\u001b[39m arrays[\u001b[38;5;241m0\u001b[39m]\u001b[38;5;241m.\u001b[39mndim \u001b[38;5;241m+\u001b[39m \u001b[38;5;241m1\u001b[39m\n\u001b[0;32m    467\u001b[0m axis \u001b[38;5;241m=\u001b[39m normalize_axis_index(axis, result_ndim)\n",
      "\u001b[1;31mValueError\u001b[0m: all input arrays must have the same shape"
     ]
    }
   ],
   "source": [
    "np.stack(list_of_arrays)"
   ]
  },
  {
   "cell_type": "code",
   "execution_count": 111,
   "id": "adc81cf2",
   "metadata": {},
   "outputs": [
    {
     "data": {
      "text/plain": [
       "(7, 5)"
      ]
     },
     "execution_count": 111,
     "metadata": {},
     "output_type": "execute_result"
    }
   ],
   "source": [
    "min([x.shape[0] for x in list_of_arrays]), min([x.shape[1] for x in list_of_arrays])"
   ]
  },
  {
   "cell_type": "code",
   "execution_count": 112,
   "id": "15ca30da",
   "metadata": {},
   "outputs": [
    {
     "data": {
      "text/plain": [
       "(10, 9)"
      ]
     },
     "execution_count": 112,
     "metadata": {},
     "output_type": "execute_result"
    }
   ],
   "source": [
    "max_shapes = max([x.shape[0] for x in list_of_arrays]), max([x.shape[1] for x in list_of_arrays])\n",
    "max_shapes"
   ]
  },
  {
   "cell_type": "code",
   "execution_count": 113,
   "id": "8a80b0bd",
   "metadata": {},
   "outputs": [],
   "source": [
    "?np.pad"
   ]
  },
  {
   "cell_type": "code",
   "execution_count": 121,
   "id": "53a181b3",
   "metadata": {},
   "outputs": [
    {
     "ename": "SyntaxError",
     "evalue": "'(' was never closed (1926749898.py, line 1)",
     "output_type": "error",
     "traceback": [
      "\u001b[1;36m  Cell \u001b[1;32mIn[121], line 1\u001b[1;36m\u001b[0m\n\u001b[1;33m    padded = [np.pad(x, ((0, max_shapes[0] - x.shape[0]),\u001b[0m\n\u001b[1;37m                    ^\u001b[0m\n\u001b[1;31mSyntaxError\u001b[0m\u001b[1;31m:\u001b[0m '(' was never closed\n"
     ]
    }
   ],
   "source": [
    "padded = [np.pad(x, ((0, max_shapes[0] - x.shape[0]), \n",
    "                     # write your code here\n",
    "          for x in list_of_arrays]"
   ]
  },
  {
   "cell_type": "code",
   "execution_count": 115,
   "id": "27da926c",
   "metadata": {},
   "outputs": [
    {
     "data": {
      "text/plain": [
       "(5, 10, 9)"
      ]
     },
     "execution_count": 115,
     "metadata": {},
     "output_type": "execute_result"
    }
   ],
   "source": [
    "result = np.stack(padded)\n",
    "result.shape"
   ]
  },
  {
   "cell_type": "markdown",
   "id": "a998a70e",
   "metadata": {},
   "source": [
    "### 6. Фильтрация"
   ]
  },
  {
   "cell_type": "code",
   "execution_count": 116,
   "id": "f56529af",
   "metadata": {},
   "outputs": [
    {
     "data": {
      "text/plain": [
       "array([ 1.22994409,  0.2932342 ,  1.69885841, -1.12668009,  1.23936359,\n",
       "        0.40931214,  0.4676573 ,  0.03153773,  0.82495781,  0.56745043])"
      ]
     },
     "execution_count": 116,
     "metadata": {},
     "output_type": "execute_result"
    }
   ],
   "source": [
    "x = np.random.normal(0, 1, (10))\n",
    "x"
   ]
  },
  {
   "cell_type": "code",
   "execution_count": 117,
   "id": "f1a98dc6",
   "metadata": {},
   "outputs": [],
   "source": [
    "?np.clip"
   ]
  },
  {
   "cell_type": "code",
   "execution_count": 118,
   "id": "be3409ab",
   "metadata": {},
   "outputs": [
    {
     "data": {
      "text/plain": [
       "array([False,  True, False, False, False,  True,  True,  True,  True,\n",
       "        True])"
      ]
     },
     "execution_count": 118,
     "metadata": {},
     "output_type": "execute_result"
    }
   ],
   "source": [
    "np.abs(x) < 1"
   ]
  },
  {
   "cell_type": "code",
   "execution_count": 57,
   "id": "acddb74f",
   "metadata": {},
   "outputs": [
    {
     "data": {
      "text/plain": [
       "array([ 1.        ,  1.        , -1.30199217,  1.        ,  1.        ,\n",
       "        1.04565336,  1.        ,  1.        ,  1.        ,  1.        ])"
      ]
     },
     "execution_count": 57,
     "metadata": {},
     "output_type": "execute_result"
    }
   ],
   "source": [
    "x[np.abs(x) < 1] = 1\n",
    "x"
   ]
  },
  {
   "cell_type": "code",
   "execution_count": 58,
   "id": "862e18dd",
   "metadata": {},
   "outputs": [
    {
     "data": {
      "text/plain": [
       "array([ 1.        ,  1.        ,  2.57041465, -1.53707931, -1.06222645,\n",
       "       -2.61284281,  1.        , -1.97770436,  1.        ,  1.        ])"
      ]
     },
     "execution_count": 58,
     "metadata": {},
     "output_type": "execute_result"
    }
   ],
   "source": [
    "x = np.random.normal(0, 1, (10))\n",
    "x[~(np.abs(x) >= 1)] = 1\n",
    "x"
   ]
  },
  {
   "cell_type": "markdown",
   "id": "a0114bd5",
   "metadata": {},
   "source": [
    "### 7. One hot encoding\n",
    "\n",
    "<img src=\"https://miro.medium.com/v2/resize:fit:1100/format:webp/1*ggtP4a5YaRx6l09KQaYOnw.png\">"
   ]
  },
  {
   "cell_type": "code",
   "execution_count": 59,
   "id": "48024b82",
   "metadata": {},
   "outputs": [
    {
     "data": {
      "text/plain": [
       "array(['blue', 'blue', 'green', 'red', 'red', 'red', 'blue', 'red', 'red',\n",
       "       'red'], dtype='<U5')"
      ]
     },
     "execution_count": 59,
     "metadata": {},
     "output_type": "execute_result"
    }
   ],
   "source": [
    "colors = [\"red\", \"blue\", \"green\"]\n",
    "categorical = np.random.choice(colors, size=10)\n",
    "categorical"
   ]
  },
  {
   "cell_type": "code",
   "execution_count": 60,
   "id": "1a3c76a1",
   "metadata": {},
   "outputs": [
    {
     "data": {
      "text/plain": [
       "{'red': 0, 'blue': 1, 'green': 2}"
      ]
     },
     "execution_count": 60,
     "metadata": {},
     "output_type": "execute_result"
    }
   ],
   "source": [
    "idx_dict = {color: i for i, color in enumerate(colors)}\n",
    "idx_dict"
   ]
  },
  {
   "cell_type": "code",
   "execution_count": 67,
   "id": "bf2453a8",
   "metadata": {},
   "outputs": [
    {
     "data": {
      "text/plain": [
       "array([1, 1, 2, 0, 0, 0, 1, 0, 0, 0])"
      ]
     },
     "execution_count": 67,
     "metadata": {},
     "output_type": "execute_result"
    }
   ],
   "source": [
    "indices = np.array([idx_dict[color] for color in categorical])\n",
    "indices"
   ]
  },
  {
   "cell_type": "code",
   "execution_count": 68,
   "id": "ba4c7443",
   "metadata": {},
   "outputs": [
    {
     "data": {
      "text/plain": [
       "10"
      ]
     },
     "execution_count": 68,
     "metadata": {},
     "output_type": "execute_result"
    }
   ],
   "source": [
    "indices.size"
   ]
  },
  {
   "cell_type": "code",
   "execution_count": 69,
   "id": "3ff98bdb",
   "metadata": {},
   "outputs": [
    {
     "data": {
      "text/plain": [
       "array([[0., 0., 0.],\n",
       "       [0., 0., 0.],\n",
       "       [0., 0., 0.],\n",
       "       [0., 0., 0.],\n",
       "       [0., 0., 0.],\n",
       "       [0., 0., 0.],\n",
       "       [0., 0., 0.],\n",
       "       [0., 0., 0.],\n",
       "       [0., 0., 0.],\n",
       "       [0., 0., 0.]])"
      ]
     },
     "execution_count": 69,
     "metadata": {},
     "output_type": "execute_result"
    }
   ],
   "source": [
    "b = np.zeros((indices.size, indices.max() + 1))\n",
    "b"
   ]
  },
  {
   "cell_type": "code",
   "execution_count": 70,
   "id": "6de3f8d9",
   "metadata": {},
   "outputs": [],
   "source": [
    "b[np.arange(indices.size), indices] = 1 # https://numpy.org/doc/stable/user/basics.indexing.html#integer-array-indexing"
   ]
  },
  {
   "cell_type": "code",
   "execution_count": 72,
   "id": "dc11caa8",
   "metadata": {},
   "outputs": [
    {
     "data": {
      "text/plain": [
       "array([[0., 1., 0.],\n",
       "       [0., 1., 0.],\n",
       "       [0., 0., 1.],\n",
       "       [1., 0., 0.],\n",
       "       [1., 0., 0.],\n",
       "       [1., 0., 0.],\n",
       "       [0., 1., 0.],\n",
       "       [1., 0., 0.],\n",
       "       [1., 0., 0.],\n",
       "       [1., 0., 0.]])"
      ]
     },
     "execution_count": 72,
     "metadata": {},
     "output_type": "execute_result"
    }
   ],
   "source": [
    "b"
   ]
  },
  {
   "cell_type": "code",
   "execution_count": 73,
   "id": "7a3f66a8",
   "metadata": {},
   "outputs": [
    {
     "data": {
      "text/plain": [
       "array([1, 1, 2, 0, 0, 0, 1, 0, 0, 0])"
      ]
     },
     "execution_count": 73,
     "metadata": {},
     "output_type": "execute_result"
    }
   ],
   "source": [
    "indices"
   ]
  },
  {
   "cell_type": "code",
   "execution_count": 74,
   "id": "07a4e47d",
   "metadata": {},
   "outputs": [
    {
     "data": {
      "text/plain": [
       "array([0, 1, 2, 3, 4, 5, 6, 7, 8, 9])"
      ]
     },
     "execution_count": 74,
     "metadata": {},
     "output_type": "execute_result"
    }
   ],
   "source": [
    "np.arange(indices.size)"
   ]
  },
  {
   "cell_type": "markdown",
   "id": "54fce6b6",
   "metadata": {},
   "source": [
    "### 8. Замена nan на среднее значение."
   ]
  },
  {
   "cell_type": "markdown",
   "id": "9dccc41d",
   "metadata": {},
   "source": [
    "Реализуйте функцию, которая во входной вещественной матрице X находит все значения nan и заменяет их на среднее арифметическое всех остальных элементов. Если все элементы матрицы nan, то верните нулевую матрицу той же размерности.\n",
    "\n",
    "Например, матрица `np.array([[nan, 1, 2, 3], [4, nan, 5, nan]])` перейдет в `np.array([[3, 1, 2, 3], [4, 3, 5, 3]])`\n",
    "\n",
    "Подсказка: используйте функцию `np.isnan()` и функцию `np.mean()`"
   ]
  },
  {
   "cell_type": "code",
   "execution_count": 126,
   "id": "82acc844",
   "metadata": {},
   "outputs": [
    {
     "data": {
      "text/plain": [
       "array([False, False, False,  True])"
      ]
     },
     "execution_count": 126,
     "metadata": {},
     "output_type": "execute_result"
    }
   ],
   "source": [
    "a = np.array([1, 2, 3, np.nan])\n",
    "(np.isnan(a))"
   ]
  },
  {
   "cell_type": "code",
   "execution_count": 128,
   "id": "41d7ff44",
   "metadata": {},
   "outputs": [
    {
     "data": {
      "text/plain": [
       "True"
      ]
     },
     "execution_count": 128,
     "metadata": {},
     "output_type": "execute_result"
    }
   ],
   "source": [
    "np.any(a) "
   ]
  },
  {
   "cell_type": "code",
   "execution_count": 129,
   "id": "ebe87db8",
   "metadata": {},
   "outputs": [
    {
     "data": {
      "text/plain": [
       "array([1., 2., 3., 2.])"
      ]
     },
     "execution_count": 129,
     "metadata": {},
     "output_type": "execute_result"
    }
   ],
   "source": [
    "a[np.isnan(a)] = a[~np.isnan(a)].mean()\n",
    "a"
   ]
  },
  {
   "cell_type": "code",
   "execution_count": 130,
   "id": "7274ceaf",
   "metadata": {},
   "outputs": [
    {
     "data": {
      "text/plain": [
       "array([nan, nan, nan, nan])"
      ]
     },
     "execution_count": 130,
     "metadata": {},
     "output_type": "execute_result"
    }
   ],
   "source": [
    "a[~np.isnan(a)] = np.nan\n",
    "a"
   ]
  },
  {
   "cell_type": "code",
   "execution_count": 131,
   "id": "5904d4ec",
   "metadata": {},
   "outputs": [],
   "source": [
    "def clean_nans(a: np.array) -> np.array:\n",
    "    if np.all(np.isnan(a)):\n",
    "        return np.zeros_like(a)\n",
    "    a[np.isnan(a)] = a[~np.isnan(a)].mean()\n",
    "    return a"
   ]
  },
  {
   "cell_type": "code",
   "execution_count": 132,
   "id": "e0ce1dc8",
   "metadata": {},
   "outputs": [
    {
     "data": {
      "text/plain": [
       "array([[ 0., nan],\n",
       "       [ 2.,  3.],\n",
       "       [nan,  5.],\n",
       "       [ 6.,  7.],\n",
       "       [ 8.,  9.]], dtype=float32)"
      ]
     },
     "execution_count": 132,
     "metadata": {},
     "output_type": "execute_result"
    }
   ],
   "source": [
    "a = np.arange(10).reshape(5, 2).astype(np.float32)\n",
    "a[0, 1] = np.nan\n",
    "a[2, 0] = np.nan\n",
    "a"
   ]
  },
  {
   "cell_type": "code",
   "execution_count": 133,
   "id": "f2733c63",
   "metadata": {},
   "outputs": [
    {
     "data": {
      "text/plain": [
       "array([[0., 5.],\n",
       "       [2., 3.],\n",
       "       [5., 5.],\n",
       "       [6., 7.],\n",
       "       [8., 9.]], dtype=float32)"
      ]
     },
     "execution_count": 133,
     "metadata": {},
     "output_type": "execute_result"
    }
   ],
   "source": [
    "clean_nans(a)"
   ]
  },
  {
   "cell_type": "markdown",
   "id": "4b462692",
   "metadata": {},
   "source": [
    "### 9. Равенство массивов.\n",
    "Реализуйте функцию, которая на вход принимает два массива first_array и second_array (массивы могут быть n-мерные, разной размерности), а возвращает True если они равны и False - иначе."
   ]
  },
  {
   "cell_type": "code",
   "execution_count": 134,
   "id": "bff08544",
   "metadata": {},
   "outputs": [
    {
     "data": {
      "text/plain": [
       "(array([[0, 1, 2, 3, 4],\n",
       "        [5, 6, 7, 8, 9]]),\n",
       " array([[0, 1, 2, 3, 4],\n",
       "        [5, 6, 7, 8, 9]]))"
      ]
     },
     "execution_count": 134,
     "metadata": {},
     "output_type": "execute_result"
    }
   ],
   "source": [
    "a = np.arange(10).reshape(2, 5)\n",
    "b = np.zeros((2, 5))\n",
    "b = a.copy() \n",
    "# b[0, 1] = 43\n",
    "a, b"
   ]
  },
  {
   "cell_type": "code",
   "execution_count": 135,
   "id": "7a22b7ef",
   "metadata": {},
   "outputs": [
    {
     "data": {
      "text/plain": [
       "True"
      ]
     },
     "execution_count": 135,
     "metadata": {},
     "output_type": "execute_result"
    }
   ],
   "source": [
    "np.all(a == b)"
   ]
  },
  {
   "cell_type": "code",
   "execution_count": 136,
   "id": "c0d29bfa",
   "metadata": {},
   "outputs": [
    {
     "data": {
      "text/plain": [
       "True"
      ]
     },
     "execution_count": 136,
     "metadata": {},
     "output_type": "execute_result"
    }
   ],
   "source": [
    "np.all((np.isclose(a, b)))"
   ]
  },
  {
   "cell_type": "markdown",
   "id": "3169c249",
   "metadata": {},
   "source": [
    "### 10. Stacking нескольких массивов в один массив (разные размерности)\n",
    "Реализуйте совмещение нескольких 2-мерных массивов в один 3-мерный с помощью cropping-a, то есть вырезания из всех массивов наименьшей размерности."
   ]
  },
  {
   "cell_type": "code",
   "execution_count": 137,
   "id": "f5877851",
   "metadata": {},
   "outputs": [],
   "source": [
    "shapes = np.arange(5, 11)\n",
    "list_of_arrays = [np.random.random((np.random.choice(shapes), np.random.choice(shapes))) for x in range(5)]"
   ]
  },
  {
   "cell_type": "code",
   "execution_count": 138,
   "id": "cf2ecc16",
   "metadata": {},
   "outputs": [
    {
     "ename": "NameError",
     "evalue": "name 'min_a' is not defined",
     "output_type": "error",
     "traceback": [
      "\u001b[1;31m---------------------------------------------------------------------------\u001b[0m",
      "\u001b[1;31mNameError\u001b[0m                                 Traceback (most recent call last)",
      "Cell \u001b[1;32mIn[138], line 1\u001b[0m\n\u001b[1;32m----> 1\u001b[0m a[:\u001b[43mmin_a\u001b[49m, :min_b]\n",
      "\u001b[1;31mNameError\u001b[0m: name 'min_a' is not defined"
     ]
    }
   ],
   "source": [
    "a[:min_a, :min_b]"
   ]
  },
  {
   "cell_type": "code",
   "execution_count": null,
   "id": "2d7131d7",
   "metadata": {},
   "outputs": [],
   "source": [
    "# your code here"
   ]
  }
 ],
 "metadata": {
  "kernelspec": {
   "display_name": "Python 3 (ipykernel)",
   "language": "python",
   "name": "python3"
  },
  "language_info": {
   "codemirror_mode": {
    "name": "ipython",
    "version": 3
   },
   "file_extension": ".py",
   "mimetype": "text/x-python",
   "name": "python",
   "nbconvert_exporter": "python",
   "pygments_lexer": "ipython3",
   "version": "3.10.9"
  }
 },
 "nbformat": 4,
 "nbformat_minor": 5
}
