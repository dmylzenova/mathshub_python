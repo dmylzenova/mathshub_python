{
 "cells": [
  {
   "cell_type": "markdown",
   "metadata": {
    "id": "ADioeXA4e9DY"
   },
   "source": [
    "# Python для анализа данных"
   ]
  },
  {
   "cell_type": "markdown",
   "metadata": {
    "id": "w5l3lSPkeSXN"
   },
   "source": [
    "# Библиотека `numpy`\n",
    "\n",
    "[numpy.org/doc/](https://numpy.org/doc/stable/)\n",
    "\n",
    "![440px-NumPy_logo_2020.svg.png](data:image/png;base64,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)\n",
    "\n",
    "Пакет `numpy` предоставляет n-мерные однородные массивы (все элементы одного типа); в них нельзя вставить или удалить элемент в произвольном месте. В `numpy` реализовано много операций над массивами в целом. Если задачу можно решить, произведя некоторую последовательность операций над массивами, то это будет столь же эффективно, как в `C` или `matlab` — львиная доля времени тратится в библиотечных функциях, написанных на `C`.\n",
    "\n",
    "\n",
    "**Библеотека NumPy** предоставляет следующие **возможности**: \n",
    "* работать с многомерными массивами (включая матрицы)\n",
    "* производить быстрое вычисление математических функций на многомерных массивах\n",
    "\n",
    "**Важные отличия** между NumPy arrays и Python sequences: \n",
    "* NumPy array имеет фиксированную длину, которая определяется в момент его создания (в отличие от Python lists, которые могут расти динамически)\n",
    "* Элементы в NumPy array должны быть одного типа\n",
    "* Можно выполнять операции непосредственно над NumPy arrays\n",
    "\n",
    "\n",
    "**Мотивирующий пример**\n",
    "![Imgur](https://i.imgur.com/z4GzOX6.png)"
   ]
  },
  {
   "cell_type": "markdown",
   "metadata": {},
   "source": [
    "1, 2, 3 # скаляр - float , int\n",
    "(1, 2, ..., 645) # вектор, массив - list, np.array()\n",
    "\n",
    "(1, 2) # матрица - np.array, list [[], []]\n",
    "(3, 4)"
   ]
  },
  {
   "cell_type": "markdown",
   "metadata": {},
   "source": [
    "\n",
    "# Содержание:\n",
    "\n",
    "- [1. Одномерные массивы](##-1.-Одномерные-массивы)\n",
    "   - [1.1  Типы массивов, атрибуты](####-1.1-Типы-массивов,-атрибуты)\n",
    "   - [1.2  Простая индексация](####-1.2-Простая-индексация)\n",
    "   - [1.3  Генерация массивов](####-1.3-Генерация-массивов)\n",
    "   - [1.4  Типы элементов в массивах](####-1.4-Типы-элементов-в-массивах) \n",
    "   - [1.5  Коварные срезы](####-1.5-Коварные-срезы.)\n",
    " \n",
    "- [2.  Операции над одномерными массивами](##-2.-Операции-над-одномерными-массивами)\n",
    "- [3. Двумерные массивы](##-3.-Двумерные-массивы)\n",
    "- [4. Тензоры (многомерные массивы)](##4.-Тензоры)\n",
    "- [5. Случайные числа](##5.-Случайные-числа)\n",
    "- [6. Линейная алгебра](##-6.-Линейная-алгебра)\n",
    "- [7. Сохранение в файл и чтение из файла](##-7.-Сохранение-в-файл-и-чтение-из-файла)\n",
    "- [8. Производительность numpy](##-8.-Производительность-numpy)"
   ]
  },
  {
   "cell_type": "markdown",
   "metadata": {
    "id": "w5l3lSPkeSXN"
   },
   "source": [
    "## 1. Одномерные массивы\n",
    "\n",
    "#### 1.1 Типы массивов, атрибуты"
   ]
  },
  {
   "cell_type": "markdown",
   "metadata": {
    "id": "4OYggcLMeSXY"
   },
   "source": [
    "Можно преобразовать список в массив."
   ]
  },
  {
   "cell_type": "code",
   "execution_count": 251,
   "metadata": {},
   "outputs": [],
   "source": [
    "import numpy as np"
   ]
  },
  {
   "cell_type": "code",
   "execution_count": 252,
   "metadata": {
    "id": "gUUE3FB-O_p2"
   },
   "outputs": [],
   "source": [
    "l = [1, \"fdf\", 43]"
   ]
  },
  {
   "cell_type": "code",
   "execution_count": 253,
   "metadata": {
    "colab": {
     "base_uri": "https://localhost:8080/"
    },
    "id": "9tE3xQQyPBIs",
    "outputId": "8d69552b-5670-4bdf-9fd8-49c55a5ff1dd"
   },
   "outputs": [
    {
     "data": {
      "text/plain": [
       "(2041687310576, 2041768288112, 2041687311920)"
      ]
     },
     "execution_count": 253,
     "metadata": {},
     "output_type": "execute_result"
    }
   ],
   "source": [
    "id(l[0]), id(l[1]), id(l[2])"
   ]
  },
  {
   "cell_type": "code",
   "execution_count": 255,
   "metadata": {
    "colab": {
     "base_uri": "https://localhost:8080/"
    },
    "id": "60DzfgyMeSXa",
    "outputId": "81c5dfc7-bef9-4706-e829-e55aa287e51b"
   },
   "outputs": [
    {
     "data": {
      "text/plain": [
       "(array([0, 2, 1]), numpy.ndarray)"
      ]
     },
     "execution_count": 255,
     "metadata": {},
     "output_type": "execute_result"
    }
   ],
   "source": [
    "a = np.array([0, 2, 1])\n",
    "a, type(a)"
   ]
  },
  {
   "cell_type": "code",
   "execution_count": 256,
   "metadata": {},
   "outputs": [
    {
     "data": {
      "text/plain": [
       "(2041900049520, 2041900049520, 2041900049520)"
      ]
     },
     "execution_count": 256,
     "metadata": {},
     "output_type": "execute_result"
    }
   ],
   "source": [
    "id(a[0]), id(a[1]), id(a[2])"
   ]
  },
  {
   "cell_type": "code",
   "execution_count": 257,
   "metadata": {},
   "outputs": [
    {
     "data": {
      "text/plain": [
       "True"
      ]
     },
     "execution_count": 257,
     "metadata": {},
     "output_type": "execute_result"
    }
   ],
   "source": [
    "id(a[1]) == id(a[2])"
   ]
  },
  {
   "cell_type": "markdown",
   "metadata": {},
   "source": [
    "## Способы создания Numpy arrays\n",
    "* Конвертация из Python structures\n",
    "* Генерация с помощью встроенных функций\n",
    "* Чтение с диска\n"
   ]
  },
  {
   "cell_type": "markdown",
   "metadata": {
    "id": "Zus_bnvFeSXf"
   },
   "source": [
    "`print` печатает массивы в удобной форме."
   ]
  },
  {
   "cell_type": "code",
   "execution_count": 258,
   "metadata": {
    "colab": {
     "base_uri": "https://localhost:8080/"
    },
    "id": "3CY4rY0GeSXg",
    "outputId": "2e820e68-1ebd-43b1-f2ee-04eb591bf8db"
   },
   "outputs": [
    {
     "name": "stdout",
     "output_type": "stream",
     "text": [
      "[0 2 1]\n"
     ]
    }
   ],
   "source": [
    "print(a)"
   ]
  },
  {
   "cell_type": "markdown",
   "metadata": {
    "id": "GWrTlCJieSXk"
   },
   "source": [
    "Класс `ndarray` имеет много методов."
   ]
  },
  {
   "cell_type": "code",
   "execution_count": 259,
   "metadata": {
    "colab": {
     "base_uri": "https://localhost:8080/"
    },
    "id": "CILScJ3kNnKf",
    "outputId": "052ebf64-52a8-4849-ff97-4d3e2e5401b9"
   },
   "outputs": [
    {
     "data": {
      "text/plain": [
       "['__class__',\n",
       " '__delattr__',\n",
       " '__dir__',\n",
       " '__doc__',\n",
       " '__eq__',\n",
       " '__format__',\n",
       " '__ge__',\n",
       " '__getattribute__',\n",
       " '__gt__',\n",
       " '__hash__',\n",
       " '__init__',\n",
       " '__init_subclass__',\n",
       " '__le__',\n",
       " '__lt__',\n",
       " '__ne__',\n",
       " '__new__',\n",
       " '__reduce__',\n",
       " '__reduce_ex__',\n",
       " '__repr__',\n",
       " '__setattr__',\n",
       " '__sizeof__',\n",
       " '__str__',\n",
       " '__subclasshook__']"
      ]
     },
     "execution_count": 259,
     "metadata": {},
     "output_type": "execute_result"
    }
   ],
   "source": [
    "dir(object)"
   ]
  },
  {
   "cell_type": "code",
   "execution_count": 260,
   "metadata": {
    "colab": {
     "base_uri": "https://localhost:8080/"
    },
    "id": "tZXXpE4qN878",
    "outputId": "bc2f5fda-de8e-4357-d63c-12b05cf37b6b"
   },
   "outputs": [
    {
     "data": {
      "text/plain": [
       "(3, 3)"
      ]
     },
     "execution_count": 260,
     "metadata": {},
     "output_type": "execute_result"
    }
   ],
   "source": [
    "len(a), a.__len__()"
   ]
  },
  {
   "cell_type": "code",
   "execution_count": 261,
   "metadata": {
    "colab": {
     "base_uri": "https://localhost:8080/"
    },
    "id": "KhZ0kil4eSXl",
    "outputId": "16c78847-bc67-43db-a37e-8051c5582a05",
    "scrolled": false
   },
   "outputs": [
    {
     "data": {
      "text/plain": [
       "{'T',\n",
       " '__abs__',\n",
       " '__add__',\n",
       " '__and__',\n",
       " '__array__',\n",
       " '__array_finalize__',\n",
       " '__array_function__',\n",
       " '__array_interface__',\n",
       " '__array_prepare__',\n",
       " '__array_priority__',\n",
       " '__array_struct__',\n",
       " '__array_ufunc__',\n",
       " '__array_wrap__',\n",
       " '__bool__',\n",
       " '__class_getitem__',\n",
       " '__complex__',\n",
       " '__contains__',\n",
       " '__copy__',\n",
       " '__deepcopy__',\n",
       " '__delitem__',\n",
       " '__divmod__',\n",
       " '__dlpack__',\n",
       " '__dlpack_device__',\n",
       " '__float__',\n",
       " '__floordiv__',\n",
       " '__getitem__',\n",
       " '__iadd__',\n",
       " '__iand__',\n",
       " '__ifloordiv__',\n",
       " '__ilshift__',\n",
       " '__imatmul__',\n",
       " '__imod__',\n",
       " '__imul__',\n",
       " '__index__',\n",
       " '__int__',\n",
       " '__invert__',\n",
       " '__ior__',\n",
       " '__ipow__',\n",
       " '__irshift__',\n",
       " '__isub__',\n",
       " '__iter__',\n",
       " '__itruediv__',\n",
       " '__ixor__',\n",
       " '__len__',\n",
       " '__lshift__',\n",
       " '__matmul__',\n",
       " '__mod__',\n",
       " '__mul__',\n",
       " '__neg__',\n",
       " '__or__',\n",
       " '__pos__',\n",
       " '__pow__',\n",
       " '__radd__',\n",
       " '__rand__',\n",
       " '__rdivmod__',\n",
       " '__rfloordiv__',\n",
       " '__rlshift__',\n",
       " '__rmatmul__',\n",
       " '__rmod__',\n",
       " '__rmul__',\n",
       " '__ror__',\n",
       " '__rpow__',\n",
       " '__rrshift__',\n",
       " '__rshift__',\n",
       " '__rsub__',\n",
       " '__rtruediv__',\n",
       " '__rxor__',\n",
       " '__setitem__',\n",
       " '__setstate__',\n",
       " '__sub__',\n",
       " '__truediv__',\n",
       " '__xor__',\n",
       " 'all',\n",
       " 'any',\n",
       " 'argmax',\n",
       " 'argmin',\n",
       " 'argpartition',\n",
       " 'argsort',\n",
       " 'astype',\n",
       " 'base',\n",
       " 'byteswap',\n",
       " 'choose',\n",
       " 'clip',\n",
       " 'compress',\n",
       " 'conj',\n",
       " 'conjugate',\n",
       " 'copy',\n",
       " 'ctypes',\n",
       " 'cumprod',\n",
       " 'cumsum',\n",
       " 'data',\n",
       " 'diagonal',\n",
       " 'dot',\n",
       " 'dtype',\n",
       " 'dump',\n",
       " 'dumps',\n",
       " 'fill',\n",
       " 'flags',\n",
       " 'flat',\n",
       " 'flatten',\n",
       " 'getfield',\n",
       " 'imag',\n",
       " 'item',\n",
       " 'itemset',\n",
       " 'itemsize',\n",
       " 'max',\n",
       " 'mean',\n",
       " 'min',\n",
       " 'nbytes',\n",
       " 'ndim',\n",
       " 'newbyteorder',\n",
       " 'nonzero',\n",
       " 'partition',\n",
       " 'prod',\n",
       " 'ptp',\n",
       " 'put',\n",
       " 'ravel',\n",
       " 'real',\n",
       " 'repeat',\n",
       " 'reshape',\n",
       " 'resize',\n",
       " 'round',\n",
       " 'searchsorted',\n",
       " 'setfield',\n",
       " 'setflags',\n",
       " 'shape',\n",
       " 'size',\n",
       " 'sort',\n",
       " 'squeeze',\n",
       " 'std',\n",
       " 'strides',\n",
       " 'sum',\n",
       " 'swapaxes',\n",
       " 'take',\n",
       " 'tobytes',\n",
       " 'tofile',\n",
       " 'tolist',\n",
       " 'tostring',\n",
       " 'trace',\n",
       " 'transpose',\n",
       " 'var',\n",
       " 'view'}"
      ]
     },
     "execution_count": 261,
     "metadata": {},
     "output_type": "execute_result"
    }
   ],
   "source": [
    "set(dir(a)) - set(dir(object)) # dunder, magic"
   ]
  },
  {
   "cell_type": "code",
   "execution_count": 262,
   "metadata": {
    "id": "O_18TUGZOMxg"
   },
   "outputs": [],
   "source": [
    "arr = np.array([1, 2])"
   ]
  },
  {
   "cell_type": "code",
   "execution_count": 264,
   "metadata": {
    "colab": {
     "base_uri": "https://localhost:8080/"
    },
    "id": "aKLWaVIyOPyE",
    "outputId": "fe14a91f-e727-43bc-9291-201238e01470"
   },
   "outputs": [
    {
     "data": {
      "text/plain": [
       "array([ 6, 12])"
      ]
     },
     "execution_count": 264,
     "metadata": {},
     "output_type": "execute_result"
    }
   ],
   "source": [
    "arr * 6"
   ]
  },
  {
   "cell_type": "markdown",
   "metadata": {
    "id": "j2Yro8nMeSXo"
   },
   "source": [
    "Наш массив одномерный."
   ]
  },
  {
   "cell_type": "code",
   "execution_count": 265,
   "metadata": {
    "colab": {
     "base_uri": "https://localhost:8080/"
    },
    "id": "fmBrHLrXQSqO",
    "outputId": "23191ba2-53ed-49c1-cc7f-34b37bd72adb"
   },
   "outputs": [
    {
     "data": {
      "text/plain": [
       "array([0, 2, 1])"
      ]
     },
     "execution_count": 265,
     "metadata": {},
     "output_type": "execute_result"
    }
   ],
   "source": [
    "a"
   ]
  },
  {
   "cell_type": "code",
   "execution_count": 267,
   "metadata": {
    "colab": {
     "base_uri": "https://localhost:8080/"
    },
    "id": "OMpgblpYeSXp",
    "outputId": "d12ae742-57ec-4588-bf91-69ebf2f1c028"
   },
   "outputs": [
    {
     "data": {
      "text/plain": [
       "1"
      ]
     },
     "execution_count": 267,
     "metadata": {},
     "output_type": "execute_result"
    }
   ],
   "source": [
    "a.ndim"
   ]
  },
  {
   "cell_type": "markdown",
   "metadata": {
    "id": "LB3skyaOeSXs"
   },
   "source": [
    "В $n$-мерном случае возвращается кортеж размеров по каждой координате."
   ]
  },
  {
   "cell_type": "code",
   "execution_count": 268,
   "metadata": {
    "colab": {
     "base_uri": "https://localhost:8080/"
    },
    "id": "8OAOgwtkOiTV",
    "outputId": "6e8472ae-de40-4c71-8387-0a5383c22ae5"
   },
   "outputs": [
    {
     "data": {
      "text/plain": [
       "tuple"
      ]
     },
     "execution_count": 268,
     "metadata": {},
     "output_type": "execute_result"
    }
   ],
   "source": [
    "x = (3, )\n",
    "type(x)"
   ]
  },
  {
   "cell_type": "code",
   "execution_count": 269,
   "metadata": {
    "id": "rXaFxcu6Q0GP"
   },
   "outputs": [],
   "source": [
    "b = np.array([[1, 2, 4], [3, 4, 1]])"
   ]
  },
  {
   "cell_type": "code",
   "execution_count": 270,
   "metadata": {
    "colab": {
     "base_uri": "https://localhost:8080/"
    },
    "id": "ND_494IeQ3hs",
    "outputId": "3b4dfc0e-c390-44b8-fbfd-63eb770dc603"
   },
   "outputs": [
    {
     "name": "stdout",
     "output_type": "stream",
     "text": [
      "2 (2, 3) 6 2\n"
     ]
    }
   ],
   "source": [
    "print(b.ndim, b.shape, b.size, len(b))"
   ]
  },
  {
   "cell_type": "code",
   "execution_count": 271,
   "metadata": {
    "colab": {
     "base_uri": "https://localhost:8080/"
    },
    "id": "m4uj7IEpRQBK",
    "outputId": "6a237f06-2186-4c3d-f341-8ad03eb61847"
   },
   "outputs": [
    {
     "data": {
      "text/plain": [
       "tuple"
      ]
     },
     "execution_count": 271,
     "metadata": {},
     "output_type": "execute_result"
    }
   ],
   "source": [
    "type(a.shape)"
   ]
  },
  {
   "cell_type": "code",
   "execution_count": 272,
   "metadata": {
    "colab": {
     "base_uri": "https://localhost:8080/"
    },
    "id": "ivBL1F1PeSXs",
    "outputId": "1a7ec3d6-32ed-412a-e8a1-b9f885a4d601"
   },
   "outputs": [
    {
     "data": {
      "text/plain": [
       "(3,)"
      ]
     },
     "execution_count": 272,
     "metadata": {},
     "output_type": "execute_result"
    }
   ],
   "source": [
    "a.shape"
   ]
  },
  {
   "cell_type": "markdown",
   "metadata": {
    "id": "RalMfmjfeSXv"
   },
   "source": [
    "`size` — это полное число элементов в массиве; `len` — размер по первой координате (в 1-мерном случае это то же самое)."
   ]
  },
  {
   "cell_type": "code",
   "execution_count": 273,
   "metadata": {
    "colab": {
     "base_uri": "https://localhost:8080/"
    },
    "id": "twpTTZ9ieSXw",
    "outputId": "7dc28f90-22c1-4151-a251-3fa3f3e8f30a"
   },
   "outputs": [
    {
     "data": {
      "text/plain": [
       "(3, 3)"
      ]
     },
     "execution_count": 273,
     "metadata": {},
     "output_type": "execute_result"
    }
   ],
   "source": [
    "len(a), a.size"
   ]
  },
  {
   "cell_type": "markdown",
   "metadata": {
    "id": "eCtLf6OyeSXx"
   },
   "source": [
    "`numpy` предоставляет несколько типов для целых (`int16`, `int32`, `int64`) и чисел с плавающей точкой (`float32`, `float64`)."
   ]
  },
  {
   "cell_type": "code",
   "execution_count": 275,
   "metadata": {
    "colab": {
     "base_uri": "https://localhost:8080/"
    },
    "id": "IHuuDB2peSXy",
    "outputId": "9be7ebf8-5266-4888-9403-860b220ae72c"
   },
   "outputs": [
    {
     "data": {
      "text/plain": [
       "(dtype('int32'), 'int32', 4)"
      ]
     },
     "execution_count": 275,
     "metadata": {},
     "output_type": "execute_result"
    }
   ],
   "source": [
    "a.dtype, a.dtype.name, a.itemsize"
   ]
  },
  {
   "cell_type": "markdown",
   "metadata": {
    "id": "xmBioWwXeSX9"
   },
   "source": [
    "Массив чисел с плавающей точкой."
   ]
  },
  {
   "cell_type": "code",
   "execution_count": 276,
   "metadata": {
    "id": "zPftqDLoPfB7"
   },
   "outputs": [],
   "source": [
    "arr = [0., 1, \"second\"]"
   ]
  },
  {
   "cell_type": "code",
   "execution_count": 277,
   "metadata": {
    "colab": {
     "base_uri": "https://localhost:8080/"
    },
    "id": "0oHQQQSUPhOH",
    "outputId": "f7611c5c-bfb3-4130-ad7d-a2f66bcbefa9"
   },
   "outputs": [
    {
     "data": {
      "text/plain": [
       "(float, int)"
      ]
     },
     "execution_count": 277,
     "metadata": {},
     "output_type": "execute_result"
    }
   ],
   "source": [
    "type(arr[0]), type(arr[1])"
   ]
  },
  {
   "cell_type": "code",
   "execution_count": 278,
   "metadata": {
    "colab": {
     "base_uri": "https://localhost:8080/"
    },
    "id": "iZ9WpKkVeSX9",
    "outputId": "b76ffa05-4bc6-42d8-d3b4-aba13f12dea5",
    "scrolled": true
   },
   "outputs": [
    {
     "data": {
      "text/plain": [
       "dtype('float64')"
      ]
     },
     "execution_count": 278,
     "metadata": {},
     "output_type": "execute_result"
    }
   ],
   "source": [
    "b = np.array([0., 2, 1])\n",
    "b.dtype"
   ]
  },
  {
   "cell_type": "markdown",
   "metadata": {
    "id": "EG3m0QNkeSX_"
   },
   "source": [
    "Точно такой же массив."
   ]
  },
  {
   "cell_type": "code",
   "execution_count": 279,
   "metadata": {
    "colab": {
     "base_uri": "https://localhost:8080/"
    },
    "id": "zB1Gle6peSYA",
    "outputId": "23a4fc50-21b6-4ee8-cd02-587c3f3e2584"
   },
   "outputs": [
    {
     "name": "stdout",
     "output_type": "stream",
     "text": [
      "[0. 2. 1.]\n"
     ]
    }
   ],
   "source": [
    "c = np.array([0, 2, 1], dtype=float)\n",
    "print(c)"
   ]
  },
  {
   "cell_type": "code",
   "execution_count": 286,
   "metadata": {},
   "outputs": [
    {
     "data": {
      "text/plain": [
       "array(['2', 3, 1.0], dtype=object)"
      ]
     },
     "execution_count": 286,
     "metadata": {},
     "output_type": "execute_result"
    }
   ],
   "source": [
    "np.array(['2', 3,  1.], dtype=object)"
   ]
  },
  {
   "cell_type": "code",
   "execution_count": 280,
   "metadata": {
    "colab": {
     "base_uri": "https://localhost:8080/"
    },
    "id": "u9z_WMZTS8r5",
    "outputId": "a2adf950-ba5e-4d23-c6d7-d696f6d9c53e"
   },
   "outputs": [
    {
     "data": {
      "text/plain": [
       "dtype('float64')"
      ]
     },
     "execution_count": 280,
     "metadata": {},
     "output_type": "execute_result"
    }
   ],
   "source": [
    "c.dtype"
   ]
  },
  {
   "cell_type": "markdown",
   "metadata": {
    "id": "MC5kkwS4IC4N"
   },
   "source": [
    "Получение обычного списка"
   ]
  },
  {
   "cell_type": "code",
   "execution_count": 287,
   "metadata": {
    "id": "i4KnVH67IC4N",
    "outputId": "a20053f1-79a3-499c-d07a-49dc957e24df"
   },
   "outputs": [
    {
     "data": {
      "text/plain": [
       "([0.0, 2.0, 1.0], list, numpy.ndarray)"
      ]
     },
     "execution_count": 287,
     "metadata": {},
     "output_type": "execute_result"
    }
   ],
   "source": [
    "c.tolist(), type(c.tolist()), type(c)"
   ]
  },
  {
   "cell_type": "markdown",
   "metadata": {
    "id": "T_gqbazheSYC"
   },
   "source": [
    "Преобразование данных"
   ]
  },
  {
   "cell_type": "code",
   "execution_count": 288,
   "metadata": {
    "colab": {
     "base_uri": "https://localhost:8080/"
    },
    "id": "ok8MtEvaeSYC",
    "outputId": "39d9b0e2-5cc9-4d54-b33e-661a43bf7522"
   },
   "outputs": [
    {
     "name": "stdout",
     "output_type": "stream",
     "text": [
      "float64\n",
      "[0 2 1]\n",
      "['0.0' '2.0' '1.0']\n"
     ]
    }
   ],
   "source": [
    "print(c.dtype)\n",
    "print(c.astype(int))\n",
    "print(c.astype(str))"
   ]
  },
  {
   "cell_type": "code",
   "execution_count": 291,
   "metadata": {
    "colab": {
     "base_uri": "https://localhost:8080/",
     "height": 204
    },
    "id": "IG6KobV5Wcra",
    "outputId": "0f274d39-fb79-4e3b-adf1-2ce18958846d"
   },
   "outputs": [
    {
     "ename": "ValueError",
     "evalue": "operands could not be broadcast together with shapes (3,) (4,) ",
     "output_type": "error",
     "traceback": [
      "\u001b[1;31m---------------------------------------------------------------------------\u001b[0m",
      "\u001b[1;31mValueError\u001b[0m                                Traceback (most recent call last)",
      "Cell \u001b[1;32mIn[291], line 4\u001b[0m\n\u001b[0;32m      1\u001b[0m c1 \u001b[38;5;241m=\u001b[39m np\u001b[38;5;241m.\u001b[39marray([\u001b[38;5;241m0\u001b[39m, \u001b[38;5;241m2\u001b[39m, \u001b[38;5;241m1\u001b[39m, \u001b[38;5;241m4\u001b[39m], dtype\u001b[38;5;241m=\u001b[39mnp\u001b[38;5;241m.\u001b[39mint64)\n\u001b[0;32m      3\u001b[0m c2 \u001b[38;5;241m=\u001b[39m np\u001b[38;5;241m.\u001b[39marray([\u001b[38;5;241m0\u001b[39m, \u001b[38;5;241m2\u001b[39m, \u001b[38;5;241m1\u001b[39m], dtype\u001b[38;5;241m=\u001b[39mnp\u001b[38;5;241m.\u001b[39muint64)\n\u001b[1;32m----> 4\u001b[0m \u001b[38;5;28mprint\u001b[39m((\u001b[43mc2\u001b[49m\u001b[43m \u001b[49m\u001b[38;5;241;43m+\u001b[39;49m\u001b[43m \u001b[49m\u001b[43mc1\u001b[49m)\u001b[38;5;241m.\u001b[39mdtype)\n",
      "\u001b[1;31mValueError\u001b[0m: operands could not be broadcast together with shapes (3,) (4,) "
     ]
    }
   ],
   "source": [
    "c1 = np.array([0, 2, 1, 4], dtype=np.int64)\n",
    "\n",
    "c2 = np.array([0, 2, 1], dtype=np.uint64)\n",
    "print((c2 + c1).dtype)"
   ]
  },
  {
   "cell_type": "code",
   "execution_count": 292,
   "metadata": {
    "colab": {
     "base_uri": "https://localhost:8080/"
    },
    "id": "9S5mW4AJV8ya",
    "outputId": "640533b5-b14e-40c5-eb9c-ff49fe5783fd"
   },
   "outputs": [
    {
     "name": "stdout",
     "output_type": "stream",
     "text": [
      "<class 'numpy.ndarray'>\n"
     ]
    }
   ],
   "source": [
    "\n",
    "print(type(c.astype(int)))"
   ]
  },
  {
   "cell_type": "markdown",
   "metadata": {
    "id": "G1DRYeu5eSX0"
   },
   "source": [
    "#### 1.2 Простая индексация\n",
    "\n",
    "Индексировать массив можно обычным образом."
   ]
  },
  {
   "cell_type": "code",
   "execution_count": 293,
   "metadata": {
    "colab": {
     "base_uri": "https://localhost:8080/"
    },
    "id": "Y9tGXwDIeSX1",
    "outputId": "9251016c-eeaa-48a1-f877-f7f13c952da3"
   },
   "outputs": [
    {
     "data": {
      "text/plain": [
       "2"
      ]
     },
     "execution_count": 293,
     "metadata": {},
     "output_type": "execute_result"
    }
   ],
   "source": [
    "a[1]"
   ]
  },
  {
   "cell_type": "markdown",
   "metadata": {
    "id": "rmKD1RweeSX3"
   },
   "source": [
    "Массивы — изменяемые объекты."
   ]
  },
  {
   "cell_type": "code",
   "execution_count": 294,
   "metadata": {
    "colab": {
     "base_uri": "https://localhost:8080/"
    },
    "id": "QlkGiSjxeSX3",
    "outputId": "d3033b84-8d2a-4e30-c937-29e910038622"
   },
   "outputs": [
    {
     "name": "stdout",
     "output_type": "stream",
     "text": [
      "[0 3 1]\n"
     ]
    }
   ],
   "source": [
    "a[1] = 3\n",
    "print(a)"
   ]
  },
  {
   "cell_type": "markdown",
   "metadata": {
    "id": "Yd31-o_UeSX6"
   },
   "source": [
    "Массивы, разумеется, можно использовать в `for` циклах. Но при этом теряется главное преимущество `numpy` — быстродействие. Всегда, когда это возможно, лучше использовать операции над массивами как едиными целыми."
   ]
  },
  {
   "cell_type": "code",
   "execution_count": 295,
   "metadata": {
    "colab": {
     "base_uri": "https://localhost:8080/"
    },
    "id": "c4K_PK_OeSX7",
    "outputId": "f9203056-39fe-42c1-ffd7-88250a3d44c5"
   },
   "outputs": [
    {
     "name": "stdout",
     "output_type": "stream",
     "text": [
      "0\n",
      "3\n",
      "1\n"
     ]
    }
   ],
   "source": [
    "for i in a:\n",
    "    print(i)"
   ]
  },
  {
   "cell_type": "markdown",
   "metadata": {
    "id": "SKlWqaBOe0hu"
   },
   "source": [
    "**Упражнение:** создайте numpy-массив, состоящий из первых пяти простых чисел, выведите его тип и размер.\n",
    "\n",
    "**Решение:**"
   ]
  },
  {
   "cell_type": "code",
   "execution_count": 296,
   "metadata": {
    "colab": {
     "base_uri": "https://localhost:8080/"
    },
    "id": "fNmCAqpHe0hu",
    "outputId": "1aa6cf65-955e-4418-caa6-2a601e5d6a7d"
   },
   "outputs": [
    {
     "name": "stdout",
     "output_type": "stream",
     "text": [
      "[ 2  3  5  7 11]\n",
      "(5,)\n",
      "int32\n"
     ]
    }
   ],
   "source": [
    "arr = np.array([2, 3, 5, 7, 11])\n",
    "print(arr)\n",
    "print(arr.shape)\n",
    "print(arr.dtype)"
   ]
  },
  {
   "cell_type": "markdown",
   "metadata": {
    "id": "ViI6VqnXeSYE"
   },
   "source": [
    "#### 1.3 Генерация массивов\n",
    "\n",
    "* [zeros](https://docs.scipy.org/doc/numpy/reference/generated/numpy.zeros.html) — создаёт массив заполненный нулями заданной размерности\n",
    "* [ones](https://docs.scipy.org/doc/numpy/reference/generated/numpy.ones.html) — создаёт массив заполненный единицами заданной размерности\n",
    "* [empty](https://docs.scipy.org/doc/numpy/reference/generated/numpy.empty.html) — создаёт массив неинициализированный никаким значением заданной размерности\n",
    "* [arange](https://docs.scipy.org/doc/numpy/reference/generated/numpy.arange.html) — аналог range из Python, которому можно передать нецелочисленный шаг\n",
    "* [linspace](https://docs.scipy.org/doc/numpy/reference/generated/numpy.linspace.html) — способ равномерно разбить отрезок на n-1 интервал\n",
    "* [logspace](https://docs.scipy.org/doc/numpy/reference/generated/numpy.logspace.html) — способ разбить отрезок по логарифмической шкале\n",
    "\n",
    "Массивы, заполненные нулями или единицами. Часто лучше сначала создать такой массив, а потом присваивать значения его элементам."
   ]
  },
  {
   "cell_type": "code",
   "execution_count": 297,
   "metadata": {
    "colab": {
     "base_uri": "https://localhost:8080/"
    },
    "id": "gNU_q5mFQkyu",
    "outputId": "adc86550-5355-42bf-d2d6-dd7f9db9648e"
   },
   "outputs": [
    {
     "data": {
      "text/plain": [
       "[0, 0, 0]"
      ]
     },
     "execution_count": 297,
     "metadata": {},
     "output_type": "execute_result"
    }
   ],
   "source": [
    "[0 for _ in range(3)]"
   ]
  },
  {
   "cell_type": "code",
   "execution_count": 298,
   "metadata": {
    "colab": {
     "base_uri": "https://localhost:8080/"
    },
    "id": "3cxqI6EPRw7W",
    "outputId": "08bfd2dd-3da0-453e-bcb6-4fa31e8fd29f"
   },
   "outputs": [
    {
     "data": {
      "text/plain": [
       "array([0, 0, 0])"
      ]
     },
     "execution_count": 298,
     "metadata": {},
     "output_type": "execute_result"
    }
   ],
   "source": [
    "np.array([0] * 3)"
   ]
  },
  {
   "cell_type": "code",
   "execution_count": 299,
   "metadata": {
    "colab": {
     "base_uri": "https://localhost:8080/"
    },
    "id": "V8yK0FLteSYF",
    "outputId": "2e21923b-b9de-46a3-eb2b-da9f49818505"
   },
   "outputs": [
    {
     "name": "stdout",
     "output_type": "stream",
     "text": [
      "[[0. 0. 0. 0.]\n",
      " [0. 0. 0. 0.]\n",
      " [0. 0. 0. 0.]]\n",
      "[1 1 1]\n"
     ]
    }
   ],
   "source": [
    "a = np.zeros((3, 4))\n",
    "b = np.ones(3, dtype=np.int64)\n",
    "print(a)\n",
    "print(b)"
   ]
  },
  {
   "cell_type": "markdown",
   "metadata": {
    "id": "YW31gGnbeSYI"
   },
   "source": [
    "Если нужно создать массив, заполненный нулями, длины и типа другого массива, то можно использовать конструкцию"
   ]
  },
  {
   "cell_type": "code",
   "execution_count": 300,
   "metadata": {
    "colab": {
     "base_uri": "https://localhost:8080/"
    },
    "id": "0IJVs0EmeSYJ",
    "outputId": "ade64536-1489-42d5-ab23-1c55dd781a64"
   },
   "outputs": [
    {
     "data": {
      "text/plain": [
       "array([0, 0, 0], dtype=int64)"
      ]
     },
     "execution_count": 300,
     "metadata": {},
     "output_type": "execute_result"
    }
   ],
   "source": [
    "np.zeros_like(b)"
   ]
  },
  {
   "cell_type": "markdown",
   "metadata": {
    "id": "-nnOn0gNeSYL"
   },
   "source": [
    "Функция `arange` подобна `range`. Аргументы могут быть с плавающей точкой. Следует избегать ситуаций, когда *(конец-начало)/шаг* — целое число, потому что в этом случае включение последнего элемента зависит от ошибок округления. Лучше, чтобы конец диапазона был где-то посредине шага."
   ]
  },
  {
   "cell_type": "code",
   "execution_count": 301,
   "metadata": {
    "colab": {
     "base_uri": "https://localhost:8080/"
    },
    "id": "gqTdkX18eSYL",
    "outputId": "5deb924d-f066-4f0b-9aeb-95ba30dcd999"
   },
   "outputs": [
    {
     "name": "stdout",
     "output_type": "stream",
     "text": [
      "[0 2 4 6 8]\n"
     ]
    }
   ],
   "source": [
    "a = np.arange(0, 9, 2)\n",
    "print(a)"
   ]
  },
  {
   "cell_type": "code",
   "execution_count": 302,
   "metadata": {
    "colab": {
     "base_uri": "https://localhost:8080/"
    },
    "id": "7pY-5MmweSYN",
    "outputId": "500144cf-a284-412d-b12c-b8db2e1e4e29"
   },
   "outputs": [
    {
     "name": "stdout",
     "output_type": "stream",
     "text": [
      "[0. 2. 4. 6.]\n"
     ]
    }
   ],
   "source": [
    "b = np.arange(0., 8, 2)\n",
    "print(b)"
   ]
  },
  {
   "cell_type": "markdown",
   "metadata": {
    "id": "vgPAKPaqeSYP"
   },
   "source": [
    "Последовательности чисел с постоянным шагом можно также создавать функцией `linspace`. Начало и конец диапазона включаются; последний аргумент — число точек."
   ]
  },
  {
   "cell_type": "code",
   "execution_count": null,
   "metadata": {
    "colab": {
     "base_uri": "https://localhost:8080/"
    },
    "id": "l1ruNluSeSYP",
    "outputId": "3d0957bc-597e-490b-877a-c6379289908e"
   },
   "outputs": [
    {
     "name": "stdout",
     "output_type": "stream",
     "text": [
      "[0.         1.33333333 2.66666667 4.         5.33333333 6.66666667\n",
      " 8.        ]\n"
     ]
    }
   ],
   "source": [
    "a = np.linspace(0, 8, 7)\n",
    "print(a)"
   ]
  },
  {
   "cell_type": "markdown",
   "metadata": {
    "id": "jltjeFtTe0hw"
   },
   "source": [
    "**Упражнение:** создайте и выведите последовательность чисел от 10 до 20 с постоянным шагом, длина последовательности - 21.\n",
    "\n",
    "**Решение:**"
   ]
  },
  {
   "cell_type": "code",
   "execution_count": 303,
   "metadata": {
    "colab": {
     "base_uri": "https://localhost:8080/"
    },
    "id": "LsDkI-1Ye0hw",
    "outputId": "f077936a-485d-437f-be99-fe4302f578a7"
   },
   "outputs": [
    {
     "name": "stdout",
     "output_type": "stream",
     "text": [
      "[10.  10.5 11.  11.5 12.  12.5 13.  13.5 14.  14.5 15.  15.5 16.  16.5\n",
      " 17.  17.5 18.  18.5 19.  19.5 20. ]\n"
     ]
    }
   ],
   "source": [
    "arr = np.linspace(10, 20, 21)\n",
    "print(arr)"
   ]
  },
  {
   "cell_type": "code",
   "execution_count": 304,
   "metadata": {
    "id": "OCxx__iGSVju"
   },
   "outputs": [],
   "source": [
    "arr = arr.astype(str)"
   ]
  },
  {
   "cell_type": "code",
   "execution_count": 305,
   "metadata": {
    "id": "Wf3Tnvy6R8sZ"
   },
   "outputs": [],
   "source": [
    "arr[0] = \"hello\""
   ]
  },
  {
   "cell_type": "code",
   "execution_count": 306,
   "metadata": {
    "colab": {
     "base_uri": "https://localhost:8080/"
    },
    "id": "IhgFWXIAR_Gt",
    "outputId": "c9df1d62-5030-430f-9244-bba27dad812e"
   },
   "outputs": [
    {
     "data": {
      "text/plain": [
       "array(['0.0', '2.0', '4.0', '6.0', 'hello', '10.5', '11.0', '11.5',\n",
       "       '12.0', '12.5', '13.0', '13.5', '14.0', '14.5', '15.0', '15.5',\n",
       "       '16.0', '16.5', '17.0', '17.5', '18.0', '18.5', '19.0', '19.5',\n",
       "       '20.0'], dtype='<U32')"
      ]
     },
     "execution_count": 306,
     "metadata": {},
     "output_type": "execute_result"
    }
   ],
   "source": [
    "np.concatenate([b, arr])"
   ]
  },
  {
   "cell_type": "markdown",
   "metadata": {
    "id": "LLfyQPuqeSYR"
   },
   "source": [
    "Последовательность чисел с постоянным шагом по логарифмической шкале от $10^0$ до $10^1$."
   ]
  },
  {
   "cell_type": "code",
   "execution_count": null,
   "metadata": {
    "colab": {
     "base_uri": "https://localhost:8080/"
    },
    "id": "Njm5f_n1eSYR",
    "outputId": "0c78ba78-5263-4a10-fa99-44bc63fe827e"
   },
   "outputs": [
    {
     "name": "stdout",
     "output_type": "stream",
     "text": [
      "[ 1.          1.77827941  3.16227766  5.62341325 10.        ]\n"
     ]
    }
   ],
   "source": [
    "b = np.logspace(0, 1, 5)\n",
    "print(b)"
   ]
  },
  {
   "cell_type": "markdown",
   "metadata": {
    "id": "dyaDa9YXeSY1"
   },
   "source": [
    "#### 1.4 Типы элементов в массивах\n",
    "\n",
    "Вообще, в массивах могут храниться не только числа."
   ]
  },
  {
   "cell_type": "code",
   "execution_count": 307,
   "metadata": {
    "id": "VASwCXVcIC4S"
   },
   "outputs": [],
   "source": [
    "mixed_array = np.array([1, 2, 3, \"H\"])"
   ]
  },
  {
   "cell_type": "markdown",
   "metadata": {
    "id": "RE5Duq8uIC4S"
   },
   "source": [
    "Однако, все элементы, лежащие в одном массиве, должны быть одного типа."
   ]
  },
  {
   "cell_type": "code",
   "execution_count": 309,
   "metadata": {
    "colab": {
     "base_uri": "https://localhost:8080/"
    },
    "id": "lMK3iYIqZgg6",
    "outputId": "6687dd00-0b61-43fe-82c5-962f744b3cec"
   },
   "outputs": [
    {
     "data": {
      "text/plain": [
       "39"
      ]
     },
     "execution_count": 309,
     "metadata": {},
     "output_type": "execute_result"
    }
   ],
   "source": [
    "len(\"Helloowfyuewhrhfuwehfuyregfuyeryugfbure\")"
   ]
  },
  {
   "cell_type": "code",
   "execution_count": 310,
   "metadata": {
    "colab": {
     "base_uri": "https://localhost:8080/"
    },
    "id": "gbgtK1WoIC4S",
    "outputId": "501a852d-9b96-472a-8828-1b8263278733"
   },
   "outputs": [
    {
     "data": {
      "text/plain": [
       "array(['1', '2', '3', 'H'], dtype='<U11')"
      ]
     },
     "execution_count": 310,
     "metadata": {},
     "output_type": "execute_result"
    }
   ],
   "source": [
    "mixed_array"
   ]
  },
  {
   "cell_type": "markdown",
   "metadata": {
    "id": "b2sgaTdgIC4T"
   },
   "source": [
    "Здесь видно, что числа `1`, `2`, `3` превратились в строчки `'1'`, `'2'`, `'3'`. Параметр `dtype` содержит информацию о типе объектов, хранящихся в массиве. `<U21` означает юникодную строку длиной максимум 21 байт. При попытке записать более длинную строку она будет обрезана."
   ]
  },
  {
   "cell_type": "code",
   "execution_count": 311,
   "metadata": {
    "colab": {
     "base_uri": "https://localhost:8080/",
     "height": 35
    },
    "id": "xibnF047IC4T",
    "outputId": "79ce25cd-2e34-40ac-9a3a-2118a801f33c"
   },
   "outputs": [
    {
     "data": {
      "text/plain": [
       "'Hello, Worl'"
      ]
     },
     "execution_count": 311,
     "metadata": {},
     "output_type": "execute_result"
    }
   ],
   "source": [
    "mixed_array[0] = 'Hello, World, This is a Test'\n",
    "mixed_array[0]"
   ]
  },
  {
   "cell_type": "markdown",
   "metadata": {
    "id": "LabqMN2IIC4T"
   },
   "source": [
    "Вообще `numpy` при создании массива старается не терять информацию и выбирает самый «вместительный» тип."
   ]
  },
  {
   "cell_type": "code",
   "execution_count": 312,
   "metadata": {
    "colab": {
     "base_uri": "https://localhost:8080/"
    },
    "id": "rFKTlhzXIC4T",
    "outputId": "9a4e34ca-e340-4bfa-ad2f-e44cc33c8440"
   },
   "outputs": [
    {
     "data": {
      "text/plain": [
       "array([1, 2, 3])"
      ]
     },
     "execution_count": 312,
     "metadata": {},
     "output_type": "execute_result"
    }
   ],
   "source": [
    "np.array([1,2,3])"
   ]
  },
  {
   "cell_type": "code",
   "execution_count": 313,
   "metadata": {
    "colab": {
     "base_uri": "https://localhost:8080/"
    },
    "id": "W3HL8-nrIC4T",
    "outputId": "1ef7e74e-7daf-4595-f834-288bbf5592e6"
   },
   "outputs": [
    {
     "data": {
      "text/plain": [
       "array([1., 2., 3., 5.])"
      ]
     },
     "execution_count": 313,
     "metadata": {},
     "output_type": "execute_result"
    }
   ],
   "source": [
    "np.array([1,2,3, 5.])"
   ]
  },
  {
   "cell_type": "markdown",
   "metadata": {
    "id": "KUe8rMAoIC4T"
   },
   "source": [
    "Все числа превратились в вещественные, поскольку в исходном списке, из которого делается массив, есть вещественное число."
   ]
  },
  {
   "cell_type": "markdown",
   "metadata": {
    "id": "mrkuLvw_IC4U"
   },
   "source": [
    "#### 1.5 Коварные срезы\n",
    "\n",
    "Давайте посмотрим внимательно на срезы."
   ]
  },
  {
   "cell_type": "code",
   "execution_count": 314,
   "metadata": {
    "id": "3wjBq7UcIC4U"
   },
   "outputs": [],
   "source": [
    "x = np.array([1.1, 2.2, 3.3, 4.4, 5.5])"
   ]
  },
  {
   "cell_type": "code",
   "execution_count": 315,
   "metadata": {
    "id": "D5dtHaK8IC4U"
   },
   "outputs": [],
   "source": [
    "s = x[1:3:1]"
   ]
  },
  {
   "cell_type": "code",
   "execution_count": 316,
   "metadata": {
    "id": "_tPGJZ8CIC4U"
   },
   "outputs": [],
   "source": [
    "t = s  # view"
   ]
  },
  {
   "cell_type": "code",
   "execution_count": 317,
   "metadata": {
    "colab": {
     "base_uri": "https://localhost:8080/"
    },
    "id": "Xg2ZE3cLZ7xv",
    "outputId": "7af3626d-f0ac-4b84-906e-30954af08dcd"
   },
   "outputs": [
    {
     "data": {
      "text/plain": [
       "array([2.2, 3.3])"
      ]
     },
     "execution_count": 317,
     "metadata": {},
     "output_type": "execute_result"
    }
   ],
   "source": [
    "t"
   ]
  },
  {
   "cell_type": "markdown",
   "metadata": {
    "id": "Mb4RBGnXIC4U"
   },
   "source": [
    "Пока всё идёт как обычно: мы создали срез, начинающийся с элемента с индексом 1 (то есть второй элемент, нумерация с нуля) и заканчивающийся элементом с индексом 3 (последний элемент всегда не включается).\n",
    "\n",
    "Теперь попробуем изменить значение элемента *в срезе*:"
   ]
  },
  {
   "cell_type": "code",
   "execution_count": 318,
   "metadata": {
    "id": "H9tY18OzIC4U"
   },
   "outputs": [],
   "source": [
    "t[0] = 101"
   ]
  },
  {
   "cell_type": "code",
   "execution_count": 319,
   "metadata": {
    "colab": {
     "base_uri": "https://localhost:8080/"
    },
    "id": "JviO-vo8IC4V",
    "outputId": "f484e367-0c29-4098-a0a8-fc556d2b431a"
   },
   "outputs": [
    {
     "data": {
      "text/plain": [
       "array([101. ,   3.3])"
      ]
     },
     "execution_count": 319,
     "metadata": {},
     "output_type": "execute_result"
    }
   ],
   "source": [
    "s"
   ]
  },
  {
   "cell_type": "markdown",
   "metadata": {
    "id": "KZfbg18yIC4V"
   },
   "source": [
    "Как вы думаете, что произойдёт с исходным массивом `x`?"
   ]
  },
  {
   "cell_type": "code",
   "execution_count": 320,
   "metadata": {
    "colab": {
     "base_uri": "https://localhost:8080/"
    },
    "id": "nZHyjkmpIC4V",
    "outputId": "427bf316-8325-42d0-c2fb-f358c6aa431a"
   },
   "outputs": [
    {
     "data": {
      "text/plain": [
       "array([  1.1, 101. ,   3.3,   4.4,   5.5])"
      ]
     },
     "execution_count": 320,
     "metadata": {},
     "output_type": "execute_result"
    }
   ],
   "source": [
    "x"
   ]
  },
  {
   "cell_type": "markdown",
   "metadata": {
    "id": "lFIEUlFGIC4V"
   },
   "source": [
    "Он тоже изменился! Раньше мы видели подобную штуку в ситуациях, когда один список имел несколько имён (то есть несколько переменных на него ссылались), но создание среза раньше приводило к копированию информации. Оказывается, в numpy создание среза ничего не копирует: срез — это не новый массив, содержащий те же элементы, что старый, а так называемый *view* (вид), то есть своего рода интерфейс к старому массиву. Грубо говоря, наш срез `s` просто помнит, что «его» элемент с индексом 0 — это на самом деле элемент с индексом 1 от исходного массива `x`, а его элемент с индексом 1 — это на самом деле элемент с индексом 2 от исходного массива, а других элементов у него нет. Можно думать про срез как про такие специальные очки, через которые мы смотрим на исходный массив.\n",
    "\n",
    "Преимущество и этого подхода два: во-первых, непосвященные сломают голову, пытаясь понять, что тут происходит, а во-вторых если у нас есть огромный массив данных, то нам не придётся тратить ресурсы на то, чтобы его скопировать, если нам нужно сделать срез. Недостатки тоже есть, но они являются продолжением первого из преимуществ.\n",
    "\n",
    "Если вам всё-таки нужно сделать копию массива, нужно использовать метод `copy()`."
   ]
  },
  {
   "cell_type": "code",
   "execution_count": 321,
   "metadata": {
    "id": "3leiMd6PIC4V"
   },
   "outputs": [],
   "source": [
    "y = x.copy()"
   ]
  },
  {
   "cell_type": "code",
   "execution_count": 322,
   "metadata": {
    "colab": {
     "base_uri": "https://localhost:8080/"
    },
    "id": "c97c-NNiIC4V",
    "outputId": "8c28ddca-d778-4864-a800-1a78866e7dae"
   },
   "outputs": [
    {
     "data": {
      "text/plain": [
       "array([  1.1, 101. ,   3.3,   4.4,   5.5])"
      ]
     },
     "execution_count": 322,
     "metadata": {},
     "output_type": "execute_result"
    }
   ],
   "source": [
    "y"
   ]
  },
  {
   "cell_type": "code",
   "execution_count": 323,
   "metadata": {
    "colab": {
     "base_uri": "https://localhost:8080/"
    },
    "id": "nLQ_DS6bIC4W",
    "outputId": "b39a466b-3f31-446d-ec74-a4e09ad3d61d"
   },
   "outputs": [
    {
     "data": {
      "text/plain": [
       "array([  1.1, 101. ,   3.3,   4.4,   5.5])"
      ]
     },
     "execution_count": 323,
     "metadata": {},
     "output_type": "execute_result"
    }
   ],
   "source": [
    "x"
   ]
  },
  {
   "cell_type": "code",
   "execution_count": 324,
   "metadata": {
    "id": "W4198iR-IC4W"
   },
   "outputs": [],
   "source": [
    "y[0] = 12"
   ]
  },
  {
   "cell_type": "code",
   "execution_count": 325,
   "metadata": {
    "colab": {
     "base_uri": "https://localhost:8080/"
    },
    "id": "jut1qt5lIC4W",
    "outputId": "c4781755-8875-485d-f435-d4ccfb427882"
   },
   "outputs": [
    {
     "data": {
      "text/plain": [
       "array([  1.1, 101. ,   3.3,   4.4,   5.5])"
      ]
     },
     "execution_count": 325,
     "metadata": {},
     "output_type": "execute_result"
    }
   ],
   "source": [
    "x"
   ]
  },
  {
   "cell_type": "code",
   "execution_count": 326,
   "metadata": {
    "colab": {
     "base_uri": "https://localhost:8080/"
    },
    "id": "0sVvMQIeIC4W",
    "outputId": "465fcfbf-548e-4350-b0f2-aee8fac4ee33"
   },
   "outputs": [
    {
     "data": {
      "text/plain": [
       "array([ 12. , 101. ,   3.3,   4.4,   5.5])"
      ]
     },
     "execution_count": 326,
     "metadata": {},
     "output_type": "execute_result"
    }
   ],
   "source": [
    "y"
   ]
  },
  {
   "cell_type": "markdown",
   "metadata": {
    "id": "aewsmwnPIC4W"
   },
   "source": []
  },
  {
   "cell_type": "markdown",
   "metadata": {
    "id": "3TniLu7deSYT"
   },
   "source": [
    "## 2. Операции над одномерными массивами\n",
    "\n",
    "#### 2.1 Математические операции\n",
    "\n",
    "Арифметические операции проводятся поэлементно. Если у массивов будет разная длина, то ничего не получится"
   ]
  },
  {
   "cell_type": "code",
   "execution_count": 327,
   "metadata": {
    "colab": {
     "base_uri": "https://localhost:8080/"
    },
    "id": "YO9T5FQUe0hx",
    "outputId": "4b426ac5-53d0-432d-d622-87f6419d6bc2"
   },
   "outputs": [
    {
     "data": {
      "text/plain": [
       "array([0.        , 1.33333333, 2.66666667, 4.        , 5.33333333,\n",
       "       6.66666667, 8.        ])"
      ]
     },
     "execution_count": 327,
     "metadata": {},
     "output_type": "execute_result"
    }
   ],
   "source": [
    "a = np.array([0.        , 1.33333333, 2.66666667, 4.        , 5.33333333,\n",
    "       6.66666667, 8.        ])\n",
    "a"
   ]
  },
  {
   "cell_type": "code",
   "execution_count": 328,
   "metadata": {
    "colab": {
     "base_uri": "https://localhost:8080/"
    },
    "id": "DbjzvqYne0hx",
    "outputId": "0909ff4b-b01e-488c-bf0e-d946a26159c1"
   },
   "outputs": [
    {
     "data": {
      "text/plain": [
       "array([0., 2., 4., 6.])"
      ]
     },
     "execution_count": 328,
     "metadata": {},
     "output_type": "execute_result"
    }
   ],
   "source": [
    "b = np.array([0., 2., 4., 6.])\n",
    "b\n"
   ]
  },
  {
   "cell_type": "code",
   "execution_count": 329,
   "metadata": {
    "id": "aNVo6nnqUnwB"
   },
   "outputs": [],
   "source": [
    "c = np.zeros(5)"
   ]
  },
  {
   "cell_type": "code",
   "execution_count": 331,
   "metadata": {
    "colab": {
     "base_uri": "https://localhost:8080/"
    },
    "id": "XgS7-Hv-eSYT",
    "outputId": "29e8518b-7ca6-4b26-cbec-7a81b9c4cc58"
   },
   "outputs": [
    {
     "name": "stdout",
     "output_type": "stream",
     "text": [
      "[ 0.          3.33333333  6.66666667 10.        ]\n"
     ]
    }
   ],
   "source": [
    "print(a[:4] + b)"
   ]
  },
  {
   "cell_type": "markdown",
   "metadata": {
    "id": "rlukQItTIC4X"
   },
   "source": [
    "А что же делать, если мы хотим объединить два массива (сложение в случае списков)?"
   ]
  },
  {
   "cell_type": "code",
   "execution_count": 332,
   "metadata": {
    "colab": {
     "base_uri": "https://localhost:8080/",
     "height": 169
    },
    "id": "EHMwmRDvIC4X",
    "outputId": "ddb737bf-5ff6-4cef-9574-f9a59fe9c14c"
   },
   "outputs": [
    {
     "data": {
      "text/plain": [
       "array([0.        , 1.33333333, 2.66666667, 4.        , 5.33333333,\n",
       "       6.66666667, 8.        , 0.        , 2.        , 4.        ,\n",
       "       6.        ])"
      ]
     },
     "execution_count": 332,
     "metadata": {},
     "output_type": "execute_result"
    }
   ],
   "source": [
    "np.concatenate( [a, b] )"
   ]
  },
  {
   "cell_type": "code",
   "execution_count": 333,
   "metadata": {
    "colab": {
     "base_uri": "https://localhost:8080/"
    },
    "id": "qGK2iCjieSYV",
    "outputId": "ea0d49a7-50b6-48a1-fe56-46cac9e7467f"
   },
   "outputs": [
    {
     "name": "stdout",
     "output_type": "stream",
     "text": [
      "[ 0.         -0.66666667 -1.33333333 -2.        ]\n"
     ]
    }
   ],
   "source": [
    "print(a[:4] - b)"
   ]
  },
  {
   "cell_type": "code",
   "execution_count": 334,
   "metadata": {
    "colab": {
     "base_uri": "https://localhost:8080/"
    },
    "id": "23KFrhXfeSYX",
    "outputId": "1e843c7c-80dc-4334-8fe8-4990b809d2f3"
   },
   "outputs": [
    {
     "name": "stdout",
     "output_type": "stream",
     "text": [
      "[ 0.          2.66666666 10.66666668 24.        ]\n"
     ]
    }
   ],
   "source": [
    "print(a[:4] * b)"
   ]
  },
  {
   "cell_type": "code",
   "execution_count": 335,
   "metadata": {
    "colab": {
     "base_uri": "https://localhost:8080/"
    },
    "id": "wKYv1wzReSYY",
    "outputId": "031e2bb7-da2f-4e67-8cdc-e77dbae31a41"
   },
   "outputs": [
    {
     "name": "stdout",
     "output_type": "stream",
     "text": [
      "[       nan 0.66666667 0.66666667 0.66666667]\n"
     ]
    },
    {
     "name": "stderr",
     "output_type": "stream",
     "text": [
      "C:\\Users\\Dari\\AppData\\Local\\Temp\\ipykernel_11124\\1058900111.py:1: RuntimeWarning: invalid value encountered in divide\n",
      "  print(a[:4] / b)\n"
     ]
    }
   ],
   "source": [
    "print(a[:4] / b)"
   ]
  },
  {
   "cell_type": "code",
   "execution_count": 336,
   "metadata": {
    "colab": {
     "base_uri": "https://localhost:8080/"
    },
    "id": "rxgiLyK0eSYa",
    "outputId": "b3244b44-5fbe-43e7-b7c1-29b070d24441"
   },
   "outputs": [
    {
     "name": "stdout",
     "output_type": "stream",
     "text": [
      "[ 0.          1.77777777  7.11111113 16.         28.44444441 44.44444449\n",
      " 64.        ]\n"
     ]
    }
   ],
   "source": [
    "print(a ** 2)"
   ]
  },
  {
   "cell_type": "markdown",
   "metadata": {
    "id": "K8DiU43EeSYc"
   },
   "source": [
    "Когда операнды разных типов, они пиводятся к большему типу."
   ]
  },
  {
   "cell_type": "code",
   "execution_count": 337,
   "metadata": {
    "colab": {
     "base_uri": "https://localhost:8080/"
    },
    "id": "e3zsPgHweSYc",
    "outputId": "6e49e425-467c-47cc-8cbb-7e766bc6d22d"
   },
   "outputs": [
    {
     "name": "stdout",
     "output_type": "stream",
     "text": [
      "[1.         2.33333333 3.66666667 5.         6.33333333 7.66666667\n",
      " 9.        ]\n"
     ]
    }
   ],
   "source": [
    "i = np.ones(7, dtype=np.int64)\n",
    "print(a + i)"
   ]
  },
  {
   "cell_type": "markdown",
   "metadata": {
    "id": "Hy161lcoeSYd"
   },
   "source": [
    "Библиотека `numpy` содержит элементарные функции, которые тоже применяются к массивам поэлементно. Они называются универсальными функциями (`ufunc`)."
   ]
  },
  {
   "cell_type": "code",
   "execution_count": 338,
   "metadata": {
    "colab": {
     "base_uri": "https://localhost:8080/"
    },
    "id": "Dkh0NdmyeSYe",
    "outputId": "dce55bc0-0932-44f3-9e3a-2cea471dcaf1"
   },
   "outputs": [
    {
     "data": {
      "text/plain": [
       "(<ufunc 'sin'>, numpy.ufunc)"
      ]
     },
     "execution_count": 338,
     "metadata": {},
     "output_type": "execute_result"
    }
   ],
   "source": [
    "np.sin, type(np.sin)"
   ]
  },
  {
   "cell_type": "code",
   "execution_count": 339,
   "metadata": {
    "colab": {
     "base_uri": "https://localhost:8080/"
    },
    "id": "H5IHOdzVeSYf",
    "outputId": "ab0bd034-8942-43d3-a085-d48f90f65352"
   },
   "outputs": [
    {
     "name": "stdout",
     "output_type": "stream",
     "text": [
      "[1.00000000e+00 3.79366788e+00 1.43919161e+01 5.45981500e+01\n",
      " 2.07127248e+02 7.85771997e+02 2.98095799e+03]\n"
     ]
    }
   ],
   "source": [
    "print(np.exp(a))"
   ]
  },
  {
   "cell_type": "markdown",
   "metadata": {
    "id": "EHJctEZLIC4Y"
   },
   "source": []
  },
  {
   "cell_type": "code",
   "execution_count": 340,
   "metadata": {
    "colab": {
     "base_uri": "https://localhost:8080/"
    },
    "id": "PBclCnfuIC4Z",
    "outputId": "4e88ad18-f97b-462c-8059-153dec95fbef"
   },
   "outputs": [
    {
     "data": {
      "text/plain": [
       "array([0.        , 1.15470054, 1.63299316, 2.        , 2.30940108,\n",
       "       2.5819889 , 2.82842712])"
      ]
     },
     "execution_count": 340,
     "metadata": {},
     "output_type": "execute_result"
    }
   ],
   "source": [
    "import math\n",
    "math.sqrt(a)"
   ]
  },
  {
   "cell_type": "code",
   "execution_count": 341,
   "metadata": {
    "colab": {
     "base_uri": "https://localhost:8080/"
    },
    "id": "Q-SG558NIC4Z",
    "outputId": "8cf83623-fa7c-4019-b2d2-17ccf586a9f1"
   },
   "outputs": [
    {
     "data": {
      "text/plain": [
       "array([0.        , 1.15470054, 1.63299316, 2.        , 2.30940108,\n",
       "       2.5819889 , 2.82842712])"
      ]
     },
     "execution_count": 341,
     "metadata": {},
     "output_type": "execute_result"
    }
   ],
   "source": [
    "np.sqrt(a)"
   ]
  },
  {
   "cell_type": "markdown",
   "metadata": {
    "id": "Cm7c1VILeSYh"
   },
   "source": [
    "Один из операндов может быть скаляром, а не массивом."
   ]
  },
  {
   "cell_type": "code",
   "execution_count": 342,
   "metadata": {
    "id": "wrHcxqmFVIIz"
   },
   "outputs": [],
   "source": [
    "math.sqrt = np.sqrt"
   ]
  },
  {
   "cell_type": "code",
   "execution_count": 343,
   "metadata": {
    "colab": {
     "base_uri": "https://localhost:8080/"
    },
    "id": "i-SbxjRWbXvf",
    "outputId": "888ba33d-5c01-4b35-f1b4-9b928f1fb09d"
   },
   "outputs": [
    {
     "data": {
      "text/plain": [
       "2.0"
      ]
     },
     "execution_count": 343,
     "metadata": {},
     "output_type": "execute_result"
    }
   ],
   "source": [
    "math.sqrt(4)"
   ]
  },
  {
   "cell_type": "code",
   "execution_count": 208,
   "metadata": {
    "colab": {
     "base_uri": "https://localhost:8080/"
    },
    "id": "u95YXT1OVH9-",
    "outputId": "3ee04914-d702-4c72-80dd-332769827eda"
   },
   "outputs": [
    {
     "data": {
      "text/plain": [
       "array([0.        , 1.33333333, 2.66666667, 4.        , 5.33333333,\n",
       "       6.66666667, 8.        ])"
      ]
     },
     "execution_count": 208,
     "metadata": {},
     "output_type": "execute_result"
    }
   ],
   "source": [
    "a"
   ]
  },
  {
   "cell_type": "code",
   "execution_count": 209,
   "metadata": {
    "colab": {
     "base_uri": "https://localhost:8080/"
    },
    "id": "Wz9kCm0feSYh",
    "outputId": "8a0612c0-a8d5-4386-e8ef-41905f430da7"
   },
   "outputs": [
    {
     "name": "stdout",
     "output_type": "stream",
     "text": [
      "[1.         2.33333333 3.66666667 5.         6.33333333 7.66666667\n",
      " 9.        ]\n"
     ]
    }
   ],
   "source": [
    "print(a + 1 * np.ones_like(a))"
   ]
  },
  {
   "cell_type": "code",
   "execution_count": 210,
   "metadata": {
    "colab": {
     "base_uri": "https://localhost:8080/"
    },
    "id": "FeacFeQYeSYi",
    "outputId": "f1124793-175c-469f-fb2f-880660259cd1"
   },
   "outputs": [
    {
     "name": "stdout",
     "output_type": "stream",
     "text": [
      "[ 0.          2.66666666  5.33333334  8.         10.66666666 13.33333334\n",
      " 16.        ]\n"
     ]
    }
   ],
   "source": [
    "print(2 * a)"
   ]
  },
  {
   "cell_type": "markdown",
   "metadata": {
    "id": "76IhU9CAeSYk"
   },
   "source": [
    "Сравнения дают булевы массивы."
   ]
  },
  {
   "cell_type": "code",
   "execution_count": 212,
   "metadata": {},
   "outputs": [],
   "source": [
    "a = a[:4]"
   ]
  },
  {
   "cell_type": "code",
   "execution_count": 213,
   "metadata": {
    "colab": {
     "base_uri": "https://localhost:8080/"
    },
    "id": "69vVqzSgeSYk",
    "outputId": "af6f7598-b02a-44f2-db0b-b967bcad5349"
   },
   "outputs": [
    {
     "name": "stdout",
     "output_type": "stream",
     "text": [
      "[False False False False]\n"
     ]
    }
   ],
   "source": [
    "print(a > b)"
   ]
  },
  {
   "cell_type": "code",
   "execution_count": 214,
   "metadata": {
    "colab": {
     "base_uri": "https://localhost:8080/"
    },
    "id": "DwDMZFhSeSYl",
    "outputId": "3ea2dd5a-f2da-49cf-a284-35dad948e442"
   },
   "outputs": [
    {
     "name": "stdout",
     "output_type": "stream",
     "text": [
      "[ True False False False]\n"
     ]
    }
   ],
   "source": [
    "print(a == b)"
   ]
  },
  {
   "cell_type": "code",
   "execution_count": 215,
   "metadata": {
    "colab": {
     "base_uri": "https://localhost:8080/"
    },
    "id": "TbjPskMceSYm",
    "outputId": "7f545f6a-ff38-45cb-8556-12f5060ed2b2"
   },
   "outputs": [
    {
     "name": "stdout",
     "output_type": "stream",
     "text": [
      "[False False False False]\n"
     ]
    }
   ],
   "source": [
    "c = a > 5\n",
    "print(c)"
   ]
  },
  {
   "cell_type": "markdown",
   "metadata": {
    "id": "vQ05bHN4eSYo"
   },
   "source": [
    "Кванторы \"существует\" и \"для всех\"."
   ]
  },
  {
   "cell_type": "code",
   "execution_count": 216,
   "metadata": {
    "colab": {
     "base_uri": "https://localhost:8080/"
    },
    "id": "HTMkK7wYeSYo",
    "outputId": "dc641d49-0d77-4006-8f34-572a00f343f0"
   },
   "outputs": [
    {
     "data": {
      "text/plain": [
       "(False, False)"
      ]
     },
     "execution_count": 216,
     "metadata": {},
     "output_type": "execute_result"
    }
   ],
   "source": [
    "np.any(c), np.all(c)"
   ]
  },
  {
   "cell_type": "markdown",
   "metadata": {
    "id": "DdbUjlGIIC4a"
   },
   "source": [
    "Комбинированные булевы выражения могут быть применены к массивам по принципу элемент — элемент используя специальные функции logical_and, logical_or и logical_not."
   ]
  },
  {
   "cell_type": "code",
   "execution_count": 222,
   "metadata": {
    "colab": {
     "base_uri": "https://localhost:8080/"
    },
    "id": "lZIOVZcXIC4b",
    "outputId": "87b523d8-277d-481e-c736-94e3a0fae67d"
   },
   "outputs": [
    {
     "data": {
      "text/plain": [
       "array([ True, False,  True])"
      ]
     },
     "execution_count": 222,
     "metadata": {},
     "output_type": "execute_result"
    }
   ],
   "source": [
    "c = np.array([1, 3, 0.1], float)\n",
    "np.logical_and(c > 0, c < 3)"
   ]
  },
  {
   "cell_type": "code",
   "execution_count": 223,
   "metadata": {},
   "outputs": [
    {
     "data": {
      "text/plain": [
       "array([ True, False,  True])"
      ]
     },
     "execution_count": 223,
     "metadata": {},
     "output_type": "execute_result"
    }
   ],
   "source": [
    "(c > 0) & (c < 3)"
   ]
  },
  {
   "cell_type": "code",
   "execution_count": 225,
   "metadata": {
    "colab": {
     "base_uri": "https://localhost:8080/"
    },
    "id": "6q7f1Uw8IC4b",
    "outputId": "39ee2866-73bc-4a10-c345-ce0ae9736455"
   },
   "outputs": [
    {
     "data": {
      "text/plain": [
       "array([False,  True, False])"
      ]
     },
     "execution_count": 225,
     "metadata": {},
     "output_type": "execute_result"
    }
   ],
   "source": [
    "c = np.array([True, False, True], bool)\n",
    "np.logical_not(c)"
   ]
  },
  {
   "cell_type": "code",
   "execution_count": 226,
   "metadata": {},
   "outputs": [
    {
     "data": {
      "text/plain": [
       "array([False,  True, False])"
      ]
     },
     "execution_count": 226,
     "metadata": {},
     "output_type": "execute_result"
    }
   ],
   "source": [
    "~c"
   ]
  },
  {
   "cell_type": "code",
   "execution_count": 228,
   "metadata": {
    "colab": {
     "base_uri": "https://localhost:8080/"
    },
    "id": "q196JKdyIC4b",
    "outputId": "4e4a6b38-9207-497d-d4e6-7b0c44c8330c"
   },
   "outputs": [
    {
     "data": {
      "text/plain": [
       "array([ True,  True,  True])"
      ]
     },
     "execution_count": 228,
     "metadata": {},
     "output_type": "execute_result"
    }
   ],
   "source": [
    "d = np.array([False, True, False], bool)\n",
    "np.logical_or(d, c)"
   ]
  },
  {
   "cell_type": "code",
   "execution_count": 232,
   "metadata": {
    "id": "w4bXPAuIIC4b"
   },
   "outputs": [
    {
     "data": {
      "text/plain": [
       "array([ True,  True,  True])"
      ]
     },
     "execution_count": 232,
     "metadata": {},
     "output_type": "execute_result"
    }
   ],
   "source": [
    "c | d"
   ]
  },
  {
   "cell_type": "markdown",
   "metadata": {
    "id": "YdXbXq--eSYp"
   },
   "source": [
    "Модификация на месте."
   ]
  },
  {
   "cell_type": "code",
   "execution_count": 344,
   "metadata": {
    "colab": {
     "base_uri": "https://localhost:8080/"
    },
    "id": "brP3tijHe0h4",
    "outputId": "0c5b41e3-b0fa-46b1-f0c2-2211e1546ea9"
   },
   "outputs": [
    {
     "data": {
      "text/plain": [
       "array([0.        , 1.33333333, 2.66666667, 4.        , 5.33333333,\n",
       "       6.66666667, 8.        ])"
      ]
     },
     "execution_count": 344,
     "metadata": {},
     "output_type": "execute_result"
    }
   ],
   "source": [
    "a"
   ]
  },
  {
   "cell_type": "code",
   "execution_count": 345,
   "metadata": {
    "colab": {
     "base_uri": "https://localhost:8080/"
    },
    "id": "iNT_nYSveSYq",
    "outputId": "63a253e8-5d90-43b7-e455-7c6107486216"
   },
   "outputs": [
    {
     "name": "stdout",
     "output_type": "stream",
     "text": [
      "[1.         2.33333333 3.66666667 5.         6.33333333 7.66666667\n",
      " 9.        ]\n"
     ]
    }
   ],
   "source": [
    "a += 1\n",
    "print(a)"
   ]
  },
  {
   "cell_type": "code",
   "execution_count": 346,
   "metadata": {
    "colab": {
     "base_uri": "https://localhost:8080/"
    },
    "id": "g73lzOzKe0h4",
    "outputId": "a3c4d0c9-94ac-48de-e58b-5f414b839598"
   },
   "outputs": [
    {
     "data": {
      "text/plain": [
       "array([0., 2., 4., 6.])"
      ]
     },
     "execution_count": 346,
     "metadata": {},
     "output_type": "execute_result"
    }
   ],
   "source": [
    "b"
   ]
  },
  {
   "cell_type": "code",
   "execution_count": 347,
   "metadata": {
    "colab": {
     "base_uri": "https://localhost:8080/"
    },
    "id": "CItC6JrLeSYr",
    "outputId": "7a2080a4-ead0-4ece-cc05-85c89af9a07d"
   },
   "outputs": [
    {
     "name": "stdout",
     "output_type": "stream",
     "text": [
      "[ 0.  4.  8. 12.]\n"
     ]
    }
   ],
   "source": [
    "b *= 2\n",
    "print(b)"
   ]
  },
  {
   "cell_type": "code",
   "execution_count": 348,
   "metadata": {
    "colab": {
     "base_uri": "https://localhost:8080/"
    },
    "id": "immEdJpGeSYt",
    "outputId": "13056628-67a7-4c33-b265-19cfb9d5695f"
   },
   "outputs": [
    {
     "ename": "ValueError",
     "evalue": "operands could not be broadcast together with shapes (4,) (7,) (4,) ",
     "output_type": "error",
     "traceback": [
      "\u001b[1;31m---------------------------------------------------------------------------\u001b[0m",
      "\u001b[1;31mValueError\u001b[0m                                Traceback (most recent call last)",
      "Cell \u001b[1;32mIn[348], line 1\u001b[0m\n\u001b[1;32m----> 1\u001b[0m b \u001b[38;5;241m/\u001b[39m\u001b[38;5;241m=\u001b[39m a\n\u001b[0;32m      2\u001b[0m \u001b[38;5;28mprint\u001b[39m(b)\n",
      "\u001b[1;31mValueError\u001b[0m: operands could not be broadcast together with shapes (4,) (7,) (4,) "
     ]
    }
   ],
   "source": [
    "b /= a\n",
    "print(b)"
   ]
  },
  {
   "cell_type": "markdown",
   "metadata": {
    "id": "JtiaPtiGeSYu"
   },
   "source": [
    "При выполнении операций над массивами деление на 0 не возбуждает исключения, а даёт значения `np.nan` или `np.inf`."
   ]
  },
  {
   "cell_type": "code",
   "execution_count": 349,
   "metadata": {
    "colab": {
     "base_uri": "https://localhost:8080/"
    },
    "id": "uksiTX96eSYu",
    "outputId": "bc24c3c3-1e2e-4080-9886-443e1050ac1f"
   },
   "outputs": [
    {
     "name": "stdout",
     "output_type": "stream",
     "text": [
      "[  0.  nan  inf -inf]\n"
     ]
    },
    {
     "name": "stderr",
     "output_type": "stream",
     "text": [
      "C:\\Users\\Dari\\AppData\\Local\\Temp\\ipykernel_11124\\3088186758.py:1: RuntimeWarning: divide by zero encountered in divide\n",
      "  print(np.array([0.0, 0.0, 1.0, -1.0]) / np.array([1.0, 0.0, 0.0, 0.0]))\n",
      "C:\\Users\\Dari\\AppData\\Local\\Temp\\ipykernel_11124\\3088186758.py:1: RuntimeWarning: invalid value encountered in divide\n",
      "  print(np.array([0.0, 0.0, 1.0, -1.0]) / np.array([1.0, 0.0, 0.0, 0.0]))\n"
     ]
    }
   ],
   "source": [
    "print(np.array([0.0, 0.0, 1.0, -1.0]) / np.array([1.0, 0.0, 0.0, 0.0]))"
   ]
  },
  {
   "cell_type": "code",
   "execution_count": 350,
   "metadata": {
    "colab": {
     "base_uri": "https://localhost:8080/"
    },
    "id": "sXwqQVDHeSYw",
    "outputId": "f5066abe-7676-4104-c599-cd20d670b898"
   },
   "outputs": [
    {
     "data": {
      "text/plain": [
       "(nan, inf, nan, 0.0)"
      ]
     },
     "execution_count": 350,
     "metadata": {},
     "output_type": "execute_result"
    }
   ],
   "source": [
    "np.nan + 1, np.inf + 1, np.inf * 0, 1. / np.inf"
   ]
  },
  {
   "cell_type": "markdown",
   "metadata": {
    "id": "ukM-LTuAeSYx"
   },
   "source": [
    "Сумма и произведение всех элементов массива; максимальный и минимальный элемент; среднее и среднеквадратичное отклонение."
   ]
  },
  {
   "cell_type": "code",
   "execution_count": 351,
   "metadata": {
    "colab": {
     "base_uri": "https://localhost:8080/"
    },
    "id": "JP9gKcSTe0h5",
    "outputId": "06a04995-1dd4-4f5a-a485-d011a7b6fe30"
   },
   "outputs": [
    {
     "data": {
      "text/plain": [
       "array([ 0.,  4.,  8., 12.])"
      ]
     },
     "execution_count": 351,
     "metadata": {},
     "output_type": "execute_result"
    }
   ],
   "source": [
    "b"
   ]
  },
  {
   "cell_type": "code",
   "execution_count": 352,
   "metadata": {
    "colab": {
     "base_uri": "https://localhost:8080/"
    },
    "id": "ZIo9nEFCeSYx",
    "outputId": "e71a2043-4f6c-4144-ec36-8d4a70df50c3"
   },
   "outputs": [
    {
     "data": {
      "text/plain": [
       "(24.0, 0.0, 12.0, 0.0, 6.0, 4.47213595499958)"
      ]
     },
     "execution_count": 352,
     "metadata": {},
     "output_type": "execute_result"
    }
   ],
   "source": [
    "b.sum(), b.prod(), b.max(), b.min(), b.mean(), b.std()"
   ]
  },
  {
   "cell_type": "code",
   "execution_count": 353,
   "metadata": {
    "colab": {
     "base_uri": "https://localhost:8080/"
    },
    "id": "We4J6hXNXF4-",
    "outputId": "b88cac8b-b161-4365-f579-cc4ed0885dab"
   },
   "outputs": [
    {
     "data": {
      "text/plain": [
       "(24.0, 24.0)"
      ]
     },
     "execution_count": 353,
     "metadata": {},
     "output_type": "execute_result"
    }
   ],
   "source": [
    "b.sum(), np.sum(b)"
   ]
  },
  {
   "cell_type": "markdown",
   "metadata": {
    "id": "0SPOnCfWIC4d"
   },
   "source": [
    "*Медиана*, коэффициент корреляции"
   ]
  },
  {
   "cell_type": "code",
   "execution_count": 354,
   "metadata": {
    "colab": {
     "base_uri": "https://localhost:8080/"
    },
    "id": "pGRW2RnkWbLr",
    "outputId": "22003467-18f8-4982-e719-9df08334ad4e"
   },
   "outputs": [
    {
     "data": {
      "text/plain": [
       "[1, 2, 3, 3, 4, 4, 8, 9]"
      ]
     },
     "execution_count": 354,
     "metadata": {},
     "output_type": "execute_result"
    }
   ],
   "source": [
    "sorted([1, 4, 3, 8, 9, 2, 3, 4])"
   ]
  },
  {
   "cell_type": "code",
   "execution_count": 50,
   "metadata": {
    "id": "NATgc5lEIC4d",
    "outputId": "31cedc90-2c37-43a6-ee40-a71e38a0c4e5"
   },
   "outputs": [
    {
     "ename": "AttributeError",
     "evalue": "'numpy.ndarray' object has no attribute 'median'",
     "output_type": "error",
     "traceback": [
      "\u001b[1;31m---------------------------------------------------------------------------\u001b[0m",
      "\u001b[1;31mAttributeError\u001b[0m                            Traceback (most recent call last)",
      "Cell \u001b[1;32mIn[50], line 1\u001b[0m\n\u001b[1;32m----> 1\u001b[0m \u001b[43mnp\u001b[49m\u001b[38;5;241;43m.\u001b[39;49m\u001b[43marray\u001b[49m\u001b[43m(\u001b[49m\u001b[43m[\u001b[49m\u001b[38;5;241;43m1\u001b[39;49m\u001b[43m,\u001b[49m\u001b[43m \u001b[49m\u001b[38;5;241;43m4\u001b[39;49m\u001b[43m,\u001b[49m\u001b[43m \u001b[49m\u001b[38;5;241;43m3\u001b[39;49m\u001b[43m,\u001b[49m\u001b[43m \u001b[49m\u001b[38;5;241;43m8\u001b[39;49m\u001b[43m,\u001b[49m\u001b[43m \u001b[49m\u001b[38;5;241;43m9\u001b[39;49m\u001b[43m,\u001b[49m\u001b[43m \u001b[49m\u001b[38;5;241;43m2\u001b[39;49m\u001b[43m,\u001b[49m\u001b[43m \u001b[49m\u001b[38;5;241;43m3\u001b[39;49m\u001b[43m]\u001b[49m\u001b[43m)\u001b[49m\u001b[38;5;241;43m.\u001b[39;49m\u001b[43mmedian\u001b[49m()\n",
      "\u001b[1;31mAttributeError\u001b[0m: 'numpy.ndarray' object has no attribute 'median'"
     ]
    }
   ],
   "source": [
    "np.array([1, 4, 3, 8, 9, 2, 3]).median()"
   ]
  },
  {
   "cell_type": "code",
   "execution_count": 53,
   "metadata": {
    "colab": {
     "base_uri": "https://localhost:8080/"
    },
    "id": "LgPn0xk_IC4d",
    "outputId": "35cfa3fe-9118-41f0-cae8-77069a9bae51"
   },
   "outputs": [
    {
     "data": {
      "text/plain": [
       "3.5"
      ]
     },
     "execution_count": 53,
     "metadata": {},
     "output_type": "execute_result"
    }
   ],
   "source": [
    "np.median(np.array([1, 4, 3, 8, 9, 2, 3, 4]))"
   ]
  },
  {
   "cell_type": "code",
   "execution_count": 56,
   "metadata": {
    "colab": {
     "base_uri": "https://localhost:8080/"
    },
    "id": "JZzJWDssXk40",
    "outputId": "1d7c6e08-6cc3-43be-9560-77c29563b132"
   },
   "outputs": [
    {
     "data": {
      "text/plain": [
       "array([ 0.,  4.,  8., 12.])"
      ]
     },
     "execution_count": 56,
     "metadata": {},
     "output_type": "execute_result"
    }
   ],
   "source": [
    "b.round(4)"
   ]
  },
  {
   "cell_type": "code",
   "execution_count": 57,
   "metadata": {
    "colab": {
     "base_uri": "https://localhost:8080/"
    },
    "id": "3AOWl9x6Xdhh",
    "outputId": "f4fbead1-497a-4f9d-a921-cca88bc07021"
   },
   "outputs": [
    {
     "data": {
      "text/plain": [
       "array([ 0.,  4.,  8., 12.])"
      ]
     },
     "execution_count": 57,
     "metadata": {},
     "output_type": "execute_result"
    }
   ],
   "source": [
    "np.round(b, 4)"
   ]
  },
  {
   "cell_type": "markdown",
   "metadata": {
    "id": "080STHuVIC4e"
   },
   "source": [
    "Корреляция — статистическая взаимосвязь двух или более случайных величин. При этом изменения значений одной или нескольких из этих величин сопутствуют систематическому изменению значений другой или других величин"
   ]
  },
  {
   "cell_type": "code",
   "execution_count": 58,
   "metadata": {
    "colab": {
     "base_uri": "https://localhost:8080/"
    },
    "id": "xCLBtMKzIC4e",
    "outputId": "2af3f845-3c26-4ad0-ca96-45bcdc609495"
   },
   "outputs": [
    {
     "data": {
      "text/plain": [
       "array([[1.        , 0.72870505, 1.        ],\n",
       "       [0.72870505, 1.        , 0.72870505],\n",
       "       [1.        , 0.72870505, 1.        ]])"
      ]
     },
     "execution_count": 58,
     "metadata": {},
     "output_type": "execute_result"
    }
   ],
   "source": [
    "c = np.array([[1, 2, 1, 3], [5, 3, 1, 8], [10, 20, 10, 30]], float)\n",
    "np.corrcoef(c)"
   ]
  },
  {
   "cell_type": "code",
   "execution_count": 59,
   "metadata": {
    "colab": {
     "base_uri": "https://localhost:8080/"
    },
    "id": "ZRqbx1t7IC4e",
    "outputId": "cc8ceec9-f180-47b9-a927-fde0e46f182a"
   },
   "outputs": [
    {
     "data": {
      "text/plain": [
       "array([[ 1., -1.],\n",
       "       [-1.,  1.]])"
      ]
     },
     "execution_count": 59,
     "metadata": {},
     "output_type": "execute_result"
    }
   ],
   "source": [
    "c = np.array([[1, 2, 1, 3], [-1, -2, -1, -3]], float)\n",
    "np.corrcoef(c)"
   ]
  },
  {
   "cell_type": "markdown",
   "metadata": {
    "id": "rju3ggwJeSYy"
   },
   "source": [
    "Имеются встроенные функции"
   ]
  },
  {
   "cell_type": "code",
   "execution_count": 60,
   "metadata": {
    "colab": {
     "base_uri": "https://localhost:8080/"
    },
    "id": "H3xDbf6PeSYz",
    "outputId": "4076e2bf-3626-4fbd-8990-185fb12091b4"
   },
   "outputs": [
    {
     "name": "stdout",
     "output_type": "stream",
     "text": [
      "[0.         2.         2.82842712 3.46410162]\n",
      "[1.00000000e+00 5.45981500e+01 2.98095799e+03 1.62754791e+05]\n",
      "[      -inf 1.38629436 2.07944154 2.48490665]\n",
      "[ 0.         -0.7568025   0.98935825 -0.53657292]\n",
      "2.718281828459045 3.141592653589793\n"
     ]
    },
    {
     "name": "stderr",
     "output_type": "stream",
     "text": [
      "C:\\Users\\Dari\\AppData\\Local\\Temp\\ipykernel_11124\\3787075853.py:3: RuntimeWarning: divide by zero encountered in log\n",
      "  print(np.log(b))\n"
     ]
    }
   ],
   "source": [
    "print(np.sqrt(b))\n",
    "print(np.exp(b))\n",
    "print(np.log(b))\n",
    "print(np.sin(b))\n",
    "print(np.e, np.pi)"
   ]
  },
  {
   "cell_type": "markdown",
   "metadata": {
    "id": "g6EBDaBWeSY0"
   },
   "source": [
    "Иногда бывает нужно использовать частичные (кумулятивные) суммы. В наших курсах такое может пригодится."
   ]
  },
  {
   "cell_type": "code",
   "execution_count": 61,
   "metadata": {
    "colab": {
     "base_uri": "https://localhost:8080/"
    },
    "id": "JzFVH5DIeSY0",
    "outputId": "e23d8546-0f6e-4f10-8d70-85c8497fbeff"
   },
   "outputs": [
    {
     "name": "stdout",
     "output_type": "stream",
     "text": [
      "[ 0.  4. 12. 24.]\n"
     ]
    }
   ],
   "source": [
    "print(b.cumsum())"
   ]
  },
  {
   "cell_type": "markdown",
   "metadata": {
    "id": "aQ6GZlYzIC4f"
   },
   "source": [
    "#### 2.2 Сортировка, изменение массивов\n",
    "\n",
    "Функция `sort` возвращает отсортированную копию, метод `sort` сортирует на месте."
   ]
  },
  {
   "cell_type": "code",
   "execution_count": 62,
   "metadata": {
    "colab": {
     "base_uri": "https://localhost:8080/"
    },
    "id": "i7Lw_nane0h6",
    "outputId": "e17ee694-80fc-4954-e2f5-6fc0495e7ce8"
   },
   "outputs": [
    {
     "data": {
      "text/plain": [
       "array([ 0.,  4.,  8., 12.])"
      ]
     },
     "execution_count": 62,
     "metadata": {},
     "output_type": "execute_result"
    }
   ],
   "source": [
    "b"
   ]
  },
  {
   "cell_type": "code",
   "execution_count": 63,
   "metadata": {
    "colab": {
     "base_uri": "https://localhost:8080/"
    },
    "id": "XS7IRW09eSY2",
    "outputId": "4cc1d0bf-4a97-4652-b729-617344315953"
   },
   "outputs": [
    {
     "name": "stdout",
     "output_type": "stream",
     "text": [
      "[ 0.  4.  8. 12.]\n",
      "[ 0.  4.  8. 12.]\n"
     ]
    }
   ],
   "source": [
    "print(np.sort(b))  # sorted()\n",
    "print(b)"
   ]
  },
  {
   "cell_type": "code",
   "execution_count": 64,
   "metadata": {
    "colab": {
     "base_uri": "https://localhost:8080/"
    },
    "id": "QENzFihJeSY3",
    "outputId": "8790ee1c-e0a5-4734-997f-8875dd9d0aa6"
   },
   "outputs": [
    {
     "name": "stdout",
     "output_type": "stream",
     "text": [
      "[ 0.  4.  8. 12.]\n"
     ]
    }
   ],
   "source": [
    "b.sort()  # .sort()\n",
    "print(b)"
   ]
  },
  {
   "cell_type": "markdown",
   "metadata": {
    "id": "ZPjBXM_OeSY4"
   },
   "source": [
    "Объединение массивов."
   ]
  },
  {
   "cell_type": "code",
   "execution_count": 65,
   "metadata": {
    "colab": {
     "base_uri": "https://localhost:8080/"
    },
    "id": "plNqd9H6e0h7",
    "outputId": "d8cdfe09-451e-4e8d-d590-fecaa3a535be"
   },
   "outputs": [
    {
     "data": {
      "text/plain": [
       "array([1.        , 2.33333333, 3.66666667, 5.        , 6.33333333,\n",
       "       7.66666667, 9.        ])"
      ]
     },
     "execution_count": 65,
     "metadata": {},
     "output_type": "execute_result"
    }
   ],
   "source": [
    "a"
   ]
  },
  {
   "cell_type": "code",
   "execution_count": 66,
   "metadata": {
    "colab": {
     "base_uri": "https://localhost:8080/"
    },
    "id": "ZaD7r1qAe0h7",
    "outputId": "f3d60e79-41cd-4816-ed94-d32824d2d64b"
   },
   "outputs": [
    {
     "data": {
      "text/plain": [
       "array([ 0.,  4.,  8., 12.])"
      ]
     },
     "execution_count": 66,
     "metadata": {},
     "output_type": "execute_result"
    }
   ],
   "source": [
    "b"
   ]
  },
  {
   "cell_type": "code",
   "execution_count": 67,
   "metadata": {
    "colab": {
     "base_uri": "https://localhost:8080/"
    },
    "id": "_SYn0MdseSY4",
    "outputId": "8c1d92ea-94dd-4a74-e423-1738a15538fb"
   },
   "outputs": [
    {
     "name": "stdout",
     "output_type": "stream",
     "text": [
      "[ 1.          2.33333333  3.66666667  5.          6.33333333  7.66666667\n",
      "  9.          0.          4.          8.         12.        ]\n"
     ]
    }
   ],
   "source": [
    "a = np.hstack((a, b))\n",
    "print(a)"
   ]
  },
  {
   "cell_type": "markdown",
   "metadata": {
    "id": "cT0JM6lZeSY6"
   },
   "source": [
    "Расщепление массива в позициях 3 и 6."
   ]
  },
  {
   "cell_type": "code",
   "execution_count": 68,
   "metadata": {
    "colab": {
     "base_uri": "https://localhost:8080/"
    },
    "id": "-DVwnZhFeSY6",
    "outputId": "69162206-a4af-4a9f-9f67-3c85f85ba026"
   },
   "outputs": [
    {
     "data": {
      "text/plain": [
       "[array([1.        , 2.33333333, 3.66666667]),\n",
       " array([5.        , 6.33333333, 7.66666667]),\n",
       " array([ 9.,  0.,  4.,  8., 12.])]"
      ]
     },
     "execution_count": 68,
     "metadata": {},
     "output_type": "execute_result"
    }
   ],
   "source": [
    "np.hsplit(a, [3, 6])"
   ]
  },
  {
   "cell_type": "markdown",
   "metadata": {
    "id": "eOZAGZV0eSY7"
   },
   "source": [
    "Функции `delete`, `insert` и `append` не меняют массив на месте, а возвращают новый массив, в котором удалены, вставлены в середину или добавлены в конец какие-то элементы."
   ]
  },
  {
   "cell_type": "code",
   "execution_count": 69,
   "metadata": {
    "colab": {
     "base_uri": "https://localhost:8080/"
    },
    "id": "G4iDI8hjeSY8",
    "outputId": "af73bbd1-0f1f-4ebf-a5bc-847dfd421644"
   },
   "outputs": [
    {
     "name": "stdout",
     "output_type": "stream",
     "text": [
      "[ 1.          2.33333333  3.66666667  5.          6.33333333  9.\n",
      "  4.          8.         12.        ]\n"
     ]
    }
   ],
   "source": [
    "a = np.delete(a, [5, 7])\n",
    "print(a)"
   ]
  },
  {
   "cell_type": "code",
   "execution_count": 70,
   "metadata": {
    "colab": {
     "base_uri": "https://localhost:8080/"
    },
    "id": "y2FW3FAYeSY9",
    "outputId": "945e6575-9766-4adf-9565-2710057ed31b"
   },
   "outputs": [
    {
     "name": "stdout",
     "output_type": "stream",
     "text": [
      "[ 1.          2.33333333  0.          0.          3.66666667  5.\n",
      "  6.33333333  9.          4.          8.         12.        ]\n"
     ]
    }
   ],
   "source": [
    "a = np.insert(a, 2, [0, 0])\n",
    "print(a)"
   ]
  },
  {
   "cell_type": "code",
   "execution_count": 71,
   "metadata": {
    "colab": {
     "base_uri": "https://localhost:8080/"
    },
    "id": "DK6c68IxeSY-",
    "outputId": "8a05b746-b45c-4cfb-86d4-e75a4dcb7eec"
   },
   "outputs": [
    {
     "name": "stdout",
     "output_type": "stream",
     "text": [
      "[ 1.          2.33333333  0.          0.          3.66666667  5.\n",
      "  6.33333333  9.          4.          8.         12.          1.\n",
      "  2.          3.        ]\n"
     ]
    }
   ],
   "source": [
    "a = np.append(a, [1, 2, 3])\n",
    "print(a)"
   ]
  },
  {
   "cell_type": "markdown",
   "metadata": {
    "id": "dv-oGzNBIC4h"
   },
   "source": [
    "Значения в массиве могут быть «сокращены», чтобы принадлежать заданному диапазону. Это тоже самое что применять min(max(x, minval), maxval) к каждому элементу x."
   ]
  },
  {
   "cell_type": "code",
   "execution_count": 79,
   "metadata": {
    "colab": {
     "base_uri": "https://localhost:8080/"
    },
    "id": "B8vyDmrBIC4h",
    "outputId": "72a66ed9-55e2-4bd3-f8fb-d8a44775f9f0"
   },
   "outputs": [
    {
     "data": {
      "text/plain": [
       "array([5., 2., 5., 0., 0.])"
      ]
     },
     "execution_count": 79,
     "metadata": {},
     "output_type": "execute_result"
    }
   ],
   "source": [
    "c = np.array([6, 2, 5, -1, 0], float)\n",
    "c.clip(0, 5)"
   ]
  },
  {
   "cell_type": "markdown",
   "metadata": {
    "id": "bhEJMOcRIC4h"
   },
   "source": [
    "Уникальные элементы могут быть извлечены вот так."
   ]
  },
  {
   "cell_type": "code",
   "execution_count": 80,
   "metadata": {
    "colab": {
     "base_uri": "https://localhost:8080/"
    },
    "id": "mFlLiaVBIC4h",
    "outputId": "3b16fb67-9e96-4c89-857f-ed7002a016a0"
   },
   "outputs": [
    {
     "data": {
      "text/plain": [
       "array([1., 2., 4., 5., 7.])"
      ]
     },
     "execution_count": 80,
     "metadata": {},
     "output_type": "execute_result"
    }
   ],
   "source": [
    "a = np.array([1, 1, 4, 5, 5, 5, 7, 2], float)\n",
    "np.unique(a)"
   ]
  },
  {
   "cell_type": "markdown",
   "metadata": {
    "id": "q669pBe0eSY_"
   },
   "source": [
    "#### 2.3 Способы индексации массивов\n",
    "\n",
    "Есть несколько способов индексации массива. Вот обычный индекс."
   ]
  },
  {
   "cell_type": "code",
   "execution_count": 81,
   "metadata": {
    "colab": {
     "base_uri": "https://localhost:8080/"
    },
    "id": "oW8SgWFLeSZA",
    "outputId": "228d32f1-25a2-4e35-c1d7-4e721cc8d55b"
   },
   "outputs": [
    {
     "name": "stdout",
     "output_type": "stream",
     "text": [
      "[0.  0.1 0.2 0.3 0.4 0.5 0.6 0.7 0.8 0.9 1. ]\n"
     ]
    }
   ],
   "source": [
    "a = np.linspace(0, 1, 11)\n",
    "print(a)"
   ]
  },
  {
   "cell_type": "code",
   "execution_count": 82,
   "metadata": {
    "colab": {
     "base_uri": "https://localhost:8080/"
    },
    "id": "7eQ_xryueSZB",
    "outputId": "3f2e4bfc-8923-4f7b-a917-8821026b1590",
    "scrolled": true
   },
   "outputs": [
    {
     "name": "stdout",
     "output_type": "stream",
     "text": [
      "0.2\n"
     ]
    }
   ],
   "source": [
    "b = a[2]\n",
    "print(b)"
   ]
  },
  {
   "cell_type": "markdown",
   "metadata": {
    "id": "corcUOljeSZC"
   },
   "source": [
    "Диапазон индексов. Создаётся новый заголовок массива, указывающий на те же данные. Изменения, сделанные через такой массив, видны и в исходном массиве."
   ]
  },
  {
   "cell_type": "code",
   "execution_count": 83,
   "metadata": {
    "colab": {
     "base_uri": "https://localhost:8080/"
    },
    "id": "g7sRF3GqeSZC",
    "outputId": "275cd6b6-864b-4429-d264-863f548756b6"
   },
   "outputs": [
    {
     "name": "stdout",
     "output_type": "stream",
     "text": [
      "[0.2 0.3 0.4 0.5]\n"
     ]
    }
   ],
   "source": [
    "b = a[2:6]\n",
    "print(b)"
   ]
  },
  {
   "cell_type": "code",
   "execution_count": 84,
   "metadata": {
    "colab": {
     "base_uri": "https://localhost:8080/"
    },
    "id": "mNJoJFFOeSZE",
    "outputId": "904894a1-73ad-4cee-eaa2-bf4f76ea296f"
   },
   "outputs": [
    {
     "name": "stdout",
     "output_type": "stream",
     "text": [
      "[-0.2  0.3  0.4  0.5]\n"
     ]
    }
   ],
   "source": [
    "b[0] = -0.2\n",
    "print(b)"
   ]
  },
  {
   "cell_type": "code",
   "execution_count": 85,
   "metadata": {
    "colab": {
     "base_uri": "https://localhost:8080/"
    },
    "id": "PdAUJK9XeSZF",
    "outputId": "687c8418-2e9e-433b-8d1f-8286ec88afcf"
   },
   "outputs": [
    {
     "name": "stdout",
     "output_type": "stream",
     "text": [
      "[ 0.   0.1 -0.2  0.3  0.4  0.5  0.6  0.7  0.8  0.9  1. ]\n"
     ]
    }
   ],
   "source": [
    "print(a)"
   ]
  },
  {
   "cell_type": "markdown",
   "metadata": {
    "id": "lE9gziSweSZG"
   },
   "source": [
    "Диапазон с шагом 2."
   ]
  },
  {
   "cell_type": "code",
   "execution_count": 86,
   "metadata": {
    "colab": {
     "base_uri": "https://localhost:8080/"
    },
    "id": "wLEQPJsXeSZH",
    "outputId": "0e468aae-8ee6-46f2-b55f-52bb8b43aff2",
    "scrolled": true
   },
   "outputs": [
    {
     "name": "stdout",
     "output_type": "stream",
     "text": [
      "[0.1 0.3 0.5 0.7 0.9]\n"
     ]
    }
   ],
   "source": [
    "b = a[1:10:2]\n",
    "print(b)"
   ]
  },
  {
   "cell_type": "code",
   "execution_count": 87,
   "metadata": {
    "colab": {
     "base_uri": "https://localhost:8080/"
    },
    "id": "Lw1rqM8WeSZI",
    "outputId": "e19ffa6e-1462-4342-c98d-5a5cb5e1d28c"
   },
   "outputs": [
    {
     "name": "stdout",
     "output_type": "stream",
     "text": [
      "[ 0.  -0.1 -0.2  0.3  0.4  0.5  0.6  0.7  0.8  0.9  1. ]\n"
     ]
    }
   ],
   "source": [
    "b[0] = -0.1\n",
    "print(a)"
   ]
  },
  {
   "cell_type": "markdown",
   "metadata": {
    "id": "Nh9e4ZWNeSZK"
   },
   "source": [
    "Массив в обратном порядке."
   ]
  },
  {
   "cell_type": "code",
   "execution_count": 88,
   "metadata": {
    "colab": {
     "base_uri": "https://localhost:8080/"
    },
    "id": "LKbKi90neSZK",
    "outputId": "2730b759-5f90-4b73-f575-815e5da23cae"
   },
   "outputs": [
    {
     "name": "stdout",
     "output_type": "stream",
     "text": [
      "[ 1.   0.9  0.8  0.7  0.6  0.5  0.4  0.3 -0.2 -0.1  0. ]\n"
     ]
    }
   ],
   "source": [
    "b = a[::-1]\n",
    "print(b)"
   ]
  },
  {
   "cell_type": "markdown",
   "metadata": {
    "id": "Im8dqbkIeSZL"
   },
   "source": [
    "Подмассиву можно присвоить значение — массив правильного размера или скаляр."
   ]
  },
  {
   "cell_type": "code",
   "execution_count": 89,
   "metadata": {
    "colab": {
     "base_uri": "https://localhost:8080/"
    },
    "id": "cwQlTL-deSZM",
    "outputId": "16dd2200-cf54-420a-dc60-955101b21599"
   },
   "outputs": [
    {
     "name": "stdout",
     "output_type": "stream",
     "text": [
      "[ 0.   0.  -0.2  0.3  0.   0.5  0.6  0.   0.8  0.9  1. ]\n"
     ]
    }
   ],
   "source": [
    "a[1:10:3] = 0\n",
    "print(a)"
   ]
  },
  {
   "cell_type": "markdown",
   "metadata": {
    "id": "NkDtCWUgeSZN"
   },
   "source": [
    "Тут опять создаётся только новый заголовок, указывающий на те же данные."
   ]
  },
  {
   "cell_type": "code",
   "execution_count": 90,
   "metadata": {
    "colab": {
     "base_uri": "https://localhost:8080/"
    },
    "id": "BSI6oafVeSZO",
    "outputId": "2013d5aa-ec46-4789-8e76-7f6f8b72fe9e"
   },
   "outputs": [
    {
     "name": "stdout",
     "output_type": "stream",
     "text": [
      "[ 0.   0.1 -0.2  0.3  0.   0.5  0.6  0.   0.8  0.9  1. ]\n"
     ]
    }
   ],
   "source": [
    "b = a[:]\n",
    "b[1] = 0.1\n",
    "print(a)"
   ]
  },
  {
   "cell_type": "markdown",
   "metadata": {
    "id": "Zjq__bNXeSZP"
   },
   "source": [
    "Чтобы скопировать и данные массива, нужно использовать метод `copy`."
   ]
  },
  {
   "cell_type": "code",
   "execution_count": 91,
   "metadata": {
    "colab": {
     "base_uri": "https://localhost:8080/"
    },
    "id": "VVds6EI5eSZP",
    "outputId": "3dca0389-2ad1-41ce-d847-29cde31ad780"
   },
   "outputs": [
    {
     "name": "stdout",
     "output_type": "stream",
     "text": [
      "[0.  0.1 0.  0.3 0.  0.5 0.6 0.  0.8 0.9 1. ]\n",
      "[ 0.   0.1 -0.2  0.3  0.   0.5  0.6  0.   0.8  0.9  1. ]\n"
     ]
    }
   ],
   "source": [
    "b = a.copy()\n",
    "b[2] = 0\n",
    "print(b)\n",
    "print(a)"
   ]
  },
  {
   "cell_type": "markdown",
   "metadata": {
    "id": "2ynzvLTmeSZR"
   },
   "source": [
    "Можно задать список индексов."
   ]
  },
  {
   "cell_type": "code",
   "execution_count": 92,
   "metadata": {
    "colab": {
     "base_uri": "https://localhost:8080/"
    },
    "id": "fRF4VWZmeSZR",
    "outputId": "be1a8534-35e2-4cbb-b94d-e2197ae290ae"
   },
   "outputs": [
    {
     "name": "stdout",
     "output_type": "stream",
     "text": [
      "[-0.2  0.3  0.5]\n"
     ]
    }
   ],
   "source": [
    "print(a[[2, 3, 5]])"
   ]
  },
  {
   "cell_type": "markdown",
   "metadata": {
    "id": "JF2kGGHDeSZT"
   },
   "source": [
    "Можно задать булев массив той же величины."
   ]
  },
  {
   "cell_type": "code",
   "execution_count": 93,
   "metadata": {
    "colab": {
     "base_uri": "https://localhost:8080/"
    },
    "id": "yeFzrHxfeSZT",
    "outputId": "b44c2e0f-dfc9-412c-fb6b-fa25ddf85e72"
   },
   "outputs": [
    {
     "name": "stdout",
     "output_type": "stream",
     "text": [
      "[False  True False  True False  True  True False  True  True  True]\n"
     ]
    }
   ],
   "source": [
    "b = a > 0\n",
    "print(b)"
   ]
  },
  {
   "cell_type": "code",
   "execution_count": 94,
   "metadata": {
    "colab": {
     "base_uri": "https://localhost:8080/"
    },
    "id": "Yh8725deZ-B7",
    "outputId": "7fcb0582-a458-46f1-890f-81f95f87abd8"
   },
   "outputs": [
    {
     "data": {
      "text/plain": [
       "array([ 0. ,  0.1, -0.2,  0.3,  0. ,  0.5,  0.6,  0. ,  0.8,  0.9,  1. ])"
      ]
     },
     "execution_count": 94,
     "metadata": {},
     "output_type": "execute_result"
    }
   ],
   "source": [
    "a"
   ]
  },
  {
   "cell_type": "code",
   "execution_count": 95,
   "metadata": {
    "colab": {
     "base_uri": "https://localhost:8080/"
    },
    "id": "CS_Xass1eSZU",
    "outputId": "84cc779d-91c1-4324-f688-360379f7c24f"
   },
   "outputs": [
    {
     "name": "stdout",
     "output_type": "stream",
     "text": [
      "[ 0.1 -0.2  0.3  0.5  0.6  0.8  0.9  1. ]\n"
     ]
    }
   ],
   "source": [
    "print(a[a != 0])"
   ]
  },
  {
   "cell_type": "code",
   "execution_count": 96,
   "metadata": {
    "colab": {
     "base_uri": "https://localhost:8080/"
    },
    "id": "LhP8X3V2aKCw",
    "outputId": "38c2f7b2-ed1f-4e2c-961c-f9b2bf2df0e9"
   },
   "outputs": [
    {
     "name": "stdout",
     "output_type": "stream",
     "text": [
      "[1 2 3]\n"
     ]
    }
   ],
   "source": [
    "print(np.array([1, 2, 3]))"
   ]
  },
  {
   "cell_type": "code",
   "execution_count": 97,
   "metadata": {
    "colab": {
     "base_uri": "https://localhost:8080/"
    },
    "id": "yvc9keete0iA",
    "outputId": "dcbf38c5-6970-4092-c78d-58966030074c"
   },
   "outputs": [
    {
     "data": {
      "text/plain": [
       "array([ 0. ,  0.1, -0.2,  0.3,  0. ,  0.5,  0.6,  0. ,  0.8,  0.9,  1. ])"
      ]
     },
     "execution_count": 97,
     "metadata": {},
     "output_type": "execute_result"
    }
   ],
   "source": [
    "a"
   ]
  },
  {
   "cell_type": "code",
   "execution_count": 98,
   "metadata": {
    "colab": {
     "base_uri": "https://localhost:8080/"
    },
    "id": "G9i7pl7Ue0iB",
    "outputId": "9f24ff85-40e3-4b0c-e0ad-5b9f1fa1692f"
   },
   "outputs": [
    {
     "data": {
      "text/plain": [
       "array([False,  True, False,  True, False,  True,  True, False,  True,\n",
       "        True,  True])"
      ]
     },
     "execution_count": 98,
     "metadata": {},
     "output_type": "execute_result"
    }
   ],
   "source": [
    "b"
   ]
  },
  {
   "cell_type": "markdown",
   "metadata": {
    "id": "HesCvUkKe0iB"
   },
   "source": [
    "**Упражнение:**  \n",
    "1). Создайте массив чисел от $-2\\pi$  до $2\\pi$.\n",
    "\n",
    "2). Посчитайте сумму поэлементных квадратов синуса и косинуса для данного массива.\n",
    "\n",
    "3). С помощью `np.all` проверьте, что в ответе только единицы.\n",
    "\n",
    "**Решение:**"
   ]
  },
  {
   "cell_type": "code",
   "execution_count": 99,
   "metadata": {
    "colab": {
     "base_uri": "https://localhost:8080/"
    },
    "id": "P9X8TP-ze0iB",
    "outputId": "c4f73888-da9e-4901-8062-50e7235c1767"
   },
   "outputs": [
    {
     "data": {
      "text/plain": [
       "True"
      ]
     },
     "execution_count": 99,
     "metadata": {},
     "output_type": "execute_result"
    }
   ],
   "source": [
    "x = np.linspace(-2 * np.pi, 2 * np.pi, 20)\n",
    "np.all((np.sin(x)**2 + np.cos(x)**2).round() == 1)"
   ]
  },
  {
   "cell_type": "markdown",
   "metadata": {
    "id": "WZuQFEeEIC4m"
   },
   "source": [
    "#### 2.4 Продвинутая индексация\n"
   ]
  },
  {
   "cell_type": "markdown",
   "metadata": {
    "id": "RemnnF5vIC4m"
   },
   "source": [
    "Помимо коварных срезов есть ещё некоторые возможности создания новых массивов из старых. Например, можно выбрать из массива элементы с нужными номерами вот так:"
   ]
  },
  {
   "cell_type": "code",
   "execution_count": 100,
   "metadata": {
    "colab": {
     "base_uri": "https://localhost:8080/"
    },
    "id": "02Awb6y2IC4m",
    "outputId": "f49f98d1-1c54-41ef-f735-863e3385a9e2"
   },
   "outputs": [
    {
     "data": {
      "text/plain": [
       "array([-6.28318531, -5.62179738, -4.96040945, -4.29902153, -3.6376336 ,\n",
       "       -2.97624567, -2.31485774, -1.65346982, -0.99208189, -0.33069396,\n",
       "        0.33069396,  0.99208189,  1.65346982,  2.31485774,  2.97624567,\n",
       "        3.6376336 ,  4.29902153,  4.96040945,  5.62179738,  6.28318531])"
      ]
     },
     "execution_count": 100,
     "metadata": {},
     "output_type": "execute_result"
    }
   ],
   "source": [
    "x"
   ]
  },
  {
   "cell_type": "code",
   "execution_count": 101,
   "metadata": {
    "id": "Q2FGrXZIIC4m"
   },
   "outputs": [],
   "source": [
    "y = x[ [1, 3, 4] ]"
   ]
  },
  {
   "cell_type": "code",
   "execution_count": 102,
   "metadata": {
    "colab": {
     "base_uri": "https://localhost:8080/"
    },
    "id": "BERY4_jRIC4m",
    "outputId": "2d8921bf-1b67-4f69-a13c-35ad9e4e5b76"
   },
   "outputs": [
    {
     "data": {
      "text/plain": [
       "array([-5.62179738, -4.29902153, -3.6376336 ])"
      ]
     },
     "execution_count": 102,
     "metadata": {},
     "output_type": "execute_result"
    }
   ],
   "source": [
    "y"
   ]
  },
  {
   "cell_type": "markdown",
   "metadata": {
    "id": "4fRIZXMWIC4n"
   },
   "source": [
    "Можно даже использовать одинаковые номера."
   ]
  },
  {
   "cell_type": "code",
   "execution_count": 103,
   "metadata": {
    "id": "AiB62BnlIC4n"
   },
   "outputs": [],
   "source": [
    "y = x[ [1, 1, 1] ]"
   ]
  },
  {
   "cell_type": "code",
   "execution_count": 104,
   "metadata": {
    "colab": {
     "base_uri": "https://localhost:8080/"
    },
    "id": "js7MDNGzIC4n",
    "outputId": "9db3eafd-f43d-4e5b-c632-35b56c169e38"
   },
   "outputs": [
    {
     "data": {
      "text/plain": [
       "array([-5.62179738, -5.62179738, -5.62179738])"
      ]
     },
     "execution_count": 104,
     "metadata": {},
     "output_type": "execute_result"
    }
   ],
   "source": [
    "y"
   ]
  },
  {
   "cell_type": "markdown",
   "metadata": {
    "id": "-ExWdLEgIC4n"
   },
   "source": [
    "Кстати, создаваемый таким образом объект уже является честной копией исходного, а не каким-нибудь коварным видом."
   ]
  },
  {
   "cell_type": "code",
   "execution_count": 105,
   "metadata": {
    "id": "57lt7m-gIC4n"
   },
   "outputs": [],
   "source": [
    "y[0] = 123"
   ]
  },
  {
   "cell_type": "code",
   "execution_count": 106,
   "metadata": {
    "colab": {
     "base_uri": "https://localhost:8080/"
    },
    "id": "4t4XOSlQIC4n",
    "outputId": "d9c70a00-dd62-41f2-f476-42d61e1d2ba3"
   },
   "outputs": [
    {
     "data": {
      "text/plain": [
       "array([123.        ,  -5.62179738,  -5.62179738])"
      ]
     },
     "execution_count": 106,
     "metadata": {},
     "output_type": "execute_result"
    }
   ],
   "source": [
    "y"
   ]
  },
  {
   "cell_type": "code",
   "execution_count": 107,
   "metadata": {
    "colab": {
     "base_uri": "https://localhost:8080/"
    },
    "id": "bckEUdi9IC4n",
    "outputId": "b11c1612-eb40-49c0-a8b2-4c9ce6cb1602"
   },
   "outputs": [
    {
     "data": {
      "text/plain": [
       "array([-6.28318531, -5.62179738, -4.96040945, -4.29902153, -3.6376336 ,\n",
       "       -2.97624567, -2.31485774, -1.65346982, -0.99208189, -0.33069396,\n",
       "        0.33069396,  0.99208189,  1.65346982,  2.31485774,  2.97624567,\n",
       "        3.6376336 ,  4.29902153,  4.96040945,  5.62179738,  6.28318531])"
      ]
     },
     "execution_count": 107,
     "metadata": {},
     "output_type": "execute_result"
    }
   ],
   "source": [
    "x"
   ]
  },
  {
   "cell_type": "code",
   "execution_count": 108,
   "metadata": {
    "colab": {
     "base_uri": "https://localhost:8080/"
    },
    "id": "Q6azriUNIC4o",
    "outputId": "0540d723-3029-4c8c-ed69-9d503ec9785b"
   },
   "outputs": [
    {
     "data": {
      "text/plain": [
       "array([-6.28318531, -5.62179738, -4.96040945, -4.29902153, -3.6376336 ,\n",
       "       -2.97624567, -2.31485774, -1.65346982, -0.99208189, -0.33069396,\n",
       "        0.33069396,  0.99208189,  1.65346982,  2.31485774,  2.97624567,\n",
       "        3.6376336 ,  4.29902153,  4.96040945,  5.62179738,  6.28318531])"
      ]
     },
     "execution_count": 108,
     "metadata": {},
     "output_type": "execute_result"
    }
   ],
   "source": [
    "x"
   ]
  },
  {
   "cell_type": "markdown",
   "metadata": {
    "id": "V66dhFI_IC4o"
   },
   "source": [
    "Есть ещё один хитрый способ выбора элементов из массива. Допустим, мы хотим выбрать только те элементы, которые обладают каким-то свойством — скажем, меньше 50. Можно было бы использовать цикл с условием или аналогичный ему list comprehension, но в `numpy` используют другой синтаксис."
   ]
  },
  {
   "cell_type": "code",
   "execution_count": 109,
   "metadata": {
    "id": "VFfs0EYuIC4o"
   },
   "outputs": [],
   "source": [
    "y = x[ x < 50 ]"
   ]
  },
  {
   "cell_type": "code",
   "execution_count": 110,
   "metadata": {
    "colab": {
     "base_uri": "https://localhost:8080/"
    },
    "id": "1BwtFxm9IC4o",
    "outputId": "7ce3e514-ec01-4521-a1ee-d73a593384f4"
   },
   "outputs": [
    {
     "data": {
      "text/plain": [
       "array([-6.28318531, -5.62179738, -4.96040945, -4.29902153, -3.6376336 ,\n",
       "       -2.97624567, -2.31485774, -1.65346982, -0.99208189, -0.33069396,\n",
       "        0.33069396,  0.99208189,  1.65346982,  2.31485774,  2.97624567,\n",
       "        3.6376336 ,  4.29902153,  4.96040945,  5.62179738,  6.28318531])"
      ]
     },
     "execution_count": 110,
     "metadata": {},
     "output_type": "execute_result"
    }
   ],
   "source": [
    "x"
   ]
  },
  {
   "cell_type": "code",
   "execution_count": 111,
   "metadata": {
    "colab": {
     "base_uri": "https://localhost:8080/"
    },
    "id": "EUyjd9CtIC4o",
    "outputId": "3b7a194b-7ae7-4f7f-fba5-96291fc5fab0"
   },
   "outputs": [
    {
     "data": {
      "text/plain": [
       "array([-6.28318531, -5.62179738, -4.96040945, -4.29902153, -3.6376336 ,\n",
       "       -2.97624567, -2.31485774, -1.65346982, -0.99208189, -0.33069396,\n",
       "        0.33069396,  0.99208189,  1.65346982,  2.31485774,  2.97624567,\n",
       "        3.6376336 ,  4.29902153,  4.96040945,  5.62179738,  6.28318531])"
      ]
     },
     "execution_count": 111,
     "metadata": {},
     "output_type": "execute_result"
    }
   ],
   "source": [
    "y"
   ]
  },
  {
   "cell_type": "markdown",
   "metadata": {
    "id": "7AHeskrfIC4o"
   },
   "source": [
    "Как он работает? Очень просто. (Ну ок, не очень.) Для начала, что такое `x < 50`? Это результат применения операции «сравнение с 50» к каждому элементу массива. То есть это новый массив."
   ]
  },
  {
   "cell_type": "code",
   "execution_count": 114,
   "metadata": {
    "colab": {
     "base_uri": "https://localhost:8080/"
    },
    "id": "R2SD-l0UIC4o",
    "outputId": "dd2bf8c4-04b1-4db1-fff0-a2356777fb81"
   },
   "outputs": [
    {
     "data": {
      "text/plain": [
       "array([ True,  True,  True,  True,  True,  True,  True,  True,  True,\n",
       "        True,  True,  True,  True,  True,  True,  True,  True,  True,\n",
       "        True,  True])"
      ]
     },
     "execution_count": 114,
     "metadata": {},
     "output_type": "execute_result"
    }
   ],
   "source": [
    "x < 50"
   ]
  },
  {
   "cell_type": "markdown",
   "metadata": {
    "id": "shAvse_bIC4p"
   },
   "source": [
    "Если в каком-то месте стоит `True`, то это означает, что на соответствующем месте в `x` стоит элемент, который удовлетворяет условию, а если `False`, то не удовлетворяет.\n",
    "\n",
    "Теперь можно попробовать подставить массив из `True` и `False` в качестве индекса в `x`."
   ]
  },
  {
   "cell_type": "code",
   "execution_count": 116,
   "metadata": {
    "colab": {
     "base_uri": "https://localhost:8080/",
     "height": 165
    },
    "id": "WPssQLYPIC4p",
    "outputId": "e9aa6daf-6a46-4f6e-b9c2-215e7abb3397"
   },
   "outputs": [
    {
     "ename": "IndexError",
     "evalue": "boolean index did not match indexed array along dimension 0; dimension is 20 but corresponding boolean dimension is 5",
     "output_type": "error",
     "traceback": [
      "\u001b[1;31m---------------------------------------------------------------------------\u001b[0m",
      "\u001b[1;31mIndexError\u001b[0m                                Traceback (most recent call last)",
      "Cell \u001b[1;32mIn[116], line 1\u001b[0m\n\u001b[1;32m----> 1\u001b[0m \u001b[43mx\u001b[49m\u001b[43m[\u001b[49m\u001b[43m \u001b[49m\u001b[43mnp\u001b[49m\u001b[38;5;241;43m.\u001b[39;49m\u001b[43marray\u001b[49m\u001b[43m(\u001b[49m\u001b[43m[\u001b[49m\u001b[38;5;28;43;01mTrue\u001b[39;49;00m\u001b[43m,\u001b[49m\u001b[43m \u001b[49m\u001b[38;5;28;43;01mTrue\u001b[39;49;00m\u001b[43m,\u001b[49m\u001b[43m \u001b[49m\u001b[38;5;28;43;01mFalse\u001b[39;49;00m\u001b[43m,\u001b[49m\u001b[43m \u001b[49m\u001b[38;5;28;43;01mFalse\u001b[39;49;00m\u001b[43m,\u001b[49m\u001b[43m \u001b[49m\u001b[38;5;28;43;01mTrue\u001b[39;49;00m\u001b[43m]\u001b[49m\u001b[43m)\u001b[49m\u001b[43m \u001b[49m\u001b[43m]\u001b[49m\n",
      "\u001b[1;31mIndexError\u001b[0m: boolean index did not match indexed array along dimension 0; dimension is 20 but corresponding boolean dimension is 5"
     ]
    }
   ],
   "source": [
    "x[ np.array([True, True, False, False, True]) ]"
   ]
  },
  {
   "cell_type": "markdown",
   "metadata": {
    "id": "94Bo73s9IC4p"
   },
   "source": [
    "Эта штука выбирает ровно те элементы, на чьих местах стоит `True` — то есть ровно те, для которых выполнялось условие. То, что нам нужно!\n",
    "\n",
    "А вот так можно проверить несколько условий одновременно:"
   ]
  },
  {
   "cell_type": "code",
   "execution_count": 117,
   "metadata": {
    "id": "eKezqmdYIC4p",
    "outputId": "540bd3d2-ab39-4ad4-c80b-414a4f80f10c"
   },
   "outputs": [
    {
     "data": {
      "text/plain": [
       "array([2.31485774, 2.97624567, 3.6376336 , 4.29902153, 4.96040945,\n",
       "       5.62179738, 6.28318531])"
      ]
     },
     "execution_count": 117,
     "metadata": {},
     "output_type": "execute_result"
    }
   ],
   "source": [
    "x[ (x < 50) & (x > 2) ]"
   ]
  },
  {
   "cell_type": "markdown",
   "metadata": {
    "id": "a25I1e8cIC4p"
   },
   "source": [
    "Скобочки очень важны, иначе ничего не заработает. Операция `&` соответствует логическому И и опять же выполняется поэлементно."
   ]
  },
  {
   "cell_type": "code",
   "execution_count": 118,
   "metadata": {
    "colab": {
     "base_uri": "https://localhost:8080/"
    },
    "id": "IeQ4lJwQa3Va",
    "outputId": "d48b64c5-6b0e-46c4-de86-96479d4b2a63"
   },
   "outputs": [
    {
     "data": {
      "text/plain": [
       "array([ True,  True,  True,  True,  True,  True,  True,  True,  True,\n",
       "        True,  True,  True,  True,  True,  True,  True,  True,  True,\n",
       "        True,  True])"
      ]
     },
     "execution_count": 118,
     "metadata": {},
     "output_type": "execute_result"
    }
   ],
   "source": [
    "(x < 50)"
   ]
  },
  {
   "cell_type": "code",
   "execution_count": 119,
   "metadata": {
    "colab": {
     "base_uri": "https://localhost:8080/"
    },
    "id": "VatYDcvba4Ru",
    "outputId": "d7fead96-246e-410d-d895-da0694cbdd4f"
   },
   "outputs": [
    {
     "data": {
      "text/plain": [
       "array([False, False, False, False, False, False, False, False, False,\n",
       "       False, False, False, False,  True,  True,  True,  True,  True,\n",
       "        True,  True])"
      ]
     },
     "execution_count": 119,
     "metadata": {},
     "output_type": "execute_result"
    }
   ],
   "source": [
    "(x > 2)"
   ]
  },
  {
   "cell_type": "code",
   "execution_count": 120,
   "metadata": {
    "id": "vDwblxaUIC4p",
    "outputId": "20ee35aa-6685-49ef-bcc1-490c752ebf2d"
   },
   "outputs": [
    {
     "data": {
      "text/plain": [
       "array([False, False, False, False, False, False, False, False, False,\n",
       "       False, False, False, False,  True,  True,  True,  True,  True,\n",
       "        True,  True])"
      ]
     },
     "execution_count": 120,
     "metadata": {},
     "output_type": "execute_result"
    }
   ],
   "source": [
    "(x < 50) & (x > 2)"
   ]
  },
  {
   "cell_type": "markdown",
   "metadata": {
    "id": "fVZ9WanHIC4q"
   },
   "source": [
    "Для логического ИЛИ мы бы исползовали `|`, а для отрицания `~`."
   ]
  },
  {
   "cell_type": "code",
   "execution_count": 121,
   "metadata": {
    "id": "8XLVIf18IC4q",
    "outputId": "bcfb54df-59e2-4645-ba1c-031e4dde755a"
   },
   "outputs": [
    {
     "data": {
      "text/plain": [
       "array([ True,  True,  True,  True,  True,  True,  True,  True,  True,\n",
       "        True,  True,  True,  True,  True,  True,  True,  True,  True,\n",
       "        True,  True])"
      ]
     },
     "execution_count": 121,
     "metadata": {},
     "output_type": "execute_result"
    }
   ],
   "source": [
    "(x < 50) | (x > 2)"
   ]
  },
  {
   "cell_type": "code",
   "execution_count": 122,
   "metadata": {
    "id": "w21nnF5QIC4q",
    "outputId": "281fe28f-80af-48cd-95ed-93413e268c85"
   },
   "outputs": [
    {
     "data": {
      "text/plain": [
       "array([False, False, False, False, False, False, False, False, False,\n",
       "       False, False, False, False, False, False, False, False, False,\n",
       "       False, False])"
      ]
     },
     "execution_count": 122,
     "metadata": {},
     "output_type": "execute_result"
    }
   ],
   "source": [
    "~ (x < 50)"
   ]
  },
  {
   "cell_type": "markdown",
   "metadata": {
    "id": "n7ZFMZueIC4q"
   },
   "source": [
    "Результатом такого выбора снова является *вид*, и это очень удобно, потому что позволяет заменять одни элементы на другие в зависимости от условий и таким образом избавляться от операторов `if`."
   ]
  },
  {
   "cell_type": "code",
   "execution_count": 123,
   "metadata": {
    "id": "tNMjPQTgIC4q",
    "outputId": "0d4743b7-112e-46cb-ff1a-051301bba156"
   },
   "outputs": [
    {
     "data": {
      "text/plain": [
       "array([-6.28318531, -5.62179738, -4.96040945, -4.29902153, -3.6376336 ,\n",
       "       -2.97624567, -2.31485774, -1.65346982, -0.99208189, -0.33069396,\n",
       "        0.33069396,  0.99208189,  1.65346982,  2.31485774,  2.97624567,\n",
       "        3.6376336 ,  4.29902153,  4.96040945,  5.62179738,  6.28318531])"
      ]
     },
     "execution_count": 123,
     "metadata": {},
     "output_type": "execute_result"
    }
   ],
   "source": [
    "x"
   ]
  },
  {
   "cell_type": "code",
   "execution_count": 124,
   "metadata": {
    "id": "vqCadZorIC4q"
   },
   "outputs": [],
   "source": [
    "x[ x>50 ] = 0\n",
    "# заменить все элементы, большие 50, на 0"
   ]
  },
  {
   "cell_type": "code",
   "execution_count": 125,
   "metadata": {
    "colab": {
     "base_uri": "https://localhost:8080/"
    },
    "id": "FGmVFf3TIC4q",
    "outputId": "32586e07-8fef-48b7-e442-efbacdaff227"
   },
   "outputs": [
    {
     "data": {
      "text/plain": [
       "array([-6.28318531, -5.62179738, -4.96040945, -4.29902153, -3.6376336 ,\n",
       "       -2.97624567, -2.31485774, -1.65346982, -0.99208189, -0.33069396,\n",
       "        0.33069396,  0.99208189,  1.65346982,  2.31485774,  2.97624567,\n",
       "        3.6376336 ,  4.29902153,  4.96040945,  5.62179738,  6.28318531])"
      ]
     },
     "execution_count": 125,
     "metadata": {},
     "output_type": "execute_result"
    }
   ],
   "source": [
    "x"
   ]
  },
  {
   "cell_type": "markdown",
   "metadata": {
    "id": "lhVQ-kP6IC4r"
   },
   "source": [
    "Кстати, чтобы узнать, правда ли, что два массива равны (в том числе, что состоят из одних и тех же элементов, находящихся в одном и том же порядке), теперь нельзя использовать `==` — ведь это тоже поэлементная операция!"
   ]
  },
  {
   "cell_type": "code",
   "execution_count": 126,
   "metadata": {
    "colab": {
     "base_uri": "https://localhost:8080/"
    },
    "id": "7IwdEtxiIC4r",
    "outputId": "e3c6a06c-cca6-4da1-9f88-5a49807c7ee6"
   },
   "outputs": [
    {
     "data": {
      "text/plain": [
       "array([ True,  True,  True])"
      ]
     },
     "execution_count": 126,
     "metadata": {},
     "output_type": "execute_result"
    }
   ],
   "source": [
    "np.array([1, 2, 3]) == np.array([1, 2, 3])"
   ]
  },
  {
   "cell_type": "markdown",
   "metadata": {
    "id": "U1S-C4n_IC4r"
   },
   "source": [
    "Чтобы понять, правда ли, что массивы равны, можно использовать такой синтаксис:"
   ]
  },
  {
   "cell_type": "code",
   "execution_count": 127,
   "metadata": {
    "id": "s337w-MbIC4r",
    "outputId": "cf763d56-6c7a-414e-f398-c9357d441dc7"
   },
   "outputs": [
    {
     "data": {
      "text/plain": [
       "True"
      ]
     },
     "execution_count": 127,
     "metadata": {},
     "output_type": "execute_result"
    }
   ],
   "source": [
    "(np.array([1, 2, 3]) == np.array([1,2,3])).all()"
   ]
  },
  {
   "cell_type": "markdown",
   "metadata": {
    "id": "vGUSbid0IC4r"
   },
   "source": [
    "Здесь мы сначала сравниваем массивы поэлементно, а потом применяем к результату метод `all()`, возвращающий истину только если все элементы являются истиными. Этот подход часто используется, хотя имеет свои подводные камни (см. [на stackoverflow](http://stackoverflow.com/questions/10580676/comparing-two-numpy-arrays-for-equality-element-wise)). Есть и специализированная функция для проверки на равенство:"
   ]
  },
  {
   "cell_type": "code",
   "execution_count": 128,
   "metadata": {
    "id": "xm1SwTAEIC4r",
    "outputId": "89061759-2417-4fa3-a6a3-2b1b363bd91c"
   },
   "outputs": [
    {
     "data": {
      "text/plain": [
       "True"
      ]
     },
     "execution_count": 128,
     "metadata": {},
     "output_type": "execute_result"
    }
   ],
   "source": [
    "np.array_equal(np.array([1, 2, 3]), np.array([1, 2, 3]))"
   ]
  },
  {
   "cell_type": "markdown",
   "metadata": {
    "id": "cuBUn1NoIC4r"
   },
   "source": [
    "Функция where создает новый массив из двух других массивов одинаковых длин используя булев фильтр для выбора межу двумя элементами. Базовый синтаксис: where(boolarray,\n",
    "truearray, falsearray)."
   ]
  },
  {
   "cell_type": "code",
   "execution_count": 129,
   "metadata": {
    "colab": {
     "base_uri": "https://localhost:8080/"
    },
    "id": "hLrE19GiIC4s",
    "outputId": "2203d4ed-0621-47fa-8460-fd027367f699"
   },
   "outputs": [
    {
     "name": "stderr",
     "output_type": "stream",
     "text": [
      "C:\\Users\\Dari\\AppData\\Local\\Temp\\ipykernel_11124\\872888117.py:2: RuntimeWarning: divide by zero encountered in divide\n",
      "  np.where(a != 0, 1 / a, a)\n"
     ]
    },
    {
     "data": {
      "text/plain": [
       "array([1.        , 0.33333333, 0.        ])"
      ]
     },
     "execution_count": 129,
     "metadata": {},
     "output_type": "execute_result"
    }
   ],
   "source": [
    "a = np.array([1, 3, 0], float)\n",
    "np.where(a != 0, 1 / a, a)"
   ]
  },
  {
   "cell_type": "markdown",
   "metadata": {
    "id": "VyugNURzIC4s"
   },
   "source": [
    "С функцией where так же может быть реализовано «массовое сравнение»."
   ]
  },
  {
   "cell_type": "code",
   "execution_count": 130,
   "metadata": {
    "colab": {
     "base_uri": "https://localhost:8080/"
    },
    "id": "uFsMdhT3IC4s",
    "outputId": "bb20712e-0c5f-4109-e9c1-c30645371636"
   },
   "outputs": [
    {
     "data": {
      "text/plain": [
       "array([3, 3, 2])"
      ]
     },
     "execution_count": 130,
     "metadata": {},
     "output_type": "execute_result"
    }
   ],
   "source": [
    "np.where(a > 0, 3, 2)"
   ]
  },
  {
   "cell_type": "markdown",
   "metadata": {
    "id": "lAWg9O3hIC4s"
   },
   "source": [
    "Функция nonzero возвращает кортеж индексов ненулевых значений. Количество элементов в кортеже равно количеству осей в массиве."
   ]
  },
  {
   "cell_type": "code",
   "execution_count": 131,
   "metadata": {
    "colab": {
     "base_uri": "https://localhost:8080/"
    },
    "id": "pLIDKMwzIC4s",
    "outputId": "6514c308-9e83-4de3-ec90-6c881cc2bc26"
   },
   "outputs": [
    {
     "data": {
      "text/plain": [
       "(array([0, 1], dtype=int64), array([1, 0], dtype=int64))"
      ]
     },
     "execution_count": 131,
     "metadata": {},
     "output_type": "execute_result"
    }
   ],
   "source": [
    "a = np.array([[0, 1], [3, 0]], float)\n",
    "a.nonzero()"
   ]
  },
  {
   "cell_type": "markdown",
   "metadata": {
    "id": "dhwvPqPTIC4s"
   },
   "source": [
    "Также можно проверить значения на конечность и NaN(not a number)."
   ]
  },
  {
   "cell_type": "code",
   "execution_count": 132,
   "metadata": {
    "colab": {
     "base_uri": "https://localhost:8080/"
    },
    "id": "-E6nwRL1IC4s",
    "outputId": "4eeba547-fc58-4d2f-a811-6e90e02cb1a4"
   },
   "outputs": [
    {
     "data": {
      "text/plain": [
       "array([ 1., nan, inf])"
      ]
     },
     "execution_count": 132,
     "metadata": {},
     "output_type": "execute_result"
    }
   ],
   "source": [
    "a = np.array([1, np.NaN, np.Inf], float)\n",
    "a"
   ]
  },
  {
   "cell_type": "code",
   "execution_count": 133,
   "metadata": {
    "colab": {
     "base_uri": "https://localhost:8080/"
    },
    "id": "xVWfs8X7IC4t",
    "outputId": "da39fcdd-275c-4a81-f1ff-c3fb1527c925"
   },
   "outputs": [
    {
     "data": {
      "text/plain": [
       "array([False,  True, False])"
      ]
     },
     "execution_count": 133,
     "metadata": {},
     "output_type": "execute_result"
    }
   ],
   "source": [
    "np.isnan(a)"
   ]
  },
  {
   "cell_type": "code",
   "execution_count": 134,
   "metadata": {
    "colab": {
     "base_uri": "https://localhost:8080/"
    },
    "id": "CkcQfyZCIC4t",
    "outputId": "7fb80477-1e76-4162-8bb2-fdd20b4c55e3"
   },
   "outputs": [
    {
     "data": {
      "text/plain": [
       "array([ True, False, False])"
      ]
     },
     "execution_count": 134,
     "metadata": {},
     "output_type": "execute_result"
    }
   ],
   "source": [
    "np.isfinite(a)"
   ]
  },
  {
   "cell_type": "code",
   "execution_count": null,
   "metadata": {
    "id": "ZG9TJx6jIC4t"
   },
   "outputs": [],
   "source": []
  },
  {
   "cell_type": "markdown",
   "metadata": {
    "id": "NizsX-KpIC4t"
   },
   "source": [
    "Специальная функция take доступна для выполнения выборки с целочисленными массивами. Это работает также как и использования оператора взятия по индексу."
   ]
  },
  {
   "cell_type": "code",
   "execution_count": null,
   "metadata": {
    "colab": {
     "base_uri": "https://localhost:8080/"
    },
    "id": "RvAYt3TFIC4t",
    "outputId": "137ab4fc-5e0d-48ed-bd7c-672b31efe3e0"
   },
   "outputs": [
    {
     "data": {
      "text/plain": [
       "array([2., 2., 4., 8., 6., 4.])"
      ]
     },
     "execution_count": 180,
     "metadata": {},
     "output_type": "execute_result"
    }
   ],
   "source": [
    "a = np.array([2, 4, 6, 8], float)\n",
    "b = np.array([0, 0, 1, 3, 2, 1], int)\n",
    "a.take(b)"
   ]
  },
  {
   "cell_type": "code",
   "execution_count": null,
   "metadata": {
    "id": "I2DBaxqzq0ml"
   },
   "outputs": [],
   "source": []
  },
  {
   "cell_type": "markdown",
   "metadata": {
    "id": "DUBkecfkeSZW"
   },
   "source": [
    "## 3. Двумерные массивы\n",
    "\n",
    "#### 3.1 Создание, простые операции"
   ]
  },
  {
   "cell_type": "code",
   "execution_count": null,
   "metadata": {
    "colab": {
     "base_uri": "https://localhost:8080/"
    },
    "id": "kELaHm5YeSZW",
    "outputId": "2151a276-e443-4c00-9f41-8ebc16584b2a"
   },
   "outputs": [
    {
     "name": "stdout",
     "output_type": "stream",
     "text": [
      "[[ 0.  1.]\n",
      " [-1.  0.]]\n"
     ]
    }
   ],
   "source": [
    "a = np.array([[0.0, 1.0], [-1.0, 0.0]])\n",
    "print(a)"
   ]
  },
  {
   "cell_type": "code",
   "execution_count": null,
   "metadata": {
    "colab": {
     "base_uri": "https://localhost:8080/"
    },
    "id": "py9Ei8aSeSZX",
    "outputId": "ef23ff5a-472f-485d-d995-820cd8bfa56e"
   },
   "outputs": [
    {
     "data": {
      "text/plain": [
       "2"
      ]
     },
     "execution_count": 182,
     "metadata": {},
     "output_type": "execute_result"
    }
   ],
   "source": [
    "a.ndim"
   ]
  },
  {
   "cell_type": "code",
   "execution_count": null,
   "metadata": {
    "colab": {
     "base_uri": "https://localhost:8080/"
    },
    "id": "0TUKspWjeSZZ",
    "outputId": "d9bc3515-b1e3-49a8-8506-9e5a88bd5259"
   },
   "outputs": [
    {
     "data": {
      "text/plain": [
       "(2, 2)"
      ]
     },
     "execution_count": 183,
     "metadata": {},
     "output_type": "execute_result"
    }
   ],
   "source": [
    "a.shape"
   ]
  },
  {
   "cell_type": "code",
   "execution_count": null,
   "metadata": {
    "colab": {
     "base_uri": "https://localhost:8080/"
    },
    "id": "mH7fe1FkeSZa",
    "outputId": "581987b4-d737-41bf-fa1f-3cd21fdfa994"
   },
   "outputs": [
    {
     "data": {
      "text/plain": [
       "(2, 4)"
      ]
     },
     "execution_count": 184,
     "metadata": {},
     "output_type": "execute_result"
    }
   ],
   "source": [
    "len(a), a.size"
   ]
  },
  {
   "cell_type": "code",
   "execution_count": null,
   "metadata": {
    "colab": {
     "base_uri": "https://localhost:8080/"
    },
    "id": "fYbyOh3geSZc",
    "outputId": "eff7eb7b-0d3b-4398-e4d0-e4806fdeb3d9"
   },
   "outputs": [
    {
     "data": {
      "text/plain": [
       "-1.0"
      ]
     },
     "execution_count": 185,
     "metadata": {},
     "output_type": "execute_result"
    }
   ],
   "source": [
    "a[1, 0]"
   ]
  },
  {
   "cell_type": "markdown",
   "metadata": {
    "id": "zetzFla-IC4u"
   },
   "source": [
    "Размерность массива может быть увеличена при использовании константы newaxis в квадратных скобках."
   ]
  },
  {
   "cell_type": "code",
   "execution_count": null,
   "metadata": {
    "colab": {
     "base_uri": "https://localhost:8080/"
    },
    "id": "XtObKjxvIC4u",
    "outputId": "8e98fcc3-afb5-4ab2-8922-3ba7cc1ac1aa"
   },
   "outputs": [
    {
     "data": {
      "text/plain": [
       "(array([1., 2., 3.]), (3,))"
      ]
     },
     "execution_count": 186,
     "metadata": {},
     "output_type": "execute_result"
    }
   ],
   "source": [
    "c = np.array([1, 2, 3], float)\n",
    "c, c.shape"
   ]
  },
  {
   "cell_type": "code",
   "execution_count": null,
   "metadata": {
    "colab": {
     "base_uri": "https://localhost:8080/"
    },
    "id": "DR0VJyfKIC4u",
    "outputId": "1a7490f0-a765-41cc-9e39-000e93f84255"
   },
   "outputs": [
    {
     "data": {
      "text/plain": [
       "array([[1.],\n",
       "       [2.],\n",
       "       [3.]])"
      ]
     },
     "execution_count": 187,
     "metadata": {},
     "output_type": "execute_result"
    }
   ],
   "source": [
    "c[:,np.newaxis]"
   ]
  },
  {
   "cell_type": "code",
   "execution_count": null,
   "metadata": {
    "colab": {
     "base_uri": "https://localhost:8080/"
    },
    "id": "axhvUWCvIC4u",
    "outputId": "5c65173d-bdb6-40f3-e413-7cc6b50a38f8"
   },
   "outputs": [
    {
     "data": {
      "text/plain": [
       "(3, 1)"
      ]
     },
     "execution_count": 188,
     "metadata": {},
     "output_type": "execute_result"
    }
   ],
   "source": [
    "c[:,np.newaxis].shape"
   ]
  },
  {
   "cell_type": "code",
   "execution_count": null,
   "metadata": {
    "colab": {
     "base_uri": "https://localhost:8080/"
    },
    "id": "UGR5e8MqIC4u",
    "outputId": "b8a2a3f5-5de4-44bd-d4ae-eca39306908c"
   },
   "outputs": [
    {
     "data": {
      "text/plain": [
       "array([[1., 2., 3.]])"
      ]
     },
     "execution_count": 189,
     "metadata": {},
     "output_type": "execute_result"
    }
   ],
   "source": [
    "c[np.newaxis,:]"
   ]
  },
  {
   "cell_type": "code",
   "execution_count": null,
   "metadata": {
    "colab": {
     "base_uri": "https://localhost:8080/"
    },
    "id": "4z_n8f3-IC4v",
    "outputId": "6ed99d44-80f6-41e0-b536-08f0585f2f3d"
   },
   "outputs": [
    {
     "data": {
      "text/plain": [
       "(1, 3)"
      ]
     },
     "execution_count": 190,
     "metadata": {},
     "output_type": "execute_result"
    }
   ],
   "source": [
    "c[np.newaxis,:].shape"
   ]
  },
  {
   "cell_type": "markdown",
   "metadata": {
    "id": "n7vBPI7ZIC4v"
   },
   "source": [
    "Каждый получаемый массив – двумерный"
   ]
  },
  {
   "cell_type": "code",
   "execution_count": null,
   "metadata": {
    "id": "EHmMpLksIC4v"
   },
   "outputs": [],
   "source": [
    "a = np.array([[0.0, 1.0], [-1.0, 0.0]])"
   ]
  },
  {
   "cell_type": "markdown",
   "metadata": {
    "id": "WaoO-VOLeSZd"
   },
   "source": [
    "Атрибуту `shape` можно присвоить новое значение — кортеж размеров по всем координатам. Получится новый заголовок массива; его данные не изменятся."
   ]
  },
  {
   "cell_type": "code",
   "execution_count": null,
   "metadata": {
    "colab": {
     "base_uri": "https://localhost:8080/"
    },
    "id": "Ht7CInofeSZe",
    "outputId": "3d572513-9be8-4a7f-ad9b-886e81ab5e5b"
   },
   "outputs": [
    {
     "name": "stdout",
     "output_type": "stream",
     "text": [
      "[0. 1. 2. 3.]\n"
     ]
    }
   ],
   "source": [
    "b = np.linspace(0, 3, 4)\n",
    "print(b)"
   ]
  },
  {
   "cell_type": "code",
   "execution_count": null,
   "metadata": {
    "colab": {
     "base_uri": "https://localhost:8080/"
    },
    "id": "LmOZ33breSZf",
    "outputId": "d35d9845-2102-49bf-c49b-456bf92bb8a3"
   },
   "outputs": [
    {
     "data": {
      "text/plain": [
       "(4,)"
      ]
     },
     "execution_count": 193,
     "metadata": {},
     "output_type": "execute_result"
    }
   ],
   "source": [
    "b.shape"
   ]
  },
  {
   "cell_type": "code",
   "execution_count": null,
   "metadata": {
    "colab": {
     "base_uri": "https://localhost:8080/"
    },
    "id": "_TYvZX8eeSZg",
    "outputId": "99040679-3059-42aa-f7b3-a069d437d6f6"
   },
   "outputs": [
    {
     "name": "stdout",
     "output_type": "stream",
     "text": [
      "[[0. 1.]\n",
      " [2. 3.]]\n"
     ]
    }
   ],
   "source": [
    "b.shape = 2, 2\n",
    "print(b)"
   ]
  },
  {
   "cell_type": "markdown",
   "metadata": {
    "id": "jWVJLH9ZeSZh"
   },
   "source": [
    "Можно растянуть в одномерный массив"
   ]
  },
  {
   "cell_type": "code",
   "execution_count": null,
   "metadata": {
    "colab": {
     "base_uri": "https://localhost:8080/"
    },
    "id": "aJdF4hyreSZi",
    "outputId": "da04abfc-c815-4e32-d234-665462e8e4e4"
   },
   "outputs": [
    {
     "name": "stdout",
     "output_type": "stream",
     "text": [
      "[0. 1. 2. 3.]\n"
     ]
    }
   ],
   "source": [
    "print(b.ravel())"
   ]
  },
  {
   "cell_type": "code",
   "execution_count": null,
   "metadata": {
    "id": "K4wMOjfYIC4w",
    "outputId": "19298cbf-71c0-45c2-84c6-ba5434e41b61"
   },
   "outputs": [
    {
     "name": "stdout",
     "output_type": "stream",
     "text": [
      "[0. 1. 2. 3.]\n"
     ]
    }
   ],
   "source": [
    "print(b.flatten())"
   ]
  },
  {
   "cell_type": "code",
   "execution_count": null,
   "metadata": {
    "id": "ylXuZ0GdIC4w",
    "outputId": "5484a38d-961f-46fe-e54e-bd9fdadc02ab"
   },
   "outputs": [
    {
     "name": "stdout",
     "output_type": "stream",
     "text": [
      "[0. 1. 2. 3.]\n"
     ]
    }
   ],
   "source": [
    "print(b.reshape(-1))"
   ]
  },
  {
   "cell_type": "markdown",
   "metadata": {},
   "source": [
    "**Замечание**: Индексы и срезы в многомерных массивах не нужно разделять квадратными скобками \n",
    "\n",
    "т.е. вместо ```matrix[i][j]``` нужно использовать ```matrix[i, j]```"
   ]
  },
  {
   "cell_type": "markdown",
   "metadata": {
    "id": "ESFVX8TLIC4w"
   },
   "source": [
    "https://stackoverflow.com/a/28930580"
   ]
  },
  {
   "cell_type": "markdown",
   "metadata": {
    "id": "ff31TTeHeSZj"
   },
   "source": [
    "Арифметические операции поэлементные"
   ]
  },
  {
   "cell_type": "code",
   "execution_count": null,
   "metadata": {
    "colab": {
     "base_uri": "https://localhost:8080/"
    },
    "id": "a6WXKEj4eSZj",
    "outputId": "dabf127b-33d3-4447-95cd-b609daa8e37d"
   },
   "outputs": [
    {
     "name": "stdout",
     "output_type": "stream",
     "text": [
      "[[1. 2.]\n",
      " [0. 1.]]\n",
      "[[ 0.  2.]\n",
      " [-2.  0.]]\n",
      "[[ 0.  2.]\n",
      " [-1.  1.]]\n",
      "[[0. 1.]\n",
      " [1. 2.]]\n",
      "[[0. 2.]\n",
      " [1. 3.]]\n"
     ]
    }
   ],
   "source": [
    "print(a + 1)\n",
    "print(a * 2)\n",
    "print(a + [0, 1])  # второе слагаемое дополняется до матрицы копированием строк\n",
    "print(a + np.array([[0, 2]]).T)  # .T - транспонирование\n",
    "print(a + b)"
   ]
  },
  {
   "cell_type": "markdown",
   "metadata": {
    "id": "nLIlrz-BeSZl"
   },
   "source": [
    "#### 3.2 Работа с матрицами\n",
    "\n",
    "Поэлементное и матричное (только в Python >=3.5) умножение."
   ]
  },
  {
   "cell_type": "code",
   "execution_count": null,
   "metadata": {
    "colab": {
     "base_uri": "https://localhost:8080/"
    },
    "id": "r7p1eX5ddDDB",
    "outputId": "7b564d71-ebc4-49d1-96cd-d7adb1b487c0"
   },
   "outputs": [
    {
     "name": "stdout",
     "output_type": "stream",
     "text": [
      "[[ 0.  1.]\n",
      " [-1.  0.]]\n",
      "[[0. 1.]\n",
      " [2. 3.]]\n"
     ]
    }
   ],
   "source": [
    "print(a)\n",
    "print(b)"
   ]
  },
  {
   "cell_type": "code",
   "execution_count": null,
   "metadata": {
    "colab": {
     "base_uri": "https://localhost:8080/"
    },
    "id": "xAUzdffSeSZl",
    "outputId": "c6c039d0-07d4-4de2-87cb-a54c8b975e74"
   },
   "outputs": [
    {
     "name": "stdout",
     "output_type": "stream",
     "text": [
      "[[ 0.  1.]\n",
      " [-2.  0.]]\n"
     ]
    }
   ],
   "source": [
    "print(a * b)"
   ]
  },
  {
   "cell_type": "markdown",
   "metadata": {
    "id": "ZUk7wbIcIC4x"
   },
   "source": [
    "Функция dot возвращает скалярное произведение векторов / умножает матрицы"
   ]
  },
  {
   "cell_type": "code",
   "execution_count": null,
   "metadata": {
    "colab": {
     "base_uri": "https://localhost:8080/"
    },
    "id": "_-aCtho8IC4x",
    "outputId": "8c319d04-fd96-4e32-8647-1807654eb2b0"
   },
   "outputs": [
    {
     "data": {
      "text/plain": [
       "array([[ 2.,  3.],\n",
       "       [ 0., -1.]])"
      ]
     },
     "execution_count": 198,
     "metadata": {},
     "output_type": "execute_result"
    }
   ],
   "source": [
    "a.dot(b)"
   ]
  },
  {
   "cell_type": "code",
   "execution_count": null,
   "metadata": {
    "colab": {
     "base_uri": "https://localhost:8080/"
    },
    "id": "HhhP_X_9IC4x",
    "outputId": "a3ac7c9d-0008-4158-c34b-bd0ea49edbc9"
   },
   "outputs": [
    {
     "data": {
      "text/plain": [
       "array([[ 2.,  3.],\n",
       "       [ 0., -1.]])"
      ]
     },
     "execution_count": 199,
     "metadata": {},
     "output_type": "execute_result"
    }
   ],
   "source": [
    "np.dot(a, b)"
   ]
  },
  {
   "cell_type": "code",
   "execution_count": null,
   "metadata": {
    "colab": {
     "base_uri": "https://localhost:8080/"
    },
    "id": "GAI2uX5PeSZn",
    "outputId": "fe67d373-8e18-4450-932d-b1f2243d3fb8"
   },
   "outputs": [
    {
     "name": "stdout",
     "output_type": "stream",
     "text": [
      "[[ 2.  3.]\n",
      " [ 0. -1.]]\n"
     ]
    }
   ],
   "source": [
    "print(a @ b)"
   ]
  },
  {
   "cell_type": "code",
   "execution_count": null,
   "metadata": {
    "colab": {
     "base_uri": "https://localhost:8080/"
    },
    "id": "6ERS9kXLeSZp",
    "outputId": "bad9e282-b3af-48bd-d252-b6d9f6ef752f"
   },
   "outputs": [
    {
     "name": "stdout",
     "output_type": "stream",
     "text": [
      "[[-1.  0.]\n",
      " [-3.  2.]]\n"
     ]
    }
   ],
   "source": [
    "print(b @ a)"
   ]
  },
  {
   "cell_type": "markdown",
   "metadata": {
    "id": "KiDTXGnge0iF"
   },
   "source": [
    "**Упражнение:** создайте матрицы $\\begin{pmatrix} -3 & 4 \\\\ 4 & 3 \\end{pmatrix}$ и $\\begin{pmatrix} 2 & 1 \\\\ 1 & 2 \\end{pmatrix}$. Посчитайте их поэлементное и матричное произведения.\n",
    "\n",
    "**Решение:**"
   ]
  },
  {
   "cell_type": "code",
   "execution_count": null,
   "metadata": {
    "colab": {
     "base_uri": "https://localhost:8080/"
    },
    "id": "Ct4fsUQwe0iF",
    "outputId": "402d7764-4d30-4a83-a0dc-c73246f6e1a0"
   },
   "outputs": [
    {
     "name": "stdout",
     "output_type": "stream",
     "text": [
      "[[-6  4]\n",
      " [ 4  6]]\n",
      "[[-6  4]\n",
      " [ 4  6]]\n",
      "[[-2  5]\n",
      " [11 10]]\n",
      "[[-2 11]\n",
      " [ 5 10]]\n"
     ]
    }
   ],
   "source": [
    "a = np.array([[-3, 4], [4, 3]])\n",
    "b = np.array([[2, 1], [1, 2]])\n",
    "print(a * b)\n",
    "print(b * a)\n",
    "print(a @ b)\n",
    "print(b @ a)"
   ]
  },
  {
   "cell_type": "markdown",
   "metadata": {
    "id": "-3Wm4rIieSZ3"
   },
   "source": [
    "Умножение матрицы на вектор."
   ]
  },
  {
   "cell_type": "code",
   "execution_count": null,
   "metadata": {
    "colab": {
     "base_uri": "https://localhost:8080/"
    },
    "id": "mXgY1mBoeSZ4",
    "outputId": "a57bafc6-397f-40f9-dc6e-a6d2840ac83c"
   },
   "outputs": [
    {
     "name": "stdout",
     "output_type": "stream",
     "text": [
      "[ 1. -1.]\n"
     ]
    }
   ],
   "source": [
    "v = np.array([1, -1], dtype=np.float64)\n",
    "print(b @ v)"
   ]
  },
  {
   "cell_type": "code",
   "execution_count": null,
   "metadata": {
    "colab": {
     "base_uri": "https://localhost:8080/"
    },
    "id": "A0Emfd5ueSZ5",
    "outputId": "e53af8b3-cde9-45d9-8efc-6e72fe78cee8"
   },
   "outputs": [
    {
     "name": "stdout",
     "output_type": "stream",
     "text": [
      "[ 1. -1.]\n"
     ]
    }
   ],
   "source": [
    "print(v @ b)"
   ]
  },
  {
   "cell_type": "markdown",
   "metadata": {
    "id": "uJp4qRrOeSZ6"
   },
   "source": [
    "Если у вас Питон более ранней версии, то для работы с матрицами можно использовать класс `np.matrix`, в котором операция умножения реализуется как матричное умножение."
   ]
  },
  {
   "cell_type": "code",
   "execution_count": null,
   "metadata": {
    "colab": {
     "base_uri": "https://localhost:8080/"
    },
    "id": "a84Su-DneSZ6",
    "outputId": "ca0142d6-416a-436e-a322-5b9da0db5485"
   },
   "outputs": [
    {
     "data": {
      "text/plain": [
       "matrix([[-2,  5],\n",
       "        [11, 10]])"
      ]
     },
     "execution_count": 205,
     "metadata": {},
     "output_type": "execute_result"
    }
   ],
   "source": [
    "np.matrix(a) * np.matrix(b)"
   ]
  },
  {
   "cell_type": "markdown",
   "metadata": {
    "id": "ttfS-0_GeSZ7"
   },
   "source": [
    "Внешнее произведение $a_{ij}=u_i v_j$"
   ]
  },
  {
   "cell_type": "code",
   "execution_count": null,
   "metadata": {
    "colab": {
     "base_uri": "https://localhost:8080/"
    },
    "id": "hzr6tlLdeSZ8",
    "outputId": "72cfc43b-14c7-4e4f-eb75-09ed2bc0e433"
   },
   "outputs": [
    {
     "name": "stdout",
     "output_type": "stream",
     "text": [
      "[1. 2.]\n",
      "[2. 3. 4.]\n"
     ]
    }
   ],
   "source": [
    "u = np.linspace(1, 2, 2)\n",
    "v = np.linspace(2, 4, 3)\n",
    "print(u)\n",
    "print(v)"
   ]
  },
  {
   "cell_type": "code",
   "execution_count": null,
   "metadata": {
    "colab": {
     "base_uri": "https://localhost:8080/"
    },
    "id": "FcsJmsiGeSZ9",
    "outputId": "2455820a-6c2d-48d6-d0c1-e9d0cbfa2cd8"
   },
   "outputs": [
    {
     "name": "stdout",
     "output_type": "stream",
     "text": [
      "[[2. 3. 4.]\n",
      " [4. 6. 8.]]\n"
     ]
    }
   ],
   "source": [
    "a = np.outer(u, v)\n",
    "print(a)"
   ]
  },
  {
   "cell_type": "markdown",
   "metadata": {
    "id": "Aa_dWlyveSZ-"
   },
   "source": [
    "Двумерные массивы, зависящие только от одного индекса: $x_{ij}=u_j$, $y_{ij}=v_i$"
   ]
  },
  {
   "cell_type": "code",
   "execution_count": null,
   "metadata": {
    "colab": {
     "base_uri": "https://localhost:8080/"
    },
    "id": "4i6zYBg9eSZ_",
    "outputId": "c9ecd328-bedb-4b0b-84cb-fb8d3a444996"
   },
   "outputs": [
    {
     "name": "stdout",
     "output_type": "stream",
     "text": [
      "[[1. 2.]\n",
      " [1. 2.]\n",
      " [1. 2.]]\n",
      "[[2. 2.]\n",
      " [3. 3.]\n",
      " [4. 4.]]\n"
     ]
    }
   ],
   "source": [
    "x, y = np.meshgrid(u, v)\n",
    "print(x)\n",
    "print(y)"
   ]
  },
  {
   "cell_type": "markdown",
   "metadata": {
    "id": "KwK4g9gZeSaA"
   },
   "source": [
    "Единичная матрица."
   ]
  },
  {
   "cell_type": "code",
   "execution_count": null,
   "metadata": {
    "colab": {
     "base_uri": "https://localhost:8080/"
    },
    "id": "ST8KOHBWeSaB",
    "outputId": "d625b9b4-b0a4-4271-fc14-4db24d81da8b"
   },
   "outputs": [
    {
     "name": "stdout",
     "output_type": "stream",
     "text": [
      "[[1. 0. 0. 0.]\n",
      " [0. 1. 0. 0.]\n",
      " [0. 0. 1. 0.]\n",
      " [0. 0. 0. 1.]]\n"
     ]
    }
   ],
   "source": [
    "I = np.eye(4)\n",
    "print(I)"
   ]
  },
  {
   "cell_type": "markdown",
   "metadata": {
    "id": "zDOuMhIzeSaC"
   },
   "source": [
    "Метод `reshape` делает то же самое, что присваивание атрибуту `shape`."
   ]
  },
  {
   "cell_type": "code",
   "execution_count": null,
   "metadata": {
    "colab": {
     "base_uri": "https://localhost:8080/"
    },
    "id": "iV0R_x39eSaC",
    "outputId": "7e66211a-4357-4cf0-f08b-4f9b9871de7c"
   },
   "outputs": [
    {
     "name": "stdout",
     "output_type": "stream",
     "text": [
      "[1. 0. 0. 0. 0. 1. 0. 0. 0. 0. 1. 0. 0. 0. 0. 1.]\n"
     ]
    }
   ],
   "source": [
    "print(I.reshape(16))"
   ]
  },
  {
   "cell_type": "code",
   "execution_count": null,
   "metadata": {
    "colab": {
     "base_uri": "https://localhost:8080/"
    },
    "id": "uIEi4h1MeSaD",
    "outputId": "2c730b3e-2964-476c-fd50-dce38b0ce4c3"
   },
   "outputs": [
    {
     "name": "stdout",
     "output_type": "stream",
     "text": [
      "[[1. 0. 0. 0. 0. 1. 0. 0.]\n",
      " [0. 0. 1. 0. 0. 0. 0. 1.]]\n"
     ]
    }
   ],
   "source": [
    "print(I.reshape(2, 8))"
   ]
  },
  {
   "cell_type": "markdown",
   "metadata": {
    "id": "6rwLnypFIC4z"
   },
   "source": [
    "Обратите внимание, метод reshape создает новый массив, а не модифицирует оригинальный!"
   ]
  },
  {
   "cell_type": "markdown",
   "metadata": {
    "id": "HfQZjZZleSaE"
   },
   "source": [
    "Строка."
   ]
  },
  {
   "cell_type": "code",
   "execution_count": null,
   "metadata": {
    "colab": {
     "base_uri": "https://localhost:8080/"
    },
    "id": "dU-B5CsdeSaE",
    "outputId": "00c3efab-e010-4ed4-ed8a-91ec5fed9fd4"
   },
   "outputs": [
    {
     "name": "stdout",
     "output_type": "stream",
     "text": [
      "[0. 1. 0. 0.]\n"
     ]
    }
   ],
   "source": [
    "print(I[1])"
   ]
  },
  {
   "cell_type": "markdown",
   "metadata": {
    "id": "ptRot99NeSaF"
   },
   "source": [
    "Цикл по строкам."
   ]
  },
  {
   "cell_type": "code",
   "execution_count": null,
   "metadata": {
    "colab": {
     "base_uri": "https://localhost:8080/"
    },
    "id": "CQ3h7yA0eSaG",
    "outputId": "0f00dd75-3983-45ab-f731-0240ca724908"
   },
   "outputs": [
    {
     "name": "stdout",
     "output_type": "stream",
     "text": [
      "[1. 0. 0. 0.]\n",
      "[0. 1. 0. 0.]\n",
      "[0. 0. 1. 0.]\n",
      "[0. 0. 0. 1.]\n"
     ]
    }
   ],
   "source": [
    "for row in I:\n",
    "    print(row)"
   ]
  },
  {
   "cell_type": "markdown",
   "metadata": {
    "id": "V6lshMkHeSaH"
   },
   "source": [
    "Столбец."
   ]
  },
  {
   "cell_type": "code",
   "execution_count": null,
   "metadata": {
    "colab": {
     "base_uri": "https://localhost:8080/"
    },
    "id": "orbMt6WMeSaH",
    "outputId": "eb7a3b85-79ed-474b-ae59-5e5eb51d8aef"
   },
   "outputs": [
    {
     "name": "stdout",
     "output_type": "stream",
     "text": [
      "[0. 0. 1. 0.]\n"
     ]
    }
   ],
   "source": [
    "print(I[:, 2])"
   ]
  },
  {
   "cell_type": "markdown",
   "metadata": {
    "id": "nqnUtI-SeSaI"
   },
   "source": [
    "Подматрица."
   ]
  },
  {
   "cell_type": "code",
   "execution_count": null,
   "metadata": {
    "colab": {
     "base_uri": "https://localhost:8080/"
    },
    "id": "p8ycTAw3eSaI",
    "outputId": "408b21e3-17db-46a9-8083-f63ba9e712e4"
   },
   "outputs": [
    {
     "name": "stdout",
     "output_type": "stream",
     "text": [
      "[[0. 0.]\n",
      " [1. 0.]]\n"
     ]
    }
   ],
   "source": [
    "print(I[0:2, 1:3])"
   ]
  },
  {
   "cell_type": "markdown",
   "metadata": {
    "id": "wDDkZc3WeSaJ"
   },
   "source": [
    "Можно построить двумерный массив из функции."
   ]
  },
  {
   "cell_type": "code",
   "execution_count": null,
   "metadata": {
    "colab": {
     "base_uri": "https://localhost:8080/"
    },
    "id": "KXCnqDLKeSaK",
    "outputId": "5483e172-62f8-4185-ce28-d30be5ef2866"
   },
   "outputs": [
    {
     "name": "stdout",
     "output_type": "stream",
     "text": [
      "[[0 0 0 0]\n",
      " [1 1 1 1]\n",
      " [2 2 2 2]\n",
      " [3 3 3 3]]\n",
      "[[0 1 2 3]\n",
      " [0 1 2 3]\n",
      " [0 1 2 3]\n",
      " [0 1 2 3]]\n",
      "[[ 0  1  2  3]\n",
      " [10 11 12 13]\n",
      " [20 21 22 23]\n",
      " [30 31 32 33]]\n"
     ]
    }
   ],
   "source": [
    "def f(i, j):\n",
    "    print(i)\n",
    "    print(j)\n",
    "    return 10 * i + j\n",
    "\n",
    "print(np.fromfunction(f, (4, 4), dtype=np.int64))"
   ]
  },
  {
   "cell_type": "markdown",
   "metadata": {
    "id": "OFz0xwrreSaL"
   },
   "source": [
    "Транспонированная матрица."
   ]
  },
  {
   "cell_type": "code",
   "execution_count": null,
   "metadata": {
    "colab": {
     "base_uri": "https://localhost:8080/"
    },
    "id": "Z4J5zzvNeSaL",
    "outputId": "a9fb6af7-6b6f-4e23-ec26-584ab0b2ce59"
   },
   "outputs": [
    {
     "name": "stdout",
     "output_type": "stream",
     "text": [
      "[[2 1]\n",
      " [1 2]]\n"
     ]
    }
   ],
   "source": [
    "print(b.T)"
   ]
  },
  {
   "cell_type": "markdown",
   "metadata": {
    "id": "yGeRknu3eSaM"
   },
   "source": [
    "Соединение матриц по горизонтали и по вертикали."
   ]
  },
  {
   "cell_type": "code",
   "execution_count": null,
   "metadata": {
    "colab": {
     "base_uri": "https://localhost:8080/"
    },
    "id": "ObH0A6B3eSaM",
    "outputId": "7ffd407e-1a16-4fd3-d6d7-66ba69a4b7b0"
   },
   "outputs": [
    {
     "name": "stdout",
     "output_type": "stream",
     "text": [
      "[[0 1]\n",
      " [2 3]]\n",
      "[[4 5 6]\n",
      " [7 8 9]]\n",
      "[[4 5]\n",
      " [6 7]\n",
      " [8 9]]\n"
     ]
    }
   ],
   "source": [
    "a = np.array([[0, 1], [2, 3]])\n",
    "b = np.array([[4, 5, 6], [7, 8, 9]])\n",
    "c = np.array([[4, 5], [6, 7], [8, 9]])\n",
    "print(a)\n",
    "print(b)\n",
    "print(c)"
   ]
  },
  {
   "cell_type": "code",
   "execution_count": null,
   "metadata": {
    "colab": {
     "base_uri": "https://localhost:8080/"
    },
    "id": "0cpapPNveSaN",
    "outputId": "c1438798-7f39-4b85-c06a-1ba673e4aa8c"
   },
   "outputs": [
    {
     "name": "stdout",
     "output_type": "stream",
     "text": [
      "[[0 1 4 5 6]\n",
      " [2 3 7 8 9]]\n"
     ]
    }
   ],
   "source": [
    "print(np.hstack((a, b)))"
   ]
  },
  {
   "cell_type": "code",
   "execution_count": null,
   "metadata": {
    "colab": {
     "base_uri": "https://localhost:8080/"
    },
    "id": "EPxXHWTAeSaO",
    "outputId": "5913d8bc-92e1-4f4c-a093-88b06a0b7e36"
   },
   "outputs": [
    {
     "name": "stdout",
     "output_type": "stream",
     "text": [
      "[[0 1]\n",
      " [2 3]\n",
      " [4 5]\n",
      " [6 7]\n",
      " [8 9]]\n"
     ]
    }
   ],
   "source": [
    "print(np.vstack((a, c)))"
   ]
  },
  {
   "cell_type": "markdown",
   "metadata": {
    "id": "i3SBcbGzeSaP"
   },
   "source": [
    "Сумма всех элементов; суммы столбцов; суммы строк."
   ]
  },
  {
   "cell_type": "code",
   "execution_count": null,
   "metadata": {
    "colab": {
     "base_uri": "https://localhost:8080/"
    },
    "id": "V4Mgz9GIe0iL",
    "outputId": "7fcc2f63-d8e4-4895-8294-b1c750ecb896"
   },
   "outputs": [
    {
     "data": {
      "text/plain": [
       "array([[4, 5, 6],\n",
       "       [7, 8, 9]])"
      ]
     },
     "execution_count": 73,
     "metadata": {},
     "output_type": "execute_result"
    }
   ],
   "source": [
    "b"
   ]
  },
  {
   "cell_type": "code",
   "execution_count": null,
   "metadata": {
    "colab": {
     "base_uri": "https://localhost:8080/"
    },
    "id": "kQLBs3mHeSaP",
    "outputId": "7bc9cf66-69d5-4ef6-dd75-1fd906796fbd"
   },
   "outputs": [
    {
     "name": "stdout",
     "output_type": "stream",
     "text": [
      "39\n",
      "[11 13 15]\n",
      "[15 24]\n"
     ]
    }
   ],
   "source": [
    "print(b.sum())\n",
    "print(b.sum(axis=0))\n",
    "print(b.sum(axis=1))"
   ]
  },
  {
   "cell_type": "markdown",
   "metadata": {
    "id": "rc8otaIBeSaQ"
   },
   "source": [
    "Аналогично работают `prod`, `max`, `min` и т.д."
   ]
  },
  {
   "cell_type": "code",
   "execution_count": null,
   "metadata": {
    "colab": {
     "base_uri": "https://localhost:8080/"
    },
    "id": "822so2-9eSaQ",
    "outputId": "bcfe87f2-ce52-43c5-8f34-9739acfe367b"
   },
   "outputs": [
    {
     "name": "stdout",
     "output_type": "stream",
     "text": [
      "9\n",
      "[7 8 9]\n",
      "[4 7]\n"
     ]
    }
   ],
   "source": [
    "print(b.max())\n",
    "print(b.max(axis=0))\n",
    "print(b.min(axis=1))"
   ]
  },
  {
   "cell_type": "markdown",
   "metadata": {
    "id": "4U0Zoi7WIC42"
   },
   "source": [
    "Функции argmin и argmax возвращают индекс минимального или максимального элемента."
   ]
  },
  {
   "cell_type": "code",
   "execution_count": null,
   "metadata": {
    "id": "CrVXI7W0IC42",
    "outputId": "87bfd70e-8967-4fd6-f8ca-17883f171bcd"
   },
   "outputs": [
    {
     "data": {
      "text/plain": [
       "0"
      ]
     },
     "execution_count": 80,
     "metadata": {},
     "output_type": "execute_result"
    }
   ],
   "source": [
    "b.argmin()"
   ]
  },
  {
   "cell_type": "code",
   "execution_count": null,
   "metadata": {
    "id": "-HM_LS6pIC42",
    "outputId": "3e9befd7-a741-4f7c-d474-b16dc7bc97db"
   },
   "outputs": [
    {
     "data": {
      "text/plain": [
       "5"
      ]
     },
     "execution_count": 83,
     "metadata": {},
     "output_type": "execute_result"
    }
   ],
   "source": [
    "b.argmax()"
   ]
  },
  {
   "cell_type": "markdown",
   "metadata": {
    "id": "AlzAeJI-eSaR"
   },
   "source": [
    "След - сумма диагональных элементов."
   ]
  },
  {
   "cell_type": "code",
   "execution_count": null,
   "metadata": {
    "colab": {
     "base_uri": "https://localhost:8080/"
    },
    "id": "-BlaKobheSaR",
    "outputId": "17e826d4-378a-4c0d-b5fa-9d4d13373510"
   },
   "outputs": [
    {
     "data": {
      "text/plain": [
       "3"
      ]
     },
     "execution_count": 112,
     "metadata": {
      "tags": []
     },
     "output_type": "execute_result"
    }
   ],
   "source": [
    "np.trace(a)"
   ]
  },
  {
   "cell_type": "markdown",
   "metadata": {
    "id": "nAr4Sa4Te0iM"
   },
   "source": [
    "**Упражнение:** \n",
    "\n",
    "в статистике и машинном обучении часто приходится иметь с функцией $RSS$, которая вычисляется по формуле $\\sum_{i=1}^{n} (y_i - a_i)^2$, где $y_i$ — координаты одномерного вектора $y$,  $a_i$ — координаты одномерного вектора $a$. Посчитайте $RSS$ для $y = (1, 2, 3, 4, 5), a = (3, 2, 1, 0, -1)$.\n",
    "\n",
    "**Решение:**"
   ]
  },
  {
   "cell_type": "code",
   "execution_count": null,
   "metadata": {
    "id": "wdiG3YHQe0iM"
   },
   "outputs": [],
   "source": [
    "# решение\n",
    "y = np.arange(1, 6)\n",
    "a = np.arange(3, -2, -1)\n",
    "rss = np.sum((y - a)**2)"
   ]
  },
  {
   "cell_type": "markdown",
   "metadata": {
    "id": "7VULr5jSeSaS"
   },
   "source": [
    "## 4. Тензоры (многомерные массивы)"
   ]
  },
  {
   "cell_type": "markdown",
   "metadata": {
    "id": "3wwvC1UOQppZ"
   },
   "source": [
    "#### 4.1 Создание, простые операции"
   ]
  },
  {
   "cell_type": "code",
   "execution_count": 355,
   "metadata": {
    "colab": {
     "base_uri": "https://localhost:8080/"
    },
    "id": "_Vx6sZvjeSaT",
    "outputId": "7a541976-019e-410c-a112-999c2d2bbc5a"
   },
   "outputs": [
    {
     "name": "stdout",
     "output_type": "stream",
     "text": [
      "[[[ 0  1  2  3]\n",
      "  [ 4  5  6  7]\n",
      "  [ 8  9 10 11]]\n",
      "\n",
      " [[12 13 14 15]\n",
      "  [16 17 18 19]\n",
      "  [20 21 22 23]]]\n"
     ]
    }
   ],
   "source": [
    "X = np.arange(24).reshape(2, 3, 4)\n",
    "print(X)"
   ]
  },
  {
   "cell_type": "markdown",
   "metadata": {
    "id": "6-a_IMz5eSaU"
   },
   "source": [
    "Суммирование (аналогично остальные операции)"
   ]
  },
  {
   "cell_type": "code",
   "execution_count": 356,
   "metadata": {
    "colab": {
     "base_uri": "https://localhost:8080/"
    },
    "id": "XnTt-275eSaU",
    "outputId": "c9e9da8e-5415-4a22-cadf-5c95bebe3933"
   },
   "outputs": [
    {
     "name": "stdout",
     "output_type": "stream",
     "text": [
      "[[12 14 16 18]\n",
      " [20 22 24 26]\n",
      " [28 30 32 34]]\n"
     ]
    }
   ],
   "source": [
    "# суммируем только по нулевой оси, то есть для фиксированных j и k \n",
    "# суммируем только элементы с индексами (*, j, k)\n",
    "print(X.sum(axis=0))"
   ]
  },
  {
   "cell_type": "code",
   "execution_count": 357,
   "metadata": {
    "colab": {
     "base_uri": "https://localhost:8080/"
    },
    "id": "O5m-SV4Ge0iN",
    "outputId": "e4b5e1a4-3ce0-41a1-d0de-dd23d9c299bb"
   },
   "outputs": [
    {
     "name": "stdout",
     "output_type": "stream",
     "text": [
      "[ 66 210]\n"
     ]
    }
   ],
   "source": [
    "# суммируем сразу по двум осям, то есть для фиксированной i \n",
    "# суммируем только элементы с индексами (i, *, *)\n",
    "print(X.sum(axis=(1, 2)))"
   ]
  },
  {
   "cell_type": "markdown",
   "metadata": {
    "id": "-FWPCnqzQppZ"
   },
   "source": [
    "#### 4.2. Broadcasting"
   ]
  },
  {
   "cell_type": "markdown",
   "metadata": {
    "id": "uPjV3yjKQppZ"
   },
   "source": [
    "Выше при арифметических операциях с массивами, например, при сложении и умножении, мы перемножали массивы одинаковой формы. В самом простом случае операндами были одномерные массивы одинаковой длины."
   ]
  },
  {
   "cell_type": "code",
   "execution_count": null,
   "metadata": {
    "colab": {
     "base_uri": "https://localhost:8080/"
    },
    "id": "vjFxZY6JQppa",
    "outputId": "ace21081-8132-4348-d239-481dd0138cf3"
   },
   "outputs": [
    {
     "name": "stdout",
     "output_type": "stream",
     "text": [
      "[2 4 6]\n"
     ]
    }
   ],
   "source": [
    "# Самый простой случай\n",
    "a = np.array([1, 2, 3])\n",
    "b = np.array([2, 2, 2])\n",
    "print(a * b)"
   ]
  },
  {
   "cell_type": "markdown",
   "metadata": {
    "id": "CFUBi7CDQppa"
   },
   "source": [
    "Произошло поэлементное умножение, все элементы массива $a$ умножились на $2$. Но мы знаем, что это можно сделать проще, просто умножив массив на $2$."
   ]
  },
  {
   "cell_type": "code",
   "execution_count": null,
   "metadata": {
    "colab": {
     "base_uri": "https://localhost:8080/"
    },
    "id": "eSGmLzA5Qppa",
    "outputId": "efbee6ec-4cbe-4990-a676-638dc754bd8b"
   },
   "outputs": [
    {
     "name": "stdout",
     "output_type": "stream",
     "text": [
      "[2 4 6]\n"
     ]
    }
   ],
   "source": [
    "# Умножение массива на число\n",
    "print(a * 2)"
   ]
  },
  {
   "cell_type": "markdown",
   "metadata": {
    "id": "u7_r9j_9Qppb"
   },
   "source": [
    "На самом деле поведение будет аналогичным, если умножить одномерный массив на массив длины $1$."
   ]
  },
  {
   "cell_type": "code",
   "execution_count": null,
   "metadata": {
    "colab": {
     "base_uri": "https://localhost:8080/"
    },
    "id": "yg6006goQppb",
    "outputId": "c6bd4f17-4b6b-4c03-bd6a-c9e947e03ec0"
   },
   "outputs": [
    {
     "name": "stdout",
     "output_type": "stream",
     "text": [
      "[2 4 6]\n"
     ]
    }
   ],
   "source": [
    "# Умножение массивов разных длин\n",
    "print(a * [2])"
   ]
  },
  {
   "cell_type": "markdown",
   "metadata": {
    "id": "FoaMvoBmQppc"
   },
   "source": [
    "В этом случае работает так называемый *broadcasting*. Один массив \"растягивается\", чтобы повторить форму другого.\n",
    "\n",
    "![theory.broadcast_1.gif](data:image/gif;base64,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)"
   ]
  },
  {
   "cell_type": "markdown",
   "metadata": {
    "id": "vzmLw9c3Qppc"
   },
   "source": [
    "\n",
    "\n",
    "Такой же эффект работает и для многомерных массивов. Если по какому-то измерению размер у одного массива равен $1$, а у другого — произвольный, то по этому измерению может произойти \"рястяжение\". Таким образом, массивы можно умножать друг на друга, если в измерениях, где они по размеру не совпадают, хотя бы у одного размер $1$. Для других поэлементных операций правило аналогично.\n",
    "\n",
    "\n",
    "Правило согласования размерностей выражается в одном предложение: \n",
    "\n",
    "```In order to broadcast, the size of the trailing axes for both arrays in an operation must either be the same size or one of them must be one```\n",
    "\n",
    "Если количество размерностей не совпадают, то к массиву меньшей размерности добавляются фиктивные размерности \"слева\", например:\n",
    "```\n",
    "a  = np.ones((2,3,4))\n",
    "b = np.ones(4)\n",
    "c = a * b # here a.shape=(2,3,4) and b.shape is considered to be (1,1,4)\n"
   ]
  },
  {
   "cell_type": "code",
   "execution_count": 358,
   "metadata": {
    "colab": {
     "base_uri": "https://localhost:8080/"
    },
    "id": "MPaw_M3iQppc",
    "outputId": "2b0d412d-ecc7-441d-a9f6-147c354cf72c"
   },
   "outputs": [
    {
     "name": "stdout",
     "output_type": "stream",
     "text": [
      "[[ 0  1  2]\n",
      " [10 11 12]\n",
      " [20 21 22]\n",
      " [30 31 32]]\n"
     ]
    }
   ],
   "source": [
    "a = np.array([[ 0,  0,  0],\n",
    "              [10, 10, 10],\n",
    "              [20, 20, 20],\n",
    "              [30, 30, 30]])\n",
    "\n",
    "b = np.array([0, 1, 2])\n",
    "\n",
    "print(a + b)"
   ]
  },
  {
   "cell_type": "markdown",
   "metadata": {
    "id": "NVxT_nHjQppd"
   },
   "source": [
    "Схематично проведенную операцию можно визуализировать следующим образом.\n",
    "\n",
    "![theory.broadcast_2.gif](data:image/gif;base64,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)\n",
    "\n",
    "\n",
    "Если неединичные размерности справа не будут совпадать, то выполнить операцию уже не получится. Например, как приведено на схеме ниже. \n",
    "\n",
    "![theory.broadcast_3.gif](data:image/gif;base64,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)\n"
   ]
  },
  {
   "cell_type": "markdown",
   "metadata": {
    "id": "H_FZ39gJQppd"
   },
   "source": [
    "**Упражнение:**\n",
    "\n",
    "Подумайте, массив какого размера получится, если перемножить массив $4 \\times 1 \\times 3$ и массив $12 \\times 1$. Убедитесь на практике в правильности вашего ответа."
   ]
  },
  {
   "cell_type": "code",
   "execution_count": null,
   "metadata": {
    "colab": {
     "base_uri": "https://localhost:8080/"
    },
    "id": "4oVm6BevQppd",
    "outputId": "96379ebe-5510-4b58-fdaf-5fc0d4afb45a"
   },
   "outputs": [
    {
     "name": "stdout",
     "output_type": "stream",
     "text": [
      "(4, 12, 3)\n"
     ]
    }
   ],
   "source": [
    "# решение\n",
    "a = np.ones((4, 1, 3))\n",
    "b = np.ones((12, 1))\n",
    "\n",
    "mul_shape = (a * b).shape\n",
    "print(mul_shape)"
   ]
  },
  {
   "cell_type": "code",
   "execution_count": null,
   "metadata": {
    "id": "tCdDBNrkk8SW"
   },
   "outputs": [],
   "source": []
  },
  {
   "cell_type": "markdown",
   "metadata": {
    "id": "sWPEBlaKQppe"
   },
   "source": [
    "*Замечание*\n",
    "\n",
    "Знать про broadcasting нужно, но пользоваться им надо с осторожностью. Многократное копирование массива при растяжении может привести к неэффективной работе программы по памяти. Особенно за этим приходится следить при работе с GPU."
   ]
  },
  {
   "cell_type": "markdown",
   "metadata": {
    "id": "fQu4JWrkeSaV"
   },
   "source": [
    "## 5. Случайные числа"
   ]
  },
  {
   "cell_type": "code",
   "execution_count": 179,
   "metadata": {
    "id": "jyF0Mb5AIC49"
   },
   "outputs": [],
   "source": [
    "np.random.seed(293423)"
   ]
  },
  {
   "cell_type": "markdown",
   "metadata": {
    "id": "Bc0qULqIIC49"
   },
   "source": [
    "Seed это целое число. Каждая программа которая запускается с одинаковым seed`ом будет генерировать одинаковую последовательность чисел каждый раз. Это может быть полезно для отладки"
   ]
  },
  {
   "cell_type": "markdown",
   "metadata": {
    "id": "ZyY_Xex5IC49"
   },
   "source": [
    "Массив случайных чисел из полуинтервала [0.0, 1.0) может быть сгенерирован так."
   ]
  },
  {
   "cell_type": "code",
   "execution_count": 170,
   "metadata": {
    "id": "x8OY4FuKIC49",
    "outputId": "88dcb2e3-0b09-4bc2-e970-40332ce1f19a"
   },
   "outputs": [
    {
     "data": {
      "text/plain": [
       "array([0.33677247, 0.52693437, 0.79529578, 0.78867702, 0.02147624])"
      ]
     },
     "execution_count": 170,
     "metadata": {},
     "output_type": "execute_result"
    }
   ],
   "source": [
    "np.random.rand(5)"
   ]
  },
  {
   "cell_type": "markdown",
   "metadata": {
    "id": "68iVVKqOIC49"
   },
   "source": [
    "Функция rand может быть использована для генерации двумерных массивов, или можно использовать функцию reshape"
   ]
  },
  {
   "cell_type": "code",
   "execution_count": 171,
   "metadata": {
    "id": "VB7y1IhHIC49",
    "outputId": "0a1d4a4c-28d1-46de-cb93-0dd97c767a9b"
   },
   "outputs": [
    {
     "data": {
      "text/plain": [
       "array([[0.84612516, 0.0704939 , 0.1526965 ],\n",
       "       [0.77831701, 0.80821151, 0.82198398]])"
      ]
     },
     "execution_count": 171,
     "metadata": {},
     "output_type": "execute_result"
    }
   ],
   "source": [
    "np.random.rand(2,3)"
   ]
  },
  {
   "cell_type": "code",
   "execution_count": 172,
   "metadata": {
    "id": "fET-QPkJIC49",
    "outputId": "7ca37eee-17ed-4f01-ce58-066ff4b20028"
   },
   "outputs": [
    {
     "data": {
      "text/plain": [
       "array([[0.90239653, 0.8385685 , 0.02638565],\n",
       "       [0.33681448, 0.46480928, 0.61686496]])"
      ]
     },
     "execution_count": 172,
     "metadata": {},
     "output_type": "execute_result"
    }
   ],
   "source": [
    "np.random.rand(6).reshape((2,3))"
   ]
  },
  {
   "cell_type": "markdown",
   "metadata": {
    "id": "0YoBKJz-IC4-"
   },
   "source": [
    "Для генерации единичного случайного числа на интервале [0.0, 1.0)"
   ]
  },
  {
   "cell_type": "code",
   "execution_count": 178,
   "metadata": {
    "id": "3IkUTi8TIC4-",
    "outputId": "3ad109a6-16ff-498d-efd0-b0f74c84ed13"
   },
   "outputs": [
    {
     "data": {
      "text/plain": [
       "0.3638687327698509"
      ]
     },
     "execution_count": 178,
     "metadata": {},
     "output_type": "execute_result"
    }
   ],
   "source": [
    "np.random.random()"
   ]
  },
  {
   "cell_type": "markdown",
   "metadata": {
    "id": "wcE49N8DIC4-"
   },
   "source": [
    "Для генерации случайного целочисленного числа в диапазоне [min, max) используем функцию randint(min, max)"
   ]
  },
  {
   "cell_type": "code",
   "execution_count": 177,
   "metadata": {
    "id": "UwTkXxqCIC4-",
    "outputId": "5655c27c-8780-4efc-d2f9-e77d88e54932"
   },
   "outputs": [
    {
     "data": {
      "text/plain": [
       "8"
      ]
     },
     "execution_count": 177,
     "metadata": {},
     "output_type": "execute_result"
    }
   ],
   "source": [
    "np.random.randint(5, 10)"
   ]
  },
  {
   "cell_type": "markdown",
   "metadata": {
    "id": "76BU0--VIC4-"
   },
   "source": [
    "## 6. Линейная алгебра"
   ]
  },
  {
   "cell_type": "code",
   "execution_count": null,
   "metadata": {
    "id": "KJ9qk8KBe0iO"
   },
   "outputs": [],
   "source": [
    "a = np.array([[0, 1], [2, 3]])"
   ]
  },
  {
   "cell_type": "code",
   "execution_count": null,
   "metadata": {
    "colab": {
     "base_uri": "https://localhost:8080/"
    },
    "id": "QfoGKtHdeSaV",
    "outputId": "34c3e346-e206-42d8-d63e-a8df8ed5e244"
   },
   "outputs": [
    {
     "data": {
      "text/plain": [
       "-2.0"
      ]
     },
     "execution_count": 123,
     "metadata": {
      "tags": []
     },
     "output_type": "execute_result"
    }
   ],
   "source": [
    "np.linalg.det(a)"
   ]
  },
  {
   "cell_type": "markdown",
   "metadata": {
    "id": "fh6WDlobeSaW"
   },
   "source": [
    "Обратная матрица."
   ]
  },
  {
   "cell_type": "code",
   "execution_count": null,
   "metadata": {
    "colab": {
     "base_uri": "https://localhost:8080/"
    },
    "id": "6_JMYc5NeSaX",
    "outputId": "9df6bde7-2001-43b3-820c-64838ee4d3a1"
   },
   "outputs": [
    {
     "name": "stdout",
     "output_type": "stream",
     "text": [
      "[[-1.5  0.5]\n",
      " [ 1.   0. ]]\n"
     ]
    }
   ],
   "source": [
    "a1 = np.linalg.inv(a)\n",
    "print(a1)"
   ]
  },
  {
   "cell_type": "code",
   "execution_count": null,
   "metadata": {
    "colab": {
     "base_uri": "https://localhost:8080/"
    },
    "id": "9RK1Y8tOeSaY",
    "outputId": "16f5ad20-22d6-4d7b-91f6-2fc11ce38b65"
   },
   "outputs": [
    {
     "name": "stdout",
     "output_type": "stream",
     "text": [
      "[[1. 0.]\n",
      " [0. 1.]]\n",
      "[[1. 0.]\n",
      " [0. 1.]]\n"
     ]
    }
   ],
   "source": [
    "print(a @ a1)\n",
    "print(a1 @ a)"
   ]
  },
  {
   "cell_type": "markdown",
   "metadata": {
    "id": "hjrrv-DqeSaY"
   },
   "source": [
    "Решение линейной системы $au=v$."
   ]
  },
  {
   "cell_type": "code",
   "execution_count": null,
   "metadata": {
    "colab": {
     "base_uri": "https://localhost:8080/"
    },
    "id": "gXVo3PmCeSaZ",
    "outputId": "671b4b71-31ba-4cc4-bb11-c331f4bcfd8d"
   },
   "outputs": [
    {
     "name": "stdout",
     "output_type": "stream",
     "text": [
      "[0.5 0. ]\n"
     ]
    }
   ],
   "source": [
    "v = np.array([0, 1], dtype=np.float64)\n",
    "print(a1 @ v)"
   ]
  },
  {
   "cell_type": "code",
   "execution_count": null,
   "metadata": {
    "colab": {
     "base_uri": "https://localhost:8080/"
    },
    "id": "CH5xU8hXeSaa",
    "outputId": "25a0e01a-db24-4f20-f8ff-1eefa06662b6"
   },
   "outputs": [
    {
     "name": "stdout",
     "output_type": "stream",
     "text": [
      "[0.5 0. ]\n"
     ]
    }
   ],
   "source": [
    "u = np.linalg.solve(a, v)\n",
    "print(u)"
   ]
  },
  {
   "cell_type": "markdown",
   "metadata": {
    "id": "n4Qrc4JCeSab"
   },
   "source": [
    "Проверим."
   ]
  },
  {
   "cell_type": "code",
   "execution_count": null,
   "metadata": {
    "colab": {
     "base_uri": "https://localhost:8080/"
    },
    "id": "FzmdANWPeSab",
    "outputId": "60425a1b-96d1-4acf-987f-49b215a6c66b"
   },
   "outputs": [
    {
     "name": "stdout",
     "output_type": "stream",
     "text": [
      "[0. 0.]\n"
     ]
    }
   ],
   "source": [
    "print(a @ u - v)"
   ]
  },
  {
   "cell_type": "markdown",
   "metadata": {
    "id": "nr9z4BbGeSac"
   },
   "source": [
    "Собственные значения и собственные векторы: $a u_i = \\lambda_i u_i$. `l` — одномерный массив собственных значений $\\lambda_i$, столбцы матрицы $u$ — собственные векторы $u_i$."
   ]
  },
  {
   "cell_type": "code",
   "execution_count": null,
   "metadata": {
    "colab": {
     "base_uri": "https://localhost:8080/"
    },
    "id": "0W3HKMpreSac",
    "outputId": "e187541e-0e99-4f23-ac7b-18bb5c9185ac"
   },
   "outputs": [
    {
     "name": "stdout",
     "output_type": "stream",
     "text": [
      "[-0.56155281  3.56155281]\n"
     ]
    }
   ],
   "source": [
    "l, u = np.linalg.eig(a)\n",
    "print(l)"
   ]
  },
  {
   "cell_type": "code",
   "execution_count": null,
   "metadata": {
    "colab": {
     "base_uri": "https://localhost:8080/"
    },
    "id": "iDz1izeneSad",
    "outputId": "465c5027-2489-494a-a7a7-65c855360ddc"
   },
   "outputs": [
    {
     "name": "stdout",
     "output_type": "stream",
     "text": [
      "[[-0.87192821 -0.27032301]\n",
      " [ 0.48963374 -0.96276969]]\n"
     ]
    }
   ],
   "source": [
    "print(u)"
   ]
  },
  {
   "cell_type": "markdown",
   "metadata": {
    "id": "dNGJ88UCeSae"
   },
   "source": [
    "Проверим."
   ]
  },
  {
   "cell_type": "code",
   "execution_count": null,
   "metadata": {
    "colab": {
     "base_uri": "https://localhost:8080/"
    },
    "id": "OAbVlo3PeSae",
    "outputId": "988320e5-c8d4-4bdd-d73e-27ed4133d2d5"
   },
   "outputs": [
    {
     "name": "stdout",
     "output_type": "stream",
     "text": [
      "[0.00000000e+00 1.66533454e-16]\n",
      "[ 0.0000000e+00 -4.4408921e-16]\n"
     ]
    }
   ],
   "source": [
    "for i in range(2):\n",
    "    print(a @ u[:, i] - l[i] * u[:, i])"
   ]
  },
  {
   "cell_type": "markdown",
   "metadata": {
    "id": "CTiDbQI_eSaf"
   },
   "source": [
    "Функция `diag` от одномерного массива строит диагональную матрицу; от квадратной матрицы — возвращает одномерный массив её диагональных элементов."
   ]
  },
  {
   "cell_type": "code",
   "execution_count": null,
   "metadata": {
    "colab": {
     "base_uri": "https://localhost:8080/"
    },
    "id": "gHJlMqRIeSag",
    "outputId": "b4159388-466a-4571-f7b9-fe808794f4c5"
   },
   "outputs": [
    {
     "name": "stdout",
     "output_type": "stream",
     "text": [
      "[[-0.56155281  0.        ]\n",
      " [ 0.          3.56155281]]\n",
      "[-0.56155281  3.56155281]\n"
     ]
    }
   ],
   "source": [
    "L = np.diag(l)\n",
    "print(L)\n",
    "print(np.diag(L))"
   ]
  },
  {
   "cell_type": "markdown",
   "metadata": {
    "id": "tOKmUQDyeSah"
   },
   "source": [
    "Все уравнения $a u_i = \\lambda_i u_i$ можно собрать в одно матричное уравнение $a u = u \\Lambda$, где $\\Lambda$ — диагональная матрица с собственными значениями $\\lambda_i$ по диагонали."
   ]
  },
  {
   "cell_type": "code",
   "execution_count": null,
   "metadata": {
    "colab": {
     "base_uri": "https://localhost:8080/"
    },
    "id": "qXSUnhqweSah",
    "outputId": "86fcec2a-2785-4cd7-ed05-7d6cd0627fbb"
   },
   "outputs": [
    {
     "name": "stdout",
     "output_type": "stream",
     "text": [
      "[[ 0.00000000e+00  0.00000000e+00]\n",
      " [ 1.66533454e-16 -4.44089210e-16]]\n"
     ]
    }
   ],
   "source": [
    "print(a @ u - u @ L)"
   ]
  },
  {
   "cell_type": "markdown",
   "metadata": {
    "id": "b1vsNPo8eSai"
   },
   "source": [
    "Поэтому $u^{-1} a u = \\Lambda$."
   ]
  },
  {
   "cell_type": "code",
   "execution_count": null,
   "metadata": {
    "colab": {
     "base_uri": "https://localhost:8080/"
    },
    "id": "D8aJ2LeUeSai",
    "outputId": "c0037584-4a24-4ebf-c46f-1f5579bb89a3"
   },
   "outputs": [
    {
     "name": "stdout",
     "output_type": "stream",
     "text": [
      "[[-5.61552813e-01  2.77555756e-17]\n",
      " [-2.22044605e-16  3.56155281e+00]]\n"
     ]
    }
   ],
   "source": [
    "print(np.linalg.inv(u) @ a @ u)"
   ]
  },
  {
   "cell_type": "markdown",
   "metadata": {
    "id": "GDV31jreeSaj"
   },
   "source": [
    "Найдём теперь левые собственные векторы $v_i a = \\lambda_i v_i$. Собственные значения $\\lambda_i$ те же самые."
   ]
  },
  {
   "cell_type": "code",
   "execution_count": null,
   "metadata": {
    "colab": {
     "base_uri": "https://localhost:8080/"
    },
    "id": "1HyE2M51eSaj",
    "outputId": "3224d81d-0d24-41f7-8084-d35f5ec105ce"
   },
   "outputs": [
    {
     "name": "stdout",
     "output_type": "stream",
     "text": [
      "[-0.56155281  3.56155281]\n",
      "[[-0.96276969 -0.48963374]\n",
      " [ 0.27032301 -0.87192821]]\n"
     ]
    }
   ],
   "source": [
    "l, v = np.linalg.eig(a.T)\n",
    "print(l)\n",
    "print(v)"
   ]
  },
  {
   "cell_type": "markdown",
   "metadata": {
    "id": "kvTFZXzieSak"
   },
   "source": [
    "Собственные векторы нормированы на 1."
   ]
  },
  {
   "cell_type": "code",
   "execution_count": null,
   "metadata": {
    "colab": {
     "base_uri": "https://localhost:8080/"
    },
    "id": "mtRpa6CSeSak",
    "outputId": "2a828cf5-704f-4cfe-d294-f0a21cd67658"
   },
   "outputs": [
    {
     "name": "stdout",
     "output_type": "stream",
     "text": [
      "[[ 1.         -0.23570226]\n",
      " [-0.23570226  1.        ]]\n",
      "[[1.         0.23570226]\n",
      " [0.23570226 1.        ]]\n"
     ]
    }
   ],
   "source": [
    "print(u.T @ u)\n",
    "print(v.T @ v)"
   ]
  },
  {
   "cell_type": "markdown",
   "metadata": {
    "id": "cF_vDIO0eSal"
   },
   "source": [
    "Левые и правые собственные векторы, соответствующие разным собственным значениям, ортогональны, потому что $v_i a u_j = \\lambda_i v_i u_j = \\lambda_j v_i u_j$."
   ]
  },
  {
   "cell_type": "code",
   "execution_count": null,
   "metadata": {
    "colab": {
     "base_uri": "https://localhost:8080/"
    },
    "id": "Ntj_buO3eSam",
    "outputId": "3af47be2-accb-4c9f-cad1-98e0f571ed5c"
   },
   "outputs": [
    {
     "name": "stdout",
     "output_type": "stream",
     "text": [
      "[[ 9.71825316e-01  0.00000000e+00]\n",
      " [-5.55111512e-17  9.71825316e-01]]\n"
     ]
    }
   ],
   "source": [
    "print(v.T @ u)"
   ]
  },
  {
   "cell_type": "markdown",
   "metadata": {
    "id": "UPo6GT9Ne0iU"
   },
   "source": [
    "**Упражнение:** \n",
    "\n",
    "в машинном обучении есть модель линейной регрессии, для которой \"хорошее\" решение считается по следующей формуле: $\\widehat{\\theta} = (X^T \\cdot X + \\lambda \\cdot I_n)^{-1}\\cdot X^T y$. Вычислите $\\widehat{\\theta}$ для $ X = \\begin{pmatrix} -3 & 4 & 1 \\\\ 4 & 3 & 1  \\end{pmatrix}$, $y = \\begin{pmatrix} 10 \\\\ 12  \\end{pmatrix}$, $I_n$ — единичная матрица размерности 3, $\\lambda = 0.1$.\n",
    "\n",
    "**Решение:**"
   ]
  },
  {
   "cell_type": "code",
   "execution_count": null,
   "metadata": {
    "id": "WTHCzulBi1Jk"
   },
   "outputs": [],
   "source": [
    "X = np.array([[-3, 4, 1], [4, 3, 1]])\n",
    "y = np.array([10, 12])\n",
    "I = np.eye(3)\n",
    "lambd = 0.1\n",
    "theta = np.linalg.inv(X.T @ X + lambd * I) @ X.T @ y"
   ]
  },
  {
   "cell_type": "markdown",
   "metadata": {
    "id": "huwe8P9LeSaq"
   },
   "source": [
    "## 7. Сохранение в файл и чтение из файла"
   ]
  },
  {
   "cell_type": "code",
   "execution_count": 243,
   "metadata": {
    "id": "2XDE5GHzeSar"
   },
   "outputs": [],
   "source": [
    "x = np.arange(0, 25, 0.5).reshape((5, 10))\n",
    "\n",
    "# Сохраняем в файл example.txt данные x в формате с двумя точками после запятой и разделителем ';'\n",
    "np.savetxt('example.txt', x, fmt='%.2f', delimiter=';')"
   ]
  },
  {
   "cell_type": "markdown",
   "metadata": {
    "id": "B9RcBcSpeSas"
   },
   "source": [
    "Получится такой файл"
   ]
  },
  {
   "cell_type": "code",
   "execution_count": 244,
   "metadata": {
    "colab": {
     "base_uri": "https://localhost:8080/"
    },
    "id": "dqoUbX3meSas",
    "outputId": "47d520e9-52d1-44ad-8391-abad741d8cd1"
   },
   "outputs": [
    {
     "name": "stderr",
     "output_type": "stream",
     "text": [
      "'cat' is not recognized as an internal or external command,\n",
      "operable program or batch file.\n"
     ]
    }
   ],
   "source": [
    "! cat example.txt"
   ]
  },
  {
   "cell_type": "markdown",
   "metadata": {
    "id": "EMfZ9-KceSat"
   },
   "source": [
    "Теперь его можно прочитать"
   ]
  },
  {
   "cell_type": "code",
   "execution_count": 245,
   "metadata": {
    "colab": {
     "base_uri": "https://localhost:8080/"
    },
    "id": "AzLywGeKeSat",
    "outputId": "718c3f45-21bb-429b-e8e0-1e99d3dac43b"
   },
   "outputs": [
    {
     "name": "stdout",
     "output_type": "stream",
     "text": [
      "[[ 0.   0.5  1.   1.5  2.   2.5  3.   3.5  4.   4.5]\n",
      " [ 5.   5.5  6.   6.5  7.   7.5  8.   8.5  9.   9.5]\n",
      " [10.  10.5 11.  11.5 12.  12.5 13.  13.5 14.  14.5]\n",
      " [15.  15.5 16.  16.5 17.  17.5 18.  18.5 19.  19.5]\n",
      " [20.  20.5 21.  21.5 22.  22.5 23.  23.5 24.  24.5]]\n"
     ]
    }
   ],
   "source": [
    "x = np.loadtxt('example.txt', delimiter=';')\n",
    "print(x)"
   ]
  },
  {
   "cell_type": "code",
   "execution_count": 249,
   "metadata": {},
   "outputs": [
    {
     "data": {
      "text/plain": [
       "True"
      ]
     },
     "execution_count": 249,
     "metadata": {},
     "output_type": "execute_result"
    }
   ],
   "source": [
    "np.save('example2.npy', x)    # .npy extension is added if not given\n",
    "d = np.load('example2.npy')\n",
    "(x == d).all()"
   ]
  },
  {
   "cell_type": "markdown",
   "metadata": {
    "id": "Y4voLe-LeSau"
   },
   "source": [
    "## 8. Производительность numpy\n",
    "\n",
    "Посмотрим на простой пример — сумма первых $10^8$ чисел."
   ]
  },
  {
   "cell_type": "code",
   "execution_count": 140,
   "metadata": {
    "colab": {
     "base_uri": "https://localhost:8080/"
    },
    "id": "nvCQ_4WReSav",
    "outputId": "7a346ff9-570e-4edf-cb2f-416a6d77c822"
   },
   "outputs": [
    {
     "name": "stdout",
     "output_type": "stream",
     "text": [
      "4999999950000000\n",
      "CPU times: total: 1min 10s\n",
      "Wall time: 1min 16s\n"
     ]
    }
   ],
   "source": [
    "%%time\n",
    "\n",
    "sum_value = 0\n",
    "for i in range(10 ** 8):\n",
    "    sum_value += i\n",
    "print(sum_value)"
   ]
  },
  {
   "cell_type": "markdown",
   "metadata": {
    "id": "v4SQIcy8eSaw"
   },
   "source": [
    "Немного улучшеный код"
   ]
  },
  {
   "cell_type": "code",
   "execution_count": 141,
   "metadata": {
    "colab": {
     "base_uri": "https://localhost:8080/"
    },
    "id": "ewr9BFMpeSaw",
    "outputId": "9d95e4f0-3b2f-4fc0-d128-0b1d941d9601"
   },
   "outputs": [
    {
     "name": "stdout",
     "output_type": "stream",
     "text": [
      "4999999950000000\n",
      "CPU times: total: 18.8 s\n",
      "Wall time: 21.3 s\n"
     ]
    }
   ],
   "source": [
    "%%time\n",
    "\n",
    "sum_value = sum(range(10 ** 8))\n",
    "print(sum_value)"
   ]
  },
  {
   "cell_type": "markdown",
   "metadata": {
    "id": "pUjiYs86eSax"
   },
   "source": [
    "Код с использованием функций библиотеки `numpy`"
   ]
  },
  {
   "cell_type": "code",
   "execution_count": 142,
   "metadata": {
    "colab": {
     "base_uri": "https://localhost:8080/"
    },
    "id": "Jv6RFksoeSax",
    "outputId": "b4bd7af6-5da9-49d8-ea76-471c4190cb1e"
   },
   "outputs": [
    {
     "name": "stdout",
     "output_type": "stream",
     "text": [
      "887459712\n",
      "CPU times: total: 812 ms\n",
      "Wall time: 892 ms\n"
     ]
    }
   ],
   "source": [
    "%%time\n",
    "\n",
    "sum_value = np.arange(10 ** 8).sum()\n",
    "print(sum_value)"
   ]
  },
  {
   "cell_type": "markdown",
   "metadata": {
    "id": "ya-V2P3veSay"
   },
   "source": [
    "Простой и понятный код работает в $85$ раз быстрее!\n",
    "\n",
    "Посмотрим на другой пример. Сгенерируем матрицу размера $500\\times1000$, и вычислим средний минимум по колонкам.\n",
    "\n",
    "Простой код, но при этом даже использующий некоторые питон-функции\n"
   ]
  },
  {
   "cell_type": "code",
   "execution_count": 145,
   "metadata": {
    "id": "Ulfmy68keSaz"
   },
   "outputs": [],
   "source": [
    "import random"
   ]
  },
  {
   "cell_type": "code",
   "execution_count": 149,
   "metadata": {},
   "outputs": [
    {
     "data": {
      "text/plain": [
       "0.6145328784601265"
      ]
     },
     "execution_count": 149,
     "metadata": {},
     "output_type": "execute_result"
    }
   ],
   "source": [
    "random.random()"
   ]
  },
  {
   "cell_type": "code",
   "execution_count": 166,
   "metadata": {
    "colab": {
     "base_uri": "https://localhost:8080/"
    },
    "id": "bp_qnnwPeSaz",
    "outputId": "c8e6d324-5d1a-4b25-aefc-6270056ae3c5"
   },
   "outputs": [
    {
     "name": "stdout",
     "output_type": "stream",
     "text": [
      "0.0040988227337038505\n",
      "CPU times: total: 1.53 s\n",
      "Wall time: 1.57 s\n"
     ]
    }
   ],
   "source": [
    "%%time\n",
    "\n",
    "N, M = 500, 1000\n",
    "matrix = []\n",
    "for i in range(N):\n",
    "    matrix.append([random.random() for j in range(M)])\n",
    "\n",
    "min_col = [min([matrix[i][j] for i in range(N)]) for j in range(M)]\n",
    "mean_min = sum(min_col) / N\n",
    "print(mean_min)"
   ]
  },
  {
   "cell_type": "markdown",
   "metadata": {
    "id": "c47oHwHzeSa0"
   },
   "source": [
    "Понятный код с использованием функций библиотеки numpy"
   ]
  },
  {
   "cell_type": "code",
   "execution_count": 167,
   "metadata": {
    "colab": {
     "base_uri": "https://localhost:8080/"
    },
    "id": "h1WGN9hseSa0",
    "outputId": "72ac21e2-9230-4b28-e30d-1a8c1356c69c"
   },
   "outputs": [
    {
     "name": "stdout",
     "output_type": "stream",
     "text": [
      "-3.2427232438449844\n",
      "CPU times: total: 125 ms\n",
      "Wall time: 101 ms\n"
     ]
    }
   ],
   "source": [
    "%%time\n",
    "\n",
    "N, M = 500, 1000\n",
    "matrix = np.random.randn(N, M)\n",
    "mean_min = matrix.min(axis=1).mean()\n",
    "print(mean_min)"
   ]
  },
  {
   "cell_type": "markdown",
   "metadata": {
    "id": "ABVSxP6seSa1"
   },
   "source": [
    "Простой и понятный код работает в 15 раз быстрее!"
   ]
  },
  {
   "cell_type": "code",
   "execution_count": null,
   "metadata": {},
   "outputs": [],
   "source": []
  }
 ],
 "metadata": {
  "colab": {
   "provenance": []
  },
  "kernelspec": {
   "display_name": "Python 3 (ipykernel)",
   "language": "python",
   "name": "python3"
  },
  "language_info": {
   "codemirror_mode": {
    "name": "ipython",
    "version": 3
   },
   "file_extension": ".py",
   "mimetype": "text/x-python",
   "name": "python",
   "nbconvert_exporter": "python",
   "pygments_lexer": "ipython3",
   "version": "3.10.9"
  }
 },
 "nbformat": 4,
 "nbformat_minor": 1
}
