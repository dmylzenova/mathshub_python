{
 "cells": [
  {
   "cell_type": "markdown",
   "id": "1677596a",
   "metadata": {
    "slideshow": {
     "slide_type": "slide"
    }
   },
   "source": [
    "<center>\n",
    "    <img src=\"images/logo.jpg\"  width=1000\">\n",
    "</center>"
   ]
  },
  {
   "cell_type": "markdown",
   "id": "acaafa0a",
   "metadata": {
    "slideshow": {
     "slide_type": "slide"
    }
   },
   "source": [
    "<center>\n",
    "    <br/>\n",
    "    <font>Привет! Добро пожаловать!</font><br/>\n",
    "    <br/>\n",
    "    <font>Поставьте + в чат </font><br/>\n",
    "</center>"
   ]
  },
  {
   "cell_type": "markdown",
   "id": "9a0b0b0d",
   "metadata": {
    "slideshow": {
     "slide_type": "slide"
    }
   },
   "source": [
    "<center>\n",
    "    <br/>\n",
    "    <b style=\"font-size: 2em\">Введение в ООП</b><br/>\n",
    "    <br/>\n",
    "    <font>Python 2023</font><br/>\n",
    "    <br/>\n",
    "    <font>Дарима Мылзенова</font><br/>\n",
    "</center>"
   ]
  },
  {
   "cell_type": "markdown",
   "id": "575d5ef1",
   "metadata": {
    "slideshow": {
     "slide_type": "slide"
    }
   },
   "source": [
    "## План лекции\n",
    "* Что такое ООП - объектно-ориентированное программирование\n",
    "* Класс и экземпляр класса\n",
    "* Синтаксис классов, переменные, методы, staticmethod, classmethod\n",
    "* Magic methods\n",
    "* Наследование и MRO"
   ]
  },
  {
   "cell_type": "markdown",
   "id": "dfdc2b88",
   "metadata": {
    "slideshow": {
     "slide_type": "slide"
    }
   },
   "source": [
    "## Объектно-ориентированное программирование\n",
    "<center>\n",
    "    <img src=\"https://res.cloudinary.com/practicaldev/image/fetch/s--yR9z_YIG--/c_limit%2Cf_auto%2Cfl_progressive%2Cq_auto%2Cw_880/https://dev-to-uploads.s3.amazonaws.com/uploads/articles/q926dojhwqyfbbban1qp.png\"  width=\"500\" alt=\"unfunny meme again\">\n",
    "    <br/>\n",
    "</center>"
   ]
  },
  {
   "cell_type": "markdown",
   "id": "a91615d8",
   "metadata": {
    "slideshow": {
     "slide_type": "slide"
    }
   },
   "source": [
    "## Базовые принципы ООП\n",
    "\n",
    "* Инкапсуляция\n",
    "* Абстракция\n",
    "* Наследование\n",
    "* Полиморфизм"
   ]
  },
  {
   "cell_type": "markdown",
   "id": "36fcc25f",
   "metadata": {
    "slideshow": {
     "slide_type": "slide"
    }
   },
   "source": [
    "## Инкапсуляция\n",
    "\n",
    "    - это концепция, при которой данные (переменные) и методы (функции) для работы с ними объединяются внутри объекта, скрывая внутренние детали реализации и предоставляя только необходимый интерфейс для взаимодействия с объектом\n",
    "<img src=\"images/cat.png\" width=\"800\" alt=\"unfunny meme again\"/>"
   ]
  },
  {
   "cell_type": "markdown",
   "id": "22a3e4af",
   "metadata": {
    "slideshow": {
     "slide_type": "slide"
    }
   },
   "source": [
    "## Абстракция \n",
    "\n",
    "    - выделение основных характеристик и функциональности объекта, игнорируя детали реализации, чтобы создать обобщенную модель, которая упрощает взаимодействие с объектами\n",
    "<img src=\"images/phone.png\" width=\"800\" alt=\"unfunny meme again\"/>"
   ]
  },
  {
   "cell_type": "markdown",
   "id": "f67be6d5",
   "metadata": {
    "slideshow": {
     "slide_type": "slide"
    }
   },
   "source": [
    "## Наследование\n",
    "    - механизм, позволяющий создавать новый класс на основе существующего класса, наследуя его свойства и методы\n",
    "\n",
    "<img src=\"https://res.cloudinary.com/practicaldev/image/fetch/s--99FiKC2Y--/c_limit%2Cf_auto%2Cfl_progressive%2Cq_auto%2Cw_880/https://dev-to-uploads.s3.amazonaws.com/uploads/articles/t3lxoq60hdb5ew0d1urv.png\" width=\"800\">\n",
    "\n"
   ]
  },
  {
   "cell_type": "markdown",
   "id": "291711b8",
   "metadata": {
    "slideshow": {
     "slide_type": "slide"
    }
   },
   "source": [
    "## Полиморфизм\n",
    "\n",
    "    - концепция, позволяющая объектам разных типов использовать общий интерфейс для выполнения различных действий, что облегчает обработку разнообразных объектов одним и тем же кодом.\n",
    "\n",
    "\n",
    "\n",
    "\n",
    "<img src=\"https://res.cloudinary.com/practicaldev/image/fetch/s--6C6S59tf--/c_limit%2Cf_auto%2Cfl_progressive%2Cq_auto%2Cw_880/https://dev-to-uploads.s3.amazonaws.com/uploads/articles/jsbp9xdy1iam5ddw0l8j.png\" width=\"700\">\n",
    "\n"
   ]
  },
  {
   "cell_type": "markdown",
   "id": "ab1c9d37",
   "metadata": {
    "slideshow": {
     "slide_type": "slide"
    }
   },
   "source": [
    "## Класс и Объект\n",
    "\n",
    "* **Класс**  - шаблон, с помощью которого создаются объекты.\n",
    "    Описывает, как хранятся данные (в полях/переменных/атрибутах *attributes*) и как с ними работать (методы *methods*)\n",
    "    \n",
    "* **Объект** - экземпляр *instance* класса.  \n",
    "    В экземпляре поля могут заполняться конкретными значениями. Объекты находятся в памяти программы и могут изменять своё состояние или выполнять какие-то действия с помощью методов класса для этого объекта.\n"
   ]
  },
  {
   "cell_type": "markdown",
   "id": "6698a541",
   "metadata": {
    "slideshow": {
     "slide_type": "slide"
    }
   },
   "source": [
    "### Примеры: built-in types\n",
    "\n",
    "\"Целочисленный тип\" → int → 1, 2, 3\n",
    "\n",
    "\"Массив\" → list → [1, 2, 3], [4, 5, 6]\n",
    "\n",
    "\"Упорядоченный набор фиксированной длины\" → tuple → (1, 2, 3), (3, 4)\n",
    "\n",
    "\"Питоновский класс\" → type → int, str, float"
   ]
  },
  {
   "cell_type": "markdown",
   "id": "49acff66",
   "metadata": {
    "slideshow": {
     "slide_type": "slide"
    }
   },
   "source": [
    "### Примеры: built-in types"
   ]
  },
  {
   "cell_type": "code",
   "execution_count": 2,
   "id": "65d0f2a6",
   "metadata": {},
   "outputs": [
    {
     "data": {
      "text/plain": [
       "(int, int)"
      ]
     },
     "execution_count": 2,
     "metadata": {},
     "output_type": "execute_result"
    }
   ],
   "source": [
    "1\n",
    "\n",
    "(1).__class__, type(1)"
   ]
  },
  {
   "cell_type": "code",
   "execution_count": 3,
   "id": "253bc2f6",
   "metadata": {},
   "outputs": [
    {
     "data": {
      "text/plain": [
       "(tuple, tuple)"
      ]
     },
     "execution_count": 3,
     "metadata": {},
     "output_type": "execute_result"
    }
   ],
   "source": [
    "# t - Экземпляр класса tuple \n",
    "t = tuple()\n",
    "\n",
    "# Класс tuple\n",
    "t.__class__, type(t)"
   ]
  },
  {
   "cell_type": "markdown",
   "id": "0f0ea2f0",
   "metadata": {
    "slideshow": {
     "slide_type": "slide"
    }
   },
   "source": [
    "### Примеры: built-in types"
   ]
  },
  {
   "cell_type": "code",
   "execution_count": 4,
   "id": "09e95bed",
   "metadata": {},
   "outputs": [
    {
     "data": {
      "text/plain": [
       "(type, type, type)"
      ]
     },
     "execution_count": 4,
     "metadata": {},
     "output_type": "execute_result"
    }
   ],
   "source": [
    "# Экземпляр\n",
    "int\n",
    "\n",
    "# Класс\n",
    "(int).__class__, type(int), type(type)"
   ]
  },
  {
   "cell_type": "markdown",
   "id": "7d090eda",
   "metadata": {
    "slideshow": {
     "slide_type": "-"
    }
   },
   "source": [
    "*В питоне все есть объект, то есть инстанс какого-то класса!*"
   ]
  },
  {
   "cell_type": "markdown",
   "id": "dd01139b",
   "metadata": {
    "slideshow": {
     "slide_type": "slide"
    }
   },
   "source": [
    "### Создание класса"
   ]
  },
  {
   "cell_type": "code",
   "execution_count": 5,
   "id": "11c7904a",
   "metadata": {},
   "outputs": [],
   "source": [
    "class MyClass: # имя обычно пишется с большой буквы и в CamelCase\n",
    "    pass       # этот класс пустой\n",
    "\n",
    "a = MyClass(); b = MyClass() # Экземпляры класса MyClass"
   ]
  },
  {
   "cell_type": "code",
   "execution_count": 6,
   "id": "94bc2b79",
   "metadata": {},
   "outputs": [
    {
     "data": {
      "text/plain": [
       "<__main__.MyClass at 0x135f65f1540>"
      ]
     },
     "execution_count": 6,
     "metadata": {},
     "output_type": "execute_result"
    }
   ],
   "source": [
    "a"
   ]
  },
  {
   "cell_type": "code",
   "execution_count": 7,
   "id": "69ff0e14",
   "metadata": {},
   "outputs": [
    {
     "data": {
      "text/plain": [
       "(__main__.MyClass, __main__.MyClass, type)"
      ]
     },
     "execution_count": 7,
     "metadata": {},
     "output_type": "execute_result"
    }
   ],
   "source": [
    "a.__class__, b.__class__, MyClass.__class__"
   ]
  },
  {
   "cell_type": "markdown",
   "id": "bebf71c8",
   "metadata": {
    "slideshow": {
     "slide_type": "slide"
    }
   },
   "source": [
    "### Создание класса: инициализация объекта"
   ]
  },
  {
   "cell_type": "code",
   "execution_count": 8,
   "id": "dc2b6242",
   "metadata": {},
   "outputs": [],
   "source": [
    "class MyClass:\n",
    "\n",
    "    def __init__(self):  # self - это обозначение, используемое в Python для ссылки на экземпляр (инстанс) \n",
    "        pass             # объекта, к которому применяется метод. Это позволяет взаимодействовать с данными, \n",
    "                         # хранящимися в объекте, а также вызывать другие методы этого объекта.\n",
    "                         # Передается первым аргументом при вызове метода \n",
    "                         # Поэтому этот аргумент должен присутствоватьво всех методах класса."
   ]
  },
  {
   "cell_type": "code",
   "execution_count": 9,
   "id": "b62274d6",
   "metadata": {},
   "outputs": [
    {
     "data": {
      "text/plain": [
       "<__main__.MyClass at 0x135f65f1540>"
      ]
     },
     "execution_count": 9,
     "metadata": {},
     "output_type": "execute_result"
    }
   ],
   "source": [
    "a"
   ]
  },
  {
   "cell_type": "markdown",
   "id": "e98539d9",
   "metadata": {
    "slideshow": {
     "slide_type": "slide"
    }
   },
   "source": [
    "## `__init(self, *args, **kwargs)__`\n",
    " - это специальный метод в Python, который используется для инициализации (создания и настройки) новых экземпляров (инстансов) класса. \n",
    " - Он автоматически вызывается при создании нового объекта класса и позволяет передать значения начальных атрибутов."
   ]
  },
  {
   "cell_type": "code",
   "execution_count": 10,
   "id": "5e049409",
   "metadata": {
    "scrolled": true,
    "slideshow": {
     "slide_type": "-"
    }
   },
   "outputs": [
    {
     "name": "stdout",
     "output_type": "stream",
     "text": [
      "Called init, <__main__.MyClass object at 0x00000135F654F5B0>\n",
      "Called init, <__main__.MyClass object at 0x00000135F65F11B0>\n",
      "a <__main__.MyClass object at 0x00000135F654F5B0>\n"
     ]
    }
   ],
   "source": [
    "class MyClass:\n",
    "\n",
    "    def __init__(self): # != __new__    \n",
    "        print(f\"Called init, {self}\")\n",
    "\n",
    "a = MyClass(); b = MyClass()\n",
    "print('a', a)\n"
   ]
  },
  {
   "cell_type": "code",
   "execution_count": null,
   "id": "c67926ce",
   "metadata": {},
   "outputs": [],
   "source": []
  },
  {
   "cell_type": "markdown",
   "id": "a5ec7981",
   "metadata": {
    "slideshow": {
     "slide_type": "slide"
    }
   },
   "source": [
    "### Создание класса: инициализация переменных объекта"
   ]
  },
  {
   "cell_type": "code",
   "execution_count": null,
   "id": "98362633",
   "metadata": {},
   "outputs": [],
   "source": [
    "class MyClass:\n",
    "\n",
    "    def __init__(self, x: int):  # Инициализация состояния экземпляра self может принимать параметры на вход \n",
    "        self.x = x               # Переменная экземпляра self\n",
    "        self.y = None"
   ]
  },
  {
   "cell_type": "code",
   "execution_count": null,
   "id": "cf7c9bdc",
   "metadata": {},
   "outputs": [],
   "source": [
    "a = MyClass(1)\n",
    "b = MyClass(2)"
   ]
  },
  {
   "cell_type": "code",
   "execution_count": null,
   "id": "b480a350",
   "metadata": {},
   "outputs": [],
   "source": [
    "a.x, b.x"
   ]
  },
  {
   "cell_type": "code",
   "execution_count": null,
   "id": "c8ea9700",
   "metadata": {},
   "outputs": [],
   "source": [
    "a.x = 3 # обновление переменной объекта a\n",
    "a.x"
   ]
  },
  {
   "cell_type": "code",
   "execution_count": null,
   "id": "9bbccef0",
   "metadata": {},
   "outputs": [],
   "source": [
    "a.__dict__, b.__dict__ # узнать что хранится в атрибутах объекта"
   ]
  },
  {
   "cell_type": "code",
   "execution_count": null,
   "id": "20327dca",
   "metadata": {
    "slideshow": {
     "slide_type": "slide"
    }
   },
   "outputs": [],
   "source": [
    "a.y = 4 # При этом можно создать переменную объекта, которой не было в __init__ \n",
    "        # но так делать не следует!! \n",
    "a.y"
   ]
  },
  {
   "cell_type": "markdown",
   "id": "0a3717ac",
   "metadata": {
    "slideshow": {
     "slide_type": "slide"
    }
   },
   "source": [
    "### Создание класса: инициализация переменных класса"
   ]
  },
  {
   "cell_type": "code",
   "execution_count": null,
   "id": "fc265f2e",
   "metadata": {},
   "outputs": [],
   "source": [
    "class MyClass:\n",
    "    X = 3.14                     # Переменная класса"
   ]
  },
  {
   "cell_type": "code",
   "execution_count": null,
   "id": "fe2f1edb",
   "metadata": {},
   "outputs": [],
   "source": [
    "a = MyClass()\n",
    "b = MyClass()\n",
    "a.X, b.X"
   ]
  },
  {
   "cell_type": "code",
   "execution_count": null,
   "id": "43e9a9d5",
   "metadata": {},
   "outputs": [],
   "source": [
    "##  Коллизия с переменными объекта\n",
    "\n",
    "a.X = 20\n",
    "\n",
    "a.X, MyClass.X"
   ]
  },
  {
   "cell_type": "code",
   "execution_count": 11,
   "id": "d1476594",
   "metadata": {
    "slideshow": {
     "slide_type": "slide"
    }
   },
   "outputs": [
    {
     "data": {
      "text/plain": [
       "mappingproxy({'__module__': '__main__',\n",
       "              '__init__': <function __main__.MyClass.__init__(self)>,\n",
       "              '__dict__': <attribute '__dict__' of 'MyClass' objects>,\n",
       "              '__weakref__': <attribute '__weakref__' of 'MyClass' objects>,\n",
       "              '__doc__': None})"
      ]
     },
     "execution_count": 11,
     "metadata": {},
     "output_type": "execute_result"
    }
   ],
   "source": [
    "MyClass.__dict__ # атрибуты класса MyClass"
   ]
  },
  {
   "cell_type": "code",
   "execution_count": 12,
   "id": "98e36a48",
   "metadata": {},
   "outputs": [
    {
     "data": {
      "text/plain": [
       "{}"
      ]
     },
     "execution_count": 12,
     "metadata": {},
     "output_type": "execute_result"
    }
   ],
   "source": [
    "b.__dict__  # атрибуты экземпляра b класса MyClass"
   ]
  },
  {
   "cell_type": "code",
   "execution_count": 13,
   "id": "458d71d7",
   "metadata": {},
   "outputs": [
    {
     "data": {
      "text/plain": [
       "{}"
      ]
     },
     "execution_count": 13,
     "metadata": {},
     "output_type": "execute_result"
    }
   ],
   "source": [
    "a.__dict__ # атрибуты экземпляра a класса MyClass. X стал атрибутом объекта"
   ]
  },
  {
   "cell_type": "code",
   "execution_count": 14,
   "id": "f26b1f21",
   "metadata": {},
   "outputs": [
    {
     "ename": "AttributeError",
     "evalue": "type object 'MyClass' has no attribute 'X'",
     "output_type": "error",
     "traceback": [
      "\u001b[1;31m---------------------------------------------------------------------------\u001b[0m",
      "\u001b[1;31mAttributeError\u001b[0m                            Traceback (most recent call last)",
      "Cell \u001b[1;32mIn[14], line 1\u001b[0m\n\u001b[1;32m----> 1\u001b[0m \u001b[43mMyClass\u001b[49m\u001b[38;5;241;43m.\u001b[39;49m\u001b[43mX\u001b[49m, a\u001b[38;5;241m.\u001b[39m\u001b[38;5;18m__class__\u001b[39m\u001b[38;5;241m.\u001b[39mX\n",
      "\u001b[1;31mAttributeError\u001b[0m: type object 'MyClass' has no attribute 'X'"
     ]
    }
   ],
   "source": [
    "MyClass.X, a.__class__.X"
   ]
  },
  {
   "cell_type": "code",
   "execution_count": null,
   "id": "016dc556",
   "metadata": {},
   "outputs": [],
   "source": [
    "a.__class__.X = 20 # Как все-таки взломать защиту и поменять через объект переменную класса? Но делать так не нужно :)\n",
    "a.X, b.X, MyClass.X"
   ]
  },
  {
   "cell_type": "markdown",
   "id": "197d1974",
   "metadata": {},
   "source": [
    "### Вывод - храните в переменных класса только неизменяемые константы."
   ]
  },
  {
   "cell_type": "markdown",
   "id": "af852fb7",
   "metadata": {
    "slideshow": {
     "slide_type": "slide"
    }
   },
   "source": [
    "### Создание класса: методы"
   ]
  },
  {
   "cell_type": "code",
   "execution_count": 18,
   "id": "8b37bacd",
   "metadata": {},
   "outputs": [],
   "source": [
    "class MyClass:\n",
    "    def __init__(self, x: int):  # Инициализация состояния экземпляра self\n",
    "        self.x = x               # Переменная экземпляра self\n",
    "    \n",
    "    def foo(self) -> None:       # Метод класса\n",
    "        self.x += 1              # Обновление переменной экземпляра self"
   ]
  },
  {
   "cell_type": "code",
   "execution_count": 19,
   "id": "eee7e938",
   "metadata": {},
   "outputs": [
    {
     "data": {
      "text/plain": [
       "mappingproxy({'__module__': '__main__',\n",
       "              '__init__': <function __main__.MyClass.__init__(self, x: int)>,\n",
       "              'foo': <function __main__.MyClass.foo(self) -> None>,\n",
       "              '__dict__': <attribute '__dict__' of 'MyClass' objects>,\n",
       "              '__weakref__': <attribute '__weakref__' of 'MyClass' objects>,\n",
       "              '__doc__': None})"
      ]
     },
     "execution_count": 19,
     "metadata": {},
     "output_type": "execute_result"
    }
   ],
   "source": [
    "MyClass.__dict__ # атрибуты класса MyClass"
   ]
  },
  {
   "cell_type": "code",
   "execution_count": 22,
   "id": "39c85722",
   "metadata": {
    "slideshow": {
     "slide_type": "slide"
    }
   },
   "outputs": [
    {
     "data": {
      "text/plain": [
       "{'x': 1}"
      ]
     },
     "execution_count": 22,
     "metadata": {},
     "output_type": "execute_result"
    }
   ],
   "source": [
    "a = MyClass(1)\n",
    "a.__dict__  # атрибуты экземпляра a класса MyClass"
   ]
  },
  {
   "cell_type": "code",
   "execution_count": 23,
   "id": "975fac4e",
   "metadata": {
    "scrolled": true
   },
   "outputs": [],
   "source": [
    "a.foo() # вызов метода "
   ]
  },
  {
   "cell_type": "code",
   "execution_count": 24,
   "id": "521bdbe2",
   "metadata": {},
   "outputs": [
    {
     "data": {
      "text/plain": [
       "{'x': 2}"
      ]
     },
     "execution_count": 24,
     "metadata": {},
     "output_type": "execute_result"
    }
   ],
   "source": [
    "a.__dict__"
   ]
  },
  {
   "cell_type": "code",
   "execution_count": 25,
   "id": "34241d8b",
   "metadata": {},
   "outputs": [],
   "source": [
    "MyClass.foo(a)"
   ]
  },
  {
   "cell_type": "code",
   "execution_count": 26,
   "id": "213c8ce3",
   "metadata": {},
   "outputs": [
    {
     "data": {
      "text/plain": [
       "3"
      ]
     },
     "execution_count": 26,
     "metadata": {},
     "output_type": "execute_result"
    }
   ],
   "source": [
    "a.x"
   ]
  },
  {
   "cell_type": "markdown",
   "id": "b3a4f72e",
   "metadata": {
    "slideshow": {
     "slide_type": "slide"
    }
   },
   "source": [
    "### Создание класса: статические методы"
   ]
  },
  {
   "cell_type": "code",
   "execution_count": 31,
   "id": "e79ec865",
   "metadata": {},
   "outputs": [
    {
     "data": {
      "text/plain": [
       "mappingproxy({'__module__': '__main__',\n",
       "              'foo': <staticmethod(<function MyClass.foo at 0x00000135F81764D0>)>,\n",
       "              '__dict__': <attribute '__dict__' of 'MyClass' objects>,\n",
       "              '__weakref__': <attribute '__weakref__' of 'MyClass' objects>,\n",
       "              '__doc__': None})"
      ]
     },
     "execution_count": 31,
     "metadata": {},
     "output_type": "execute_result"
    }
   ],
   "source": [
    "class MyClass:\n",
    "    @staticmethod                # Статический метод класса -> не передаем экземпляр self\n",
    "    def foo() -> str:           \n",
    "        return \"foo\"\n",
    "\n",
    "MyClass.__dict__"
   ]
  },
  {
   "cell_type": "code",
   "execution_count": 33,
   "id": "18c83207",
   "metadata": {},
   "outputs": [
    {
     "data": {
      "text/plain": [
       "'foo'"
      ]
     },
     "execution_count": 33,
     "metadata": {},
     "output_type": "execute_result"
    }
   ],
   "source": [
    "a = MyClass()\n",
    "a.foo()"
   ]
  },
  {
   "cell_type": "code",
   "execution_count": 34,
   "id": "de81b36b",
   "metadata": {},
   "outputs": [
    {
     "data": {
      "text/plain": [
       "'foo'"
      ]
     },
     "execution_count": 34,
     "metadata": {},
     "output_type": "execute_result"
    }
   ],
   "source": [
    "MyClass.foo()"
   ]
  },
  {
   "cell_type": "markdown",
   "id": "98d557a4",
   "metadata": {
    "slideshow": {
     "slide_type": "slide"
    }
   },
   "source": [
    "### Пример использования статического метода"
   ]
  },
  {
   "cell_type": "code",
   "execution_count": 35,
   "id": "0b6e2948",
   "metadata": {
    "slideshow": {
     "slide_type": "-"
    }
   },
   "outputs": [],
   "source": [
    "class Doc:\n",
    "    def __init__(self, folder: str, file_name: str):\n",
    "        self.folder = folder\n",
    "        self.file_name = file_name\n",
    "\n",
    "    @staticmethod\n",
    "    def from_path(path: str):\n",
    "        folder, file_name = path.rsplit(\"/\", 1)\n",
    "        return Doc(folder, file_name)"
   ]
  },
  {
   "cell_type": "code",
   "execution_count": 36,
   "id": "96f22d80",
   "metadata": {},
   "outputs": [
    {
     "data": {
      "text/plain": [
       "('home/darima/data/folder', 'file_name')"
      ]
     },
     "execution_count": 36,
     "metadata": {},
     "output_type": "execute_result"
    }
   ],
   "source": [
    "a = Doc(\"home/darima/data/folder\", \"file_name\")\n",
    "a.folder, a.file_name"
   ]
  },
  {
   "cell_type": "code",
   "execution_count": 37,
   "id": "ff079e58",
   "metadata": {},
   "outputs": [
    {
     "data": {
      "text/plain": [
       "('home/darima/data/folder', 'file_name')"
      ]
     },
     "execution_count": 37,
     "metadata": {},
     "output_type": "execute_result"
    }
   ],
   "source": [
    "b = Doc.from_path(\"home/darima/data/folder/file_name\")\n",
    "b.folder, b.file_name"
   ]
  },
  {
   "cell_type": "markdown",
   "id": "1187ee0a",
   "metadata": {
    "slideshow": {
     "slide_type": "slide"
    }
   },
   "source": [
    "### Создание класса: класс методы\n"
   ]
  },
  {
   "cell_type": "code",
   "execution_count": 38,
   "id": "fb330e32",
   "metadata": {},
   "outputs": [],
   "source": [
    "class MyClass:\n",
    "    @classmethod                 # Класс-метод класса -> вместо экземпляра self передается класс cls\n",
    "    def foo(cls: type):\n",
    "        return cls.__name__"
   ]
  },
  {
   "cell_type": "code",
   "execution_count": 39,
   "id": "93d447be",
   "metadata": {},
   "outputs": [
    {
     "data": {
      "text/plain": [
       "mappingproxy({'__module__': '__main__',\n",
       "              'foo': <classmethod(<function MyClass.foo at 0x00000135F8176C20>)>,\n",
       "              '__dict__': <attribute '__dict__' of 'MyClass' objects>,\n",
       "              '__weakref__': <attribute '__weakref__' of 'MyClass' objects>,\n",
       "              '__doc__': None})"
      ]
     },
     "execution_count": 39,
     "metadata": {},
     "output_type": "execute_result"
    }
   ],
   "source": [
    "MyClass.__dict__"
   ]
  },
  {
   "cell_type": "code",
   "execution_count": 40,
   "id": "be145402",
   "metadata": {},
   "outputs": [],
   "source": [
    "a = MyClass()"
   ]
  },
  {
   "cell_type": "code",
   "execution_count": 41,
   "id": "12fd14a4",
   "metadata": {},
   "outputs": [
    {
     "data": {
      "text/plain": [
       "('MyClass', 'MyClass')"
      ]
     },
     "execution_count": 41,
     "metadata": {},
     "output_type": "execute_result"
    }
   ],
   "source": [
    "a.foo(), MyClass.foo()"
   ]
  },
  {
   "cell_type": "markdown",
   "id": "b9d418df",
   "metadata": {
    "slideshow": {
     "slide_type": "slide"
    }
   },
   "source": [
    "### Создание класса: класс методы\n"
   ]
  },
  {
   "cell_type": "code",
   "execution_count": null,
   "id": "05925b42",
   "metadata": {
    "slideshow": {
     "slide_type": "-"
    }
   },
   "outputs": [],
   "source": [
    "class Doc:\n",
    "    def __init__(self, folder: str, file_name: str):\n",
    "        self.folder = folder\n",
    "        self.file_name = file_name\n",
    "\n",
    "    @classmethod\n",
    "    def from_path(cls, path: str):\n",
    "        folder, file_name = path.rsplit(\"/\", 1)\n",
    "        return cls(folder, file_name)\n",
    "\n",
    "class NewDoc(Doc):\n",
    "    pass\n",
    "\n",
    "a = NewDoc.from_path(\"home/darima/data/folder/file_name\")\n",
    "a.folder, a.file_name\n",
    "a.__class__"
   ]
  },
  {
   "cell_type": "markdown",
   "id": "ad9b7f4e",
   "metadata": {
    "slideshow": {
     "slide_type": "slide"
    }
   },
   "source": [
    "## To sum it up"
   ]
  },
  {
   "cell_type": "code",
   "execution_count": null,
   "id": "c05e1ee5",
   "metadata": {},
   "outputs": [],
   "source": [
    "class MyClass:\n",
    "    \"\"\" Docstring for MyClass. \"\"\"\n",
    "\n",
    "    X: int = 3.14                # Переменная класса\n",
    "\n",
    "    def __init__(self, x: int):  # Инициализация состояния экземпляра self\n",
    "        self.x = x               # Переменная инстанса self\n",
    "    \n",
    "    def foo(self) -> None:       # Метод класса\n",
    "        self.x += 1              # Обновление переменной экземпляра self\n",
    "        \n",
    "    @staticmethod                # Статический метод класса -> Не передаем экземпляр self\n",
    "    def bar() -> str:            \n",
    "        return \"bar\"\n",
    "    \n",
    "    @classmethod                 # Класс-метод класса -> вместо инстанса self передается класс cls\n",
    "    def baz(cls) -> str:         \n",
    "        return cls.__name__"
   ]
  },
  {
   "cell_type": "markdown",
   "id": "29c08309",
   "metadata": {
    "slideshow": {
     "slide_type": "slide"
    }
   },
   "source": [
    "## Приватные метки"
   ]
  },
  {
   "cell_type": "markdown",
   "id": "e75205f6",
   "metadata": {},
   "source": [
    "- Защищенные методы и атрибуты (Protected):\n",
    "Это соглашение, предназначенное для обозначения \"внутренних\" атрибутов и методов, которые не предполагается использовать вне класса, но доступ к ним всё же возможен.\n",
    "\n",
    "- Приватные методы и атрибуты (Private):\n",
    "Это соглашение, созданное для индикации, что атрибуты и методы являются \"приватными\" и не должны быть использованы вне класса.\n",
    "Это обеспечивает более высокий уровень изоляции и намекает, что методы и атрибуты не предназначены для публичного использования. \n",
    "\n"
   ]
  },
  {
   "cell_type": "code",
   "execution_count": 42,
   "id": "6da99524",
   "metadata": {},
   "outputs": [],
   "source": [
    "class A:\n",
    "    def __init__(self):\n",
    "        self.x: int = 1     # Публичный\n",
    "        self._x: int = 2    # Приватный\n",
    "        self.__x: int = 3   # Защищенный\n",
    "\n",
    "    def foo(self) -> str:   # Публичный\n",
    "        return \"foo\"\n",
    "    \n",
    "    def _foo(self) -> str:  # Приватный\n",
    "        return \"_foo\"\n",
    "    \n",
    "    def __foo(self) -> str: # Защищенный\n",
    "        return \"__foo\"\n",
    "\n",
    "a = A()"
   ]
  },
  {
   "cell_type": "code",
   "execution_count": 43,
   "id": "4a6fcbb5",
   "metadata": {},
   "outputs": [
    {
     "name": "stdout",
     "output_type": "stream",
     "text": [
      "1\n",
      "2\n"
     ]
    }
   ],
   "source": [
    "print(a.x)\n",
    "print(a._x)"
   ]
  },
  {
   "cell_type": "markdown",
   "id": "14937930",
   "metadata": {
    "slideshow": {
     "slide_type": "slide"
    }
   },
   "source": [
    "## Приватные метки"
   ]
  },
  {
   "cell_type": "code",
   "execution_count": 44,
   "id": "ec30bb3e",
   "metadata": {
    "slideshow": {
     "slide_type": "-"
    }
   },
   "outputs": [
    {
     "ename": "AttributeError",
     "evalue": "'A' object has no attribute '__x'",
     "output_type": "error",
     "traceback": [
      "\u001b[1;31m---------------------------------------------------------------------------\u001b[0m",
      "\u001b[1;31mAttributeError\u001b[0m                            Traceback (most recent call last)",
      "Cell \u001b[1;32mIn[44], line 1\u001b[0m\n\u001b[1;32m----> 1\u001b[0m \u001b[38;5;28mprint\u001b[39m(\u001b[43ma\u001b[49m\u001b[38;5;241;43m.\u001b[39;49m\u001b[43m__x\u001b[49m)\n",
      "\u001b[1;31mAttributeError\u001b[0m: 'A' object has no attribute '__x'"
     ]
    }
   ],
   "source": [
    "print(a.__x) # попробуем достучаться до защищенной переменной"
   ]
  },
  {
   "cell_type": "code",
   "execution_count": null,
   "id": "d1ad2aed",
   "metadata": {},
   "outputs": [],
   "source": [
    "print(a._A__x) # достучаться до защищеной переменной"
   ]
  },
  {
   "cell_type": "code",
   "execution_count": null,
   "id": "1d10fcad",
   "metadata": {},
   "outputs": [],
   "source": [
    "print(a.foo())\n",
    "print(a._foo())"
   ]
  },
  {
   "cell_type": "code",
   "execution_count": null,
   "id": "9a8dbf1c",
   "metadata": {
    "slideshow": {
     "slide_type": "-"
    }
   },
   "outputs": [],
   "source": [
    "print(a.__foo()) # попробуем достучаться до защищенного метода"
   ]
  },
  {
   "cell_type": "code",
   "execution_count": null,
   "id": "7d4be05a",
   "metadata": {},
   "outputs": [],
   "source": [
    "print(a._A__foo()) # достучаться до защищенного метода"
   ]
  },
  {
   "cell_type": "markdown",
   "id": "ac827cc2",
   "metadata": {
    "slideshow": {
     "slide_type": "slide"
    }
   },
   "source": [
    "## Magic methods:  `__str__`/`__repr__`"
   ]
  },
  {
   "cell_type": "markdown",
   "id": "9ecc66e8",
   "metadata": {},
   "source": [
    "* Built-in функция **str()** - обертка над вызовом `__str__` для объекта\n",
    "    - Цель  `__str__`: Предоставление \"красивого\" и информативного представления объекта для человека.\n",
    "    - Вызывается функцией str() или при использовании функции print().\n",
    "    - Если метод __str__ отсутствует, Python будет вызывать метод __repr__ вместо него.\n",
    "\n",
    "* Built-in функция **repr()** - обертка над вызовом `__repr__`\n",
    "    - Цель `__repr__`: Предоставление \"формального\" и детального представления объекта, которое можно использовать для воссоздания объекта.\n",
    "    - Вызывается функцией repr() или автоматически при выводе значения в интерактивной оболочке.\n",
    "    - Должен возвращать строку, которую можно подставить в код, чтобы создать аналогичный объект.\n",
    "    - Пример: Может включать в себя информацию о типе объекта и его внутренних данных.\n",
    "    неявно вызывается, например, при добавлении объекта в список\n"
   ]
  },
  {
   "cell_type": "markdown",
   "id": "688027a9",
   "metadata": {
    "slideshow": {
     "slide_type": "slide"
    }
   },
   "source": [
    "## Magic methods:  `__str__`/`__repr__`"
   ]
  },
  {
   "cell_type": "code",
   "execution_count": null,
   "id": "04832ba6",
   "metadata": {
    "slideshow": {
     "slide_type": "-"
    }
   },
   "outputs": [],
   "source": [
    "class A:\n",
    "    def __init__(self, x: int):\n",
    "        self.x = x\n",
    "a = A(6)\n",
    "print(a)\n",
    "a"
   ]
  },
  {
   "cell_type": "code",
   "execution_count": null,
   "id": "41e2651d",
   "metadata": {},
   "outputs": [],
   "source": [
    "[a]"
   ]
  },
  {
   "cell_type": "code",
   "execution_count": null,
   "id": "372fe579",
   "metadata": {},
   "outputs": [],
   "source": []
  },
  {
   "cell_type": "code",
   "execution_count": null,
   "id": "8ab7cb86",
   "metadata": {},
   "outputs": [],
   "source": [
    "class A:\n",
    "    def __init__(self, x: int):\n",
    "        self.x = x\n",
    "        \n",
    "    def __str__(self) -> str: # what for?\n",
    "        return f\"A with attribute {self.x}\"\n",
    "    \n",
    "    def __repr__(self) -> str:\n",
    "        return f\"A({self.x})\"\n",
    "a = A(6)\n",
    "print(a)\n",
    "a"
   ]
  },
  {
   "cell_type": "markdown",
   "id": "b4e5b3a3",
   "metadata": {
    "slideshow": {
     "slide_type": "slide"
    }
   },
   "source": [
    "### Magic methods: арифметика\n",
    "\n",
    "* Можно переопределить поведение операторов. Например, x + y преобразуется в x.__add__(y). Значок операции + лишь удобное для человека переопределение вызова метода __add__\n",
    "* Другие арифметические операции ` __sub__`, ` __mul__`, ` __lt__` , `__le__`,  `__eq__`, `__ne__`, `__gt__`, `__ge__`, ` __pow__`"
   ]
  },
  {
   "cell_type": "markdown",
   "id": "32c958a2",
   "metadata": {
    "slideshow": {
     "slide_type": "slide"
    }
   },
   "source": [
    "### Magic methods: арифметика\n"
   ]
  },
  {
   "cell_type": "code",
   "execution_count": null,
   "id": "6b8446d5",
   "metadata": {},
   "outputs": [],
   "source": [
    "class A:\n",
    "    def __init__(self, x: int):\n",
    "        self.x = x\n",
    "\n",
    "    def __add__(self, other: 'A') -> 'A':\n",
    "        return A(self.x + other.x)\n",
    "    \n",
    "    def __iadd__(self, other: 'A') -> 'A':\n",
    "        self.x += other.x\n",
    "        return self\n",
    "\n",
    "a = A(6)\n",
    "b = A(4)\n",
    "id_A = id(a)\n",
    "\n",
    "a += b\n",
    "print(id(a) == id_A)\n",
    "\n",
    "a = a + b\n",
    "print(id(a) == id_A)\n",
    "\n",
    "a.x"
   ]
  },
  {
   "cell_type": "markdown",
   "id": "ddd2a478",
   "metadata": {
    "slideshow": {
     "slide_type": "slide"
    }
   },
   "source": [
    "## Magic methods: `__eq__`"
   ]
  },
  {
   "cell_type": "code",
   "execution_count": null,
   "id": "7ac01ad4",
   "metadata": {},
   "outputs": [],
   "source": [
    "class A:\n",
    "    def __init__(self, x: int):\n",
    "        self.x = x\n",
    "    \n",
    "    def __eq__(self, other: 'A') -> bool:  \n",
    "        return self.x == other.x\n",
    "    \n",
    "#     def __ne__(self, other: 'A') -> bool:  \n",
    "#         return self.x != other.x\n",
    "\n",
    "\n",
    "A(3) == A(3),  A(3) != A(5), A(3) != A(3),"
   ]
  },
  {
   "cell_type": "markdown",
   "id": "f83a4065",
   "metadata": {
    "slideshow": {
     "slide_type": "slide"
    }
   },
   "source": [
    "### Magic methods:  `__call__`"
   ]
  },
  {
   "cell_type": "code",
   "execution_count": null,
   "id": "345fe5be",
   "metadata": {},
   "outputs": [],
   "source": [
    "from math import factorial, sqrt\n",
    "\n",
    "class Power:\n",
    "    def __init__(self, p: float):\n",
    "        self.p = p\n",
    "        \n",
    "    def __call__(self, a: float) -> float:\n",
    "        return a**self.p\n",
    "    \n",
    "power = Power(3)\n",
    "power(4)"
   ]
  },
  {
   "cell_type": "markdown",
   "id": "de0b27bd",
   "metadata": {
    "slideshow": {
     "slide_type": "slide"
    }
   },
   "source": [
    "### Magic methods:  `__len__`\n",
    "\n",
    "* Built-in функция len() - обертка над вызовом __len__ для объекта\n",
    "\n",
    "Для встроенных типов данных, таких как строки, списки и кортежи, метод __len__ уже реализован, поэтому вы можете использовать функцию len() напрямую без необходимости определять __len__ для стандартных типов.\n",
    "\n",
    "\n",
    "\n",
    "\n"
   ]
  },
  {
   "cell_type": "code",
   "execution_count": null,
   "id": "cfa0112a",
   "metadata": {},
   "outputs": [],
   "source": [
    "class MyList:\n",
    "    def __init__(self, data):\n",
    "        self.data = data\n",
    "    \n",
    "    def __len__(self):\n",
    "        return len(self.data)\n",
    "\n",
    "my_list = MyList([1, 2, 3, 4, 5])\n",
    "print(len(my_list))  # Выведет: 5"
   ]
  },
  {
   "cell_type": "markdown",
   "id": "f405422c",
   "metadata": {
    "slideshow": {
     "slide_type": "slide"
    }
   },
   "source": [
    "### Magic methods:  `__getitem__`,  `__setitem__`,  `__delitem__`\n",
    "\n",
    "*   `__getitem__(self, key):`\n",
    "          вызывается при обращении к элементу объекта по индексу, например: obj[key].\n",
    "        key - индекс или ключ элемента.\n",
    "        Возвращает значение элемента, соответствующего переданному индексу или ключу.\n",
    "*   `__setitem__`\n",
    "         вызывается при присвоении значения элементу объекта по индексу: obj[key] = value.\n",
    "        key - индекс или ключ элемента.\n",
    "        value - значение, которое нужно присвоить элементу.\n",
    "        Обычно используется для изменения значения элемента.\n",
    "*   `__delitem__`\n",
    "    используется для удаления элемента объекта по индексу или ключу. Он позволяет определить поведение объекта при использовании оператора del для удаления элемента.\n",
    "\n"
   ]
  },
  {
   "cell_type": "code",
   "execution_count": null,
   "id": "d7e0164e",
   "metadata": {},
   "outputs": [],
   "source": [
    "class MyList:\n",
    "    def __init__(self, data):\n",
    "        self.data = data\n",
    "    \n",
    "    def __getitem__(self, index):\n",
    "        print(' __getitem__ was called')\n",
    "        return self.data[index]\n",
    "    \n",
    "    def __setitem__(self, index, value):\n",
    "        print(' __setitem__ was called')\n",
    "        self.data[index] = value\n",
    "            \n",
    "    def __delitem__(self, index):\n",
    "        print(' __delitem__ was called')\n",
    "        del self.data[index]\n",
    "\n",
    "\n",
    "my_list = MyList([1, 2, 3, 4, 5])\n",
    "print(my_list[2])  # Выведет: 3\n",
    "\n",
    "my_list[2] = 10\n",
    "print(my_list.data)  # Выведет: [1, 2, 10, 4, 5]\n",
    "\n",
    "del my_list[2]\n",
    "print(my_list.data)  # Выведет: [1, 2, 4, 5]\n"
   ]
  },
  {
   "cell_type": "markdown",
   "id": "34d73686",
   "metadata": {
    "slideshow": {
     "slide_type": "slide"
    }
   },
   "source": [
    "## Magic methods:\n",
    "\n",
    "* __setattr__\n",
    "* __getattribute__\n",
    "* __hash__\n",
    "* [и другие](https://tproger.ru/articles/gajd-po-magicheskim-metodam-v-python/)."
   ]
  },
  {
   "cell_type": "markdown",
   "id": "d10cf636",
   "metadata": {
    "slideshow": {
     "slide_type": "slide"
    }
   },
   "source": [
    "# Наследование"
   ]
  },
  {
   "cell_type": "markdown",
   "id": "11ac6bbb",
   "metadata": {},
   "source": [
    "* Наследование - создание нового класса на базе другого, называемого родительским.\n",
    "* Класс-наследник наследует свойства и методы родительского класса, а также может добавлять свои собственные свойства и методы. Это позволяет избежать дублирования кода и упрощает создание иерархии классов.\n",
    "* В классах-наследниках можно переопределять методы родительского класса.\n",
    "* Все классы в Python унаследованы от класса object"
   ]
  },
  {
   "cell_type": "code",
   "execution_count": null,
   "id": "a1d28341",
   "metadata": {},
   "outputs": [],
   "source": [
    "class A(object):\n",
    "    pass\n",
    "\n",
    "a = A()"
   ]
  },
  {
   "cell_type": "code",
   "execution_count": null,
   "id": "320e4036",
   "metadata": {},
   "outputs": [],
   "source": [
    "object.__dict__"
   ]
  },
  {
   "cell_type": "markdown",
   "id": "c646f197",
   "metadata": {
    "slideshow": {
     "slide_type": "slide"
    }
   },
   "source": [
    "## Наследование: наследование методов"
   ]
  },
  {
   "cell_type": "code",
   "execution_count": null,
   "id": "06823c0c",
   "metadata": {},
   "outputs": [],
   "source": [
    "class A:\n",
    "    def __init__(self, x: str):\n",
    "        self.x = x\n",
    "\n",
    "class B(A):\n",
    "    pass\n",
    "\n",
    "b = B(\"hello\")"
   ]
  },
  {
   "cell_type": "markdown",
   "id": "b26047ce",
   "metadata": {},
   "source": [
    "## Наследование методов"
   ]
  },
  {
   "cell_type": "code",
   "execution_count": null,
   "id": "8864f1b6",
   "metadata": {},
   "outputs": [],
   "source": [
    "class A:\n",
    "    def method_a(self):\n",
    "        print(\"Method A called.\")\n",
    "\n",
    "class B:\n",
    "    def method_b(self):\n",
    "        print(\"Method B called.\")\n",
    "\n",
    "class C(A, B):\n",
    "    def method_c(self):\n",
    "        print(\"Method C called.\")"
   ]
  },
  {
   "cell_type": "code",
   "execution_count": null,
   "id": "95588e3d",
   "metadata": {},
   "outputs": [],
   "source": [
    "obj_c = C()\n",
    "obj_c.method_a()  # выведет \"Method A called.\"\n",
    "obj_c.method_b()  # выведет \"Method B called.\"\n",
    "obj_c.method_c()  # выведет \"Method C called.\""
   ]
  },
  {
   "cell_type": "markdown",
   "id": "9b111022",
   "metadata": {
    "slideshow": {
     "slide_type": "slide"
    }
   },
   "source": [
    "## Наследование: Overriding методов"
   ]
  },
  {
   "cell_type": "code",
   "execution_count": null,
   "id": "fd86b185",
   "metadata": {},
   "outputs": [],
   "source": [
    "class A:\n",
    "    def __init__(self, x: str):\n",
    "        self.x = x\n",
    "\n",
    "class B(A):\n",
    "    def __init__(self, y: str):\n",
    "        self.y = y\n",
    "\n",
    "b = B(\"hello\")"
   ]
  },
  {
   "cell_type": "code",
   "execution_count": null,
   "id": "ae4f0385",
   "metadata": {},
   "outputs": [],
   "source": [
    "A.__dict__"
   ]
  },
  {
   "cell_type": "code",
   "execution_count": null,
   "id": "606f055d",
   "metadata": {},
   "outputs": [],
   "source": [
    "B.__dict__"
   ]
  },
  {
   "cell_type": "code",
   "execution_count": null,
   "id": "259f33dc",
   "metadata": {},
   "outputs": [],
   "source": [
    "b.__dict__"
   ]
  },
  {
   "cell_type": "markdown",
   "id": "3b1404aa",
   "metadata": {
    "slideshow": {
     "slide_type": "slide"
    }
   },
   "source": [
    "### Наследование: использование родительского метода в override-методе"
   ]
  },
  {
   "cell_type": "code",
   "execution_count": null,
   "id": "cd8b6550",
   "metadata": {},
   "outputs": [],
   "source": [
    "class A:\n",
    "    def __init__(self, x: str):\n",
    "        self.x = x\n",
    "    \n",
    "    def foo(self):\n",
    "        self.x = \"new_x\"\n",
    "        self.y = \"new_y\"\n",
    "        print(self.x, self.y)\n",
    "        pass\n",
    "\n",
    "\n",
    "class B(A):\n",
    "    def __init__(self, x: str, y: str):\n",
    "        A.__init__(self, x)\n",
    "        self.y = y\n",
    "        print(self.x)\n",
    "    \n",
    "    def foo(self):\n",
    "        A.foo()\n",
    "        self.x = \"new_x\"\n",
    "        self.y = \"new_y\"\n",
    "        print(self.x, self.y)\n",
    "        pass\n",
    "\n",
    "b = B(\"xxx\", \"yyy\")"
   ]
  },
  {
   "cell_type": "code",
   "execution_count": null,
   "id": "545f159a",
   "metadata": {},
   "outputs": [],
   "source": [
    "b.x\n",
    "b.y\n",
    "b.foo()"
   ]
  },
  {
   "cell_type": "markdown",
   "id": "128ddef1",
   "metadata": {
    "slideshow": {
     "slide_type": "slide"
    }
   },
   "source": [
    "### Наследование: порядок разрешения наследования MRO"
   ]
  },
  {
   "cell_type": "markdown",
   "id": "ffa8cbbd",
   "metadata": {},
   "source": [
    "* При обращении к полям и методам обьекта Python пытается найти в самом объекте (в \\_\\_dict\\_\\_ объекта), потом в его классе, потом в его предках в порядке называемом MRO (Method resolution order) (описание алгоритма https://en.wikipedia.org/wiki/C3_linearization)\n",
    "* Посмотреть MRO обьекта можно позвав метод .mro()"
   ]
  },
  {
   "cell_type": "code",
   "execution_count": null,
   "id": "140d0e6f",
   "metadata": {},
   "outputs": [],
   "source": [
    "class A(object):\n",
    "    pass\n",
    "\n",
    "A.mro()"
   ]
  },
  {
   "cell_type": "code",
   "execution_count": null,
   "id": "f3b6d869",
   "metadata": {},
   "outputs": [],
   "source": [
    "class A(object):\n",
    "    pass\n",
    "\n",
    "class B(A):\n",
    "    pass\n",
    "\n",
    "class C(B):\n",
    "    pass\n",
    "\n",
    "class D(C):\n",
    "    pass\n",
    "\n",
    "D.mro()"
   ]
  },
  {
   "cell_type": "markdown",
   "id": "34764353",
   "metadata": {
    "slideshow": {
     "slide_type": "slide"
    }
   },
   "source": [
    "### Наследование: проблема ромбовидного наследования"
   ]
  },
  {
   "cell_type": "code",
   "execution_count": null,
   "id": "6b9e71ea",
   "metadata": {},
   "outputs": [],
   "source": [
    "class A(object):\n",
    "    def __init__(self):\n",
    "        print('A::Init')\n",
    "        self.x = 0\n",
    "        \n",
    "class B(A):\n",
    "    def __init__(self):\n",
    "        print('B::Init')\n",
    "        A.__init__(self)\n",
    "        self.x = 4\n",
    "        \n",
    "class C(A):\n",
    "    def __init__(self): \n",
    "        print('C::Init')\n",
    "        A.__init__(self)\n",
    "        self.y = True\n",
    "        \n",
    "class D(B, C):\n",
    "    def __init__(self):\n",
    "        print('D::Init')\n",
    "        B.__init__(self)\n",
    "        C.__init__(self)       \n",
    "d = D()\n",
    "d"
   ]
  },
  {
   "cell_type": "code",
   "execution_count": null,
   "id": "354f16ab",
   "metadata": {},
   "outputs": [],
   "source": [
    "D.mro()"
   ]
  },
  {
   "cell_type": "markdown",
   "id": "3b46ebed",
   "metadata": {
    "slideshow": {
     "slide_type": "slide"
    }
   },
   "source": [
    "## Наследование: super"
   ]
  },
  {
   "cell_type": "code",
   "execution_count": null,
   "id": "4604dbb6",
   "metadata": {},
   "outputs": [],
   "source": [
    "class A(object):\n",
    "    def __init__(self):\n",
    "        print('A::Init')\n",
    "        super().__init__()\n",
    "        self.x = 0\n",
    "        \n",
    "class B(A):\n",
    "    def __init__(self):\n",
    "        print('B::Init')\n",
    "        super().__init__()\n",
    "        self.x = 4\n",
    "        \n",
    "class C(A):\n",
    "    def __init__(self): \n",
    "        print('C::Init')\n",
    "        super().__init__()\n",
    "        self.y = True\n",
    "        \n",
    "class D(B, C):\n",
    "    def __init__(self):\n",
    "        print('D::Init')\n",
    "        super().__init__()\n",
    "         \n",
    "    \n",
    "        \n",
    "d = D()\n",
    "d.x\n",
    "D.mro()"
   ]
  },
  {
   "cell_type": "markdown",
   "id": "18bee68d",
   "metadata": {
    "slideshow": {
     "slide_type": "slide"
    }
   },
   "source": [
    "## Полезные функции\n",
    "\n",
    "\n",
    "* isinstance(x, Class) – является ли ex экземпляром Class или его потомков\n",
    "* type(x) == Class – точное сравнение: является ли ex экземпляром Class\n",
    "* issubclass(Class, BaseClass) – является ли класс потомком заданного\n",
    "* dir()"
   ]
  },
  {
   "cell_type": "code",
   "execution_count": null,
   "id": "8611b8f9",
   "metadata": {
    "slideshow": {
     "slide_type": "slide"
    }
   },
   "outputs": [],
   "source": [
    "class ClassA(object):\n",
    "    pass\n",
    "\n",
    "class ClassB(ClassA):\n",
    "    pass\n",
    "\n",
    "a = ClassA()\n",
    "b = ClassB()\n",
    "isinstance(a, ClassA)"
   ]
  },
  {
   "cell_type": "code",
   "execution_count": null,
   "id": "6d812476",
   "metadata": {},
   "outputs": [],
   "source": [
    "isinstance(a, ClassB)"
   ]
  },
  {
   "cell_type": "code",
   "execution_count": null,
   "id": "e2c5b2f1",
   "metadata": {},
   "outputs": [],
   "source": [
    "type(a) == ClassA"
   ]
  },
  {
   "cell_type": "code",
   "execution_count": null,
   "id": "f9bddaf3",
   "metadata": {},
   "outputs": [],
   "source": [
    "issubclass(ClassB, ClassA)"
   ]
  },
  {
   "cell_type": "code",
   "execution_count": null,
   "id": "49b2352d",
   "metadata": {},
   "outputs": [],
   "source": [
    "issubclass(ClassA, ClassB)"
   ]
  },
  {
   "cell_type": "code",
   "execution_count": null,
   "id": "1b8fb96f",
   "metadata": {
    "slideshow": {
     "slide_type": "slide"
    }
   },
   "outputs": [],
   "source": [
    "class A:\n",
    "    def __init__(self, x: str):\n",
    "        self.x = x\n",
    "\n",
    "    def foo(y):\n",
    "        return self.x + y\n",
    "\n",
    "a = A(1)\n",
    "a.__dict__"
   ]
  },
  {
   "cell_type": "code",
   "execution_count": null,
   "id": "3c889517",
   "metadata": {},
   "outputs": [],
   "source": [
    "dir(a)  # список всех доступных атрибутов объекту а (включая атрибуты родителей)"
   ]
  },
  {
   "cell_type": "code",
   "execution_count": null,
   "id": "34de8df3",
   "metadata": {},
   "outputs": [],
   "source": [
    "A.__dict__"
   ]
  },
  {
   "cell_type": "code",
   "execution_count": null,
   "id": "6cad8ff6",
   "metadata": {},
   "outputs": [],
   "source": [
    "set(dir(a)) == set(list(object.__dict__.keys()) + list(A.__dict__.keys()) + list(a.__dict__))"
   ]
  },
  {
   "cell_type": "code",
   "execution_count": null,
   "id": "5bfc737a",
   "metadata": {},
   "outputs": [],
   "source": [
    "# dir()"
   ]
  },
  {
   "cell_type": "code",
   "execution_count": null,
   "id": "1a8f736b",
   "metadata": {},
   "outputs": [],
   "source": []
  }
 ],
 "metadata": {
  "celltoolbar": "Слайд-шоу",
  "kernelspec": {
   "display_name": "Python 3 (ipykernel)",
   "language": "python",
   "name": "python3"
  },
  "language_info": {
   "codemirror_mode": {
    "name": "ipython",
    "version": 3
   },
   "file_extension": ".py",
   "mimetype": "text/x-python",
   "name": "python",
   "nbconvert_exporter": "python",
   "pygments_lexer": "ipython3",
   "version": "3.10.9"
  }
 },
 "nbformat": 4,
 "nbformat_minor": 5
}
