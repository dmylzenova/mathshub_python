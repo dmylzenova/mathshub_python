{
 "cells": [
  {
   "cell_type": "markdown",
   "id": "2710a4f4",
   "metadata": {},
   "source": [
    "# Содержание:\n",
    "  - ## [Блок 1](#Блок_1)\n",
    "      - ### [Теория](#Теория_1)\n",
    "      - ### [Разобранные примеры](#Примеры_1)\n",
    "      - ### [Задачи](#Задачи_1)\n",
    "\n",
    "  - ## [Блок 2](#Блок_2)\n",
    "      - ### [Теория](#Теория_2)\n",
    "      - ### [Разобранные примеры](#Примеры_2)\n",
    "      - ### [Задачи](#Задачи_2)"
   ]
  },
  {
   "cell_type": "markdown",
   "id": "5898bec6",
   "metadata": {},
   "source": [
    "# Блок_1"
   ]
  },
  {
   "cell_type": "markdown",
   "id": "9f7828f5",
   "metadata": {},
   "source": [
    "## Теория_1"
   ]
  },
  {
   "cell_type": "code",
   "execution_count": 2,
   "id": "df3097a5",
   "metadata": {},
   "outputs": [
    {
     "name": "stdout",
     "output_type": "stream",
     "text": [
      "Hello, Ben!\n"
     ]
    }
   ],
   "source": [
    "def greet(name):\n",
    "    print(\"Hello, \" + name + \"!\")\n",
    "\n",
    "user_name = \"Ben\"\n",
    "greet(user_name)"
   ]
  },
  {
   "cell_type": "code",
   "execution_count": 3,
   "id": "d2154f32",
   "metadata": {},
   "outputs": [
    {
     "data": {
      "text/plain": [
       "3"
      ]
     },
     "execution_count": 3,
     "metadata": {},
     "output_type": "execute_result"
    }
   ],
   "source": [
    "def count_divide(a: int, b: int) -> int:\n",
    "    if b == 0:\n",
    "        return\n",
    "    return a // b\n",
    "\n",
    "res = count_divide(b=3, a=10)\n",
    "res "
   ]
  },
  {
   "cell_type": "code",
   "execution_count": 4,
   "id": "04f332fd",
   "metadata": {},
   "outputs": [
    {
     "data": {
      "text/plain": [
       "3"
      ]
     },
     "execution_count": 4,
     "metadata": {},
     "output_type": "execute_result"
    }
   ],
   "source": [
    "def increment(number, by=1):\n",
    "    return number + by\n",
    "\n",
    "increment(2)"
   ]
  },
  {
   "cell_type": "markdown",
   "id": "da126b5e",
   "metadata": {},
   "source": [
    "## Примеры_1"
   ]
  },
  {
   "cell_type": "markdown",
   "id": "6680be1d",
   "metadata": {},
   "source": [
    "### Пример 1: \n",
    "Напишите функцию is_prime(n), которая принимает на вход целое число n и возвращает True, если число n является простым, и False, если число n не является простым."
   ]
  },
  {
   "cell_type": "code",
   "execution_count": 5,
   "id": "8064e8b0",
   "metadata": {},
   "outputs": [],
   "source": [
    "def is_prime(n: int) -> bool:\n",
    "    if n < 1:\n",
    "        return False\n",
    "    for i in range(2, n // 2 + 1):\n",
    "        if n % i == 0:\n",
    "            return False\n",
    "    return True"
   ]
  },
  {
   "cell_type": "code",
   "execution_count": 7,
   "id": "d977c6ff",
   "metadata": {},
   "outputs": [
    {
     "name": "stdout",
     "output_type": "stream",
     "text": [
      "Введите целое число: 8\n",
      "8 не является простым числом\n"
     ]
    }
   ],
   "source": [
    "n = int(input(\"Введите целое число: \"))\n",
    "\n",
    "if is_prime(n):\n",
    "    print(n, \"является простым числом\")\n",
    "else:\n",
    "    print(n, \"не является простым числом\")"
   ]
  },
  {
   "cell_type": "markdown",
   "id": "d0c178d4",
   "metadata": {},
   "source": [
    "### Пример 2: \n",
    "\n",
    "Напишите программу, принимающую на вход массив и число - множитель, на который нужно умножить все элементы массива."
   ]
  },
  {
   "cell_type": "code",
   "execution_count": 8,
   "id": "4a4d3e19",
   "metadata": {},
   "outputs": [],
   "source": [
    "def multiply_list(lst: list, multiplier: float) -> list:\n",
    "    result = []\n",
    "    for num in lst:\n",
    "        result.append(num * multiplier)\n",
    "    return result"
   ]
  },
  {
   "cell_type": "code",
   "execution_count": 9,
   "id": "64ea71d8",
   "metadata": {},
   "outputs": [],
   "source": [
    "def multiply_list(lst: list, multiplier: float):\n",
    "    for i in range(len(lst)):\n",
    "        lst[i] *= multiplier"
   ]
  },
  {
   "cell_type": "code",
   "execution_count": 10,
   "id": "3633119c",
   "metadata": {},
   "outputs": [],
   "source": [
    "a = list(range(4))\n",
    "multiply_list(a, 2)"
   ]
  },
  {
   "cell_type": "code",
   "execution_count": 11,
   "id": "528d2dfd",
   "metadata": {},
   "outputs": [
    {
     "data": {
      "text/plain": [
       "[0, 2, 4, 6]"
      ]
     },
     "execution_count": 11,
     "metadata": {},
     "output_type": "execute_result"
    }
   ],
   "source": [
    "a"
   ]
  },
  {
   "cell_type": "markdown",
   "id": "48ad086b",
   "metadata": {},
   "source": [
    "## Задачи"
   ]
  },
  {
   "cell_type": "markdown",
   "id": "9667ef69",
   "metadata": {},
   "source": [
    "### Задачка 1:\n",
    "\n",
    " Напишите функцию `two_min_elements`, которая принимает список целых чисел в качестве аргумента и возвращает кортеж с двумя минимальными элементами.\n"
   ]
  },
  {
   "cell_type": "code",
   "execution_count": 1,
   "id": "41932c34",
   "metadata": {},
   "outputs": [],
   "source": [
    "def two_min_elements(arr: list) -> tuple:\n",
    "    # your code here\n",
    "    pass"
   ]
  },
  {
   "cell_type": "code",
   "execution_count": 2,
   "id": "1d590dab",
   "metadata": {},
   "outputs": [],
   "source": [
    "two_min_elements([23, -1, 2232, -323, 0, -2])"
   ]
  },
  {
   "cell_type": "markdown",
   "id": "494498e7",
   "metadata": {},
   "source": [
    "### Задачка 2"
   ]
  },
  {
   "cell_type": "markdown",
   "id": "95754060",
   "metadata": {},
   "source": [
    "Напишите функцию `delete_negatives()`, которая принимает список чисел numbers и возвращает список только положительных чисел из numbers.\n"
   ]
  },
  {
   "cell_type": "code",
   "execution_count": 3,
   "id": "8656a66b",
   "metadata": {},
   "outputs": [],
   "source": [
    "def delete_negatives(numbers: list) -> list:\n",
    "    # your code here\n",
    "    pass"
   ]
  },
  {
   "cell_type": "code",
   "execution_count": null,
   "id": "89054541",
   "metadata": {},
   "outputs": [],
   "source": []
  },
  {
   "cell_type": "markdown",
   "id": "dc54cf26",
   "metadata": {},
   "source": [
    "### Задачка 3"
   ]
  },
  {
   "cell_type": "markdown",
   "id": "dbcd20ad",
   "metadata": {},
   "source": [
    "Напишите функцию `compute_net_salary(salary, tax_rate)`, которая принимает на вход число - сумму заработной платы до вычета налога и возвращает сумму после вычета налога. Сделайте параметр tax_rate\n",
    "опциональным, указав ставку в 13% значением по умолчанию."
   ]
  },
  {
   "cell_type": "code",
   "execution_count": null,
   "id": "2af89051",
   "metadata": {},
   "outputs": [],
   "source": []
  },
  {
   "cell_type": "markdown",
   "id": "c76b7aae",
   "metadata": {},
   "source": [
    "### Задача 4\n",
    "\n",
    "Напишите функцию `digit_product`, принимающую на вход число и возвращающую произведение всех цифр этого числа\n",
    "Пример:\n",
    "```\n",
    "number = 325\n",
    "\n",
    "res = 30\n",
    "```"
   ]
  },
  {
   "cell_type": "code",
   "execution_count": 7,
   "id": "6027548a",
   "metadata": {},
   "outputs": [],
   "source": [
    "def digit_product(number: int) -> int:\n",
    "    # your code here\n",
    "    pass"
   ]
  },
  {
   "cell_type": "code",
   "execution_count": null,
   "id": "3f8b271c",
   "metadata": {},
   "outputs": [],
   "source": []
  },
  {
   "cell_type": "markdown",
   "id": "2a23db00",
   "metadata": {},
   "source": [
    "### Задачка 5\n",
    "\n",
    "Напишите функцию `decimal_to_binary()`, которая принимает на вход число в десятичной системе счисления и переводит в двоичную. Подробнее как можно почитать [здесь](https://ru.wikihow.com/%D0%BF%D0%B5%D1%80%D0%B5%D0%B2%D0%BE%D0%B4%D0%B8%D1%82%D1%8C-%D0%B8%D0%B7-%D0%B4%D0%B5%D1%81%D1%8F%D1%82%D0%B8%D1%87%D0%BD%D0%BE%D0%B9-%D1%81%D0%B8%D1%81%D1%82%D0%B5%D0%BC%D1%8B-%D1%81%D1%87%D0%B8%D1%81%D0%BB%D0%B5%D0%BD%D0%B8%D1%8F-%D0%B2-%D0%B4%D0%B2%D0%BE%D0%B8%D1%87%D0%BD%D1%83%D1%8E).\n"
   ]
  },
  {
   "cell_type": "code",
   "execution_count": 6,
   "id": "24089c51",
   "metadata": {},
   "outputs": [],
   "source": [
    "def decimal_to_binary(number):\n",
    "    # your code here\n",
    "    pass"
   ]
  },
  {
   "cell_type": "markdown",
   "id": "5376eee8",
   "metadata": {},
   "source": [
    "### Задачка 6\n",
    "\n",
    "Наишите функцию, возвращающую наибольший делитель двух неотрицательных числел.\n",
    "$a$, $b$ -- неотрицательные числа. Наибольший общий делитель -- наибольшее число, которое является делителем и $a$, и $b$.\n",
    "\n",
    "Существует [алгоритм Евклида](https://ru.wikipedia.org/wiki/%D0%90%D0%BB%D0%B3%D0%BE%D1%80%D0%B8%D1%82%D0%BC_%D0%95%D0%B2%D0%BA%D0%BB%D0%B8%D0%B4%D0%B0), который кратко можно описать так:\n",
    "\n",
    "`gcd(a, b) = a if b = 0`\n",
    "\n",
    "`gcd(a, b) = gcd(b, a mod b) иначе`,\n",
    "где `a mod b` - остаток от деления `a` на `b`.\n",
    "\n",
    "Задание со звездочкой (за доп балл) - напишите рекурсивное решение."
   ]
  },
  {
   "cell_type": "code",
   "execution_count": 4,
   "id": "1ca66152",
   "metadata": {},
   "outputs": [],
   "source": [
    "def gcd(a: int, b: int) -> int:\n",
    "    # your code here\n",
    "    pass"
   ]
  },
  {
   "cell_type": "code",
   "execution_count": null,
   "id": "f13e4f0b",
   "metadata": {},
   "outputs": [],
   "source": []
  },
  {
   "cell_type": "code",
   "execution_count": null,
   "id": "55f0a8e2",
   "metadata": {},
   "outputs": [],
   "source": []
  },
  {
   "cell_type": "markdown",
   "id": "3e2c9bd8",
   "metadata": {},
   "source": [
    "# Блок_2"
   ]
  },
  {
   "cell_type": "markdown",
   "id": "eb3e6d4c",
   "metadata": {},
   "source": [
    "## Теория_2"
   ]
  },
  {
   "cell_type": "markdown",
   "id": "573fb9bc",
   "metadata": {},
   "source": [
    "### zip\n",
    "Функция `zip` - используется для группировки элементов из различных последовательностей (например, списков, кортежей и т.д.) в пары или кортежи. Нужно для того, чтобы итерироваться по нескольким спискам параллельно. Например:"
   ]
  },
  {
   "cell_type": "code",
   "execution_count": 14,
   "id": "89a0ab14",
   "metadata": {},
   "outputs": [
    {
     "name": "stdout",
     "output_type": "stream",
     "text": [
      "<class 'zip'>\n"
     ]
    }
   ],
   "source": [
    "names = [\"Анна\", \"Иван\", \"Мария\"]\n",
    "ages = [25, 30, 28]\n",
    "cities = [\"Москва\", \"Санкт-Петербург\", \"Киев\"]\n",
    "\n",
    "data = zip(names, ages, cities)\n",
    "print(type(data))"
   ]
  },
  {
   "cell_type": "code",
   "execution_count": 15,
   "id": "af16c012",
   "metadata": {},
   "outputs": [
    {
     "name": "stdout",
     "output_type": "stream",
     "text": [
      "Анна возраст: 25 город: Москва\n",
      "Иван возраст: 30 город: Санкт-Петербург\n",
      "Мария возраст: 28 город: Киев\n"
     ]
    }
   ],
   "source": [
    "for name, age, city in data:\n",
    "    print(name, \"возраст:\", age, \"город:\", city)"
   ]
  },
  {
   "cell_type": "markdown",
   "id": "c8d101bd",
   "metadata": {},
   "source": [
    "### map"
   ]
  },
  {
   "cell_type": "markdown",
   "id": "ca8b64b8",
   "metadata": {},
   "source": [
    "Используется для применения заданной функции ко всем элементам последовательности. Она возвращает объект-итератор, который содержит результаты применения функции к каждому элементу последовательности."
   ]
  },
  {
   "cell_type": "code",
   "execution_count": 12,
   "id": "0ae3381f",
   "metadata": {},
   "outputs": [
    {
     "name": "stdout",
     "output_type": "stream",
     "text": [
      "[2, 4, 6, 8, 10]\n"
     ]
    }
   ],
   "source": [
    "def double(x):\n",
    "    return x * 2\n",
    "\n",
    "numbers = [1, 2, 3, 4, 5]\n",
    "double_numbers = map(lambda x: x * 2, numbers)\n",
    "\n",
    "# Преобразование результата map в список для отображения\n",
    "double_numbers = list(double_numbers)\n",
    "\n",
    "print(double_numbers)"
   ]
  },
  {
   "cell_type": "markdown",
   "id": "6359f072",
   "metadata": {},
   "source": [
    "## Примеры_2"
   ]
  },
  {
   "cell_type": "markdown",
   "id": "22709277",
   "metadata": {},
   "source": [
    "## Пример 1: \n",
    "Напишите функцию, которая принимает от пользователя два списка целых чисел одинаковой длины и выполняет следующие операции:\n",
    "\n",
    "- Находит сумму элементов с одинаковыми индексами в каждом списке.\n",
    "- Вычисляет среднее арифметическое всех элементов из двух списков.\n",
    "- Возвращает список, состоящий из элементов, которые встречаются в обоих списках.\n"
   ]
  },
  {
   "cell_type": "code",
   "execution_count": null,
   "id": "4eafd9fa",
   "metadata": {},
   "outputs": [],
   "source": [
    "def sum_lists(list1: list, list2: list) -> list:\n",
    "    return [a + b for a, b in zip(list1, list2)]\n",
    "\n",
    "def average_lists(list1: list, list2: list) -> float:\n",
    "    sum_list = sum_lists(list1, list2)\n",
    "    return sum(sum_lists(list1, list2)) / (len(sum_list) * 2)\n",
    "\n",
    "def common_elements(list1: list, list2: list) -> list:\n",
    "    return list(set(list1) & set(list2))"
   ]
  },
  {
   "cell_type": "code",
   "execution_count": null,
   "id": "1429ef74",
   "metadata": {},
   "outputs": [],
   "source": [
    "list1 = [1, 3, 4, 5, 6]\n",
    "list2 = [3, 6, 3, 1, 2]\n",
    "\n",
    "\n",
    "sum_list = sum_lists(list1, list2)\n",
    "avg = average_lists(list1, list2)\n",
    "common = common_elements(list1, list2)\n",
    "\n",
    "print(\"Сумма элементов с одинаковыми индексами:\", sum_list)\n",
    "print(\"Среднее арифметическое двух списков:\", avg)\n",
    "print(\"Список общих элементов в двух списках:\", common)"
   ]
  },
  {
   "cell_type": "markdown",
   "id": "a192b6cd",
   "metadata": {},
   "source": [
    "## Пример 2"
   ]
  },
  {
   "cell_type": "markdown",
   "id": "f470b7ab",
   "metadata": {},
   "source": [
    "Напишите функцию, принимающую на вход два списка одинаковой длины и возвращающую список такой же длины, состоящий из максимумов элементов с одинаковым индексом.\n",
    "\n",
    "Пример:\n",
    "```\n",
    "a = [1, 2, 3, 4, 5]\n",
    "b = [2, 1, 3, 6, 1]\n",
    "\n",
    "res = [2, 2, 3, 6, 5]\n",
    "```"
   ]
  },
  {
   "cell_type": "code",
   "execution_count": null,
   "id": "1f5c5093",
   "metadata": {},
   "outputs": [],
   "source": [
    "def maximum(list1, list2) -> list:\n",
    "    return list(map(lambda x, y: x if x > y else y, list1, list2))"
   ]
  },
  {
   "cell_type": "markdown",
   "id": "74acdd19",
   "metadata": {},
   "source": [
    "## Пример 3"
   ]
  },
  {
   "cell_type": "markdown",
   "id": "70eb3adb",
   "metadata": {},
   "source": [
    "Напишите функцию, вычисляющую факториал положительного числа."
   ]
  },
  {
   "cell_type": "code",
   "execution_count": 16,
   "id": "10ccb4f3",
   "metadata": {},
   "outputs": [],
   "source": [
    "def factorial(n):\n",
    "    res = 1\n",
    "    for i in range(1, n + 1):\n",
    "        res *= i\n",
    "    return res"
   ]
  },
  {
   "cell_type": "markdown",
   "id": "5a179069",
   "metadata": {},
   "source": [
    "Другое решение данной задачи - через рекурсию.\n",
    "\n",
    "\n",
    "*Рекурсивная функция - это функция, которая вызывает сама себя с некоторым изменением параметров до тех пор, пока не будет достигнуто условие выхода из рекурсии.*\n",
    "\n",
    "*Простое объяснение на [матрешках](https://www.youtube.com/watch?v=NOaSY5pJmyc).*"
   ]
  },
  {
   "cell_type": "code",
   "execution_count": null,
   "id": "eae6f7d8",
   "metadata": {},
   "outputs": [],
   "source": [
    "def factorial2(n):\n",
    "    if n == 0:\n",
    "        return 1  # условие выхода из рекурсии\n",
    "    return n * factorial2(n - 1)"
   ]
  },
  {
   "cell_type": "code",
   "execution_count": null,
   "id": "9fec8ce0",
   "metadata": {},
   "outputs": [],
   "source": [
    "factorial2(4)"
   ]
  },
  {
   "cell_type": "markdown",
   "id": "abee0e12",
   "metadata": {},
   "source": [
    "# Задачи_2"
   ]
  },
  {
   "cell_type": "markdown",
   "id": "f4af7e10",
   "metadata": {},
   "source": [
    "### Задачка 7"
   ]
  },
  {
   "cell_type": "markdown",
   "id": "43c2d860",
   "metadata": {},
   "source": [
    "Напишите функцию, вычисляющую n-ое число последовательности [Фибоначчи](https://ru.wikipedia.org/wiki/%D0%A7%D0%B8%D1%81%D0%BB%D0%B0_%D0%A4%D0%B8%D0%B1%D0%BE%D0%BD%D0%B0%D1%87%D1%87%D0%B8#:~:text=0%2C%201%2C%201%2C%202,%D1%80%D0%B0%D0%B2%D0%BD%D0%BE%20%D1%81%D1%83%D0%BC%D0%BC%D0%B5%20%D0%B4%D0%B2%D1%83%D1%85%20%D0%BF%D1%80%D0%B5%D0%B4%D1%8B%D0%B4%D1%83%D1%89%D0%B8%D1%85%20%D1%87%D0%B8%D1%81%D0%B5%D0%BB.).\n",
    "\n",
    "В последовательности Фибоначчи  первые два числа равны 0 и 1, а каждое последующее число равно сумме двух предыдущих чисел:\n",
    "\n",
    "`1, 1, 2, 3, 5, 8, 13, 21, ...`"
   ]
  },
  {
   "cell_type": "code",
   "execution_count": null,
   "id": "ff5fdce6",
   "metadata": {},
   "outputs": [],
   "source": []
  },
  {
   "cell_type": "markdown",
   "id": "ca850b40",
   "metadata": {},
   "source": [
    "### Задачка 8\n",
    "\n",
    "Напишите функцию, принимающую на вход два списка одинаковой длины и возвращающую список такой же длины, состоящий из суммы элементов с одинаковым индексом если эти элементы различны и 0, если эти элементы равны.\n",
    "\n",
    "Пример:\n",
    "\n",
    "```\n",
    "a = [1, 2, 3, 4, 5]\n",
    "b = [2, 1, 3, 6, 1]\n",
    "\n",
    "res = [3, 3, 0, 10, 5]\n",
    "```"
   ]
  },
  {
   "cell_type": "code",
   "execution_count": null,
   "id": "4cff32bd",
   "metadata": {},
   "outputs": [],
   "source": []
  },
  {
   "cell_type": "markdown",
   "id": "99ba26fe",
   "metadata": {},
   "source": [
    "### Задачка 9\n",
    "\n",
    "Напишите функцию, сортируюущую список строк в алфавитном порядке, но с конца слова задом наперед (то есть сначала смотрим на последнюю букву в строке, если они одинаковые, то на предпоследнюю и т.д.)\n",
    "\n",
    "Пример:\n",
    "\n",
    "```\n",
    "a = [ab, sdsda, saae, wdsdq, ssdz]\n",
    "\n",
    "res = [sdsda, ab, saae, wdsdq, ssdz]\n",
    "```"
   ]
  },
  {
   "cell_type": "code",
   "execution_count": null,
   "id": "2a37c353",
   "metadata": {},
   "outputs": [],
   "source": [
    "sorted(a, key=lambda x: )"
   ]
  },
  {
   "cell_type": "markdown",
   "id": "b17418bc",
   "metadata": {},
   "source": [
    "### Задачка 10"
   ]
  },
  {
   "cell_type": "markdown",
   "id": "a8775647",
   "metadata": {},
   "source": [
    "Напишите функцию `is_anagram()`, которая принимает на вход две строки и возвращает True, если они являются анаграмами друг друга.\n",
    "\n",
    "Пример\n",
    "\n",
    "```\n",
    ">>> is_anagram(\"manometrical\", \"commentarial\")\n",
    "\n",
    "True\n",
    "\n",
    ">>> is_anagram(\"tastes\", \"estate\")\n",
    "\n",
    "False\n",
    "\n",
    "```"
   ]
  },
  {
   "cell_type": "code",
   "execution_count": null,
   "id": "33ed7ff7",
   "metadata": {},
   "outputs": [],
   "source": [
    "def is_anagram(first: str, second: str) -> bool:\n",
    "    # your code is here\n",
    "    pass"
   ]
  },
  {
   "cell_type": "code",
   "execution_count": null,
   "id": "71460d65",
   "metadata": {},
   "outputs": [],
   "source": []
  }
 ],
 "metadata": {
  "kernelspec": {
   "display_name": "Python 3 (ipykernel)",
   "language": "python",
   "name": "python3"
  },
  "language_info": {
   "codemirror_mode": {
    "name": "ipython",
    "version": 3
   },
   "file_extension": ".py",
   "mimetype": "text/x-python",
   "name": "python",
   "nbconvert_exporter": "python",
   "pygments_lexer": "ipython3",
   "version": "3.10.9"
  }
 },
 "nbformat": 4,
 "nbformat_minor": 5
}
