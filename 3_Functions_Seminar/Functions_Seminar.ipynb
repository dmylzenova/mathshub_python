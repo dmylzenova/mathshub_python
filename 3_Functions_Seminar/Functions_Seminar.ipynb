{
 "cells": [
  {
   "cell_type": "markdown",
   "id": "2710a4f4",
   "metadata": {},
   "source": [
    "# Содержание:\n",
    "  - ## [Разобранные примеры 1](#Примеры_1)\n",
    "  - ## [Блок 1](#Блок_1)\n",
    "  - ## [Разобранные примеры 2](#Примеры_2)\n",
    "  - ## [Блок 2](#Блок_2)"
   ]
  },
  {
   "cell_type": "markdown",
   "id": "da126b5e",
   "metadata": {},
   "source": [
    "# Примеры_1"
   ]
  },
  {
   "cell_type": "markdown",
   "id": "6680be1d",
   "metadata": {},
   "source": [
    "### Задачка: \n",
    "Напишите функцию is_prime(n), которая принимает на вход целое число n и возвращает True, если число n является простым, и False, если число n не является простым."
   ]
  },
  {
   "cell_type": "code",
   "execution_count": 174,
   "id": "8064e8b0",
   "metadata": {},
   "outputs": [],
   "source": [
    "def is_prime(n: int) -> bool:\n",
    "    if n < 1:\n",
    "        return False\n",
    "    for i in range(2, n):\n",
    "        if n % i == 0:\n",
    "            return False\n",
    "    return True"
   ]
  },
  {
   "cell_type": "code",
   "execution_count": 176,
   "id": "d977c6ff",
   "metadata": {},
   "outputs": [
    {
     "name": "stdout",
     "output_type": "stream",
     "text": [
      "Введите целое число: 17\n",
      "17 является простым числом\n"
     ]
    }
   ],
   "source": [
    "n = int(input(\"Введите целое число: \"))\n",
    "\n",
    "if is_prime(n):\n",
    "    print(n, \"является простым числом\")\n",
    "else:\n",
    "    print(n, \"не является простым числом\")"
   ]
  },
  {
   "cell_type": "markdown",
   "id": "d0c178d4",
   "metadata": {},
   "source": [
    "### Задачка: \n",
    "\n",
    "Напишите программу, принимающую на вход массив и число - множитель, на который нужно умножить все элементы массива."
   ]
  },
  {
   "cell_type": "code",
   "execution_count": 189,
   "id": "4a4d3e19",
   "metadata": {},
   "outputs": [],
   "source": [
    "def multiply_list(lst: list, multiplier: float) -> list:\n",
    "    result = []\n",
    "    for num in lst:\n",
    "        result.append(num * multiplier)\n",
    "    return result"
   ]
  },
  {
   "cell_type": "code",
   "execution_count": 186,
   "id": "64ea71d8",
   "metadata": {},
   "outputs": [],
   "source": [
    "def multiply_list(lst: list, multiplier: float):\n",
    "    for i in range(len(lst)):\n",
    "        lst[i] *= multiplier"
   ]
  },
  {
   "cell_type": "code",
   "execution_count": 187,
   "id": "3633119c",
   "metadata": {},
   "outputs": [],
   "source": [
    "a = list(range(4))\n",
    "multiply_list(a, 2)"
   ]
  },
  {
   "cell_type": "code",
   "execution_count": 188,
   "id": "528d2dfd",
   "metadata": {},
   "outputs": [
    {
     "data": {
      "text/plain": [
       "[0, 2, 4, 6]"
      ]
     },
     "execution_count": 188,
     "metadata": {},
     "output_type": "execute_result"
    }
   ],
   "source": [
    "a"
   ]
  },
  {
   "cell_type": "markdown",
   "id": "48ad086b",
   "metadata": {},
   "source": [
    "# Блок_1"
   ]
  },
  {
   "cell_type": "markdown",
   "id": "9667ef69",
   "metadata": {},
   "source": [
    "### Задачка 1:\n",
    "Напишите функцию `sum_even(numbers)`, которая принимает список чисел numbers и возвращает сумму всех четных чисел в списке.\n",
    "\n"
   ]
  },
  {
   "cell_type": "code",
   "execution_count": 121,
   "id": "41932c34",
   "metadata": {},
   "outputs": [],
   "source": [
    "def sum_even(numbers: list) -> float:\n",
    "    # your code here\n",
    "    pass"
   ]
  },
  {
   "cell_type": "code",
   "execution_count": 122,
   "id": "3176118c",
   "metadata": {},
   "outputs": [
    {
     "name": "stdout",
     "output_type": "stream",
     "text": [
      "Сумма четных чисел в списке: None\n"
     ]
    }
   ],
   "source": [
    "my_list = [1, 2, 3, 4, 5, 6, 7, 8, 9, 10] # ответ 30\n",
    "\n",
    "print(\"Сумма четных чисел в списке:\", sum_even(my_list))"
   ]
  },
  {
   "cell_type": "markdown",
   "id": "08452283",
   "metadata": {},
   "source": [
    "### Задачка 2"
   ]
  },
  {
   "cell_type": "markdown",
   "id": "e7e5630c",
   "metadata": {},
   "source": [
    "Напишите функцию `calculate_grade`, которая принимает на вход лист оценок (целые числа). \n",
    "Функция возвращает кортеж состоящий из округленной до ближайшего целого числа усредненной оценки в баллах \n",
    "и соответствующую ей оценку по 5 шкалле, выставленной по следующим правилам:\n",
    "\n",
    "\n",
    "- 85 или выше: 5\n",
    "- 70-85: 4\n",
    "- 50-69: 3\n",
    "- Ниже 60: 2\n",
    "\n",
    "Например, если на вход подали `[85, 92, 78, 60, 45]`, функция должна вернуть `(72, 4)`"
   ]
  },
  {
   "cell_type": "code",
   "execution_count": 100,
   "id": "69801118",
   "metadata": {},
   "outputs": [],
   "source": [
    "def calculate_grade(grades):\n",
    "    # your code here\n",
    "    pass"
   ]
  },
  {
   "cell_type": "markdown",
   "id": "494498e7",
   "metadata": {},
   "source": [
    "### Задачка 3"
   ]
  },
  {
   "cell_type": "markdown",
   "id": "95754060",
   "metadata": {},
   "source": [
    "Напишите функцию `find_max()`, которая принимает список чисел в качестве аргумента и возвращает наибольшее число в списке."
   ]
  },
  {
   "cell_type": "code",
   "execution_count": null,
   "id": "8656a66b",
   "metadata": {},
   "outputs": [],
   "source": []
  },
  {
   "cell_type": "markdown",
   "id": "0bd64208",
   "metadata": {},
   "source": [
    "### Задачка 4\n",
    "\n",
    "Напишите функцию delete_punctuation(), которая принимает на вход строку и удаляет знаки пунктуации `'?!.,:;-\"''.`\n",
    "\n",
    "Подсказка: чтобы указать в питоновской строке кавычки, используется бэкслэш: `'\\''`  и `'\\\"'`"
   ]
  },
  {
   "cell_type": "code",
   "execution_count": 116,
   "id": "20f0f4f2",
   "metadata": {},
   "outputs": [
    {
     "name": "stdout",
     "output_type": "stream",
     "text": [
      "Jane's \"toyota\" in the street\n"
     ]
    }
   ],
   "source": [
    "a = \"Jane\\'s \\\"toyota\\\" in the street\"\n",
    "print(a)"
   ]
  },
  {
   "cell_type": "markdown",
   "id": "dc54cf26",
   "metadata": {},
   "source": [
    "### Задачка 5"
   ]
  },
  {
   "cell_type": "markdown",
   "id": "dbcd20ad",
   "metadata": {},
   "source": [
    "Напишите функцию `find_factors()`, принимающую на вход целое число и возвращающую список делителей этого числа. "
   ]
  },
  {
   "cell_type": "markdown",
   "id": "5376eee8",
   "metadata": {},
   "source": [
    "### Задачка 6\n",
    "\n",
    "Напишите функцию is_palindrome(s), которая принимает на вход строку s и возвращает True, если строка является палиндромом, и False, если строка не является палиндромом.\n",
    "\n"
   ]
  },
  {
   "cell_type": "code",
   "execution_count": 119,
   "id": "1ca66152",
   "metadata": {},
   "outputs": [],
   "source": [
    "def is_palindrome(s: str) -> bool:\n",
    "    # your code here\n",
    "    pass"
   ]
  },
  {
   "cell_type": "code",
   "execution_count": null,
   "id": "b2103796",
   "metadata": {},
   "outputs": [],
   "source": [
    "word = input(\"Введите слово или фразу: \")\n",
    "\n",
    "if is_palindrome(word):\n",
    "    print(word, \"является палиндромом\")\n",
    "else:\n",
    "    print(word, \"не является палиндромом\")"
   ]
  },
  {
   "cell_type": "markdown",
   "id": "f53266fd",
   "metadata": {},
   "source": [
    "Чтобы проверить правильность своего решения, прогоните функцию через тест:"
   ]
  },
  {
   "cell_type": "code",
   "execution_count": 193,
   "id": "d842f25b",
   "metadata": {},
   "outputs": [],
   "source": [
    "from typing import Callable, Iterable\n",
    "\n",
    "tests = [\n",
    "    'A nut for a jar of tuna.',\n",
    "    'Borrow or rob?',\n",
    "    'Was it a car or a cat I saw?',\n",
    "    'Murder for a jar of red rum.'\n",
    "]\n",
    "\n",
    "def test_palindrome(palindrom_func: Callable, tests: Iterable[str]) -> list:\n",
    "    for phrase in tests:\n",
    "        if not palindrom_func(phrase):\n",
    "            print(f\"Failed on phrase {phrase}\")"
   ]
  },
  {
   "cell_type": "code",
   "execution_count": 194,
   "id": "fd2a3de2",
   "metadata": {},
   "outputs": [
    {
     "name": "stdout",
     "output_type": "stream",
     "text": [
      "Failed on phrase A nut for a jar of tuna.\n",
      "Failed on phrase Borrow or rob?\n",
      "Failed on phrase Was it a car or a cat I saw?\n",
      "Failed on phrase Murder for a jar of red rum.\n"
     ]
    }
   ],
   "source": [
    "test_palindrome(is_palindrome, tests)"
   ]
  },
  {
   "cell_type": "markdown",
   "id": "eb3e6d4c",
   "metadata": {},
   "source": [
    "# Примеры_2"
   ]
  },
  {
   "cell_type": "markdown",
   "id": "22709277",
   "metadata": {},
   "source": [
    "## Задачка: \n",
    "Напишите функцию, которая принимает от пользователя два списка целых чисел одинаковой длины и выполняет следующие операции:\n",
    "\n",
    "- Находит сумму элементов с одинаковыми индексами в каждом списке.\n",
    "- Вычисляет среднее арифметическое всех элементов из двух списков.\n",
    "- Возвращает список, состоящий из элементов, которые встречаются в обоих списках.\n"
   ]
  },
  {
   "cell_type": "code",
   "execution_count": 190,
   "id": "4eafd9fa",
   "metadata": {},
   "outputs": [],
   "source": [
    "def sum_lists(list1: list, list2: list) -> list:\n",
    "    return [a + b for a, b in zip(list1, list2)]\n",
    "\n",
    "def average_lists(list1: list, list2: list) -> float:\n",
    "    sum_list = sum_lists(list1, list2)\n",
    "    return sum(sum_lists(list1, list2)) / (len(sum_list) * 2)\n",
    "\n",
    "def common_elements(list1: list, list2: list) -> list:\n",
    "    return list(set(list1) & set(list2))"
   ]
  },
  {
   "cell_type": "code",
   "execution_count": 141,
   "id": "1429ef74",
   "metadata": {},
   "outputs": [
    {
     "name": "stdout",
     "output_type": "stream",
     "text": [
      "Введите список 1 через запятую: 1, 3, 4, 5,6\n",
      "Введите список 2 через запятую: 3, 6, 3, 1, 2\n",
      "Сумма элементов с одинаковыми индексами: [4, 9, 7, 6, 8]\n",
      "Среднее арифметическое двух списков: 3.4\n",
      "Список общих элементов в двух списках: [1, 3, 6]\n"
     ]
    }
   ],
   "source": [
    "list1 = list(map(int, input(\"Введите список 1 через запятую: \").split(\",\")))\n",
    "list2 = list(map(int, input(\"Введите список 2 через запятую: \").split(\",\")))\n",
    "\n",
    "sum_list = sum_lists(list1, list2)\n",
    "avg = average_lists(list1, list2)\n",
    "common = common_elements(list1, list2)\n",
    "\n",
    "print(\"Сумма элементов с одинаковыми индексами:\", sum_list)\n",
    "print(\"Среднее арифметическое двух списков:\", avg)\n",
    "print(\"Список общих элементов в двух списках:\", common)"
   ]
  },
  {
   "cell_type": "code",
   "execution_count": 191,
   "id": "dbc9b41c",
   "metadata": {},
   "outputs": [
    {
     "name": "stdout",
     "output_type": "stream",
     "text": [
      "Введите список 1 через запятую: 1, 3, 4, 5,6\n",
      "Введите список 2 через запятую: 3, 6, 3, 1, 2\n",
      "Сумма элементов с одинаковыми индексами: [4, 9, 7, 6, 8]\n",
      "Среднее арифметическое двух списков: 3.4\n",
      "Список общих элементов в двух списках: [1, 3, 6]\n"
     ]
    }
   ],
   "source": [
    "list1 = list(map(int, input(\"Введите список 1 через запятую: \").split(\",\")))\n",
    "list2 = list(map(int, input(\"Введите список 2 через запятую: \").split(\",\")))\n",
    "\n",
    "sum_list = lambda list1, list2: [a + b for a, b in zip(list1, list2)]\n",
    "avg = lambda list1, list2: sum(list1 + list2) / len(list1 + list2) \n",
    "common = lambda list1, list2: list(set(list1) & set(list2))\n",
    "\n",
    "print(\"Сумма элементов с одинаковыми индексами:\", sum_list(list1, list2))\n",
    "print(\"Среднее арифметическое двух списков:\", avg(list1, list2))\n",
    "print(\"Список общих элементов в двух списках:\", common(list1, list2))"
   ]
  },
  {
   "cell_type": "markdown",
   "id": "a192b6cd",
   "metadata": {},
   "source": [
    "## Задачка"
   ]
  },
  {
   "cell_type": "markdown",
   "id": "f470b7ab",
   "metadata": {},
   "source": [
    "Напишите функцию, принимающую на вход два списка одинаковой длины и возвращающую список такой же длины, состоящий из максимумов элементов с одинаковым индексом.\n",
    "\n",
    "Пример:\n",
    "```\n",
    "a = [1, 2, 3, 4, 5]\n",
    "b = [2, 1, 3, 6, 1]\n",
    "\n",
    "res = [2, 2, 3, 6, 5]\n",
    "```"
   ]
  },
  {
   "cell_type": "code",
   "execution_count": null,
   "id": "53a1acf4",
   "metadata": {},
   "outputs": [],
   "source": [
    "map(lambda x: x** 2, list1)"
   ]
  },
  {
   "cell_type": "code",
   "execution_count": 164,
   "id": "1f5c5093",
   "metadata": {},
   "outputs": [],
   "source": [
    "def maximum(list1, list2) -> list:\n",
    "    return list(map(lambda x, y: x if x > y else y, list1, list2))"
   ]
  },
  {
   "cell_type": "markdown",
   "id": "74acdd19",
   "metadata": {},
   "source": [
    "## Задачка на рекурсию"
   ]
  },
  {
   "cell_type": "markdown",
   "id": "70eb3adb",
   "metadata": {},
   "source": [
    "Напишите функцию, вычисляющую факториал положительного числа."
   ]
  },
  {
   "cell_type": "code",
   "execution_count": 157,
   "id": "10ccb4f3",
   "metadata": {},
   "outputs": [],
   "source": [
    "def factorial(n):\n",
    "    res = 1\n",
    "    for i in range(1, n + 1):\n",
    "        res *= i\n",
    "    return res"
   ]
  },
  {
   "cell_type": "code",
   "execution_count": 147,
   "id": "eae6f7d8",
   "metadata": {},
   "outputs": [],
   "source": [
    "def factorial2(n):\n",
    "    if n == 0:\n",
    "        return 1  # условие выхода из рекурсии\n",
    "    return n * factorial2(n - 1)"
   ]
  },
  {
   "cell_type": "code",
   "execution_count": 159,
   "id": "9fec8ce0",
   "metadata": {},
   "outputs": [
    {
     "data": {
      "text/plain": [
       "24"
      ]
     },
     "execution_count": 159,
     "metadata": {},
     "output_type": "execute_result"
    }
   ],
   "source": [
    "factorial2(4)"
   ]
  },
  {
   "cell_type": "markdown",
   "id": "abee0e12",
   "metadata": {},
   "source": [
    "# Блок_2"
   ]
  },
  {
   "cell_type": "markdown",
   "id": "f4af7e10",
   "metadata": {},
   "source": [
    "### Задачка 7"
   ]
  },
  {
   "cell_type": "markdown",
   "id": "43c2d860",
   "metadata": {},
   "source": [
    "Напишите функцию, вычисляющую n-ое число последовательности [Фибоначчи](https://ru.wikipedia.org/wiki/%D0%A7%D0%B8%D1%81%D0%BB%D0%B0_%D0%A4%D0%B8%D0%B1%D0%BE%D0%BD%D0%B0%D1%87%D1%87%D0%B8#:~:text=0%2C%201%2C%201%2C%202,%D1%80%D0%B0%D0%B2%D0%BD%D0%BE%20%D1%81%D1%83%D0%BC%D0%BC%D0%B5%20%D0%B4%D0%B2%D1%83%D1%85%20%D0%BF%D1%80%D0%B5%D0%B4%D1%8B%D0%B4%D1%83%D1%89%D0%B8%D1%85%20%D1%87%D0%B8%D1%81%D0%B5%D0%BB.).\n",
    "\n",
    "В последовательности Фибоначчи  первые два числа равны 0 и 1, а каждое последующее число равно сумме двух предыдущих чисел:\n",
    "\n",
    "`1, 1, 2, 3, 5, 8, 13, 21, ...`"
   ]
  },
  {
   "cell_type": "code",
   "execution_count": null,
   "id": "ff5fdce6",
   "metadata": {},
   "outputs": [],
   "source": []
  },
  {
   "cell_type": "markdown",
   "id": "ca850b40",
   "metadata": {},
   "source": [
    "### Задачка 8\n",
    "\n",
    "Напишите функцию, принимающую на вход два списка одинаковой длины и возвращающую список такой же длины, состоящий из суммы элементов с одинаковым индексом если эти элементы различны и 0, если эти элементы равны.\n",
    "\n",
    "Пример:\n",
    "\n",
    "```\n",
    "a = [1, 2, 3, 4, 5]\n",
    "b = [2, 1, 3, 6, 1]\n",
    "\n",
    "res = [3, 3, 0, 10, 5]\n",
    "```"
   ]
  },
  {
   "cell_type": "code",
   "execution_count": null,
   "id": "4cff32bd",
   "metadata": {},
   "outputs": [],
   "source": []
  },
  {
   "cell_type": "markdown",
   "id": "99ba26fe",
   "metadata": {},
   "source": [
    "### Задачка 9\n",
    "\n",
    "Напишите функцию, сортируюущую список строк в алфавитном порядке, но в обратном порядке строки (то есть сначала смотрим на последнюю букву в строке, если они одинаковые, то на предпоследнюю и т.д.)\n",
    "\n",
    "Пример:\n",
    "\n",
    "```\n",
    "a = [ab, sdsda, saae, wdsdq, ssdz]\n",
    "\n",
    "res = [sdsda, ab, saae, wdsdq, ssdz]\n",
    "```"
   ]
  },
  {
   "cell_type": "code",
   "execution_count": null,
   "id": "2a37c353",
   "metadata": {},
   "outputs": [],
   "source": []
  },
  {
   "cell_type": "markdown",
   "id": "b17418bc",
   "metadata": {},
   "source": [
    "### Задачка 10"
   ]
  },
  {
   "cell_type": "markdown",
   "id": "a8775647",
   "metadata": {},
   "source": [
    "Напишите функцию, принимающую на вход список и число и возвращающую список в котором удалены все числа больше заданного числа.\n",
    "\n",
    "\n",
    "Пример:\n",
    "\n",
    "```\n",
    "a = [1, 2, 3, 4, 5, 7, 8, 3]\n",
    "n = 5\n",
    "\n",
    "res = [1, 2, 3, 4, 3]\n",
    "```"
   ]
  },
  {
   "cell_type": "code",
   "execution_count": null,
   "id": "33ed7ff7",
   "metadata": {},
   "outputs": [],
   "source": []
  }
 ],
 "metadata": {
  "kernelspec": {
   "display_name": "Python 3 (ipykernel)",
   "language": "python",
   "name": "python3"
  },
  "language_info": {
   "codemirror_mode": {
    "name": "ipython",
    "version": 3
   },
   "file_extension": ".py",
   "mimetype": "text/x-python",
   "name": "python",
   "nbconvert_exporter": "python",
   "pygments_lexer": "ipython3",
   "version": "3.10.9"
  }
 },
 "nbformat": 4,
 "nbformat_minor": 5
}
