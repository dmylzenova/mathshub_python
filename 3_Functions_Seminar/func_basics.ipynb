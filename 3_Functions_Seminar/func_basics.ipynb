{
 "cells": [
  {
   "cell_type": "markdown",
   "id": "4c83beca-5bd3-4ecb-801d-7b7ada59362f",
   "metadata": {},
   "source": [
    "# Functions"
   ]
  },
  {
   "cell_type": "markdown",
   "id": "cb92c99b-0a8c-4888-95f0-f7d0db5c47d0",
   "metadata": {},
   "source": [
    "Functions -- \"first class objects\":\n",
    "    \n",
    "    - создаются в рантайме\n",
    "    - присваиваются переменным или элементам в структурах данных\n",
    "    - используются как аргумент в других функциях\n",
    "    - возвращаются как результат работы функций\n",
    "    \n",
    "Ровно так же работают, например, string, list и прочие рассмотренные ранее примеры "
   ]
  },
  {
   "cell_type": "markdown",
   "id": "2f20e3cd-d190-4303-8e79-f41b78b8b7be",
   "metadata": {},
   "source": [
    "## Базовый синтаксис"
   ]
  },
  {
   "cell_type": "markdown",
   "id": "8565ed53-a8df-4193-a3c1-02e7f4601197",
   "metadata": {},
   "source": [
    "### Аргументы и вызов"
   ]
  },
  {
   "cell_type": "code",
   "execution_count": 1,
   "id": "6b6db521-a5aa-48ae-9c99-fcf535b01dd3",
   "metadata": {
    "ExecuteTime": {
     "end_time": "2022-09-16T08:47:51.689923Z",
     "start_time": "2022-09-16T08:47:51.684737Z"
    }
   },
   "outputs": [
    {
     "name": "stdout",
     "output_type": "stream",
     "text": [
      "Hello, world!\n"
     ]
    }
   ],
   "source": [
    "def func():  # name and function arguments\n",
    "    '''\n",
    "    Doc string to be shown in help\n",
    "    '''\n",
    "    print(\"Hello, world!\") # body\n",
    "\n",
    "func()"
   ]
  },
  {
   "cell_type": "code",
   "execution_count": 2,
   "id": "9b63d95d-a5b8-4136-aa45-a0f49e800de3",
   "metadata": {
    "ExecuteTime": {
     "end_time": "2022-09-16T08:48:36.411939Z",
     "start_time": "2022-09-16T08:48:36.406283Z"
    }
   },
   "outputs": [
    {
     "name": "stdout",
     "output_type": "stream",
     "text": [
      "Help on function func in module __main__:\n",
      "\n",
      "func()\n",
      "    Doc string to be shown in help\n",
      "\n"
     ]
    }
   ],
   "source": [
    "help(func)"
   ]
  },
  {
   "cell_type": "code",
   "execution_count": 3,
   "id": "0cfb16af-8a4b-42ee-85c1-4623802b8b80",
   "metadata": {
    "ExecuteTime": {
     "end_time": "2022-09-16T08:49:01.443011Z",
     "start_time": "2022-09-16T08:49:01.435080Z"
    }
   },
   "outputs": [
    {
     "data": {
      "text/plain": [
       "'\\n    Doc string to be shown in help\\n    '"
      ]
     },
     "execution_count": 3,
     "metadata": {},
     "output_type": "execute_result"
    }
   ],
   "source": [
    "func.__doc__"
   ]
  },
  {
   "cell_type": "markdown",
   "id": "63e400b7-4f0b-47fa-a4bf-bb710c633fbe",
   "metadata": {},
   "source": [
    "Пример простейшей функции с аргументами"
   ]
  },
  {
   "cell_type": "code",
   "execution_count": 5,
   "id": "848843da-0050-40ad-98c9-ae34a1ea7bb1",
   "metadata": {
    "ExecuteTime": {
     "end_time": "2022-09-16T08:49:48.028879Z",
     "start_time": "2022-09-16T08:49:48.023692Z"
    }
   },
   "outputs": [
    {
     "name": "stdout",
     "output_type": "stream",
     "text": [
      "[1, 2, 4, 5]\n"
     ]
    }
   ],
   "source": [
    "def func(a, b):\n",
    "    print(a + b)\n",
    "\n",
    "func([1, 2], [4, 5])"
   ]
  },
  {
   "cell_type": "markdown",
   "id": "4e617658-c989-4f22-8df1-706c2e4925b2",
   "metadata": {},
   "source": [
    "Аргументы функций могут иметь дефолтные значения"
   ]
  },
  {
   "cell_type": "code",
   "execution_count": 6,
   "id": "ec3fc541-35fb-4e5f-b132-39af640a1db2",
   "metadata": {
    "ExecuteTime": {
     "end_time": "2022-09-16T08:49:54.350693Z",
     "start_time": "2022-09-16T08:49:54.344576Z"
    }
   },
   "outputs": [],
   "source": [
    "def func(a, b='value'):\n",
    "    print(a, b)"
   ]
  },
  {
   "cell_type": "code",
   "execution_count": 8,
   "id": "cd1a9f2d-36b0-4969-a4e3-a588fb97edcd",
   "metadata": {
    "ExecuteTime": {
     "end_time": "2022-09-16T08:50:22.485143Z",
     "start_time": "2022-09-16T08:50:22.478408Z"
    }
   },
   "outputs": [
    {
     "name": "stdout",
     "output_type": "stream",
     "text": [
      "1 value\n"
     ]
    }
   ],
   "source": [
    "func(1)  # value -- дефолтное значение"
   ]
  },
  {
   "cell_type": "markdown",
   "id": "7cf21fe7-8ba1-4b96-9cc5-51d93eb20d11",
   "metadata": {},
   "source": [
    "При вызове функции мы оперируем понятиями `positional argument` и `keyword argument`"
   ]
  },
  {
   "cell_type": "code",
   "execution_count": 11,
   "id": "7e769e67-59ec-4fe7-89eb-e94c300b6f81",
   "metadata": {
    "ExecuteTime": {
     "end_time": "2022-09-16T08:51:02.765869Z",
     "start_time": "2022-09-16T08:51:02.761190Z"
    }
   },
   "outputs": [
    {
     "name": "stdout",
     "output_type": "stream",
     "text": [
      "10 another_value\n"
     ]
    }
   ],
   "source": [
    "func(b='another_value', a=10)  # Вызвали с использованием keyword arguments"
   ]
  },
  {
   "cell_type": "code",
   "execution_count": 10,
   "id": "984fc931-8d07-420c-92e5-e95c0291f07f",
   "metadata": {
    "ExecuteTime": {
     "end_time": "2022-09-16T08:50:45.156089Z",
     "start_time": "2022-09-16T08:50:45.149146Z"
    }
   },
   "outputs": [
    {
     "name": "stdout",
     "output_type": "stream",
     "text": [
      "10 another_value\n"
     ]
    }
   ],
   "source": [
    "func(10, 'another_value')  # Вызвали с использованием positional arguments"
   ]
  },
  {
   "cell_type": "markdown",
   "id": "a1c307cb-bbc2-482f-b621-db57f65dcdee",
   "metadata": {},
   "source": [
    "В сигнатуре можно явно задать необходимость указания аргументов по имени"
   ]
  },
  {
   "cell_type": "code",
   "execution_count": 12,
   "id": "97fcdd98-64cc-43a2-b417-74691054f10b",
   "metadata": {
    "ExecuteTime": {
     "end_time": "2022-09-16T08:51:28.824467Z",
     "start_time": "2022-09-16T08:51:28.817875Z"
    }
   },
   "outputs": [],
   "source": [
    "def func(a, b='value', *, c='important named arg'):\n",
    "    print(a, b, c)"
   ]
  },
  {
   "cell_type": "code",
   "execution_count": 13,
   "id": "66b8f605-b1ad-4b83-9bcd-3302cee6bda2",
   "metadata": {
    "ExecuteTime": {
     "end_time": "2022-09-16T08:51:32.705025Z",
     "start_time": "2022-09-16T08:51:32.505745Z"
    }
   },
   "outputs": [
    {
     "ename": "TypeError",
     "evalue": "func() takes from 1 to 2 positional arguments but 3 were given",
     "output_type": "error",
     "traceback": [
      "\u001b[0;31m---------------------------------------------------------------------------\u001b[0m",
      "\u001b[0;31mTypeError\u001b[0m                                 Traceback (most recent call last)",
      "Input \u001b[0;32mIn [13]\u001b[0m, in \u001b[0;36m<cell line: 1>\u001b[0;34m()\u001b[0m\n\u001b[0;32m----> 1\u001b[0m \u001b[43mfunc\u001b[49m\u001b[43m(\u001b[49m\u001b[38;5;241;43m1\u001b[39;49m\u001b[43m,\u001b[49m\u001b[43m \u001b[49m\u001b[38;5;124;43m'\u001b[39;49m\u001b[38;5;124;43mval\u001b[39;49m\u001b[38;5;124;43m'\u001b[39;49m\u001b[43m,\u001b[49m\u001b[43m \u001b[49m\u001b[38;5;124;43m'\u001b[39;49m\u001b[38;5;124;43mval2\u001b[39;49m\u001b[38;5;124;43m'\u001b[39;49m\u001b[43m)\u001b[49m\n",
      "\u001b[0;31mTypeError\u001b[0m: func() takes from 1 to 2 positional arguments but 3 were given"
     ]
    }
   ],
   "source": [
    "func(1, 'val', 'val2')"
   ]
  },
  {
   "cell_type": "code",
   "execution_count": 14,
   "id": "4827d54c-019e-4c3a-94fa-bbe911bfce0c",
   "metadata": {
    "ExecuteTime": {
     "end_time": "2022-09-16T08:51:58.425731Z",
     "start_time": "2022-09-16T08:51:58.418645Z"
    }
   },
   "outputs": [
    {
     "name": "stdout",
     "output_type": "stream",
     "text": [
      "1 val important named arg\n"
     ]
    }
   ],
   "source": [
    "func(1, 'val')"
   ]
  },
  {
   "cell_type": "code",
   "execution_count": 15,
   "id": "d01f8b22-dbbf-47cd-b743-8f75771fd88c",
   "metadata": {
    "ExecuteTime": {
     "end_time": "2022-09-16T08:52:05.038486Z",
     "start_time": "2022-09-16T08:52:05.031433Z"
    }
   },
   "outputs": [
    {
     "name": "stdout",
     "output_type": "stream",
     "text": [
      "1 val val2\n"
     ]
    }
   ],
   "source": [
    "func(1, 'val', c='val2')"
   ]
  },
  {
   "cell_type": "code",
   "execution_count": 16,
   "id": "961286a6",
   "metadata": {
    "ExecuteTime": {
     "end_time": "2022-09-16T08:52:34.413925Z",
     "start_time": "2022-09-16T08:52:34.407534Z"
    }
   },
   "outputs": [],
   "source": [
    "def func(a, b='value', /, c='important named arg'):\n",
    "    print(a, b, c)"
   ]
  },
  {
   "cell_type": "code",
   "execution_count": 17,
   "id": "983fc897",
   "metadata": {
    "ExecuteTime": {
     "end_time": "2022-09-16T08:52:40.838209Z",
     "start_time": "2022-09-16T08:52:40.831439Z"
    }
   },
   "outputs": [
    {
     "name": "stdout",
     "output_type": "stream",
     "text": [
      "1 val val2\n"
     ]
    }
   ],
   "source": [
    "func(1, 'val', 'val2')"
   ]
  },
  {
   "cell_type": "code",
   "execution_count": 18,
   "id": "e1ac012f",
   "metadata": {
    "ExecuteTime": {
     "end_time": "2022-09-16T08:52:59.295780Z",
     "start_time": "2022-09-16T08:52:59.285289Z"
    }
   },
   "outputs": [
    {
     "ename": "TypeError",
     "evalue": "func() got some positional-only arguments passed as keyword arguments: 'b'",
     "output_type": "error",
     "traceback": [
      "\u001b[0;31m---------------------------------------------------------------------------\u001b[0m",
      "\u001b[0;31mTypeError\u001b[0m                                 Traceback (most recent call last)",
      "Input \u001b[0;32mIn [18]\u001b[0m, in \u001b[0;36m<cell line: 1>\u001b[0;34m()\u001b[0m\n\u001b[0;32m----> 1\u001b[0m \u001b[43mfunc\u001b[49m\u001b[43m(\u001b[49m\u001b[38;5;241;43m1\u001b[39;49m\u001b[43m,\u001b[49m\u001b[43m \u001b[49m\u001b[43mb\u001b[49m\u001b[38;5;241;43m=\u001b[39;49m\u001b[38;5;124;43m'\u001b[39;49m\u001b[38;5;124;43mval\u001b[39;49m\u001b[38;5;124;43m'\u001b[39;49m\u001b[43m,\u001b[49m\u001b[43m \u001b[49m\u001b[43mc\u001b[49m\u001b[38;5;241;43m=\u001b[39;49m\u001b[38;5;124;43m'\u001b[39;49m\u001b[38;5;124;43mval2\u001b[39;49m\u001b[38;5;124;43m'\u001b[39;49m\u001b[43m)\u001b[49m\n",
      "\u001b[0;31mTypeError\u001b[0m: func() got some positional-only arguments passed as keyword arguments: 'b'"
     ]
    }
   ],
   "source": [
    "func(1, b='val', c='val2')"
   ]
  },
  {
   "cell_type": "code",
   "execution_count": 19,
   "id": "cc2fdd95",
   "metadata": {
    "ExecuteTime": {
     "end_time": "2022-09-16T08:53:28.312270Z",
     "start_time": "2022-09-16T08:53:28.307227Z"
    }
   },
   "outputs": [],
   "source": [
    "def func(a, b='value', /, *, c='important named arg'):\n",
    "    print(a, b, c)"
   ]
  },
  {
   "cell_type": "markdown",
   "id": "be5e1a11-1320-406d-ac14-20a7dc968ccd",
   "metadata": {},
   "source": [
    "### return"
   ]
  },
  {
   "cell_type": "markdown",
   "id": "bdf11541-2b4b-4b5b-9204-4d49ca82ea56",
   "metadata": {},
   "source": [
    "Функция может возвращать что-то"
   ]
  },
  {
   "cell_type": "code",
   "execution_count": 20,
   "id": "4a6c39ef-25e5-428e-aa44-d609af5464c8",
   "metadata": {
    "ExecuteTime": {
     "end_time": "2022-09-16T08:54:06.376957Z",
     "start_time": "2022-09-16T08:54:06.372058Z"
    }
   },
   "outputs": [],
   "source": [
    "def func(a, b='value', *, c='important named arg'):\n",
    "    return a, b"
   ]
  },
  {
   "cell_type": "code",
   "execution_count": 22,
   "id": "ffec2e2d-f614-4714-b136-00dadc837451",
   "metadata": {
    "ExecuteTime": {
     "end_time": "2022-09-16T08:54:14.406250Z",
     "start_time": "2022-09-16T08:54:14.399981Z"
    }
   },
   "outputs": [],
   "source": [
    "a = 1\n",
    "b = 'some_val'\n",
    "\n",
    "c, d = func(a, b)"
   ]
  },
  {
   "cell_type": "code",
   "execution_count": 23,
   "id": "2c81d2cd-3901-419a-8176-cd52540c603c",
   "metadata": {
    "ExecuteTime": {
     "end_time": "2022-09-16T08:54:15.057816Z",
     "start_time": "2022-09-16T08:54:15.052489Z"
    }
   },
   "outputs": [
    {
     "data": {
      "text/plain": [
       "(140181943425328, 140179002586800)"
      ]
     },
     "execution_count": 23,
     "metadata": {},
     "output_type": "execute_result"
    }
   ],
   "source": [
    "id(a), id(b)"
   ]
  },
  {
   "cell_type": "code",
   "execution_count": 24,
   "id": "63c524a9-4e05-4d43-96f4-5bf0baf3bb61",
   "metadata": {
    "ExecuteTime": {
     "end_time": "2022-09-16T08:54:15.712120Z",
     "start_time": "2022-09-16T08:54:15.706663Z"
    }
   },
   "outputs": [
    {
     "data": {
      "text/plain": [
       "(140181943425328, 140179002586800)"
      ]
     },
     "execution_count": 24,
     "metadata": {},
     "output_type": "execute_result"
    }
   ],
   "source": [
    "id(c), id(d)"
   ]
  },
  {
   "cell_type": "code",
   "execution_count": 26,
   "id": "78e0fff4-0c41-42bb-ae66-9959e2a56e0e",
   "metadata": {
    "ExecuteTime": {
     "end_time": "2022-09-16T08:56:21.200586Z",
     "start_time": "2022-09-16T08:56:21.194395Z"
    }
   },
   "outputs": [],
   "source": [
    "def change_list(a: list):\n",
    "    a.append(10)"
   ]
  },
  {
   "cell_type": "code",
   "execution_count": 27,
   "id": "c9c894f6",
   "metadata": {
    "ExecuteTime": {
     "end_time": "2022-09-16T08:56:21.903975Z",
     "start_time": "2022-09-16T08:56:21.898000Z"
    }
   },
   "outputs": [
    {
     "data": {
      "text/plain": [
       "(None, [1, 2, 3, 10])"
      ]
     },
     "execution_count": 27,
     "metadata": {},
     "output_type": "execute_result"
    }
   ],
   "source": [
    "b = [1, 2, 3]\n",
    "\n",
    "a = change_list(b)\n",
    "\n",
    "a, b"
   ]
  },
  {
   "cell_type": "markdown",
   "id": "3684833f-21d3-4d7b-93fe-e8f464bd2bcd",
   "metadata": {},
   "source": [
    "## Рекурсия"
   ]
  },
  {
   "cell_type": "markdown",
   "id": "306911e8-afd4-4500-8067-26f9f1c4f356",
   "metadata": {},
   "source": [
    "Функция может вызывать саму себя внутри. Классический пример -- вычисление факториала"
   ]
  },
  {
   "cell_type": "code",
   "execution_count": 28,
   "id": "30d62324-eba7-4529-ada6-84802a9f719f",
   "metadata": {
    "ExecuteTime": {
     "end_time": "2022-09-16T08:58:00.103136Z",
     "start_time": "2022-09-16T08:58:00.098060Z"
    }
   },
   "outputs": [],
   "source": [
    "def fact(n):\n",
    "    if n == 0:\n",
    "        return 1  # условие выхода из рекурсии\n",
    "    return n * fact(n - 1)"
   ]
  },
  {
   "cell_type": "code",
   "execution_count": 29,
   "id": "17d1a091-0c24-48bb-8184-5115e0bdbf8d",
   "metadata": {
    "ExecuteTime": {
     "end_time": "2022-09-16T08:58:01.056515Z",
     "start_time": "2022-09-16T08:58:01.047649Z"
    }
   },
   "outputs": [
    {
     "data": {
      "text/plain": [
       "24"
      ]
     },
     "execution_count": 29,
     "metadata": {},
     "output_type": "execute_result"
    }
   ],
   "source": [
    "fact(4)"
   ]
  },
  {
   "cell_type": "code",
   "execution_count": 30,
   "id": "d0c7479a-4db3-44da-9d34-1cb908344744",
   "metadata": {
    "ExecuteTime": {
     "end_time": "2022-09-16T08:58:02.036779Z",
     "start_time": "2022-09-16T08:58:02.027560Z"
    }
   },
   "outputs": [
    {
     "data": {
      "text/plain": [
       "24"
      ]
     },
     "execution_count": 30,
     "metadata": {},
     "output_type": "execute_result"
    }
   ],
   "source": [
    "1 * 2 * 3 * 4"
   ]
  },
  {
   "cell_type": "markdown",
   "id": "c2a73962-3a9a-4a4f-9bed-5d081feb81b3",
   "metadata": {},
   "source": [
    "### Variable scope"
   ]
  },
  {
   "cell_type": "code",
   "execution_count": 36,
   "id": "0721073b",
   "metadata": {
    "ExecuteTime": {
     "end_time": "2022-09-16T09:00:52.168698Z",
     "start_time": "2022-09-16T09:00:52.156451Z"
    }
   },
   "outputs": [
    {
     "name": "stdout",
     "output_type": "stream",
     "text": [
      "42\n"
     ]
    },
    {
     "ename": "NameError",
     "evalue": "name 'second_var' is not defined",
     "output_type": "error",
     "traceback": [
      "\u001b[0;31m---------------------------------------------------------------------------\u001b[0m",
      "\u001b[0;31mNameError\u001b[0m                                 Traceback (most recent call last)",
      "Input \u001b[0;32mIn [36]\u001b[0m, in \u001b[0;36m<cell line: 5>\u001b[0;34m()\u001b[0m\n\u001b[1;32m      2\u001b[0m     \u001b[38;5;28mprint\u001b[39m(a)\n\u001b[1;32m      3\u001b[0m     \u001b[38;5;28mprint\u001b[39m(second_var)\n\u001b[0;32m----> 5\u001b[0m \u001b[43mfunc_1\u001b[49m\u001b[43m(\u001b[49m\u001b[38;5;241;43m42\u001b[39;49m\u001b[43m)\u001b[49m\n",
      "Input \u001b[0;32mIn [36]\u001b[0m, in \u001b[0;36mfunc_1\u001b[0;34m(a)\u001b[0m\n\u001b[1;32m      1\u001b[0m \u001b[38;5;28;01mdef\u001b[39;00m \u001b[38;5;21mfunc_1\u001b[39m(a):\n\u001b[1;32m      2\u001b[0m     \u001b[38;5;28mprint\u001b[39m(a)\n\u001b[0;32m----> 3\u001b[0m     \u001b[38;5;28mprint\u001b[39m(\u001b[43msecond_var\u001b[49m)\n",
      "\u001b[0;31mNameError\u001b[0m: name 'second_var' is not defined"
     ]
    }
   ],
   "source": [
    "def func_1(a):\n",
    "    print(a)\n",
    "    print(second_var)\n",
    "    \n",
    "func_1(42)"
   ]
  },
  {
   "cell_type": "markdown",
   "id": "1b5f6bbe-bdd4-41b7-a505-d3823d534f62",
   "metadata": {},
   "source": [
    "Логичная ошибка"
   ]
  },
  {
   "cell_type": "code",
   "execution_count": 37,
   "id": "057fd931",
   "metadata": {
    "ExecuteTime": {
     "end_time": "2022-09-16T09:00:55.214854Z",
     "start_time": "2022-09-16T09:00:55.207357Z"
    }
   },
   "outputs": [
    {
     "name": "stdout",
     "output_type": "stream",
     "text": [
      "42\n",
      "1337\n"
     ]
    }
   ],
   "source": [
    "second_var = 1337\n",
    "\n",
    "func_1(42)"
   ]
  },
  {
   "cell_type": "markdown",
   "id": "d6cf8807-1976-4e6a-8b3f-ad4833508819",
   "metadata": {},
   "source": [
    "А что если?"
   ]
  },
  {
   "cell_type": "code",
   "execution_count": 39,
   "id": "0872028b",
   "metadata": {
    "ExecuteTime": {
     "end_time": "2022-09-16T09:02:49.233560Z",
     "start_time": "2022-09-16T09:02:49.216501Z"
    }
   },
   "outputs": [
    {
     "name": "stdout",
     "output_type": "stream",
     "text": [
      "42\n"
     ]
    },
    {
     "ename": "UnboundLocalError",
     "evalue": "local variable 'b' referenced before assignment",
     "output_type": "error",
     "traceback": [
      "\u001b[0;31m---------------------------------------------------------------------------\u001b[0m",
      "\u001b[0;31mUnboundLocalError\u001b[0m                         Traceback (most recent call last)",
      "Input \u001b[0;32mIn [39]\u001b[0m, in \u001b[0;36m<cell line: 7>\u001b[0;34m()\u001b[0m\n\u001b[1;32m      4\u001b[0m     \u001b[38;5;28mprint\u001b[39m(b)\n\u001b[1;32m      5\u001b[0m     b \u001b[38;5;241m=\u001b[39m \u001b[38;5;241m9\u001b[39m\n\u001b[0;32m----> 7\u001b[0m \u001b[43mfunc_2\u001b[49m\u001b[43m(\u001b[49m\u001b[38;5;241;43m42\u001b[39;49m\u001b[43m)\u001b[49m\n",
      "Input \u001b[0;32mIn [39]\u001b[0m, in \u001b[0;36mfunc_2\u001b[0;34m(a)\u001b[0m\n\u001b[1;32m      2\u001b[0m \u001b[38;5;28;01mdef\u001b[39;00m \u001b[38;5;21mfunc_2\u001b[39m(a):\n\u001b[1;32m      3\u001b[0m     \u001b[38;5;28mprint\u001b[39m(a)\n\u001b[0;32m----> 4\u001b[0m     \u001b[38;5;28mprint\u001b[39m(\u001b[43mb\u001b[49m)\n\u001b[1;32m      5\u001b[0m     b \u001b[38;5;241m=\u001b[39m \u001b[38;5;241m9\u001b[39m\n",
      "\u001b[0;31mUnboundLocalError\u001b[0m: local variable 'b' referenced before assignment"
     ]
    }
   ],
   "source": [
    "b = 6\n",
    "def func_2(a):\n",
    "    print(a)\n",
    "    print(b)\n",
    "    b = 9\n",
    "    \n",
    "func_2(42)"
   ]
  },
  {
   "cell_type": "markdown",
   "id": "4c4b4180-9fa6-4cad-8da9-8fe01f4cd055",
   "metadata": {},
   "source": [
    "Заметим, что 42 у нас напечаталось! Почему не напечаталось b?"
   ]
  },
  {
   "cell_type": "markdown",
   "id": "007e3291-0959-4971-b6e8-b0db034883f2",
   "metadata": {},
   "source": [
    "Потому что в Python предполагается, что локальные переменные объявлены внутри функции. И поскольку объявление b внутри функции есть, мы получаем ошибку."
   ]
  },
  {
   "cell_type": "markdown",
   "id": "9096109f-b69e-4e9e-b211-6a3bfed24170",
   "metadata": {},
   "source": [
    "Как можно поправить?"
   ]
  },
  {
   "cell_type": "code",
   "execution_count": 40,
   "id": "b7f2fd0d",
   "metadata": {
    "ExecuteTime": {
     "end_time": "2022-09-16T09:03:28.493133Z",
     "start_time": "2022-09-16T09:03:28.488282Z"
    }
   },
   "outputs": [
    {
     "name": "stdout",
     "output_type": "stream",
     "text": [
      "42\n",
      "6\n"
     ]
    }
   ],
   "source": [
    "b = 6\n",
    "def func_fixed(a):\n",
    "    global b\n",
    "    print(a)\n",
    "    print(b)\n",
    "    b = 9\n",
    "    \n",
    "func_fixed(42)"
   ]
  },
  {
   "cell_type": "markdown",
   "id": "165b1a6c-b78c-4bd6-8ed0-b64a07ba7d27",
   "metadata": {},
   "source": [
    "Но be careful!"
   ]
  },
  {
   "cell_type": "code",
   "execution_count": 42,
   "id": "32f3be58",
   "metadata": {
    "ExecuteTime": {
     "end_time": "2022-09-16T09:03:46.390190Z",
     "start_time": "2022-09-16T09:03:46.385361Z"
    }
   },
   "outputs": [
    {
     "data": {
      "text/plain": [
       "9"
      ]
     },
     "execution_count": 42,
     "metadata": {},
     "output_type": "execute_result"
    }
   ],
   "source": [
    "b"
   ]
  },
  {
   "cell_type": "markdown",
   "id": "a3e2835b-9a7e-424c-9956-1de442f465da",
   "metadata": {},
   "source": [
    "## Практика"
   ]
  },
  {
   "cell_type": "markdown",
   "id": "12dd88f4-91b4-42e5-8542-06a30cd6e506",
   "metadata": {},
   "source": [
    "### Бинпоиск"
   ]
  },
  {
   "cell_type": "markdown",
   "id": "1a32a82c-5abe-4b8f-ba4f-4841e1d7c800",
   "metadata": {},
   "source": [
    "Поиск элемента в отсортированном по неубыванию массиве.\n",
    "\n",
    "1. Считаем индекс середины массива\n",
    "2. Если элемент по этому индексу и есть искомый, то возвращаем индекс\n",
    "3. Если средний элемент < искомого, то производим такой же поиск в правой половине массива\n",
    "4. Если средний элемент > искомого, то ищем в левой половине"
   ]
  },
  {
   "cell_type": "code",
   "execution_count": 49,
   "id": "210e04f8-d62e-4eea-afa9-72854a92c694",
   "metadata": {
    "ExecuteTime": {
     "end_time": "2022-09-16T09:20:08.493561Z",
     "start_time": "2022-09-16T09:20:08.488276Z"
    }
   },
   "outputs": [],
   "source": [
    "def binary_search_recursive(arr, low_ind, high_ind, val):\n",
    "    \n",
    "    # base case\n",
    "    \n",
    "    print(low_ind, high_ind, arr[low_ind: high_ind])\n",
    "    \n",
    "    if high_ind >= low_ind:\n",
    "        mid_ind = (high_ind + low_ind) // 2 \n",
    "        \n",
    "        if val == arr[mid_ind]:\n",
    "            return mid_ind\n",
    "        \n",
    "        elif arr[mid_ind] > val:\n",
    "            return binary_search_recursive(arr, low_ind, mid_ind - 1, val)\n",
    "        \n",
    "        else:\n",
    "            return binary_search_recursive(arr, mid_ind + 1, high_ind, val)\n",
    "        \n",
    "    else:\n",
    "        return -1"
   ]
  },
  {
   "cell_type": "code",
   "execution_count": 52,
   "id": "dfeaab1c",
   "metadata": {
    "ExecuteTime": {
     "end_time": "2022-09-16T09:20:45.916219Z",
     "start_time": "2022-09-16T09:20:45.910133Z"
    }
   },
   "outputs": [
    {
     "name": "stdout",
     "output_type": "stream",
     "text": [
      "0 19 [0, 1, 2, 3, 4, 5, 6, 7, 8, 9, 10, 11, 12, 13, 14, 15, 16, 17, 18]\n",
      "10 19 [10, 11, 12, 13, 14, 15, 16, 17, 18]\n",
      "15 19 [15, 16, 17, 18]\n",
      "18 19 [18]\n",
      "19 19 []\n",
      "20 19 []\n"
     ]
    },
    {
     "data": {
      "text/plain": [
       "-1"
      ]
     },
     "execution_count": 52,
     "metadata": {},
     "output_type": "execute_result"
    }
   ],
   "source": [
    "a = list(range(20))\n",
    "\n",
    "binary_search_recursive(a, 0, len(a) - 1, 30)"
   ]
  },
  {
   "cell_type": "code",
   "execution_count": 57,
   "id": "013ee04d-bd61-4a8c-95ea-f2be438cedb0",
   "metadata": {
    "ExecuteTime": {
     "end_time": "2022-09-16T09:24:51.303804Z",
     "start_time": "2022-09-16T09:24:51.298495Z"
    }
   },
   "outputs": [],
   "source": [
    "def binary_search(arr: list, val: int) -> int:\n",
    "    \n",
    "    low_ind = 0\n",
    "    high_ind = len(arr) - 1\n",
    "    \n",
    "    while high_ind >= low_ind:\n",
    "        mid_ind = (high_ind + low_ind) // 2 \n",
    "        \n",
    "        if arr[mid_ind] > val:\n",
    "            high_ind = mid_ind - 1\n",
    "        \n",
    "        elif arr[mid_ind] < val:\n",
    "            low_ind = mid_ind + 1\n",
    "        \n",
    "        else:\n",
    "            return mid_ind\n",
    "    \n",
    "    return -1"
   ]
  },
  {
   "cell_type": "code",
   "execution_count": 61,
   "id": "75976f3e",
   "metadata": {
    "ExecuteTime": {
     "end_time": "2022-09-16T09:25:03.865896Z",
     "start_time": "2022-09-16T09:25:03.860395Z"
    }
   },
   "outputs": [
    {
     "data": {
      "text/plain": [
       "10"
      ]
     },
     "execution_count": 61,
     "metadata": {},
     "output_type": "execute_result"
    }
   ],
   "source": [
    "binary_search(a, 10)"
   ]
  },
  {
   "cell_type": "markdown",
   "id": "ee6aada6-820c-414e-ba5a-7527e3641d86",
   "metadata": {},
   "source": [
    "### Bisect"
   ]
  },
  {
   "cell_type": "markdown",
   "id": "e18e3d4d-8dd6-4a9c-a98a-8d957c852cd5",
   "metadata": {},
   "source": [
    "https://docs.python.org/3/library/bisect.html"
   ]
  },
  {
   "cell_type": "markdown",
   "id": "0645ca31-17c7-4fd3-86ac-6c3636057344",
   "metadata": {},
   "source": [
    "**bisect** -- модуль, в котором реализованы операции по поиску наилучшего идекса вставки элемента в отсортированный массив. Внутри функции реализованы по принципу бинарного поиска по аналогии с алгоритмом, который мы рассмотрели выше "
   ]
  },
  {
   "cell_type": "code",
   "execution_count": 66,
   "id": "eb125c34-c225-41b2-a907-a54c419a1006",
   "metadata": {
    "ExecuteTime": {
     "end_time": "2022-09-16T09:27:24.944045Z",
     "start_time": "2022-09-16T09:27:24.938408Z"
    }
   },
   "outputs": [],
   "source": [
    "from bisect import bisect_left, bisect_right\n",
    " \n",
    "def binary_search_bisect(arr, value):\n",
    "    i = bisect_left(arr, value)\n",
    "    if i != len(arr) and arr[i] == value:\n",
    "        return i\n",
    "    else:\n",
    "        return -1"
   ]
  },
  {
   "cell_type": "code",
   "execution_count": 67,
   "id": "bc582a5e-552e-472c-8dfb-088b962e569e",
   "metadata": {
    "ExecuteTime": {
     "end_time": "2022-09-16T09:27:25.740375Z",
     "start_time": "2022-09-16T09:27:25.734909Z"
    }
   },
   "outputs": [
    {
     "name": "stdout",
     "output_type": "stream",
     "text": [
      "2\n",
      "3\n"
     ]
    }
   ],
   "source": [
    "arr = [1, 3, 5, 8, 9, 12, 15, 29, 45]\n",
    "value = 5\n",
    "\n",
    "print(bisect_left(arr, value))\n",
    "print(bisect_right(arr, value))"
   ]
  },
  {
   "cell_type": "markdown",
   "id": "701fd1a3-57f2-4ef6-bb22-76d874b42917",
   "metadata": {},
   "source": [
    "Проверим, насколько использование bisect быстрее, чем обычная проверка за линию"
   ]
  },
  {
   "cell_type": "code",
   "execution_count": 70,
   "id": "b3a3d281-7085-4a12-b46c-c953516f9e65",
   "metadata": {
    "ExecuteTime": {
     "end_time": "2022-09-16T09:29:20.902041Z",
     "start_time": "2022-09-16T09:29:20.869375Z"
    }
   },
   "outputs": [],
   "source": [
    "size = 10**6\n",
    "large_array = [i for i in range(size)]"
   ]
  },
  {
   "cell_type": "code",
   "execution_count": 71,
   "id": "a74465a6-e5cd-49e3-8b4b-ae4aafee7269",
   "metadata": {
    "ExecuteTime": {
     "end_time": "2022-09-16T09:29:21.356782Z",
     "start_time": "2022-09-16T09:29:21.350787Z"
    }
   },
   "outputs": [],
   "source": [
    "value = 900000"
   ]
  },
  {
   "cell_type": "code",
   "execution_count": 72,
   "id": "8548f49d-ca3f-44cb-a506-155ed0293ada",
   "metadata": {
    "ExecuteTime": {
     "end_time": "2022-09-16T09:29:43.591456Z",
     "start_time": "2022-09-16T09:29:22.043936Z"
    },
    "tags": []
   },
   "outputs": [
    {
     "name": "stdout",
     "output_type": "stream",
     "text": [
      "3.08 ms ± 3.37 µs per loop (mean ± std. dev. of 7 runs, 1,000 loops each)\n"
     ]
    }
   ],
   "source": [
    "%%timeit -n 1000\n",
    "value in large_array"
   ]
  },
  {
   "cell_type": "code",
   "execution_count": 73,
   "id": "e8624dda-fe39-4c2b-9562-e1964291a0d4",
   "metadata": {
    "ExecuteTime": {
     "end_time": "2022-09-16T09:30:19.167118Z",
     "start_time": "2022-09-16T09:29:45.569028Z"
    },
    "tags": []
   },
   "outputs": [
    {
     "name": "stdout",
     "output_type": "stream",
     "text": [
      "4.8 ms ± 2.02 µs per loop (mean ± std. dev. of 7 runs, 1,000 loops each)\n"
     ]
    }
   ],
   "source": [
    "%%timeit -n 1000\n",
    "large_array.index(value)"
   ]
  },
  {
   "cell_type": "code",
   "execution_count": 74,
   "id": "1018da76-ad5b-4a35-9fdf-f92041448d1f",
   "metadata": {
    "ExecuteTime": {
     "end_time": "2022-09-16T09:30:35.715405Z",
     "start_time": "2022-09-16T09:30:35.708107Z"
    }
   },
   "outputs": [
    {
     "name": "stdout",
     "output_type": "stream",
     "text": [
      "274 ns ± 57.5 ns per loop (mean ± std. dev. of 7 runs, 1,000 loops each)\n"
     ]
    }
   ],
   "source": [
    "%%timeit -n 1000\n",
    "binary_search_bisect(large_array, value)"
   ]
  },
  {
   "cell_type": "markdown",
   "id": "b0c56af2-2238-4992-9316-49e77ca53c8f",
   "metadata": {},
   "source": [
    "Некоторые примеры из документации"
   ]
  },
  {
   "cell_type": "code",
   "execution_count": 75,
   "id": "9ecb288c-c0f3-4a43-ab7d-54aee01c88b8",
   "metadata": {
    "ExecuteTime": {
     "end_time": "2022-09-16T09:30:59.069982Z",
     "start_time": "2022-09-16T09:30:59.064214Z"
    }
   },
   "outputs": [],
   "source": [
    "def index(a, x):\n",
    "    'Locate the leftmost value exactly equal to x'\n",
    "    i = bisect_left(a, x)\n",
    "    if i != len(a) and a[i] == x:\n",
    "        return i\n",
    "    raise ValueError\n",
    "\n",
    "def find_lt(a, x):\n",
    "    'Find rightmost value less than x'\n",
    "    i = bisect_left(a, x)\n",
    "    if i:\n",
    "        return a[i-1]\n",
    "    raise ValueError\n",
    "\n",
    "def find_le(a, x):\n",
    "    'Find rightmost value less than or equal to x'\n",
    "    i = bisect_right(a, x)\n",
    "    if i:\n",
    "        return a[i-1]\n",
    "    raise ValueError\n",
    "\n",
    "def find_gt(a, x):\n",
    "    'Find leftmost value greater than x'\n",
    "    i = bisect_right(a, x)\n",
    "    if i != len(a):\n",
    "        return a[i]\n",
    "    raise ValueError\n",
    "\n",
    "def find_ge(a, x):\n",
    "    'Find leftmost item greater than or equal to x'\n",
    "    i = bisect_left(a, x)\n",
    "    if i != len(a):\n",
    "        return a[i]\n",
    "    raise ValueError"
   ]
  },
  {
   "cell_type": "markdown",
   "id": "31f16ced-227b-460e-b808-ffac4ec1a777",
   "metadata": {},
   "source": [
    "### Наибольший общий делитель"
   ]
  },
  {
   "cell_type": "markdown",
   "id": "4a36dfc5-cbdc-4cc9-8ce6-22a5a8031ba7",
   "metadata": {},
   "source": [
    "$a$, $b$ -- неотрицательные числа. Наибольший общий делитель -- наибольшее число, которое является делителем и $a$, и $b$.\n",
    "\n",
    "Существует алгоритм Евклида, который можно писать так:\n",
    "\n",
    "`gcd(a, b) = a if b = 0`\n",
    "\n",
    "`gcd(a, b) = gcd(b, a mod b) otherwise`"
   ]
  },
  {
   "cell_type": "markdown",
   "id": "95d6f160-c366-4673-a3bb-06605c6e80d3",
   "metadata": {},
   "source": [
    "**Реализация рекурсией**"
   ]
  },
  {
   "cell_type": "code",
   "execution_count": 79,
   "id": "afe9d3d0-ac34-4db4-9622-6eafe643900d",
   "metadata": {
    "ExecuteTime": {
     "end_time": "2022-09-16T09:34:11.601628Z",
     "start_time": "2022-09-16T09:34:11.596944Z"
    }
   },
   "outputs": [],
   "source": [
    "def gcd_recursive(a, b):\n",
    "    if b == 0:\n",
    "        return a\n",
    "    else:\n",
    "        return gcd_recursive(b, a % b)"
   ]
  },
  {
   "cell_type": "code",
   "execution_count": 81,
   "id": "2fd1f164",
   "metadata": {
    "ExecuteTime": {
     "end_time": "2022-09-16T09:34:29.577987Z",
     "start_time": "2022-09-16T09:34:29.572819Z"
    }
   },
   "outputs": [
    {
     "data": {
      "text/plain": [
       "2"
      ]
     },
     "execution_count": 81,
     "metadata": {},
     "output_type": "execute_result"
    }
   ],
   "source": [
    "gcd_recursive(8, 10)"
   ]
  },
  {
   "cell_type": "markdown",
   "id": "17c35c72-c01f-4f20-8095-0beb5d377cf7",
   "metadata": {},
   "source": [
    "**Реализация циклом**"
   ]
  },
  {
   "cell_type": "code",
   "execution_count": 82,
   "id": "3250149d-8552-4ff0-9838-4bd969275d7d",
   "metadata": {
    "ExecuteTime": {
     "end_time": "2022-09-16T09:39:04.836609Z",
     "start_time": "2022-09-16T09:39:04.830657Z"
    }
   },
   "outputs": [],
   "source": [
    "def gcd(a, b):\n",
    "    # your code\n",
    "    pass"
   ]
  },
  {
   "cell_type": "markdown",
   "id": "e8d75785-3e75-4751-a640-2e73199a2423",
   "metadata": {},
   "source": [
    "### Проверка на палиндром"
   ]
  },
  {
   "cell_type": "markdown",
   "id": "1209f70a-9a62-40bc-b4e6-e86411c58976",
   "metadata": {},
   "source": [
    "A phrase is a palindrome if, after converting all uppercase letters into lowercase letters and removing all non-alphanumeric characters, it reads the same forward and backward. Alphanumeric characters include letters and numbers.\n",
    "\n",
    "Given a string s, return true if it is a palindrome, or false otherwise."
   ]
  },
  {
   "cell_type": "markdown",
   "id": "f2b6f3b0-49b2-4b90-81e5-7502a680adc4",
   "metadata": {},
   "source": [
    "Напишите функцию проверки, которая принимает в качестве параметра Iterable из предложений и возвращает результат в формате:\n",
    "`[index of example: is palindrome,...]`"
   ]
  },
  {
   "cell_type": "code",
   "execution_count": 1,
   "id": "f1e2bd65-772d-402a-9ee9-96cc8480d594",
   "metadata": {},
   "outputs": [],
   "source": [
    "tests = [\n",
    "    'A nut for a jar of tuna.',\n",
    "    'Borrow or rob?',\n",
    "    'Was it a car or a cat I saw?',\n",
    "    '''Dennis, Nell, Edna, Leon, Nedra, Anita,\n",
    "    Rolf, Nora, Alice, Carol, Leo, Jane, Reed,\n",
    "    Dena, Dale, Basil, Rae, Penny, Lana, Dave,\n",
    "    Denny, Lena, Ida, Bernadette, Ben, Ray, Lila,\n",
    "    Nina, Jo, Ira, Mara, Sara, Mario, Jan, Ina,\n",
    "    Lily, Arne, Bette, Dan, Reba, Diane, Lynn,\n",
    "    Ed, Eva, Dana, Lynne, Pearl, Isabel, Ada, Ned,\n",
    "    Dee, Rena, Joel, Lora, Cecil, Aaron, Flora,\n",
    "    Tina, Arden, Noel, and Ellen sinned.''',\n",
    "    'Murder for a jar of red rum.'\n",
    "]"
   ]
  },
  {
   "cell_type": "code",
   "execution_count": 84,
   "id": "ca495af9-37b7-409c-8cd4-5d146de4bbbd",
   "metadata": {
    "ExecuteTime": {
     "end_time": "2022-09-16T09:40:27.577414Z",
     "start_time": "2022-09-16T09:40:27.571665Z"
    }
   },
   "outputs": [],
   "source": [
    "from typing import Callable, Iterable\n",
    "\n",
    "\n",
    "def is_palindrome(s: str) -> bool:\n",
    "    # your code\n",
    "    pass\n",
    "\n",
    "def check_tests(pal_func: Callable, tests: Iterable[str]) -> list:\n",
    "    # your code\n",
    "    pass"
   ]
  },
  {
   "cell_type": "code",
   "execution_count": 8,
   "id": "e4aa2ab2-a26b-4542-a43a-1be783acb52e",
   "metadata": {},
   "outputs": [
    {
     "name": "stdout",
     "output_type": "stream",
     "text": [
      "13.3 µs ± 3.89 µs per loop (mean ± std. dev. of 7 runs, 1,000 loops each)\n"
     ]
    }
   ],
   "source": [
    "%%timeit -n 1000\n",
    "\n",
    "''.join([letter for letter in tests[3].lower() if letter.isalpha()])"
   ]
  },
  {
   "cell_type": "code",
   "execution_count": 9,
   "id": "35d0762d-d914-477d-b246-4ee4e3477170",
   "metadata": {},
   "outputs": [
    {
     "name": "stdout",
     "output_type": "stream",
     "text": [
      "8.32 µs ± 3.08 µs per loop (mean ± std. dev. of 7 runs, 1,000 loops each)\n"
     ]
    }
   ],
   "source": [
    "%%timeit -n 1000\n",
    "\n",
    "''.join(filter(str.isalpha, tests[3].lower()))"
   ]
  },
  {
   "cell_type": "markdown",
   "id": "f13f000a-3ffe-49ba-a236-b9bb5ec96f9d",
   "metadata": {},
   "source": [
    "## Higher order functions"
   ]
  },
  {
   "cell_type": "markdown",
   "id": "224f84a2-7830-4df4-aeee-53fd7b0a2cb7",
   "metadata": {},
   "source": [
    "Что-то там было про функции в качестве аргументов и возвращаемых значений..."
   ]
  },
  {
   "cell_type": "markdown",
   "id": "fbc32b92-36fb-41fb-96d2-cad97701b8b8",
   "metadata": {},
   "source": [
    "Рассмотрим пример на списке, у которого элементы имеют разные типы"
   ]
  },
  {
   "cell_type": "code",
   "execution_count": null,
   "id": "0051b79e-f5d6-4b81-9ee3-cfe6a0bf5db0",
   "metadata": {},
   "outputs": [],
   "source": [
    "sample_list = [1, [2.], '3 ', (4, 5), 8.]\n",
    "sample_list"
   ]
  },
  {
   "cell_type": "markdown",
   "id": "3920eecd-6a15-4754-b9fe-473080c330bf",
   "metadata": {},
   "source": [
    "Как бы нам его посортировать..."
   ]
  },
  {
   "cell_type": "code",
   "execution_count": null,
   "id": "3a30403b-56b7-46e8-9d9c-97a0fdb3fef5",
   "metadata": {},
   "outputs": [],
   "source": [
    "sorted(sample_list)"
   ]
  },
  {
   "cell_type": "markdown",
   "id": "ba17ddc0-ce17-420b-af0d-c3e80260c3d9",
   "metadata": {},
   "source": [
    "Не понятно, как сравнивать разные типы. Но теперь-то мы можем создавать свои функции, давайте исправим. Какие варианты вы можете предложить?"
   ]
  },
  {
   "cell_type": "code",
   "execution_count": null,
   "id": "76d7da92-f01a-41b2-b35b-6829679185b4",
   "metadata": {},
   "outputs": [],
   "source": [
    "def my_key(element):\n",
    "    # your_code\n",
    "\n",
    "sorted(sample_list, key=my_key)"
   ]
  },
  {
   "cell_type": "markdown",
   "id": "0d534f65-d4a5-4531-af78-85cd64a0e5a9",
   "metadata": {},
   "source": [
    "Еще один пример -- функция **map**"
   ]
  },
  {
   "cell_type": "code",
   "execution_count": null,
   "id": "9182aa23-9ad7-464a-b6f7-033b7de08de9",
   "metadata": {},
   "outputs": [],
   "source": [
    "int_texts = '123456'\n",
    "map(int, int_texts)"
   ]
  },
  {
   "cell_type": "markdown",
   "id": "d2ea2437-0d0a-4d0f-b668-b947460e969a",
   "metadata": {},
   "source": [
    "Возвращает объект, по которому нужно проитерироваться"
   ]
  },
  {
   "cell_type": "code",
   "execution_count": null,
   "id": "c6f6a504-8924-49af-8276-49d1e0468da5",
   "metadata": {},
   "outputs": [],
   "source": [
    "for elem in map(int, int_texts):\n",
    "    print(elem)"
   ]
  },
  {
   "cell_type": "code",
   "execution_count": null,
   "id": "b5016ed4-ea81-4299-b739-af464dfddfad",
   "metadata": {},
   "outputs": [],
   "source": [
    "list(map(int, int_texts))"
   ]
  },
  {
   "cell_type": "markdown",
   "id": "c22ae811-b432-4d33-8dd1-7ae1f831d65f",
   "metadata": {},
   "source": [
    "## Annotations"
   ]
  },
  {
   "cell_type": "markdown",
   "id": "57fe11c1-3c36-45e4-83e2-20a90200571c",
   "metadata": {},
   "source": [
    "В Python можно назначить метаданные для аргументов и выходного значения функции "
   ]
  },
  {
   "cell_type": "code",
   "execution_count": null,
   "id": "f20b6cee",
   "metadata": {},
   "outputs": [],
   "source": [
    "def test_str(s: str, max_len: int = 10, name: str = 'test') -> int:\n",
    "    some_var = 0\n",
    "    other_var = '10'\n",
    "    return s[:max_len]"
   ]
  },
  {
   "cell_type": "markdown",
   "id": "47e27cea-1f3b-48af-a83d-5a445354466c",
   "metadata": {},
   "source": [
    "Аннотации могут быть любым выражением. Они игнорируются во время выполнения программы. Доступ можно получить через поле `__annotations__`"
   ]
  },
  {
   "cell_type": "code",
   "execution_count": null,
   "id": "bc703b26",
   "metadata": {},
   "outputs": [],
   "source": [
    "test_str.__annotations__"
   ]
  },
  {
   "cell_type": "markdown",
   "id": "b18852fa-1e53-4f94-a0d2-6818f1e53d09",
   "metadata": {},
   "source": [
    "Эту информацию могут использовать декораторы, ide или библиотеки (например, для проверки синтаксиса)"
   ]
  },
  {
   "cell_type": "code",
   "execution_count": null,
   "id": "9eee2347",
   "metadata": {},
   "outputs": [],
   "source": [
    "from inspect import signature"
   ]
  },
  {
   "cell_type": "code",
   "execution_count": null,
   "id": "f5f6044d",
   "metadata": {},
   "outputs": [],
   "source": [
    "sig = signature(test_str)"
   ]
  },
  {
   "cell_type": "code",
   "execution_count": null,
   "id": "534ccf30",
   "metadata": {},
   "outputs": [],
   "source": [
    "sig.return_annotation"
   ]
  },
  {
   "cell_type": "code",
   "execution_count": null,
   "id": "ffc2ddd5",
   "metadata": {},
   "outputs": [],
   "source": [
    "sig.parameters.values()"
   ]
  }
 ],
 "metadata": {
  "kernelspec": {
   "display_name": "Python 3 (ipykernel)",
   "language": "python",
   "name": "python3"
  },
  "language_info": {
   "codemirror_mode": {
    "name": "ipython",
    "version": 3
   },
   "file_extension": ".py",
   "mimetype": "text/x-python",
   "name": "python",
   "nbconvert_exporter": "python",
   "pygments_lexer": "ipython3",
   "version": "3.10.9"
  },
  "toc": {
   "base_numbering": 1,
   "nav_menu": {},
   "number_sections": true,
   "sideBar": true,
   "skip_h1_title": false,
   "title_cell": "Table of Contents",
   "title_sidebar": "Contents",
   "toc_cell": false,
   "toc_position": {},
   "toc_section_display": true,
   "toc_window_display": true
  },
  "varInspector": {
   "cols": {
    "lenName": 16,
    "lenType": 16,
    "lenVar": 40
   },
   "kernels_config": {
    "python": {
     "delete_cmd_postfix": "",
     "delete_cmd_prefix": "del ",
     "library": "var_list.py",
     "varRefreshCmd": "print(var_dic_list())"
    },
    "r": {
     "delete_cmd_postfix": ") ",
     "delete_cmd_prefix": "rm(",
     "library": "var_list.r",
     "varRefreshCmd": "cat(var_dic_list()) "
    }
   },
   "types_to_exclude": [
    "module",
    "function",
    "builtin_function_or_method",
    "instance",
    "_Feature"
   ],
   "window_display": false
  }
 },
 "nbformat": 4,
 "nbformat_minor": 5
}
